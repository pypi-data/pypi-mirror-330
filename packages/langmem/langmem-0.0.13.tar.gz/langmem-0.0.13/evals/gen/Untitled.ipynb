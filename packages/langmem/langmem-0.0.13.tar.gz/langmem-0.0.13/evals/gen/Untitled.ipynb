{
 "cells": [
  {
   "cell_type": "code",
   "execution_count": 5,
   "id": "73217259-c810-49cf-b58a-9a4be25a94d3",
   "metadata": {},
   "outputs": [
    {
     "name": "stdout",
     "output_type": "stream",
     "text": [
      "X5HnbaqIoubNmZTZhG3dswPjXmRAQQ7gpDmlnsxQlMFlkIr1\n"
     ]
    }
   ],
   "source": [
    "timport os\n",
    "\n",
    "import httpx\n",
    "import langsmith as ls\n",
    "\n",
    "FIREWORKS_API_KEY = os.getenv(\"FIREWORKS_API_KEY\")\n",
    "url = \"https://api.fireworks.ai/inference/v1/chat/completions\"\n",
    "\n",
    "messages = [{\"role\": \"system\"{\"role\": \"user\", \"content\": \"HEY THERE!\"}]\n",
    "payload = {\n",
    "    \"model\": \"accounts/fireworks/models/deepseek-r1\",\n",
    "    \"max_tokens\": 20480,\n",
    "    \"top_p\": 1,\n",
    "    \"top_k\": 40,\n",
    "    \"presence_penalty\": 0,\n",
    "    \"frequency_penalty\": 0,\n",
    "    \"temperature\": 0.6,\n",
    "    \"messages\": messages,\n",
    "}\n",
    "print(FIREWORKS_API_KEY)\n",
    "headers = {\n",
    "    \"Accept\": \"application/json\",\n",
    "    \"Content-Type\": \"application/json\",\n",
    "    \"Authorization\": f\"Bearer {FIREWORKS_API_KEY}\",\n",
    "}\n",
    "\n",
    "async with httpx.AsyncClient() as client:\n",
    "    try:\n",
    "        async with ls.trace(\n",
    "            name=\"generate_chat_completion\", run_type=\"llm\", inputs=payload\n",
    "        ) as rt:\n",
    "            response = await client.post(url, headers=headers, json=payload)\n",
    "            response.raise_for_status()\n",
    "            oaires = response.json()\n",
    "            result = oaires[\"choices\"][0][\"message\"][\"content\"]\n",
    "            rt.add_outputs({\"output\": oaires})\n",
    "    except Exception as e:\n",
    "        print(f\"Error generating chat completion: {e}\")"
   ]
  },
  {
   "cell_type": "code",
   "execution_count": 6,
   "id": "55827b6c-0e73-4914-b097-7d32e3dcec18",
   "metadata": {},
   "outputs": [
    {
     "data": {
      "text/plain": [
       "\"<think>\\n\\n</think>\\n\\nHey! 👋 How's it going? Anything on your mind or need help with?\""
      ]
     },
     "execution_count": 6,
     "metadata": {},
     "output_type": "execute_result"
    }
   ],
   "source": [
    "result"
   ]
  },
  {
   "cell_type": "code",
   "execution_count": 11,
   "id": "18d116cb-ce40-4f59-aec1-81e86b490a08",
   "metadata": {},
   "outputs": [
    {
     "name": "stderr",
     "output_type": "stream",
     "text": [
      "/Users/wfh/.pyenv/versions/3.11.2/lib/python3.11/site-packages/langchain_openai/chat_models/base.py:997: UserWarning: Streaming with Pydantic response_format not yet supported.\n",
      "  warnings.warn(\"Streaming with Pydantic response_format not yet supported.\")\n"
     ]
    }
   ],
   "source": [
    "from langchain.chat_models import init_chat_model\n",
    "from pydantic import BaseModel\n",
    "\n",
    "llm = init_chat_model(\"gpt-4o\")\n",
    "\n",
    "\n",
    "def search(query: str):\n",
    "    \"\"\"Search for web results.\"\"\"\n",
    "    return \"Yes!\"\n",
    "\n",
    "\n",
    "class search(BaseModel):\n",
    "    \"\"\"Search for web results.\"\"\"\n",
    "\n",
    "    query: str\n",
    "\n",
    "\n",
    "class Response(BaseModel):\n",
    "    \"\"\"The final response\"\"\"\n",
    "\n",
    "    why: str\n",
    "    how_much: int\n",
    "    how_far: int\n",
    "    reasoning: str\n",
    "\n",
    "\n",
    "result = llm.bind_tools([search], strict=True, response_format=Response).invoke(\n",
    "    \"What's the weather? SEarch for it on the web.\"\n",
    ")"
   ]
  },
  {
   "cell_type": "code",
   "execution_count": 14,
   "id": "23498431-e007-4906-8ed6-45fbe18e0826",
   "metadata": {},
   "outputs": [
    {
     "data": {
      "text/plain": [
       "LLMResult(generations=[[ChatGeneration(text='Hello! How can I assist you today?', generation_info={'finish_reason': 'stop', 'logprobs': None}, message=AIMessage(content='Hello! How can I assist you today?', additional_kwargs={'refusal': None}, response_metadata={'token_usage': {'completion_tokens': 10, 'prompt_tokens': 8, 'total_tokens': 18, 'completion_tokens_details': {'accepted_prediction_tokens': 0, 'audio_tokens': 0, 'reasoning_tokens': 0, 'rejected_prediction_tokens': 0}, 'prompt_tokens_details': {'audio_tokens': 0, 'cached_tokens': 0}}, 'model_name': 'gpt-4o-2024-08-06', 'system_fingerprint': 'fp_50cad350e4', 'finish_reason': 'stop', 'logprobs': None}, id='run-c74f5300-48fb-4690-bc16-4ef9ccc2cbd3-0', usage_metadata={'input_tokens': 8, 'output_tokens': 10, 'total_tokens': 18, 'input_token_details': {'audio': 0, 'cache_read': 0}, 'output_token_details': {'audio': 0, 'reasoning': 0}}))], [ChatGeneration(text='Hello! How can I assist you today?', generation_info={'finish_reason': 'stop', 'logprobs': None}, message=AIMessage(content='Hello! How can I assist you today?', additional_kwargs={'refusal': None}, response_metadata={'token_usage': {'completion_tokens': 10, 'prompt_tokens': 8, 'total_tokens': 18, 'completion_tokens_details': {'accepted_prediction_tokens': 0, 'audio_tokens': 0, 'reasoning_tokens': 0, 'rejected_prediction_tokens': 0}, 'prompt_tokens_details': {'audio_tokens': 0, 'cached_tokens': 0}}, 'model_name': 'gpt-4o-2024-08-06', 'system_fingerprint': 'fp_50cad350e4', 'finish_reason': 'stop', 'logprobs': None}, id='run-43bcb691-20f9-47d6-89a5-7b1df8980b5d-0', usage_metadata={'input_tokens': 8, 'output_tokens': 10, 'total_tokens': 18, 'input_token_details': {'audio': 0, 'cache_read': 0}, 'output_token_details': {'audio': 0, 'reasoning': 0}}))]], llm_output={'token_usage': {'completion_tokens': 20, 'prompt_tokens': 16, 'total_tokens': 36, 'completion_tokens_details': {'accepted_prediction_tokens': 0, 'audio_tokens': 0, 'reasoning_tokens': 0, 'rejected_prediction_tokens': 0}, 'prompt_tokens_details': {'audio_tokens': 0, 'cached_tokens': 0}}, 'model_name': 'gpt-4o', 'system_fingerprint': 'fp_50cad350e4'}, run=[RunInfo(run_id=UUID('c74f5300-48fb-4690-bc16-4ef9ccc2cbd3')), RunInfo(run_id=UUID('43bcb691-20f9-47d6-89a5-7b1df8980b5d'))], type='LLMResult')"
      ]
     },
     "execution_count": 14,
     "metadata": {},
     "output_type": "execute_result"
    }
   ],
   "source": [
    "await llm.a(\"hi\")"
   ]
  },
  {
   "cell_type": "code",
   "execution_count": null,
   "id": "d518e697-3adc-41c7-b09d-ebf5200cead1",
   "metadata": {},
   "outputs": [],
   "source": []
  }
 ],
 "metadata": {
  "kernelspec": {
   "display_name": "Python 3 (ipykernel)",
   "language": "python",
   "name": "python3"
  },
  "language_info": {
   "codemirror_mode": {
    "name": "ipython",
    "version": 3
   },
   "file_extension": ".py",
   "mimetype": "text/x-python",
   "name": "python",
   "nbconvert_exporter": "python",
   "pygments_lexer": "ipython3",
   "version": "3.11.2"
  }
 },
 "nbformat": 4,
 "nbformat_minor": 5
}
