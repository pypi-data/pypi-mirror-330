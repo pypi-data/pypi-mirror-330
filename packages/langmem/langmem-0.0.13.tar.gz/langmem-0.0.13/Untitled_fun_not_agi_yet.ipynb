{
 "cells": [
  {
   "cell_type": "markdown",
   "id": "b49c7220-e030-4667-9f9a-288118ec2078",
   "metadata": {},
   "source": [
    "#  Semantic Memory"
   ]
  },
  {
   "cell_type": "code",
   "execution_count": null,
   "id": "ff9b0bc4-7a2a-4705-af09-5d3b0937f743",
   "metadata": {},
   "outputs": [],
   "source": []
  },
  {
   "cell_type": "code",
   "execution_count": 1,
   "id": "08f76d77-9350-45bf-aded-1e9197cfdfa5",
   "metadata": {},
   "outputs": [
    {
     "name": "stdout",
     "output_type": "stream",
     "text": [
      "env: LANGSMITH_PROJECT=\"Memory Demos\"\n"
     ]
    }
   ],
   "source": [
    "%env LANGSMITH_PROJECT=\"Memory Demos\""
   ]
  },
  {
   "cell_type": "code",
   "execution_count": 2,
   "id": "d0c46026-7060-4de1-827e-278b892a1709",
   "metadata": {},
   "outputs": [
    {
     "name": "stdout",
     "output_type": "stream",
     "text": [
      "Hi! That's interesting - what aspects of memory did you learn about? I'd be happy to discuss or help reinforce any concepts from your lesson.\n"
     ]
    }
   ],
   "source": [
    "from langgraph.checkpoint.memory import InMemorySaver\n",
    "from langgraph.store.memory import InMemoryStore\n",
    "from langgraph.prebuilt import create_react_agent\n",
    "\n",
    "store = InMemoryStore()\n",
    "checkpointer = InMemorySaver()\n",
    "\n",
    "agent = create_react_agent(\"anthropic:claude-3-5-sonnet-latest\", tools=[], store=store, checkpointer=checkpointer)\n",
    "\n",
    "def chat(agent, txt, thread_id):\n",
    "    resulting_state = agent.invoke(\n",
    "        {\"messages\": [{\"role\": \"user\", \"content\": txt}]}, \n",
    "        config={\"configurable\": {\"thread_id\": thread_id}}\n",
    "    )\n",
    "    return resulting_state[\"messages\"][-1].content\n"
   ]
  },
  {
   "cell_type": "code",
   "execution_count": null,
   "id": "b1d8d047-3a43-4c42-8dfc-370b41e08677",
   "metadata": {},
   "outputs": [],
   "source": [
    "thread_1 = \"thread-1\"\n",
    "print(chat(agent, \"Hiya just finished a lesson on memory\", thread_1))"
   ]
  },
  {
   "cell_type": "code",
   "execution_count": 3,
   "id": "daa728e3-8c7c-4071-918e-136921991057",
   "metadata": {},
   "outputs": [
    {
     "name": "stdout",
     "output_type": "stream",
     "text": [
      "Ah, the different types of memory! The main types typically covered are:\n",
      "\n",
      "1. Sensory Memory (very brief storage of sensory information)\n",
      "2. Short-term/Working Memory (temporary storage, limited capacity)\n",
      "3. Long-term Memory, which includes:\n",
      "   - Explicit/Declarative Memory (facts and events)\n",
      "   - Implicit/Procedural Memory (skills and procedures)\n",
      "\n",
      "Did you cover these in your lesson? Was there anything specific you found particularly interesting or would like to discuss further?\n"
     ]
    }
   ],
   "source": [
    "print(chat(agent, \"It was on all the types!\", thread_1))"
   ]
  },
  {
   "cell_type": "code",
   "execution_count": 4,
   "id": "b949130f-6295-400f-a762-9eed1afe0f11",
   "metadata": {},
   "outputs": [
    {
     "name": "stdout",
     "output_type": "stream",
     "text": [
      "I aim to keep our chats engaging! I notice you enjoyed yourself but I'm not sure what specific activity you're referring to. Feel free to tell me more about what was fun, I'd love to hear about it.\n"
     ]
    }
   ],
   "source": [
    "thread_2 = \"thread-2\"\n",
    "print(chat(agent, \"Oh it was so fun\", thread_2))"
   ]
  },
  {
   "cell_type": "markdown",
   "id": "6e5d6eab-2a90-4d4a-a947-199ede6f7b50",
   "metadata": {},
   "source": [
    "## Add memory"
   ]
  },
  {
   "cell_type": "code",
   "execution_count": 10,
   "id": "0b1a3d71-a6fa-4259-a166-932a26ad6e4d",
   "metadata": {},
   "outputs": [],
   "source": [
    "from langgraph.config import get_store\n",
    "from langmem import create_manage_memory_tool, create_search_memory_tool\n",
    "\n",
    "namespace = (\"semantic_memories\",)\n",
    "\n",
    "store = InMemoryStore(\n",
    "    index={\n",
    "        \"dims\": 1536,\n",
    "        \"embed\": \"openai:text-embedding-3-small\",\n",
    "    }\n",
    ")\n",
    "checkpointer = InMemorySaver()\n",
    "memory_tools = [\n",
    "    create_manage_memory_tool(namespace),\n",
    "    create_search_memory_tool(namespace),\n",
    "]\n",
    "    \n",
    "\n",
    "agent = create_react_agent(\n",
    "    \"anthropic:claude-3-5-sonnet-latest\", \n",
    "    prompt=\"You are a helpful assistant. Use the memory tools to record and recall information about the conversation.\", \n",
    "    tools=memory_tools, \n",
    "    store=store, \n",
    "    checkpointer=checkpointer,\n",
    ")\n",
    "\n"
   ]
  },
  {
   "cell_type": "code",
   "execution_count": 11,
   "id": "a08b804d-b2e5-4e7a-bcd1-f2fd46005246",
   "metadata": {},
   "outputs": [
    {
     "name": "stdout",
     "output_type": "stream",
     "text": [
      "Hello! I'd be happy to help record and work with information about your lesson on memory. However, you haven't provided specific details about what you learned or what aspects you'd like me to remember. To better assist you, could you share:\n",
      "\n",
      "1. What specific concepts or topics about memory did you learn?\n",
      "2. Are there any particular points you'd like me to remember for future reference?\n",
      "3. Were there any specific insights or conclusions you drew from the lesson?\n",
      "\n",
      "Once you provide more details, I can help record this information in our memory system for future conversations.\n"
     ]
    }
   ],
   "source": [
    "thread_1 = \"thread-1\"\n",
    "print(chat(agent, \"Hiya just finished a lesson on memory\", thread_1))"
   ]
  },
  {
   "cell_type": "code",
   "execution_count": 12,
   "id": "8f53fc20-881b-48b9-99e9-cb107ca4ffc9",
   "metadata": {},
   "outputs": [
    {
     "name": "stdout",
     "output_type": "stream",
     "text": [
      "I've recorded that you had a lesson about memory types. Would you like to share more specific details about what you learned? For example:\n",
      "- Did you learn about short-term vs. long-term memory?\n",
      "- Did you cover sensory memory?\n",
      "- Did you discuss procedural vs. declarative memory?\n",
      "\n",
      "This way, I can create a more detailed record of your learning!\n"
     ]
    }
   ],
   "source": [
    "print(chat(agent, \"It was on all the types!\", thread_1))"
   ]
  },
  {
   "cell_type": "code",
   "execution_count": 14,
   "id": "8b169965-3cc7-437f-bffe-8ebe310eee1d",
   "metadata": {},
   "outputs": [
    {
     "name": "stdout",
     "output_type": "stream",
     "text": [
      "I can see there's a memory about you having a lesson about different types of memory, but I'm not entirely sure if that's what you're currently referring to. Rather than guessing, could you share what subject or topic you've been learning about? That way, I can properly record this new information and engage in a more meaningful conversation about your learning experience!\n",
      "\n",
      "What have you been learning about that's been so enjoyable?\n"
     ]
    }
   ],
   "source": [
    "thread_2 = \"thread-2\"\n",
    "print(chat(agent, \"I've been learning a lot - guess what about?\", thread_2))"
   ]
  },
  {
   "cell_type": "markdown",
   "id": "a1fa7e2c-f4a6-46d9-88fa-c165d28dbd8c",
   "metadata": {},
   "source": [
    "## \"Eager\" memory\n",
    "\n"
   ]
  },
  {
   "cell_type": "code",
   "execution_count": null,
   "id": "c2ca8f16-6184-49bb-bb24-f4084e91ecf9",
   "metadata": {},
   "outputs": [],
   "source": [
    "from langgraph.config import get_store\n",
    "from langmem import create_manage_memory_tool, create_search_memory_tool\n",
    "\n",
    "namespace = (\"semantic_memories\",)\n",
    "\n",
    "def prompt(state):\n",
    "    store = get_store()\n",
    "    memories = store.search(namespace, query=state['messages'][-1].content)\n",
    "    return [{\"role\": \"system\", \"content\": f\"You are a helpful assistant.\\n\\n## Memories\\n\\n{memories}\"] + state['messages']\n",
    "    \n",
    "\n",
    "agent = create_react_agent(\"anthropic:claude-3-5-sonnet-latest\", prompt=prompt, tools=[], store=store, checkpointer=checkpointer)"
   ]
  },
  {
   "cell_type": "code",
   "execution_count": null,
   "id": "290ff8a4-b613-41b9-a18f-9b57f965bf54",
   "metadata": {},
   "outputs": [],
   "source": [
    "create_react_agent with no tools (just chat)"
   ]
  }
 ],
 "metadata": {
  "kernelspec": {
   "display_name": "Python 3 (ipykernel)",
   "language": "python",
   "name": "python3"
  },
  "language_info": {
   "codemirror_mode": {
    "name": "ipython",
    "version": 3
   },
   "file_extension": ".py",
   "mimetype": "text/x-python",
   "name": "python",
   "nbconvert_exporter": "python",
   "pygments_lexer": "ipython3",
   "version": "3.11.2"
  }
 },
 "nbformat": 4,
 "nbformat_minor": 5
}
