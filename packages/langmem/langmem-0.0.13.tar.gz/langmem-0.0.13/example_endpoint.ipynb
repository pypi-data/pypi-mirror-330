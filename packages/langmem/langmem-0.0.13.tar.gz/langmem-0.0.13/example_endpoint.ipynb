{
 "cells": [
  {
   "cell_type": "code",
   "execution_count": 5,
   "id": "56275215-4908-430e-8e7f-924505b2ab2a",
   "metadata": {},
   "outputs": [
    {
     "data": {
      "text/plain": [
       "Dataset(name='foodyfoo', description=None, data_type=<DataType.kv: 'kv'>, id=UUID('afe1fc7d-f162-4b0b-b7fd-fd00bca122cb'), created_at=datetime.datetime(2025, 1, 31, 18, 44, 30, 522226, tzinfo=datetime.timezone.utc), modified_at=datetime.datetime(2025, 1, 31, 18, 44, 30, 522226, tzinfo=datetime.timezone.utc), example_count=0, session_count=0, last_session_start_time=None, inputs_schema=None, outputs_schema=None, transformations=None)"
      ]
     },
     "execution_count": 5,
     "metadata": {},
     "output_type": "execute_result"
    }
   ],
   "source": [
    "import langsmith as ls\n",
    "c = ls.Client()\n",
    "c.create_dataset(dataset_name=\"foodyfoo\", metadata={\"bar\": \"baz\"})"
   ]
  },
  {
   "cell_type": "code",
   "execution_count": 8,
   "id": "143f4312-fc3d-4b92-9e8f-50a2db257bee",
   "metadata": {},
   "outputs": [
    {
     "data": {
      "text/plain": [
       "Dataset(name='foodyfoo', description=None, data_type=<DataType.kv: 'kv'>, id=UUID('afe1fc7d-f162-4b0b-b7fd-fd00bca122cb'), created_at=datetime.datetime(2025, 1, 31, 18, 44, 30, 522226, tzinfo=datetime.timezone.utc), modified_at=datetime.datetime(2025, 1, 31, 18, 44, 30, 522226, tzinfo=datetime.timezone.utc), example_count=0, session_count=0, last_session_start_time=None, inputs_schema=None, outputs_schema=None, transformations=None)"
      ]
     },
     "execution_count": 8,
     "metadata": {},
     "output_type": "execute_result"
    }
   ],
   "source": [
    "c.read_dataset(dataset_name=\"foodyfoo\")"
   ]
  },
  {
   "cell_type": "code",
   "execution_count": 1,
   "id": "42626964-2030-4029-b8ce-3a739fb75501",
   "metadata": {},
   "outputs": [],
   "source": [
    "user_api_key = \"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\"\n",
    "# url = \"https://langmem-v0-dev-036f2de500eb5d78930c4268dca6e49b.us.langgraph.app\"\n",
    "# url = \"http://localhost:2024\""
   ]
  },
  {
   "cell_type": "code",
   "execution_count": 2,
   "id": "1a96955b-6a4a-4b1d-8022-1f80a8d7908d",
   "metadata": {},
   "outputs": [],
   "source": [
    "from langgraph_sdk import get_client\n",
    "\n",
    "url = \"https://langmem-v0-544fccf4898a5e3c87bdca29b5f9ab21.us.langgraph.app\"\n",
    "\n",
    "client = get_client(url=url, api_key=user_api_key)"
   ]
  },
  {
   "cell_type": "code",
   "execution_count": null,
   "id": "56f417e8-12c2-4d90-aa3e-c3ce0d7fa886",
   "metadata": {},
   "outputs": [],
   "source": []
  },
  {
   "cell_type": "code",
   "execution_count": 5,
   "id": "45a904f9-b68d-453c-8044-724b30439b1e",
   "metadata": {},
   "outputs": [],
   "source": [
    "graph_id = \"optimize_prompts\"\n",
    "\n",
    "# It's a list of messages\n",
    "conversation = [\n",
    "    {\n",
    "        \"role\": \"user\",\n",
    "        \"content\": \"Why does this error occur?\\n\\n```python\\nfrom langchain.retrievers import KnowledgeGraphRetriever\\nImportError: cannot import name 'KnowledgeGraphRetriever' from 'langchain.retrievers'\\n```\",\n",
    "    },\n",
    "    {\n",
    "        \"role\": \"assistant\",\n",
    "        \"content\": \"This error indicates that `KnowledgeGraphRetriever` is not present in the `langchain.retrievers` module. It might have been renamed, moved, or removed in recent versions. Check the latest LangChain documentation or release notes for changes.\",\n",
    "    },\n",
    "    {\n",
    "        \"role\": \"user\",\n",
    "        \"content\": \"What retriever should I use for a graph-based retrieval system?\",\n",
    "    },\n",
    "    {\n",
    "        \"role\": \"assistant\",\n",
    "        \"content\": \"You can create a custom retriever class to handle your graph-based queries or use an existing retriever if one fits your use case. Implement the `get_relevant_documents` method to fetch data from your graph and ensure it aligns with LangChain's expected retriever interface.\",\n",
    "    },\n",
    "    {\n",
    "        \"role\": \"user\",\n",
    "        \"content\": \"What does this error mean?\\n\\n```python\\nValidationError: 1 validation error for MergerRetriever\\nretrievers.0\\nInput should be a valid dictionary or instance of BaseRetriever\\n```\",\n",
    "    },\n",
    "    {\n",
    "        \"role\": \"assistant\",\n",
    "        \"content\": \"This error means that `MergerRetriever` requires its `retrievers` parameter to be a dictionary or an instance of `BaseRetriever`. Ensure your custom retriever inherits from `BaseRetriever` or implements the expected methods for compatibility.\",\n",
    "    },\n",
    "    {\n",
    "        \"role\": \"user\",\n",
    "        \"content\": \"What methods does a retriever need to implement?\",\n",
    "    },\n",
    "    {\n",
    "        \"role\": \"assistant\",\n",
    "        \"content\": \"A retriever typically needs to implement a `get_relevant_documents` method that takes a query as input and returns a list of documents. Check the LangChain retriever interface for any additional requirements.\",\n",
    "    },\n",
    "    {\n",
    "        \"role\": \"user\",\n",
    "        \"content\": \"How do I resolve this error?\\n\\n```python\\nValidationError: Input should be a valid instance of BaseRetriever\\n```\",\n",
    "    },\n",
    "    {\n",
    "        \"role\": \"assistant\",\n",
    "        \"content\": \"To resolve this, ensure your custom retriever either inherits from `BaseRetriever` or implements the required methods and attributes to conform to the LangChain interface.\",\n",
    "    },\n",
    "]\n",
    "\n",
    "# Optional. If your user has additional feedback on what they want changed or disliked about the conversations\n",
    "feedback = {\n",
    "    \"user_feedback\": \"Double check your work. You don't want to let the user run code with errros.\"\n",
    "}\n",
    "\n",
    "threads = [\n",
    "    [conversation, feedback],\n",
    "    # Providing more (conversation, feedback) pairs will help normalize the updates\n",
    "    # (to avoid over-indexing on a single interaction)\n",
    "]\n",
    "langgraph_thread = await client.threads.create()\n",
    "results = await client.runs.wait(\n",
    "    # langgraph_thread[\"thread_id\"],\n",
    "    None,\n",
    "    graph_id,\n",
    "    input={\n",
    "        \"threads\": threads,\n",
    "        \"prompts\": [\n",
    "            {\n",
    "                \"name\": \"assistant_prompt\",\n",
    "                \"when_to_update\": \"Whenever the user provides feedback.\",\n",
    "                \"update_instructions\": \"Focus on adding or removing instructions to the end of the prompt.\",\n",
    "                \"prompt\": \"You are a helpful assistant.\",\n",
    "            }\n",
    "        ],\n",
    "    },\n",
    "    config={\n",
    "        \"configurable\": {\"model\": \"claude-3-5-sonnet-latest\", \"kind\": \"metaprompt\"}\n",
    "    },\n",
    ")\n",
    "updated = results[\"updated_prompts\"]"
   ]
  },
  {
   "cell_type": "code",
   "execution_count": null,
   "id": "4e46d4f9-1eb0-4b76-9630-c214dd4d925d",
   "metadata": {},
   "outputs": [],
   "source": [
    "graph_id = \"extract_memories\"\n",
    "\n",
    "# It's a list of messages\n",
    "conversation = [\n",
    "    {\n",
    "        \"role\": \"user\",\n",
    "        \"content\": \"Why does this error occur?\\n\\n```python\\nfrom langchain.retrievers import KnowledgeGraphRetriever\\nImportError: cannot import name 'KnowledgeGraphRetriever' from 'langchain.retrievers'\\n```\",\n",
    "    },\n",
    "    {\n",
    "        \"role\": \"assistant\",\n",
    "        \"content\": \"This error indicates that `KnowledgeGraphRetriever` is not present in the `langchain.retrievers` module. It might have been renamed, moved, or removed in recent versions. Check the latest LangChain documentation or release notes for changes.\",\n",
    "    },\n",
    "    {\n",
    "        \"role\": \"user\",\n",
    "        \"content\": \"What retriever should I use for a graph-based retrieval system?\",\n",
    "    },\n",
    "    {\n",
    "        \"role\": \"assistant\",\n",
    "        \"content\": \"You can create a custom retriever class to handle your graph-based queries or use an existing retriever if one fits your use case. Implement the `get_relevant_documents` method to fetch data from your graph and ensure it aligns with LangChain's expected retriever interface.\",\n",
    "    },\n",
    "    {\n",
    "        \"role\": \"user\",\n",
    "        \"content\": \"What does this error mean?\\n\\n```python\\nValidationError: 1 validation error for MergerRetriever\\nretrievers.0\\nInput should be a valid dictionary or instance of BaseRetriever\\n```\",\n",
    "    },\n",
    "    {\n",
    "        \"role\": \"assistant\",\n",
    "        \"content\": \"This error means that `MergerRetriever` requires its `retrievers` parameter to be a dictionary or an instance of `BaseRetriever`. Ensure your custom retriever inherits from `BaseRetriever` or implements the expected methods for compatibility.\",\n",
    "    },\n",
    "    {\n",
    "        \"role\": \"user\",\n",
    "        \"content\": \"What methods does a retriever need to implement?\",\n",
    "    },\n",
    "    {\n",
    "        \"role\": \"assistant\",\n",
    "        \"content\": \"A retriever typically needs to implement a `get_relevant_documents` method that takes a query as input and returns a list of documents. Check the LangChain retriever interface for any additional requirements.\",\n",
    "    },\n",
    "    {\n",
    "        \"role\": \"user\",\n",
    "        \"content\": \"How do I resolve this error?\\n\\n```python\\nValidationError: Input should be a valid instance of BaseRetriever\\n```\",\n",
    "    },\n",
    "    {\n",
    "        \"role\": \"assistant\",\n",
    "        \"content\": \"To resolve this, ensure your custom retriever either inherits from `BaseRetriever` or implements the required methods and attributes to conform to the LangChain interface.\",\n",
    "    },\n",
    "]\n",
    "\n",
    "results = await client.runs.wait(\n",
    "    None,\n",
    "    graph_id,\n",
    "    input={\n",
    "        \"messages\": conversation,\n",
    "    },\n",
    "    config={\"configurable\": {\"model\": \"claude-3-5-sonnet-latest\"}},\n",
    ")\n",
    "print(results[\"updated_memories\"])"
   ]
  },
  {
   "cell_type": "code",
   "execution_count": 91,
   "id": "7a6a64d8-f39a-4be9-aba3-825c4efe6d16",
   "metadata": {},
   "outputs": [
    {
     "name": "stdout",
     "output_type": "stream",
     "text": [
      "Updated Prompts:\n",
      "assistant_prompt : You are a helpful, accurate assistant focused on fixing code errors. Follow these guidelines:\n",
      "\n",
      "1. Before providing any solution:\n",
      "   - Carefully analyze the entire error message or issue\n",
      "   - Consider common edge cases and potential pitfalls\n",
      "   - Test the solution mentally with different scenarios\n",
      "\n",
      "2. When providing solutions:\n",
      "   - Explain the root cause of the error\n",
      "   - Provide the corrected code\n",
      "   - Explain why the fix works\n",
      "   - Highlight any potential related issues to watch for\n",
      "\n",
      "3. If a user reports follow-up errors:\n",
      "   - Acknowledge the new error\n",
      "   - Re-examine the entire codebase holistically\n",
      "   - Provide a comprehensive solution that addresses both the original and new issues\n",
      "   - Verify the solution addresses all reported problems\n",
      "\n",
      "Always double-check your work before responding. Your goal is to provide error-free, production-ready code solutions the first time.\n",
      "assistant_followup : You are a thorough code reviewer. When the user requests a deeper review, provide best practices and tips.\n"
     ]
    }
   ],
   "source": [
    "from langgraph_sdk import get_client\n",
    "\n",
    "url = \"https://langmem-v0-544fccf4898a5e3c87bdca29b5f9ab21.us.langgraph.app\"  # Example URL\n",
    "client = get_client(url=url)\n",
    "graph_id = \"optimize_prompts\"\n",
    "\n",
    "# A single conversation thread\n",
    "conversation = [\n",
    "    {\"role\": \"user\", \"content\": \"Fix this code...\\n...\\n\"},\n",
    "    {\"role\": \"assistant\", \"content\": \"Sure, here's how you fix it...\\n...\"},\n",
    "    {\"role\": \"user\", \"content\": \"I'm getting another error: ...\\n\"},\n",
    "]\n",
    "\n",
    "# Optional user feedback\n",
    "feedback = {\"user_feedback\": \"Double check your work. The user wants error-free code.\"}\n",
    "\n",
    "# This can be extended to multiple threads if needed\n",
    "threads = [[conversation, feedback]]\n",
    "\n",
    "# Two prompts matching the required key/value structure\n",
    "prompts = [\n",
    "    {\n",
    "        \"name\": \"assistant_prompt\",\n",
    "        \"prompt\": \"You are a helpful, accurate assistant. Focus on fixing errors in code.\",\n",
    "        \"when_to_update\": \"Whenever the user provides feedback.\",\n",
    "        \"update_instructions\": \"Incorporate user feedback to refine the code solutions.\",\n",
    "    },\n",
    "    {\n",
    "        \"name\": \"assistant_followup\",\n",
    "        \"prompt\": \"You are a thorough code reviewer. When the user requests a deeper review, provide best practices and tips.\",\n",
    "        \"when_to_update\": \"When user wants a deeper review or additional tips.\",\n",
    "        \"update_instructions\": \"Focus on code optimization and best practices.\",\n",
    "    },\n",
    "]\n",
    "\n",
    "# Wait for the run to complete, capturing any updated prompts\n",
    "results = await client.runs.wait(\n",
    "    None,\n",
    "    graph_id,\n",
    "    input={\"threads\": threads, \"prompts\": prompts},\n",
    "    config={\n",
    "        \"configurable\": {\"model\": \"claude-3-5-sonnet-latest\", \"kind\": \"metaprompt\"}\n",
    "    },\n",
    ")\n",
    "\n",
    "updated = results[\"updated_prompts\"]\n",
    "print(\"Updated Prompts:\")\n",
    "for prompt in updated:\n",
    "    print(prompt[\"name\"], \":\", prompt[\"prompt\"])"
   ]
  },
  {
   "cell_type": "code",
   "execution_count": 7,
   "id": "c2f47961-3381-447d-ba03-1b6810be5f7d",
   "metadata": {},
   "outputs": [
    {
     "data": {
      "text/plain": [
       "{'prompts': [{'name': 'assistant_prompt',\n",
       "   'prompt': 'You are a helpful assistant.',\n",
       "   'when_to_update': 'Whenever the user provides feedback.',\n",
       "   'update_instructions': 'Focus on adding or removing instructions to the end of the prompt.'}],\n",
       " 'threads': [[[{'role': 'user',\n",
       "     'content': \"Why does this error occur?\\n\\n```python\\nfrom langchain.retrievers import KnowledgeGraphRetriever\\nImportError: cannot import name 'KnowledgeGraphRetriever' from 'langchain.retrievers'\\n```\"},\n",
       "    {'role': 'assistant',\n",
       "     'content': 'This error indicates that `KnowledgeGraphRetriever` is not present in the `langchain.retrievers` module. It might have been renamed, moved, or removed in recent versions. Check the latest LangChain documentation or release notes for changes.'},\n",
       "    {'role': 'user',\n",
       "     'content': 'What retriever should I use for a graph-based retrieval system?'},\n",
       "    {'role': 'assistant',\n",
       "     'content': \"You can create a custom retriever class to handle your graph-based queries or use an existing retriever if one fits your use case. Implement the `get_relevant_documents` method to fetch data from your graph and ensure it aligns with LangChain's expected retriever interface.\"},\n",
       "    {'role': 'user',\n",
       "     'content': 'What does this error mean?\\n\\n```python\\nValidationError: 1 validation error for MergerRetriever\\nretrievers.0\\nInput should be a valid dictionary or instance of BaseRetriever\\n```'},\n",
       "    {'role': 'assistant',\n",
       "     'content': 'This error means that `MergerRetriever` requires its `retrievers` parameter to be a dictionary or an instance of `BaseRetriever`. Ensure your custom retriever inherits from `BaseRetriever` or implements the expected methods for compatibility.'},\n",
       "    {'role': 'user',\n",
       "     'content': 'What methods does a retriever need to implement?'},\n",
       "    {'role': 'assistant',\n",
       "     'content': 'A retriever typically needs to implement a `get_relevant_documents` method that takes a query as input and returns a list of documents. Check the LangChain retriever interface for any additional requirements.'},\n",
       "    {'role': 'user',\n",
       "     'content': 'How do I resolve this error?\\n\\n```python\\nValidationError: Input should be a valid instance of BaseRetriever\\n```'},\n",
       "    {'role': 'assistant',\n",
       "     'content': 'To resolve this, ensure your custom retriever either inherits from `BaseRetriever` or implements the required methods and attributes to conform to the LangChain interface.'}],\n",
       "   {'user_feedback': \"Double check your work. You don't want to let the user run code with errros.\"}]],\n",
       " 'updated_prompts': [{'name': 'assistant_prompt',\n",
       "   'prompt': 'You are a helpful assistant.\\n\\nWhen helping with technical questions:\\n1. Provide working code examples with type hints and comments\\n2. Include complete interface requirements and implementation details\\n3. Explain both the cause of errors and their solutions\\n4. Reference specific documentation or resources\\n5. Highlight common pitfalls and validation steps to prevent errors\\n\\nAlways verify suggestions will work with current library versions and include error handling best practices.',\n",
       "   'when_to_update': 'Whenever the user provides feedback.',\n",
       "   'update_instructions': 'Focus on adding or removing instructions to the end of the prompt.'}]}"
      ]
     },
     "execution_count": 7,
     "metadata": {},
     "output_type": "execute_result"
    }
   ],
   "source": [
    "results"
   ]
  },
  {
   "cell_type": "markdown",
   "id": "b5cfb774-04e9-4243-a5f9-31f0a7e4c80c",
   "metadata": {},
   "source": [
    "## Single schema memory"
   ]
  },
  {
   "cell_type": "code",
   "execution_count": 84,
   "id": "d2133746-3992-427f-a377-cd4013ae17a4",
   "metadata": {},
   "outputs": [],
   "source": [
    "from pydantic import BaseModel\n",
    "\n",
    "\n",
    "class user_profile(BaseModel):\n",
    "    \"\"\"represents a user.\"\"\"\n",
    "\n",
    "    name: str | None = None\n",
    "    age: int | None = None\n",
    "    recent_memories: list[str]"
   ]
  },
  {
   "cell_type": "code",
   "execution_count": 79,
   "id": "4a922ded-93e6-457b-adfd-87122da54081",
   "metadata": {},
   "outputs": [],
   "source": [
    "def _exclude_none(d):\n",
    "    return {\n",
    "        k: v if not isinstance(v, dict) else _exclude_none(v)\n",
    "        for k, v in d.items()\n",
    "        if v is not None\n",
    "    }\n",
    "\n",
    "\n",
    "def _get_schema(model) -> dict:\n",
    "    if hasattr(model, \"model_json_schema\"):\n",
    "        schema = model.model_json_schema()\n",
    "    else:\n",
    "        schema = model.schema()  # type: ignore\n",
    "    return _exclude_none(schema)"
   ]
  },
  {
   "cell_type": "code",
   "execution_count": 80,
   "id": "87d130dd-f56d-43a8-9a5c-b70815536563",
   "metadata": {},
   "outputs": [
    {
     "data": {
      "text/plain": [
       "{'description': 'represents a user.',\n",
       " 'properties': {'name': {'anyOf': [{'type': 'string'}, {'type': 'null'}],\n",
       "   'title': 'Name'},\n",
       "  'age': {'anyOf': [{'type': 'integer'}, {'type': 'null'}], 'title': 'Age'},\n",
       "  'recent_memories': {'items': {'type': 'string'},\n",
       "   'title': 'Recent Memories',\n",
       "   'type': 'array'}},\n",
       " 'required': ['recent_memories'],\n",
       " 'title': 'user_profile',\n",
       " 'type': 'object'}"
      ]
     },
     "execution_count": 80,
     "metadata": {},
     "output_type": "execute_result"
    }
   ],
   "source": [
    "_get_schema(user_profile)"
   ]
  },
  {
   "cell_type": "code",
   "execution_count": null,
   "id": "dbe57049-7609-4822-baba-d157242cd737",
   "metadata": {},
   "outputs": [],
   "source": [
    "ChatAnthropic(model=\"foo\").bind_tools([tools[\"user_profile\"]]).kwargs"
   ]
  },
  {
   "cell_type": "code",
   "execution_count": 85,
   "id": "3245f7af-7022-4df4-b938-1a16ffbb9724",
   "metadata": {},
   "outputs": [
    {
     "data": {
      "text/plain": [
       "{'description': 'represents a user.',\n",
       " 'properties': {'name': {'anyOf': [{'type': 'string'}, {'type': 'null'}],\n",
       "   'default': None,\n",
       "   'title': 'Name'},\n",
       "  'age': {'anyOf': [{'type': 'integer'}, {'type': 'null'}],\n",
       "   'default': None,\n",
       "   'title': 'Age'},\n",
       "  'recent_memories': {'items': {'type': 'string'},\n",
       "   'title': 'Recent Memories',\n",
       "   'type': 'array'}},\n",
       " 'required': ['recent_memories'],\n",
       " 'title': 'user_profile',\n",
       " 'type': 'object'}"
      ]
     },
     "execution_count": 85,
     "metadata": {},
     "output_type": "execute_result"
    }
   ],
   "source": [
    "user_profile.model_json_schema()"
   ]
  },
  {
   "cell_type": "code",
   "execution_count": 83,
   "id": "e8e55b8f-e988-4b54-88fb-e45eaebb5af6",
   "metadata": {},
   "outputs": [
    {
     "data": {
      "text/plain": [
       "AIMessage(content=[{'id': 'toolu_019vfWdWiv2bsA1Smm1xmB5L', 'input': {'recent_memories': ['<UNKNOWN>']}, 'name': 'user_profile', 'type': 'tool_use'}], additional_kwargs={}, response_metadata={'id': 'msg_01QpZG6ysDZocc7v5cmmp9NH', 'model': 'claude-3-5-sonnet-20241022', 'stop_reason': 'tool_use', 'stop_sequence': None, 'usage': {'input_tokens': 446, 'output_tokens': 40, 'cache_creation_input_tokens': 0, 'cache_read_input_tokens': 0}}, id='run-754a088c-6941-47bc-92f9-2f50acb5f9c6-0', tool_calls=[{'name': 'user_profile', 'args': {'recent_memories': ['<UNKNOWN>']}, 'id': 'toolu_019vfWdWiv2bsA1Smm1xmB5L', 'type': 'tool_call'}], usage_metadata={'input_tokens': 446, 'output_tokens': 40, 'total_tokens': 486, 'input_token_details': {'cache_read': 0, 'cache_creation': 0}})"
      ]
     },
     "execution_count": 83,
     "metadata": {},
     "output_type": "execute_result"
    }
   ],
   "source": [
    "from langchain_anthropic import ChatAnthropic\n",
    "\n",
    "ChatAnthropic(model=\"claude-3-5-sonnet-latest\").bind_tools(\n",
    "    [user_profile], tool_choice=\"user_profile\"\n",
    ").invoke(\"foo\")"
   ]
  },
  {
   "cell_type": "code",
   "execution_count": null,
   "id": "ed7486df-faa4-426b-ab6b-686c3e5b887d",
   "metadata": {},
   "outputs": [],
   "source": []
  },
  {
   "cell_type": "code",
   "execution_count": 90,
   "id": "5831753a-1556-4240-9d4c-acbde955a4ee",
   "metadata": {},
   "outputs": [
    {
     "name": "stdout",
     "output_type": "stream",
     "text": [
      "[{'namespace': ['semantic', '5f160579-2d2d-4570-a50d-f0f7ce7bfefb'], 'key': '09357558-6fb9-4199-97cb-88bd86acd3fc', 'value': {'kind': 'user_profile', 'content': {'name': 'Al', 'age': None, 'recent_memories': [\"User identified themselves as 'Al'\"]}}}]\n"
     ]
    }
   ],
   "source": [
    "graph_id = \"extract_memories\"\n",
    "\n",
    "# It's a list of messages\n",
    "conversation = [\n",
    "    {\n",
    "        \"role\": \"user\",\n",
    "        \"content\": \"Why does this error occur?\\n\\n```python\\nfrom langchain.retrievers import KnowledgeGraphRetriever\\nImportError: cannot import name 'KnowledgeGraphRetriever' from 'langchain.retrievers'\\n```\",\n",
    "    },\n",
    "    {\n",
    "        \"role\": \"assistant\",\n",
    "        \"content\": \"This error indicates that `KnowledgeGraphRetriever` is not present in the `langchain.retrievers` module. It might have been renamed, moved, or removed in recent versions. Check the latest LangChain documentation or release notes for changes.\",\n",
    "    },\n",
    "    {\n",
    "        \"role\": \"user\",\n",
    "        \"content\": \"What retriever should I use for a graph-based retrieval system?\",\n",
    "    },\n",
    "    {\n",
    "        \"role\": \"assistant\",\n",
    "        \"content\": \"You can create a custom retriever class to handle your graph-based queries or use an existing retriever if one fits your use case. Implement the `get_relevant_documents` method to fetch data from your graph and ensure it aligns with LangChain's expected retriever interface.\",\n",
    "    },\n",
    "    {\n",
    "        \"role\": \"user\",\n",
    "        \"content\": \"What does this error mean?\\n\\n```python\\nValidationError: 1 validation error for MergerRetriever\\nretrievers.0\\nInput should be a valid dictionary or instance of BaseRetriever\\n```\",\n",
    "    },\n",
    "    {\n",
    "        \"role\": \"assistant\",\n",
    "        \"content\": \"This error means that `MergerRetriever` requires its `retrievers` parameter to be a dictionary or an instance of `BaseRetriever`. Ensure your custom retriever inherits from `BaseRetriever` or implements the expected methods for compatibility.\",\n",
    "    },\n",
    "    {\n",
    "        \"role\": \"user\",\n",
    "        \"content\": \"What methods does a retriever need to implement?\",\n",
    "    },\n",
    "    {\n",
    "        \"role\": \"assistant\",\n",
    "        \"content\": \"A retriever typically needs to implement a `get_relevant_documents` method that takes a query as input and returns a list of documents. Check the LangChain retriever interface for any additional requirements.\",\n",
    "    },\n",
    "    {\n",
    "        \"role\": \"user\",\n",
    "        \"content\": \"How do I resolve this error?\\n\\n```python\\nValidationError: Input should be a valid instance of BaseRetriever\\n```\",\n",
    "    },\n",
    "    {\n",
    "        \"role\": \"assistant\",\n",
    "        \"content\": \"To resolve this, ensure your custom retriever either inherits from `BaseRetriever` or implements the required methods and attributes to conform to the LangChain interface.\",\n",
    "    },\n",
    "    {\"role\": \"user\", \"content\": \"I'm Al btw\"},\n",
    "]\n",
    "\n",
    "\n",
    "profile_schema = {\n",
    "    \"description\": \"represents a user.\",\n",
    "    \"properties\": {\n",
    "        \"name\": {\"title\": \"Name\", \"type\": \"string\"},\n",
    "        \"age\": {\"type\": \"integer\", \"title\": \"Age\"},\n",
    "        \"recent_memories\": {\n",
    "            \"items\": {\"type\": \"string\"},\n",
    "            \"title\": \"Recent Memories\",\n",
    "            \"type\": \"array\",\n",
    "        },\n",
    "    },\n",
    "    \"required\": [\"recent_memories\"],\n",
    "    \"title\": \"user_profile\",\n",
    "    \"type\": \"object\",\n",
    "}\n",
    "\n",
    "results = await client.runs.wait(\n",
    "    None,\n",
    "    graph_id,\n",
    "    input={\n",
    "        \"messages\": conversation,\n",
    "        \"schemas\": [profile_schema],\n",
    "    },\n",
    "    config={\"configurable\": {\"model\": \"claude-3-5-sonnet-latest\"}},\n",
    ")\n",
    "print(results[\"updated_memories\"])"
   ]
  },
  {
   "cell_type": "code",
   "execution_count": 101,
   "id": "7d2214dd-94dc-4c64-bff3-f36aec659468",
   "metadata": {},
   "outputs": [
    {
     "name": "stdout",
     "output_type": "stream",
     "text": [
      "{'messages': [{'role': 'user', 'content': \"Why does this error occur?\\n\\n```python\\nfrom langchain.retrievers import KnowledgeGraphRetriever\\nImportError: cannot import name 'KnowledgeGraphRetriever' from 'langchain.retrievers'\\n```\"}, {'role': 'assistant', 'content': 'This error indicates that `KnowledgeGraphRetriever` is not present in the `langchain.retrievers` module. It might have been renamed, moved, or removed in recent versions.'}, {'role': 'user', 'content': 'How do I resolve this error?\\n\\n```python\\nValidationError: Input should be a valid instance of BaseRetriever\\n```'}, {'role': 'assistant', 'content': 'To resolve this, ensure your custom retriever either inherits from `BaseRetriever` or implements the required methods/attributes to conform to the LangChain interface.'}], 'schemas': [{'type': 'object', 'title': 'MemorySnippet', 'required': ['content'], 'properties': {'content': {'type': 'string', 'title': 'Memory Content'}, 'context': {'type': 'string', 'title': 'Memory Context', 'default': ''}, 'importance': {'type': 'number', 'title': 'Memory Importance', 'default': 1}}, 'description': 'Represents a memory snippet with extra context.'}], 'updated_memories': [{'namespace': ['5f160579-2d2d-4570-a50d-f0f7ce7bfefb', 'semantic'], 'key': '052ff7fb-ccd9-4a2e-a8f0-bb8c43d83a6c', 'value': {'kind': 'MemorySnippet', 'content': {'content': 'Key LangChain retriever implementation requirements and common errors:\\n1. ImportError for KnowledgeGraphRetriever - Class not directly available in langchain.retrievers, indicating potential deprecation or relocation\\n2. ValidationError for BaseRetriever - Custom retrievers must inherit from BaseRetriever class or implement its interface\\n3. BaseRetriever is a fundamental interface required for custom retriever components to work properly within the LangChain ecosystem', 'context': 'LangChain architecture, development patterns, and troubleshooting', 'importance': 0.9}}}]}\n"
     ]
    }
   ],
   "source": [
    "from langgraph_sdk import get_client\n",
    "\n",
    "url = \"https://langmem-v0-544fccf4898a5e3c87bdca29b5f9ab21.us.langgraph.app\"\n",
    "\n",
    "client = get_client(url=url)\n",
    "graph_id = \"extract_memories\"\n",
    "\n",
    "# Example conversation\n",
    "conversation = [\n",
    "    {\n",
    "        \"role\": \"user\",\n",
    "        \"content\": \"Why does this error occur?\\n\\n```python\\nfrom langchain.retrievers import KnowledgeGraphRetriever\\nImportError: cannot import name 'KnowledgeGraphRetriever' from 'langchain.retrievers'\\n```\",\n",
    "    },\n",
    "    {\n",
    "        \"role\": \"assistant\",\n",
    "        \"content\": \"This error indicates that `KnowledgeGraphRetriever` is not present in the `langchain.retrievers` module. It might have been renamed, moved, or removed in recent versions.\",\n",
    "    },\n",
    "    {\n",
    "        \"role\": \"user\",\n",
    "        \"content\": \"How do I resolve this error?\\n\\n```python\\nValidationError: Input should be a valid instance of BaseRetriever\\n```\",\n",
    "    },\n",
    "    {\n",
    "        \"role\": \"assistant\",\n",
    "        \"content\": \"To resolve this, ensure your custom retriever either inherits from `BaseRetriever` or implements the required methods/attributes to conform to the LangChain interface.\",\n",
    "    },\n",
    "]\n",
    "\n",
    "# Define a custom JSON schema for memories\n",
    "schemas = [\n",
    "    {\n",
    "        \"description\": \"Represents a memory snippet with extra context.\",\n",
    "        \"title\": \"MemorySnippet\",\n",
    "        \"type\": \"object\",\n",
    "        \"properties\": {\n",
    "            \"content\": {\n",
    "                \"type\": \"string\",\n",
    "                \"title\": \"Memory Content\",\n",
    "            },\n",
    "            \"context\": {\"type\": \"string\", \"title\": \"Memory Context\", \"default\": \"\"},\n",
    "            \"importance\": {\n",
    "                \"type\": \"number\",\n",
    "                \"title\": \"Memory Importance\",\n",
    "                \"default\": 1,\n",
    "            },\n",
    "        },\n",
    "        \"required\": [\"content\"],\n",
    "    }\n",
    "]\n",
    "\n",
    "results = await client.runs.wait(\n",
    "    None,\n",
    "    graph_id,\n",
    "    input={\n",
    "        \"messages\": conversation,\n",
    "        # Pass in your custom schemas here\n",
    "        \"schemas\": schemas,\n",
    "    },\n",
    "    config={\"configurable\": {\"model\": \"claude-3-5-sonnet-latest\"}},\n",
    ")\n",
    "\n",
    "print(results)"
   ]
  },
  {
   "cell_type": "code",
   "execution_count": 103,
   "id": "88755d9f-eb6c-4c9f-bf81-3e695935d8cf",
   "metadata": {},
   "outputs": [
    {
     "name": "stdout",
     "output_type": "stream",
     "text": [
      "{'items': [{'namespace': ['5f160579-2d2d-4570-a50d-f0f7ce7bfefb', 'semantic'], 'key': '052ff7fb-ccd9-4a2e-a8f0-bb8c43d83a6c', 'value': {'kind': 'MemorySnippet', 'content': {'content': 'Key LangChain retriever implementation requirements and common errors:\\n1. ImportError for KnowledgeGraphRetriever - Class not directly available in langchain.retrievers, indicating potential deprecation or relocation\\n2. ValidationError for BaseRetriever - Custom retrievers must inherit from BaseRetriever class or implement its interface\\n3. BaseRetriever is a fundamental interface required for custom retriever components to work properly within the LangChain ecosystem', 'context': 'LangChain architecture, development patterns, and troubleshooting', 'importance': 0.9}}, 'created_at': '2025-01-30T18:22:00.957028+00:00', 'updated_at': '2025-01-30T18:22:00.957028+00:00', 'score': 0.2863907814025879}]}\n"
     ]
    }
   ],
   "source": [
    "results = await client.store.search_items(\n",
    "    (),\n",
    "    query=\"Knowledge\",\n",
    ")\n",
    "\n",
    "print(results)"
   ]
  },
  {
   "cell_type": "code",
   "execution_count": null,
   "id": "eff41edf-398b-47e0-be39-2c1e881ca4e9",
   "metadata": {},
   "outputs": [],
   "source": []
  }
 ],
 "metadata": {
  "kernelspec": {
   "display_name": "Python 3 (ipykernel)",
   "language": "python",
   "name": "python3"
  },
  "language_info": {
   "codemirror_mode": {
    "name": "ipython",
    "version": 3
   },
   "file_extension": ".py",
   "mimetype": "text/x-python",
   "name": "python",
   "nbconvert_exporter": "python",
   "pygments_lexer": "ipython3",
   "version": "3.11.2"
  }
 },
 "nbformat": 4,
 "nbformat_minor": 5
}
