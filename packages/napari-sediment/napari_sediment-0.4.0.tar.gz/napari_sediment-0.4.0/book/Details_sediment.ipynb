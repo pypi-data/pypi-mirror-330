{
 "cells": [
  {
   "cell_type": "markdown",
   "id": "cd33f3a5-2ac7-4180-a799-3798aefb398f",
   "metadata": {},
   "source": [
    "# Function details: Sediment\n",
    "\n",
    "In this chapter we describe additional details for certain functionalities of the Sediment widget."
   ]
  },
  {
   "cell_type": "markdown",
   "id": "7528ad5d-ed21-4d27-890f-753ec7170aef",
   "metadata": {},
   "source": [
    "## Masking\n",
    "\n",
    "### Auto Threshold\n",
    "\n",
    "The auto-threshold method considers the pixel distribution of the currently selected layer (```Select layer to use```). If multiple channels are selected, an average is computed. Then a Gaussian is fitted to the pixel intensity distribution using sklearn's ```EllipticEnvelope```. Based on the standard deviation $\\sigma$ and mean $\\mu$ produced by the fit and the factor $f$ set in ```Distribution width factor```, a min/max threshold $t$ is set using $t = \\mu \\pm f * \\sigma$."
   ]
  },
  {
   "cell_type": "code",
   "execution_count": null,
   "id": "c848b1e0-67d2-402e-8081-704880c67c33",
   "metadata": {},
   "outputs": [],
   "source": []
  }
 ],
 "metadata": {
  "kernelspec": {
   "display_name": "Python 3 (ipykernel)",
   "language": "python",
   "name": "python3"
  },
  "language_info": {
   "codemirror_mode": {
    "name": "ipython",
    "version": 3
   },
   "file_extension": ".py",
   "mimetype": "text/x-python",
   "name": "python",
   "nbconvert_exporter": "python",
   "pygments_lexer": "ipython3",
   "version": "3.9.18"
  }
 },
 "nbformat": 4,
 "nbformat_minor": 5
}
