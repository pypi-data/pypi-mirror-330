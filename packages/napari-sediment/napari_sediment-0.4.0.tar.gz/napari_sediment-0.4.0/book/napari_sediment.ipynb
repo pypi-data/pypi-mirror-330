{
 "cells": [
  {
   "cell_type": "markdown",
   "id": "303141d4-aa54-4e0c-a9d3-e3ff2405b011",
   "metadata": {},
   "source": [
    "# napari-sediment"
   ]
  },
  {
   "cell_type": "markdown",
   "id": "216362ac-982b-4b38-89be-c5ca71296982",
   "metadata": {},
   "source": [
    "napari-sediment is a napari plugin designed to perform the interactive analysis of hyperspectral image acquisitions of sediment cores. It has the following core functionalities:\n",
    "- visualization of hyperspectral stacks\n",
    "- an annotation tool to mask corrupted regions of the acquisitions \n",
    "- a selection tool to set subregions to use for analysis\n",
    "- both spatial and spectral dimensionality reduction\n",
    "- computations of different types of spectral indices\n",
    "- display and export of spectral indices plots"
   ]
  },
  {
   "cell_type": "code",
   "execution_count": null,
   "id": "ff8ea332-f72f-4b7e-9abf-b2f82d8f0799",
   "metadata": {},
   "outputs": [],
   "source": []
  }
 ],
 "metadata": {
  "kernelspec": {
   "display_name": "Python 3 (ipykernel)",
   "language": "python",
   "name": "python3"
  },
  "language_info": {
   "codemirror_mode": {
    "name": "ipython",
    "version": 3
   },
   "file_extension": ".py",
   "mimetype": "text/x-python",
   "name": "python",
   "nbconvert_exporter": "python",
   "pygments_lexer": "ipython3",
   "version": "3.10.10"
  }
 },
 "nbformat": 4,
 "nbformat_minor": 5
}
