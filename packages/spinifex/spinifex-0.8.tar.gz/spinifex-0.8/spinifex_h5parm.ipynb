{
 "cells": [
  {
   "cell_type": "code",
   "execution_count": null,
   "id": "4fdddb14-4d95-4288-b122-e861f832032d",
   "metadata": {},
   "outputs": [],
   "source": [
    "from typing import Sequence\n",
    "\n",
    "import h5py\n",
    "import numpy as np\n",
    "from numpy.typing import NDArray"
   ]
  },
  {
   "cell_type": "code",
   "execution_count": null,
   "id": "8b41d61d-c32e-478f-bda3-059c4f5909e9",
   "metadata": {},
   "outputs": [],
   "source": [
    "!rm test.h5"
   ]
  },
  {
   "cell_type": "code",
   "execution_count": null,
   "id": "9750ae8a-c2ca-4337-99a7-87f5454fbab8",
   "metadata": {},
   "outputs": [],
   "source": [
    "h5file = h5py.File(\"test.h5\", \"w\")  # Todo: check existing"
   ]
  },
  {
   "cell_type": "code",
   "execution_count": null,
   "id": "82ef64be-f64b-4a3f-b41e-dc1f0ffd8c8a",
   "metadata": {},
   "outputs": [],
   "source": [
    "solset = h5file.create_group(\"sol000\")\n",
    "solset.attrs.h5parm_version = '1.0'"
   ]
  },
  {
   "cell_type": "code",
   "execution_count": null,
   "id": "b8b28c5e-cb30-46d2-bdd3-b39c1a5799d1",
   "metadata": {},
   "outputs": [],
   "source": [
    "soltab = solset.create_group(\"rm\")\n",
    "soltab.attrs.title = 'rotationmeasure'"
   ]
  },
  {
   "cell_type": "code",
   "execution_count": null,
   "id": "b58bf843-7c54-475c-8bc6-7fcc9f4df2bb",
   "metadata": {},
   "outputs": [],
   "source": [
    "ant_meta = soltab.create_dataset(\n",
    "    \"antenna\", shape=(52,), dtype=[(\"name\", \"S16\"), (\"position\", \"<f4\", (3,))]\n",
    ")"
   ]
  },
  {
   "cell_type": "code",
   "execution_count": null,
   "id": "fc7f08c4-262b-4a9e-86f3-609679334db3",
   "metadata": {},
   "outputs": [],
   "source": [
    "from lofarantpos.db import LofarAntennaDatabase\n",
    "\n",
    "db = LofarAntennaDatabase()\n",
    "lba = {name: position for name, position in db.phase_centres.items() if \"LBA\" in name}\n",
    "\n",
    "for ant_nr, name in enumerate(lba):\n",
    "    ant_meta[ant_nr] = (name, lba[name])"
   ]
  },
  {
   "cell_type": "code",
   "execution_count": null,
   "id": "fff06a62-64c2-4208-94ba-085a4fb08a80",
   "metadata": {},
   "outputs": [],
   "source": [
    "n_ant = 5  # Example: subset of all antennas\n",
    "n_time = 10"
   ]
  },
  {
   "cell_type": "code",
   "execution_count": null,
   "id": "884ced4d-63b2-470a-af1c-31f416917640",
   "metadata": {},
   "outputs": [],
   "source": [
    "def _ndarray_of_null_terminated_bytes(strings: Sequence[str]) -> NDArray:\n",
    "    return np.asarray([s.encode() + b\"\\0\" for s in strings])"
   ]
  },
  {
   "cell_type": "code",
   "execution_count": null,
   "id": "cfe23d4d-66fd-4cf5-9d34-a7398ace3413",
   "metadata": {},
   "outputs": [],
   "source": [
    "antenna_names = list(lba.keys())[3:8]  # Example: take subset"
   ]
  },
  {
   "cell_type": "code",
   "execution_count": null,
   "id": "3d7a3ca4-2552-4c67-aff1-ae7d7e762c92",
   "metadata": {},
   "outputs": [],
   "source": [
    "val = soltab.create_dataset(\"val\", shape=(n_ant, n_time))"
   ]
  },
  {
   "cell_type": "code",
   "execution_count": null,
   "id": "423cd4e9-d9cc-4e3a-bc80-75f181d61814",
   "metadata": {},
   "outputs": [],
   "source": [
    "val[:] = np.ones((n_ant, n_time))"
   ]
  },
  {
   "cell_type": "code",
   "execution_count": null,
   "id": "76440add-6df3-434d-87f9-caf4a7c7425c",
   "metadata": {},
   "outputs": [],
   "source": [
    "val.attrs[\"AXES\"] = \"ant,time\"\n",
    "val.attrs[\"soltype\"] = \"rotationmeasure\""
   ]
  },
  {
   "cell_type": "code",
   "execution_count": null,
   "id": "133d0470-d286-464f-aebf-e548dab6f332",
   "metadata": {},
   "outputs": [],
   "source": [
    "ant = soltab.create_dataset(\n",
    "    \"ant\", data=_ndarray_of_null_terminated_bytes(antenna_names)\n",
    ")"
   ]
  },
  {
   "cell_type": "code",
   "execution_count": null,
   "id": "f7ae4d84-8f59-4dbf-b8a4-4afd0c70d742",
   "metadata": {},
   "outputs": [],
   "source": [
    "ant[:] = list(lba.keys())[3:8]"
   ]
  },
  {
   "cell_type": "code",
   "execution_count": null,
   "id": "224f9faf-ad68-4458-af26-48616ed0f06e",
   "metadata": {},
   "outputs": [],
   "source": [
    "time = soltab.create_dataset(\n",
    "    \"time\", shape=(n_time), dtype='<f8'\n",
    ")"
   ]
  },
  {
   "cell_type": "code",
   "execution_count": null,
   "id": "ea1194bb-a060-4e9f-bfa9-9fb7940a8379",
   "metadata": {},
   "outputs": [],
   "source": [
    "from astropy.time import Time\n",
    "import astropy.units as u"
   ]
  },
  {
   "cell_type": "code",
   "execution_count": null,
   "id": "18a56983-ae73-41bd-9d27-0d27e899b23d",
   "metadata": {},
   "outputs": [],
   "source": [
    "time[:] = (Time.now() + np.arange(n_time) * u.day).mjd"
   ]
  },
  {
   "cell_type": "code",
   "execution_count": null,
   "id": "ca15bbf1-1bce-4f46-81bf-a134fc1c19e2",
   "metadata": {},
   "outputs": [],
   "source": [
    "weight = soltab.create_dataset(\"weight\", shape=(n_ant, n_time), dtype='<f2')\n",
    "weight.attrs['AXES'] = \"ant,time\""
   ]
  },
  {
   "cell_type": "code",
   "execution_count": null,
   "id": "b22e3050-3b32-4138-a209-c07b0d8b0ac9",
   "metadata": {},
   "outputs": [],
   "source": [
    "weight[:] = 1.0"
   ]
  },
  {
   "cell_type": "code",
   "execution_count": null,
   "id": "b14fd618-9cb3-411a-bfa2-e0b459f3efb4",
   "metadata": {},
   "outputs": [
    {
     "data": {
      "text/plain": [
       "array([[1., 1., 1., 1., 1., 1., 1., 1., 1., 1.],\n",
       "       [1., 1., 1., 1., 1., 1., 1., 1., 1., 1.],\n",
       "       [1., 1., 1., 1., 1., 1., 1., 1., 1., 1.],\n",
       "       [1., 1., 1., 1., 1., 1., 1., 1., 1., 1.],\n",
       "       [1., 1., 1., 1., 1., 1., 1., 1., 1., 1.]], dtype=float32)"
      ]
     },
     "execution_count": null,
     "metadata": {},
     "output_type": "execute_result"
    }
   ],
   "source": [
    "val[:]"
   ]
  },
  {
   "cell_type": "code",
   "execution_count": null,
   "id": "be2da2fa-fdcd-497f-b082-e53bba6263f4",
   "metadata": {},
   "outputs": [],
   "source": []
  }
 ],
 "metadata": {
  "kernelspec": {
   "display_name": "python3",
   "language": "python",
   "name": "python3"
  }
 },
 "nbformat": 4,
 "nbformat_minor": 5
}
