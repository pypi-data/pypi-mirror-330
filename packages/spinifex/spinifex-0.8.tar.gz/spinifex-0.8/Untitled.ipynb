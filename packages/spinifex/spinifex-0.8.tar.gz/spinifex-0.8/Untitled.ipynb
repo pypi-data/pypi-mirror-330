{
 "cells": [
  {
   "cell_type": "code",
   "execution_count": null,
   "id": "ad7f25e1-f863-4630-a93d-3c257d60f0a4",
   "metadata": {},
   "outputs": [
    {
     "name": "stdout",
     "output_type": "stream",
     "text": [
      "/Users/dijkema/opt/spinifex\n"
     ]
    }
   ],
   "source": [
    "!pwd"
   ]
  },
  {
   "cell_type": "code",
   "execution_count": null,
   "id": "40f0b0ab-98bd-4535-afa6-44a2dab745a7",
   "metadata": {},
   "outputs": [],
   "source": [
    "import h5py"
   ]
  },
  {
   "cell_type": "code",
   "execution_count": null,
   "id": "26a22e26-5ca3-4abe-b59d-bc7b03d81712",
   "metadata": {},
   "outputs": [],
   "source": [
    "soltab = h5py.File(\"/Users/dijkema/cal_solutions.h5\", \"r\")['calibrator']"
   ]
  },
  {
   "cell_type": "code",
   "execution_count": null,
   "id": "04ba129c-1fe5-4040-8391-460ca2c7910c",
   "metadata": {},
   "outputs": [
    {
     "data": {
      "text/plain": [
       "dtype([('name', 'S16'), ('position', '<f4', (3,))])"
      ]
     },
     "execution_count": null,
     "metadata": {},
     "output_type": "execute_result"
    }
   ],
   "source": [
    "soltab['antenna'].dtype"
   ]
  },
  {
   "cell_type": "code",
   "execution_count": null,
   "id": "6862be06-5e07-4e4c-8419-a1f028741e27",
   "metadata": {},
   "outputs": [
    {
     "name": "stdout",
     "output_type": "stream",
     "text": [
      "CLASS\n",
      "FILTERS\n",
      "TITLE\n",
      "VERSION\n",
      "parmdb_type\n"
     ]
    }
   ],
   "source": [
    "for attr in soltab['faraday'].attrs:\n",
    "    print(attr)"
   ]
  },
  {
   "cell_type": "code",
   "execution_count": null,
   "id": "4777c833-ea67-438a-9297-4893e43219d0",
   "metadata": {},
   "outputs": [
    {
     "name": "stdout",
     "output_type": "stream",
     "text": [
      "b'rotationmeasure'\n"
     ]
    }
   ],
   "source": [
    "print(soltab['faraday'].attrs['TITLE'])"
   ]
  },
  {
   "cell_type": "code",
   "execution_count": null,
   "id": "052b2658-f7ff-4a33-94bf-7d9e96caaeef",
   "metadata": {},
   "outputs": [
    {
     "data": {
      "text/plain": [
       "dtype('<f8')"
      ]
     },
     "execution_count": null,
     "metadata": {},
     "output_type": "execute_result"
    }
   ],
   "source": [
    "soltab['faraday']['time'].dtype"
   ]
  },
  {
   "cell_type": "code",
   "execution_count": null,
   "id": "c54673cd-104a-40cb-abd4-e455d8deb055",
   "metadata": {},
   "outputs": [
    {
     "data": {
      "text/plain": [
       "dtype('S9')"
      ]
     },
     "execution_count": null,
     "metadata": {},
     "output_type": "execute_result"
    }
   ],
   "source": [
    "soltab['faraday']['ant'].dtype"
   ]
  },
  {
   "cell_type": "code",
   "execution_count": null,
   "id": "db9d96e9-de4a-46d7-bf35-3c6b84574293",
   "metadata": {},
   "outputs": [
    {
     "data": {
      "text/plain": [
       "dtype('<f8')"
      ]
     },
     "execution_count": null,
     "metadata": {},
     "output_type": "execute_result"
    }
   ],
   "source": [
    "soltab['faraday']['val'].dtype"
   ]
  }
 ],
 "metadata": {
  "kernelspec": {
   "display_name": "python3",
   "language": "python",
   "name": "python3"
  }
 },
 "nbformat": 4,
 "nbformat_minor": 5
}
