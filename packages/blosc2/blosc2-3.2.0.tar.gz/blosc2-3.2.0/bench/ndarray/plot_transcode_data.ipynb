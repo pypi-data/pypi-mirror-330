{
 "cells": [
  {
   "cell_type": "code",
   "execution_count": null,
   "metadata": {},
   "outputs": [],
   "source": [
    "import pandas as pd\n",
    "import plotly.express as px"
   ]
  },
  {
   "cell_type": "code",
   "execution_count": null,
   "metadata": {},
   "outputs": [],
   "source": [
    "# df = pd.read_parquet(\"era5-pds/measurements-m1.parquet\")\n",
    "# df = pd.read_parquet(\"era5-pds/measurements-i10k.parquet\")\n",
    "# df = pd.read_parquet(\"era5-pds/measurements-ryzen3.parquet\")\n",
    "df = pd.read_parquet(\"era5-pds/measurements-i13k.parquet\")\n",
    "# df = pd.read_parquet(\"era5-pds/measurements-i13k-always-split.parquet\")\n",
    "# df = pd.read_parquet(\"era5-pds/measurements-i13k-never-split.parquet\")\n",
    "df = df.query(\"clevel > 0\")  # get rid of no compression results"
   ]
  },
  {
   "cell_type": "code",
   "execution_count": null,
   "metadata": {},
   "outputs": [],
   "source": [
    "category_orders = {\"dset\": [\"flux\", \"wind\", \"pressure\", \"precip\", \"snow\"],\n",
    "                   \"filter\": [\"nofilter\", \"shuffle\", \"bitshuffle\", \"bytedelta\"]}\n",
    "labels = {\n",
    "    \"cratio\": \"Compression ratio (x times)\",\n",
    "    \"cspeed\": \"Compression speed (GB/s)\",\n",
    "    \"dspeed\": \"Decompression speed (GB/s)\",\n",
    "    \"codec\": \"Codec\",\n",
    "    \"dset\": \"Dataset\",\n",
    "    \"filter\": \"Filter\",\n",
    "    \"cratio * cspeed\": \"Compression ratio x Compression speed\",\n",
    "    \"cratio * dspeed\": \"Compression ratio x Decompression speed\",\n",
    "    \"cratio * cspeed * dspeed\": \"Compression ratio x Compression x Decompression speeds\",\n",
    "    }"
   ]
  },
  {
   "cell_type": "code",
   "execution_count": null,
   "metadata": {},
   "outputs": [],
   "source": [
    "hover_data = {\"filter\": False, \"codec\": True, \"cratio\": ':.1f', \"cspeed\": ':.2f',\n",
    "              \"dspeed\": ':.2f', \"dset\": True, \"clevel\": True}\n",
    "fig = px.box(df, x=\"cratio\", color=\"filter\", points=\"all\", hover_data=hover_data,\n",
    "             labels=labels, range_x=(0, 60), range_y=(-.4, .35),)\n",
    "fig.update_layout(\n",
    "    title={\n",
    "        'text': \"Compression ratio vs filter (larger is better)\",\n",
    "        #'y':0.9,\n",
    "        'x':0.25,\n",
    "        'xanchor': 'left',\n",
    "        #'yanchor': 'top'\n",
    "    },\n",
    "    #xaxis_title=\"Filter\",\n",
    ")\n",
    "fig.show()"
   ]
  },
  {
   "cell_type": "code",
   "execution_count": null,
   "metadata": {},
   "outputs": [],
   "source": [
    "hover_data = {\"filter\": False, \"codec\": True, \"cratio\": ':.1f', \"cspeed\": ':.2f', \"dspeed\": ':.2f',\n",
    "              \"dset\": False, \"clevel\": True}\n",
    "fig = px.strip(df, y=\"cratio\", x=\"dset\", color=\"filter\", hover_data=hover_data, labels=labels,\n",
    "               category_orders=category_orders)\n",
    "fig.show()"
   ]
  },
  {
   "cell_type": "code",
   "execution_count": null,
   "metadata": {
    "scrolled": false
   },
   "outputs": [],
   "source": [
    "hover_data = {\"filter\": False, \"codec\": False, \"cratio\": ':.1f', \"cspeed\": ':.2f', \"dspeed\": ':.2f',\n",
    "              \"dset\": True, \"clevel\": True}\n",
    "fig = px.strip(df, y=\"cratio\", x=\"codec\", color=\"filter\", labels=labels, hover_data=hover_data)\n",
    "fig.show()"
   ]
  },
  {
   "cell_type": "code",
   "execution_count": null,
   "metadata": {},
   "outputs": [],
   "source": [
    "df[\"cratio * cspeed\"] = df[\"cratio\"] * df[\"cspeed\"]\n",
    "df[\"cratio * dspeed\"] = df[\"cratio\"] * df[\"dspeed\"]\n",
    "df[\"cratio * cspeed * dspeed\"] = df[\"cratio\"] * df[\"cspeed\"] * df[\"dspeed\"]\n",
    "df_mean = df.groupby(['filter', 'clevel', 'codec']).mean(numeric_only=True).reset_index(level=[0,1,2])\n",
    "df_mean2 = df.groupby(['filter', 'dset']).mean(numeric_only=True).reset_index(level=[0,1])\n",
    "df_mean"
   ]
  },
  {
   "cell_type": "code",
   "execution_count": null,
   "metadata": {},
   "outputs": [],
   "source": [
    "fig = px.bar(df_mean, y=\"cratio\", x=\"codec\", color=\"filter\", category_orders=category_orders,\n",
    "             barmode=\"group\", facet_col=\"clevel\", labels=labels, title=\"Compression ratio (mean)\")\n",
    "fig.show()"
   ]
  },
  {
   "cell_type": "code",
   "execution_count": null,
   "metadata": {},
   "outputs": [],
   "source": [
    "fig = px.bar(df_mean, y=\"cspeed\", x=\"codec\", color=\"filter\", category_orders=category_orders,\n",
    "             barmode=\"group\", facet_col=\"clevel\", labels=labels, title=\"Compression speed (mean)\")\n",
    "fig.show()"
   ]
  },
  {
   "cell_type": "code",
   "execution_count": null,
   "metadata": {},
   "outputs": [],
   "source": [
    "fig = px.bar(df_mean2, y=\"cspeed\", x=\"filter\", facet_col=\"dset\", color=\"filter\", log_y=True,\n",
    "             labels=labels, category_orders=category_orders)\n",
    "fig.show()"
   ]
  },
  {
   "cell_type": "code",
   "execution_count": null,
   "metadata": {},
   "outputs": [],
   "source": [
    "fig = px.strip(df, y=\"cspeed\", x=\"codec\", color=\"filter\", hover_data=hover_data, labels=labels)\n",
    "fig.show()"
   ]
  },
  {
   "cell_type": "code",
   "execution_count": null,
   "metadata": {},
   "outputs": [],
   "source": [
    "fig = px.bar(df_mean, y=\"dspeed\", x=\"codec\", color=\"filter\",\n",
    "             category_orders=category_orders, barmode=\"group\",\n",
    "             facet_col=\"clevel\", labels=labels, title=\"Decompression speed (mean)\")\n",
    "fig.show()"
   ]
  },
  {
   "cell_type": "code",
   "execution_count": null,
   "metadata": {},
   "outputs": [],
   "source": [
    "fig = px.bar(df_mean2, y=\"dspeed\", x=\"filter\", facet_col=\"dset\", color=\"filter\", log_y=True,\n",
    "             labels=labels, category_orders=category_orders)\n",
    "fig.show()"
   ]
  },
  {
   "cell_type": "code",
   "execution_count": null,
   "metadata": {},
   "outputs": [],
   "source": [
    "fig = px.strip(df, y=\"dspeed\", x=\"codec\", color=\"filter\", hover_data=hover_data, labels=labels)\n",
    "fig.show()"
   ]
  },
  {
   "cell_type": "code",
   "execution_count": null,
   "metadata": {},
   "outputs": [],
   "source": [
    "hover_data = {\"filter\": True, \"codec\": True, \"cratio\": ':.1f', \"cspeed\": ':.2f',\n",
    "             \"dspeed\": ':.2f', \"dset\": True, \"clevel\": True}\n",
    "fig = px.scatter(df, y=\"cratio\", x=\"cspeed\", color=\"filter\", log_y=True,\n",
    "                 hover_data=hover_data, labels=labels)\n",
    "fig.show()"
   ]
  },
  {
   "cell_type": "code",
   "execution_count": null,
   "metadata": {
    "scrolled": false
   },
   "outputs": [],
   "source": [
    "fig = px.box(df, y=\"cratio * cspeed\", x=\"codec\", color=\"filter\", log_y=True,\n",
    "             hover_data=hover_data, labels=labels)\n",
    "fig.show()"
   ]
  },
  {
   "cell_type": "code",
   "execution_count": null,
   "metadata": {},
   "outputs": [],
   "source": [
    "fig = px.bar(df_mean, y=\"cratio * cspeed\", x=\"codec\", color=\"filter\", log_y=True,\n",
    "             labels=labels, facet_col=\"clevel\", barmode=\"group\", category_orders=category_orders)\n",
    "fig.show()"
   ]
  },
  {
   "cell_type": "code",
   "execution_count": null,
   "metadata": {},
   "outputs": [],
   "source": [
    "fig = px.bar(df_mean2, y=\"cratio * cspeed\", x=\"filter\", facet_col=\"dset\", color=\"filter\", log_y=True,\n",
    "             labels=labels, category_orders=category_orders)\n",
    "fig.show()"
   ]
  },
  {
   "cell_type": "code",
   "execution_count": null,
   "metadata": {},
   "outputs": [],
   "source": [
    "hover_data = {\"filter\": True, \"codec\": True, \"cratio\": ':.1f', \"cspeed\": ':.2f',\n",
    "             \"dspeed\": ':.2f', \"dset\": True, \"clevel\": True}\n",
    "fig = px.scatter(df, y=\"cratio\", x=\"dspeed\", color=\"filter\", log_y=True,\n",
    "              hover_data=hover_data, labels=labels)\n",
    "fig.show()"
   ]
  },
  {
   "cell_type": "code",
   "execution_count": null,
   "metadata": {},
   "outputs": [],
   "source": [
    "fig = px.box(df, y=\"cratio * dspeed\", x=\"codec\", color=\"filter\", log_y=True,\n",
    "             hover_data=hover_data, labels=labels, category_orders=category_orders)\n",
    "fig.show()"
   ]
  },
  {
   "cell_type": "code",
   "execution_count": null,
   "metadata": {},
   "outputs": [],
   "source": [
    "fig = px.bar(df_mean, y=\"cratio * dspeed\", x=\"codec\", color=\"filter\", log_y=True,\n",
    "             labels=labels, facet_col=\"clevel\", barmode=\"group\", category_orders=category_orders)\n",
    "fig.show()"
   ]
  },
  {
   "cell_type": "code",
   "execution_count": null,
   "metadata": {},
   "outputs": [],
   "source": [
    "fig = px.bar(df_mean2, y=\"cratio * dspeed\", x=\"filter\", facet_col=\"dset\", color=\"filter\", log_y=True,\n",
    "             labels=labels, category_orders=category_orders)\n",
    "fig.show()"
   ]
  },
  {
   "cell_type": "code",
   "execution_count": null,
   "metadata": {},
   "outputs": [],
   "source": [
    "fig = px.box(df, y=\"cratio * cspeed * dspeed\", x=\"codec\", color=\"filter\",\n",
    "             log_y=True, hover_data=hover_data, labels=labels, category_orders=category_orders)\n",
    "fig.show()"
   ]
  },
  {
   "cell_type": "code",
   "execution_count": null,
   "metadata": {
    "pycharm": {
     "is_executing": true
    }
   },
   "outputs": [],
   "source": [
    "fig = px.bar(df_mean, y=\"cratio * cspeed * dspeed\", x=\"codec\", color=\"filter\", log_y=True,\n",
    "             labels=labels, facet_col=\"clevel\", barmode=\"group\", category_orders=category_orders)\n",
    "fig.show()"
   ]
  },
  {
   "cell_type": "code",
   "execution_count": null,
   "metadata": {},
   "outputs": [],
   "source": [
    "fig = px.bar(df_mean2, y=\"cratio * cspeed * dspeed\", x=\"filter\", facet_col=\"dset\", color=\"filter\", log_y=True,\n",
    "             labels=labels, category_orders=category_orders)\n",
    "fig.show()"
   ]
  },
  {
   "cell_type": "code",
   "execution_count": null,
   "metadata": {},
   "outputs": [],
   "source": []
  }
 ],
 "metadata": {
  "kernelspec": {
   "display_name": "Python 3 (ipykernel)",
   "language": "python",
   "name": "python3"
  },
  "language_info": {
   "codemirror_mode": {
    "name": "ipython",
    "version": 3
   },
   "file_extension": ".py",
   "mimetype": "text/x-python",
   "name": "python",
   "nbconvert_exporter": "python",
   "pygments_lexer": "ipython3",
   "version": "3.9.13"
  }
 },
 "nbformat": 4,
 "nbformat_minor": 1
}
