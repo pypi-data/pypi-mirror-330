{
 "cells": [
  {
   "cell_type": "code",
   "execution_count": null,
   "id": "044d1f3a-eaba-4d9a-a64c-c3ab985f29c7",
   "metadata": {},
   "outputs": [],
   "source": [
    "a = 1"
   ]
  },
  {
   "cell_type": "code",
   "execution_count": null,
   "id": "99fbe184-4e8b-431e-a790-b6bb39401e87",
   "metadata": {},
   "outputs": [],
   "source": [
    "print(\"hello\")"
   ]
  },
  {
   "cell_type": "code",
   "execution_count": null,
   "id": "b0b4663b-e3c4-4eb3-bbf6-ab90fcedbb4d",
   "metadata": {},
   "outputs": [],
   "source": [
    "from IPython.display import HTML\n",
    "\n",
    "HTML(\"<p><b>Jupyter</b> rocks</p>\")"
   ]
  },
  {
   "cell_type": "code",
   "execution_count": null,
   "id": "6fb3ac3f-7633-4a7c-a2ba-688549f1d344",
   "metadata": {},
   "outputs": [],
   "source": [
    "1 / 0"
   ]
  },
  {
   "cell_type": "code",
   "execution_count": null,
   "id": "d4be79ea-518a-4f82-859a-a8674612a717",
   "metadata": {},
   "outputs": [],
   "source": [
    "# FIXME\n",
    "from time import sleep\n",
    "\n",
    "for i in range(10):\n",
    "    sleep(0.1)\n",
    "    print(i)"
   ]
  },
  {
   "cell_type": "code",
   "execution_count": null,
   "id": "e932c6fc-c453-4e04-92f3-c3748fb4ed8c",
   "metadata": {},
   "outputs": [],
   "source": [
    "input(\"Age: \")"
   ]
  },
  {
   "cell_type": "code",
   "execution_count": null,
   "id": "57662578-d6d0-466a-ad89-33b2b2e28f29",
   "metadata": {},
   "outputs": [],
   "source": []
  }
 ],
 "metadata": {
  "kernelspec": {
   "display_name": "Python 3 (ipykernel)",
   "language": "python",
   "name": "python3"
  },
  "language_info": {
   "codemirror_mode": {
    "name": "ipython",
    "version": 3
   },
   "file_extension": ".py",
   "mimetype": "text/x-python",
   "name": "python",
   "nbconvert_exporter": "python",
   "pygments_lexer": "ipython3",
   "version": "3.12.3"
  }
 },
 "nbformat": 4,
 "nbformat_minor": 5
}
