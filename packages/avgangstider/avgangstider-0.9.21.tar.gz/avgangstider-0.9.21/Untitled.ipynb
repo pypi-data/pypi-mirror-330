{
 "cells": [
  {
   "cell_type": "code",
   "execution_count": null,
   "metadata": {},
   "outputs": [],
   "source": [
    "%load_ext autoreload\n",
    "%autoreload 2"
   ]
  },
  {
   "cell_type": "code",
   "execution_count": null,
   "metadata": {},
   "outputs": [],
   "source": [
    "from pathlib import Path\n",
    "\n",
    "import avgangstider"
   ]
  },
  {
   "cell_type": "markdown",
   "metadata": {},
   "source": [
    "# Departures\n"
   ]
  },
  {
   "cell_type": "code",
   "execution_count": null,
   "metadata": {},
   "outputs": [],
   "source": [
    "avgangstider.get_departures(\"Jalla\")"
   ]
  },
  {
   "cell_type": "code",
   "execution_count": null,
   "metadata": {},
   "outputs": [],
   "source": [
    "avgangstider.get_departures(\n",
    "    \"NSR:StopPlace:5968\", max_departures=10, platforms=[\"NSR:Quay:10949\"]\n",
    ")"
   ]
  },
  {
   "cell_type": "code",
   "execution_count": null,
   "metadata": {},
   "outputs": [],
   "source": [
    "avgangstider.get_departures(\n",
    "    \"NSR:StopPlace:59516\", max_departures=10, line_ids=[\"RUT:Line:21\"]\n",
    ")"
   ]
  },
  {
   "cell_type": "code",
   "execution_count": null,
   "metadata": {},
   "outputs": [],
   "source": [
    "avgangstider.get_departures(stop_id=\"NSR:StopPlace:5968\", platforms=[\"NSR:Quay:10949\"])"
   ]
  },
  {
   "cell_type": "code",
   "execution_count": null,
   "metadata": {},
   "outputs": [],
   "source": [
    "avgangstider.get_departures(\"NSR:StopPlace:59516\", max_departures=10)"
   ]
  },
  {
   "cell_type": "code",
   "execution_count": null,
   "metadata": {},
   "outputs": [],
   "source": [
    "avgangstider.get_departures(\n",
    "    \"NSR:StopPlace:59516\",\n",
    "    line_ids=[\"RUT:Line:21\", \"RUT:Line:3\"],\n",
    "    max_departures=20,\n",
    "    platforms=[\"NSR:Quay:11134\"],\n",
    ")"
   ]
  },
  {
   "cell_type": "code",
   "execution_count": null,
   "metadata": {},
   "outputs": [],
   "source": [
    "import avgangstider.entur_query\n",
    "\n",
    "query = avgangstider.entur_query.create_departure_query_whitelist(\n",
    "    stop_id=\"NSR:StopPlace:59516\",\n",
    "    line_ids=[\"RUT:Line:1\", \"RUT:Line:2\", \"RUT:Line:3\"],\n",
    "    max_departures=10,\n",
    ")\n",
    "\n",
    "response = avgangstider.entur_query.journey_planner_api(query)\n",
    "response.json()"
   ]
  },
  {
   "cell_type": "markdown",
   "metadata": {},
   "source": [
    "# Situations\n"
   ]
  },
  {
   "cell_type": "code",
   "execution_count": null,
   "metadata": {},
   "outputs": [],
   "source": [
    "avgangstider.get_situations([\"RUT:Line:35\", \"RUT:Line:205\"])"
   ]
  },
  {
   "cell_type": "code",
   "execution_count": null,
   "metadata": {},
   "outputs": [],
   "source": [
    "import avgangstider.entur_query\n",
    "\n",
    "query = avgangstider.entur_query.create_situation_query([])\n",
    "response = avgangstider.entur_query.journey_planner_api(query)\n",
    "j = response.json()"
   ]
  },
  {
   "cell_type": "code",
   "execution_count": null,
   "metadata": {},
   "outputs": [],
   "source": [
    "type(j.get(\"data\"))"
   ]
  },
  {
   "cell_type": "code",
   "execution_count": null,
   "metadata": {},
   "outputs": [],
   "source": [
    "for line in response.json()[\"data\"][\"lines\"]:\n",
    "    print(\"Line: \", line)"
   ]
  },
  {
   "cell_type": "markdown",
   "metadata": {},
   "source": [
    "# Save departures to a file\n"
   ]
  },
  {
   "cell_type": "code",
   "execution_count": null,
   "metadata": {},
   "outputs": [],
   "source": [
    "import datetime\n",
    "import json\n",
    "import pickle\n",
    "from zoneinfo import ZoneInfo\n",
    "\n",
    "from avgangstider.entur_query import (\n",
    "    create_departure_query_whitelist,\n",
    "    journey_planner_api,\n",
    ")"
   ]
  },
  {
   "cell_type": "code",
   "execution_count": null,
   "metadata": {},
   "outputs": [],
   "source": [
    "# Get the raw json-data\n",
    "query = create_departure_query_whitelist(\n",
    "    stop_id=\"NSR:StopPlace:58366\",\n",
    "    line_ids=[\"RUT:Line:1\", \"RUT:Line:21\", \"RUT:Line:35\"],\n",
    "    max_departures=10,\n",
    ")\n",
    "response = journey_planner_api(query)\n",
    "response.json()\n",
    "\n",
    "# Get processed data\n",
    "departures = avgangstider.get_departures(\n",
    "    stop_id=\"NSR:StopPlace:58366\",\n",
    "    line_ids=[\"RUT:Line:1\", \"RUT:Line:21\", \"RUT:Line:35\"],\n",
    "    max_departures=10,\n",
    ")\n",
    "\n",
    "# Get the current datetime\n",
    "now = datetime.datetime.now(ZoneInfo(\"Europe/Oslo\")).isoformat()"
   ]
  },
  {
   "cell_type": "code",
   "execution_count": null,
   "metadata": {},
   "outputs": [],
   "source": [
    "with Path(\"departures.json\").open(\"w\") as file:\n",
    "    json.dump(response.json(), file)\n",
    "\n",
    "with Path(\"departures.pkl\").open(\"wb\") as file:\n",
    "    pickle.dump(departures, file)"
   ]
  },
  {
   "cell_type": "markdown",
   "metadata": {},
   "source": [
    "# Save situation json to file\n"
   ]
  },
  {
   "cell_type": "code",
   "execution_count": null,
   "metadata": {},
   "outputs": [],
   "source": [
    "import avgangstider.entur_query\n",
    "\n",
    "query = avgangstider.entur_query.create_situation_query(\n",
    "    [\"RUT:Line:11\", \"RUT:Line:17\", \"RUT:Line:35\"]\n",
    ")\n",
    "response = avgangstider.entur_query.journey_planner_api(query)"
   ]
  },
  {
   "cell_type": "code",
   "execution_count": null,
   "metadata": {},
   "outputs": [],
   "source": [
    "response.json()"
   ]
  },
  {
   "cell_type": "code",
   "execution_count": null,
   "metadata": {},
   "outputs": [],
   "source": [
    "import json\n",
    "from pathlib import Path\n",
    "\n",
    "with Path(\"situations.json\").open(\"w\") as file:\n",
    "    json.dump(response.json(), file)"
   ]
  },
  {
   "cell_type": "code",
   "execution_count": null,
   "metadata": {},
   "outputs": [],
   "source": [
    "import pickle\n",
    "\n",
    "with Path(\"situations.pkl\").open(\"wb\") as file:\n",
    "    situations = avgangstider.get_situations(\n",
    "        [\"RUT:Line:11\", \"RUT:Line:17\", \"RUT:Line:35\"]\n",
    "    )\n",
    "    pickle.dump(situations, file)"
   ]
  },
  {
   "cell_type": "code",
   "execution_count": null,
   "metadata": {},
   "outputs": [],
   "source": [
    "len(situations)"
   ]
  },
  {
   "cell_type": "code",
   "execution_count": null,
   "metadata": {},
   "outputs": [],
   "source": [
    "for line in range(1, 500):\n",
    "    print(f\"Running for line {line}\")\n",
    "    sits = avgangstider.get_situations([f\"RUT:Line:{line}\"])\n",
    "    if sits:\n",
    "        print(sits[0].summary)\n",
    "    if len(sits) > 1:\n",
    "        break"
   ]
  },
  {
   "cell_type": "code",
   "execution_count": null,
   "metadata": {},
   "outputs": [],
   "source": [
    "lines = [\"RUT:Line:1\", \"RUT:Line:3\"]"
   ]
  },
  {
   "cell_type": "code",
   "execution_count": null,
   "metadata": {},
   "outputs": [],
   "source": [
    "str(lines).replace(\"'\", '\"')"
   ]
  },
  {
   "cell_type": "code",
   "execution_count": null,
   "metadata": {},
   "outputs": [],
   "source": [
    "situations = []\n",
    "current_situation = 0"
   ]
  },
  {
   "cell_type": "code",
   "execution_count": null,
   "metadata": {},
   "outputs": [],
   "source": [
    "if situations:\n",
    "    print(situations[current_situation])\n",
    "    current_situation = (current_situation + 1) % len(situations)\n",
    "print(current_situation)"
   ]
  }
 ],
 "metadata": {
  "kernelspec": {
   "display_name": ".venv",
   "language": "python",
   "name": "python3"
  },
  "language_info": {
   "codemirror_mode": {
    "name": "ipython",
    "version": 3
   },
   "file_extension": ".py",
   "mimetype": "text/x-python",
   "name": "python",
   "nbconvert_exporter": "python",
   "pygments_lexer": "ipython3",
   "version": "3.13.1"
  },
  "toc": {
   "base_numbering": 1,
   "nav_menu": {},
   "number_sections": true,
   "sideBar": true,
   "skip_h1_title": false,
   "title_cell": "Table of Contents",
   "title_sidebar": "Contents",
   "toc_cell": false,
   "toc_position": {},
   "toc_section_display": true,
   "toc_window_display": false
  }
 },
 "nbformat": 4,
 "nbformat_minor": 2
}
