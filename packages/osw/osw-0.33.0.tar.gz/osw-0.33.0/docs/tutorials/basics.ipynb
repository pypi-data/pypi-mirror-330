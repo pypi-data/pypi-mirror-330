{
 "cells": [
  {
   "cell_type": "markdown",
   "id": "47f7c6ba83e22f59",
   "metadata": {},
   "source": [
    "# Tutorial: Basics\n",
    "\n",
    "This tutorial will cover the basics and prerequisites, required to use the osw-python library in Python and to \n",
    "interact with an [Open Semantic Lab (OSL)](https://github.com/OpenSemanticLab) instance, like the [OpenSemanticWorld \n",
    "Registry](https://opensemantic.world/). To do this tutorial interactively, jump to [Downloading the library](#Downloading-the-library-optional) and open this notebook in a Jupyter environment.\n",
    "\n",
    "- [OSL data model](#OSL-data-model)\n",
    "- [Downloading the library (optional)](#Downloading-the-library-optional)\n",
    "- [Installation](#Installation)\n",
    "- [Connecting to an OSL instance](#Connecting-to-an-OSL-instance)\n",
    "- [Downloading data model dependencies](#Downloading-data-model-dependencies)\n",
    "- [Interacting with an entity](#Interacting-with-an-entity)\n",
    "- [Interacting with files](#Interacting-with-files)\n",
    "- [Interfacing data sources](#Interfacing-data-sources)\n",
    "- [Querying data](#Querying-data)"
   ]
  },
  {
   "metadata": {},
   "cell_type": "markdown",
   "source": [
    "## Optional: Install & run in online notebook\n",
    "In case you want to run this tutorial in a throw-away environment, you can use an online notebook service, e.g.,\n",
    "Google Colab.\n",
    "- (If you haven't already) Open this tutorial in the notebook service\n",
    "    - Select `Open from GitHub` and insert https://github.com/OpenSemanticLab/osw-python/blob/main/docs/tutorials/basics.ipynb\n",
    "    - For Google Colab just click [Tutorial: Basics](https://colab.research.google.com/github/OpenSemanticLab/osw-python/blob/main/docs/tutorials/basics.ipynb)\n",
    "- Execute the following cell"
   ],
   "id": "b5fac358813d0bd6"
  },
  {
   "metadata": {},
   "cell_type": "code",
   "source": [
    "# Optional: Clone the repository and install the package with the tutorial dependencies\n",
    "!git clone https://github.com/OpenSemanticLab/osw-python.git\n",
    "%cd osw-python\n",
    "!pip install -e .[tutorial]"
   ],
   "id": "a805b5dcaf0beaf7",
   "outputs": [],
   "execution_count": null
  },
  {
   "cell_type": "markdown",
   "id": "6bef0569b5824ea0",
   "metadata": {},
   "source": [
    "## OSL data model\n",
    "\n",
    "Open Semantic Lab provides an [extension](https://github.com/OpenSemanticLab/mediawiki-extensions-OpenSemanticLab) \n",
    "for Semantic Mediawiki, delivering a machine-readable data structure based on industry standards, like JSON, JSON-LD,\n",
    " JSON-Schema. It allows to import, reference and interface existing (OWL, RDF) ontologies and aims to facilitate the \n",
    " implementation of [FAIR Data principles](https://www.go-fair.org/fair-principles/) out-of-the-box.\n",
    "\n",
    "<figure>\n",
    "    <a href=\"https://opensemantic.world/wiki/File:OSW95a74be1e22d4b6e9e4f836127d5915a.drawio.svg\">\n",
    "        <img src=\"./img/osw_intro_technology_stack.png\"\n",
    "            width=\"400\"\n",
    "            height=\"200\"\n",
    "            alt=\"Components of the OSL extension for Semantic Mediawiki\">\n",
    "    </a>\n",
    "</figure>\n",
    "\n",
    "JSON serves as the central data storage element for structured data, including the definition of classes and forms\n",
    " via JSON-Schema, linking JSON-Data to ontologies and building property graphs.\n",
    "\n",
    "### Namespaces\n",
    "\n",
    "As we are using Semantic Mediawiki, the data is stored in pages, which are organized in namespaces. Full page titles \n",
    "follow this structure: `<namespace>:<page_title>`. While the `<page_title>` can contain `:`, it is rarely found. The \n",
    "most important namespaces in OSL and stored entries are:\n",
    "\n",
    "- Category - Classes (instances of MetaClasses) and MetaClasses\n",
    "- Item - Instances of classes\n",
    "- Property - Semantic properties and reusable property schemas\n",
    "- JsonSchema - Reusable JSON-Schema definitions\n",
    "- Template - Templates for rendering pages or performing queries\n",
    "\n",
    "### Slots\n",
    "\n",
    "The data stored on a page in Semantic Mediawiki can be stored as plain text (main slot, content model: wikitext) or in\n",
    " an arbitrary format in dedicated slots. In OSL, we go with nine slots, tailored to the needs of a data scientist, \n",
    " around the JSON format. The most important slots are `jsondata` and `jsonschema`, which store the data and the schema:\n",
    "\n",
    "| Slot name       | Content model | Description                                                                                                         |\n",
    "|-----------------|---------------|---------------------------------------------------------------------------------------------------------------------|\n",
    "| main            | wikitext      | Default content slot, rendered between the header and footer of the page                                            |\n",
    "| jsondata        | JSON          | Structured data, (partially) used to render the infobox on the page                                                 |\n",
    "| jsonschema      | JSON          | stored within a category (=class) page, defining the schema for the jsondata slot of any category member (instance) |\n",
    "| header          | wikitext      | Content to be placed at the top of the page, below the heading                                                      |\n",
    "| footer          | wikitext      | Content to be placed at the bottom of the page, above the (Semantic Mediawiki) built-in elements                    |\n",
    "| header_template | wikitext      | Stored within a category (=class) page, renders the page header of any category member (instance)                   |\n",
    "| footer_template | wikitext      | stored within a category (=class) page, renders the page footer of any category member (instance)                   |\n",
    "    \n",
    "This data structure can be used to generate Python data classes, which can be used to interact with the data in a type-safe manner. The osw-python library includes a [code generator](https://github.com/koxudaxi/datamodel-code-generator/) to generate Python data classes from the JSON schema. \n",
    "\n",
    "At the same time, this data structure can be used to auto-generate form editors, create property graphs, and provide \n",
    "data and interfaces for applications, such as Machine Learning and data processing.\n",
    "\n",
    "### Data Classes / Class Hierarchy\n",
    "\n",
    "Everything is considered an 'Entity', which is analogous to the 'object' in Python. 'Classes' are subclasses and \n",
    "instances of 'Entity' or specific 'MetaClasses'. 'MetaClasses' define a JSON schema used to validate the structured \n",
    "data stored in the jsondata slot of 'Classes', just as 'Classes' do for individual 'Instances' or 'Items'.\n",
    "\n",
    "<figure>\n",
    "    <a href=\"https://opensemantic.world/wiki/File:OSW96280227805c4e4a8fcf615359b01672.drawio.svg\">\n",
    "    <img src=\"./img/osw_intro_data_model.png\" \n",
    "        width=\"600\" \n",
    "        height=\"300\"\n",
    "        alt=\"OSL data model\">\n",
    "</figure>"
   ]
  },
  {
   "cell_type": "markdown",
   "id": "6e259e4f34e709ea",
   "metadata": {},
   "source": [
    "### JSON / JSON-Schema\n",
    "\n",
    "The JSON schema stored in the `jsonschema` slot of a Category (=class) defines the structure of the data stored in \n",
    "the `jsondata` slot of members of this category (=items). The JSON schema is a JSON object that defines the \n",
    "properties and their types, constraints, and relationships. The JSON schema can be generated from the data stored \n",
    "in the `jsondata` slot of the category (=class) or can be created manually. We are using the \n",
    "[JSON-Schema](https://json-schema.org/) standard to define the schema. \n",
    "\n",
    "Through their ensured consistency, JSON can be used to generate Python data classes and instances, which can be used \n",
    "as parameter objects for functions and methods. The generated classes are based on Pydantic models, which provide validation and serialization capabilities.\n",
    "\n",
    "#### JSON-Schema to Python Data Classes\n",
    "\n",
    "**Category:MyCategory `jsonschema` slot:**\n",
    "```json\n",
    "{\n",
    "    \"type\": \"object\",\n",
    "    \"allOf\": \"/wiki/Category:Entity?action=raw&slot=jsonschema\",\n",
    "    \"properties\": {\n",
    "        \"text\": { \"type\": \"string\" },\n",
    "        \"number\": { \"type\": \"number\" },\n",
    "        \"array\": { \"type\": \"array\" }\n",
    "    }\n",
    "}\n",
    "```\n",
    "**Category:MySubCategory `jsonschema` slot:**\n",
    "```json\n",
    "{\n",
    "    \"type\": \"object\",\n",
    "    \"allOf\": \"/wiki/Category:MyCategory?action=raw&slot=jsonschema\",\n",
    "    \"properties\": {\n",
    "        \"additional_property\": { \"type\": \"string\" }\n",
    "    }\n",
    "}\n",
    "```\n",
    "**Generated Python data classes:**\n",
    "```python\n",
    "from osw.model.entity import Entity\n",
    "\n",
    "class MyClass(Entity):\n",
    "    text: str\n",
    "    number: float\n",
    "    array: List[Any]\n",
    "    \n",
    "class MySubClass(MyClass):\n",
    "    additional_property: str\n",
    "```\n",
    "\n",
    "#### Python instance to JSON data\n",
    "\n",
    "```python\n",
    "from osw.express import OswExpress\n",
    "\n",
    "osw_obj = OswExpress(domain=\"demo.open-semantic-lab.org\")\n",
    "\n",
    "my_instance = MySubClass(\n",
    "    text=\"some text\",\n",
    "    number=1.1,\n",
    "    array=[1, \"two\", 3.0],\n",
    "    additional_property = \"test2\",\n",
    ")\n",
    "my_instance.json()\n",
    "my_instance = osw_obj.store_entity(my_instance)  # wiki upload\n",
    "```\n",
    "\n",
    "### Object Oriented Linked Data (OO-LD)\n",
    "\n",
    "The example above [JSON / JSON Schema](#JSON--JSON-Schema) already showed the integration of Object-Oriented\n",
    "Programming (OOP) into JSON and JSON Schema. Adding the linked data component of [JSON-LD](https://json-ld.org/) \n",
    "enables the reusable annotation of datasets with well established vocabularies (ontologies), such as [schema.org] \n",
    "(https://schema.org/). Annotation have to be made at Category (=class) level only, and are available on export of \n",
    "instances. This makes the datasets machine-readable, allows for the integration of the data into the \n",
    "[Semantic Web](https://en.wikipedia.org/wiki/Semantic_Web) and the creation of property graphs. \n",
    "\n",
    "#### A minimal example:\n",
    "```json\n",
    "{\n",
    "  \"@context\": {\n",
    "    \"schema\": \"https://schema.org/\",\n",
    "    \"name\": \"schema:name\"\n",
    "  },\n",
    "  \"title\": \"Person\",\n",
    "  \"type\": \"object\",\n",
    "  \"properties\": {\n",
    "    \"name\": {\n",
    "      \"type\": \"string\",\n",
    "      \"description\": \"First and Last name\"\n",
    "    }\n",
    "  }\n",
    "}\n",
    "```\n",
    "\n",
    "### Further reading\n",
    "\n",
    "- [OSW Introduction](https://opensemantic.world/wiki/Item:OSWdb485a954a88465287b341d2897a84d6)\n",
    "- [OSW Python Package](https://opensemantic.world/wiki/Item:OSW659a81662ff44af1b2b6febeee7c3a25)\n",
    "- [JSON Tutorial](https://opensemantic.world/wiki/Item:OSWf1df064239044b8fa3c968339fb93344)\n",
    "- [JSON-Schema Tutorial](https://opensemantic.world/wiki/Item:OSWf4a9514baed04859a4c6c374a7312f10)\n",
    "- [JSON-LD Tutorial](https://opensemantic.world/wiki/Item:OSW911488771ea449a6a34051f8213d7f2f)\n",
    "- [OO-LD Tutorial](https://opensemantic.world/wiki/Item:OSWee501c0fa6a9407d99c058b5ff9d55b4)"
   ]
  },
  {
   "cell_type": "markdown",
   "id": "c089a8c6224ff1be",
   "metadata": {},
   "source": [
    "\n",
    "\n",
    "## Installation\n",
    "\n",
    "In case you just want to try the package in a throw-away environment, refer to the section  [Optional: Install & run\n",
    "in online notebook](#optional-install--run-in-online-notebook)) Jupyter notebook.\n",
    "\n",
    "### Downloading the library (optional)\n",
    "The osw-python library is available as GitHub repository and can be downloaded as a ZIP file or via git:\n",
    "\n",
    "```bash\n",
    "git clone https://github.com/OpenSemanticLab/osw-python.git <target_directory>\n",
    "```\n",
    "\n",
    "### From PyPI\n",
    "Preferably, you can install the library from the Python Package Index (PyPI) via pip, which is recommended for most users:\n",
    "\n",
    "```bash\n",
    "conda activate <your_environment>  # optional, if you use conda to manage environments\n",
    "pip install osw-python[tutorial]\n",
    "```\n",
    "The option `[tutorial]` installs the library with the dependencies required for data import, like `deepl`, `geopy`\n",
    "and `openpyxl`.\n",
    "\n",
    "### From source\n",
    "If you want to install the library from source, you can clone the repository and install it via pip. The option `-e`\n",
    " installs the package in editable mode, which means that the source code is linked to the installed package. This is \n",
    " useful for development and testing.\n",
    "\n",
    "```bash\n",
    "git clone https://github.com/OpenSemanticLab/osw-python.git <target_directory>\n",
    "cd <target_directory>\n",
    "conda activate <your_environment>  # optional, if you use conda to manage environments\n",
    "pip install [-e] .[tutorial]\n",
    "```"
   ]
  },
  {
   "metadata": {},
   "cell_type": "markdown",
   "source": [
    "## Connecting to an OSL instance\n",
    "\n",
    "To connect to an OSL instance, you need to provide your login credentials. You can either provide your username and \n",
    "password directly or create a bot password. The bot is preferred because its edit rights can be restricted and at the \n",
    "same time, edits made programmatically are traceable, being marked as bot edits.\n",
    "\n",
    "### Creating a bot password\n",
    "\n",
    "- Log in to your OSL instance\n",
    "- Navigate to **Special:BotPasswords**, via **Toggle menu → Special pages → Bot passwords**,\n",
    "    e.g., `https://<wiki_domain>/wiki/Special:BotPasswords`, \n",
    "- You must log in again to verify your identity\n",
    "- Create a new bot password by providing a `Bot name`, e.g., 'PythoBot' and click **Create**\n",
    "- Save the `Username` and `Bot password` in a safe place, as the password will not be displayed again\n",
    "\n",
    "### (Optional) Creating a credentials file\n",
    "\n",
    "You can create a YAML file, e.g., 'accounts.pwd.yaml', with your login credentials, which can be used to connect to the\n",
    "OSL instance. The file must follow the structure below:\n",
    "\n",
    "```yaml\n",
    " <wiki_domain>:\n",
    "     username: <wiki_username>\n",
    "     password: <wiki_password>\n",
    "```\n",
    "\n",
    "### Connecting via osw-python\n",
    "\n",
    "It is recommended to use the `osw.express.OswExpress` class to connect to an OSL instance. The class provides a \n",
    "number of convenience functions ontop of the underlying `osw.core.OSW`. \n",
    "\n",
    "On the first execution of the following cell you will be prompted to enter domain, username and password. The \n",
    "credentials will be stored in a file named **accounts.pwd.yaml** in a subfolder **osw_files** of the current working\n",
    "directory. In the current working directory, a **.gitignore** file will be created or updated to include the \n",
    "credentials file. \n",
    "\n",
    "This step is required to download all dependencies (data models) of OswExpress from the OSL instance."
   ],
   "id": "137e9b3144a4db96"
  },
  {
   "metadata": {},
   "cell_type": "code",
   "source": [
    "# Define the wiki_domain for later reuse:\n",
    "wiki_domain = \"demo.open-semantic-lab.org\"  # Replace with the domain of your OSL instance"
   ],
   "id": "ad9ed6244dc16547",
   "outputs": [],
   "execution_count": null
  },
  {
   "metadata": {},
   "cell_type": "code",
   "source": [
    "# Set the default wiki domain for the osw package\n",
    "from osw.defaults import params as default_params\n",
    "default_params.wiki_domain = wiki_domain\n",
    "# Now this domain will be used to initialize osw.express\n",
    "from osw.express import OswExpress\n",
    "# Some modules that will be required several times\n",
    "import osw.params as prm\n",
    "from pprint import pprint\n",
    "from pathlib import Path\n",
    "import pandas as pd"
   ],
   "id": "509040ca218924ed",
   "outputs": [],
   "execution_count": null
  },
  {
   "metadata": {},
   "cell_type": "markdown",
   "source": [
    "#### Option 1: Reuse the credentials file created in the previous step\n",
    "\n",
    "If you are still running in the same CWD, OswExpress will automatically find the credentials file.\n",
    "\n",
    "Else you will be prompted to enter your username and password."
   ],
   "id": "5e7595bf60e9a247"
  },
  {
   "metadata": {},
   "cell_type": "code",
   "source": "osw_obj = OswExpress(domain=wiki_domain)  ",
   "id": "1519ec4f2ef7fde0",
   "outputs": [],
   "execution_count": null
  },
  {
   "metadata": {},
   "cell_type": "markdown",
   "source": [
    "#### Option 2: Provide a credentials file (path)\n",
    "\n",
    "If the file does not exist or the domain is not in the file, you will be prompted to enter your username and password.\n",
    "Unknown domains will be appended to the file."
   ],
   "id": "f9754e95cfa0d483"
  },
  {
   "metadata": {},
   "cell_type": "code",
   "source": "osw_obj = OswExpress(domain=wiki_domain, cred_filepath=\"accounts.pwd.yaml\")",
   "id": "a2be66e5d7ecc1cc",
   "outputs": [],
   "execution_count": null
  },
  {
   "cell_type": "markdown",
   "id": "537cdcc821e4803e",
   "metadata": {},
   "source": [
    "## Downloading data model dependencies\n",
    "\n",
    "Loading entities from OSL fetches required data models by default. So if you just want to load, modify and upload one\n",
    " (type of) entity, you can scip to [Downloading an entity](#Downloading-an-entity).\n",
    "\n",
    "Before we can upload entities or files, we need to download the required data models. The data models are stored in the \n",
    "`jsonschema` slot of the respective categories (=classes) and are used to generate Python data classes. OswExpress \n",
    "offers a convenience function to download all dependencies of a given category, that an item is an instance of. \n",
    "\n",
    "> [!NOTE]\n",
    "> It is important to execute this notebook with the same environment, where the data models are installed to!"
   ]
  },
  {
   "metadata": {},
   "cell_type": "markdown",
   "source": [
    "### Identify required data models\n",
    "\n",
    "All categories (=classes) are subcategories of the **Entity** category. The classes **Entity**, **Item** and concepts \n",
    "required to provide typing for those classes are provided out-of-the-box within `osw.model.entity`, which imports \n",
    "**OswBasemodel(pydantic.BaseModel)** from `osw.model.static`.\n",
    "\n",
    "To store structured information in an OSL instance, you need to find a fitting **Category**, to create pages \n",
    "(in the **Item** or **Category** namespace) in. To explore the data model hierarchy, you can use the graph tool \n",
    "provided under **Graph** on  every  page in the `Category` or `Item` namespace, following the `SubClassOf` property. \n",
    "\n",
    "A good alternativ is to consult the **Category tree** page and navigate through the collapsible tree. The page can \n",
    "be found under \n",
    "`https://<wiki_domain>/wiki/Special:CategoryTree?target=Category%3AEntity&mode=categories&namespaces=`. \n",
    "\n",
    "Save the `Machine compatible name` and `Full page title` of the category you want to work with in a dictionary. Note \n",
    "that only the category, the farthest down a branch, with respect to the root category **Entity**, is required. All \n",
    "other categories will be downloaded automatically.\n",
    "\n",
    "**Example category tree**:\n",
    "```\n",
    "Entity\n",
    "├── Property\n",
    "├── Statement\n",
    "└── Item\n",
    "    ├── Person\n",
    "    |   └── User\n",
    "    ├── Location\n",
    "    |   ├── Site\n",
    "    |   ├── Building\n",
    "    |   ├── Floor\n",
    "    |   └── Room\n",
    "    ├── CreativeWork\n",
    "    |   └── Article\n",
    "    |       └── Tutorial\n",
    "    └── OrganizationalUnit\n",
    "        └── Organization\n",
    "```\n",
    "\n",
    "> [!NOTE]\n",
    "> If you find no category, ask your administrator to install page packages via the special page 'Special:Packages'. \n",
    "> Page packages are maintained via [GitHub](https://github.com/OpenSemanticWorld-Packages/osw-package-maintenance)"
   ],
   "id": "1885ed16f44d97b1"
  },
  {
   "metadata": {},
   "cell_type": "code",
   "source": [
    "dependencies = {\n",
    "    \"Organization\": \"Category:OSW1969007d5acf40539642877659a02c23\",  # Will fetch: Organization, OrganizationalUnit\n",
    "    \"Person\":       \"Category:OSWd9aa0bca9b0040d8af6f5c091bf9eec7\",  # Will fetch: Person\n",
    "    \"Room\":         \"Category:OSWc5ed0ed1e33c4b31887c67af25a610c1\",  # Will fetch: Room, Location, but not: Site, Building, Floor\n",
    "    \"Tutorial\":     \"Category:OSW494f660e6a714a1a9681c517bbb975da\",  # Will fetch: Tutorial, Article, CreativeWork\n",
    "}"
   ],
   "id": "f94aec7bab90dfc4",
   "outputs": [],
   "execution_count": null
  },
  {
   "cell_type": "markdown",
   "id": "7a8684bb1b8779fd",
   "metadata": {},
   "source": [
    "> [!NOTE]\n",
    "> Keys in this dictionary will eventually be used in the import statements, should therefore fit the auto generated \n",
    "> class names, which are the same as the category's `Machine compatible name`!"
   ]
  },
  {
   "metadata": {},
   "cell_type": "markdown",
   "source": [
    "### Installing data models\n",
    "\n",
    "Data models (data classes generated in osw.model.entity) can not be imported in Python scripts and modules prior to \n",
    "installation. Therefore, it is recommended to do this step either in a separate script, which is run before the main\n",
    "script, or in the main script itself, before the import statements.\n",
    "\n",
    "#### Option 1: Installing dependencies before import from osw.model.entity\n",
    "\n",
    "This option is recommended to put in a separate script, which is run before the main script."
   ],
   "id": "75206bbf0a1e0dc9"
  },
  {
   "metadata": {},
   "cell_type": "code",
   "source": [
    "# Will run everytime the script is executed:\n",
    "osw_obj.install_dependencies(dependencies)\n",
    "\n",
    "# Static code checker will note 'Module not found' before the installation:\n",
    "from osw.model.entity import Description, Label, Organization, Person, Room, Tutorial"
   ],
   "id": "369bb36b7c805028",
   "outputs": [],
   "execution_count": null
  },
  {
   "metadata": {},
   "cell_type": "markdown",
   "source": [
    "#### Option 2: Use OswExpress comfort function  for imports\n",
    "\n",
    "This option is recommended to put in the main script, before the first `from osw.model.entity import` statement."
   ],
   "id": "3b63af956676181b"
  },
  {
   "metadata": {},
   "cell_type": "code",
   "source": [
    "from typing import TYPE_CHECKING\n",
    "from osw.express import import_with_fallback\n",
    "from osw.model.entity import Description, Label  # Available out of the box\n",
    "\n",
    "# Will fetch and install dependencies only if not already installed:\n",
    "import_with_fallback(dependencies, globals(), domain=wiki_domain)\n",
    "\n",
    "# Otherwise static code checker will note 'Module not found' before the installation:\n",
    "if TYPE_CHECKING:\n",
    "    from osw.model.entity import Description, Label, Organization, Person, Room, Tutorial"
   ],
   "id": "30a3c01428c6120d",
   "outputs": [],
   "execution_count": null
  },
  {
   "metadata": {},
   "cell_type": "markdown",
   "source": [
    "## Interacting with an entity\n",
    "\n",
    "Data classes created by the code generator are based on Pydantic models, which provide validation and serialization.\n",
    "\n",
    "### Creating an entity\n",
    "\n",
    "To create an entity, you need to create an instance of the respective data class. The `__init__` method of the data \n",
    "class expects keyword arguments for all fields. As per usual for Pydantic models, positional arguments are not \n",
    "permitted and the input data is validated during initialization."
   ],
   "id": "35b4a3429feaf2d8"
  },
  {
   "metadata": {},
   "cell_type": "code",
   "source": [
    "# Create a person\n",
    "john = Person(\n",
    "    label=[Label(text=\"John Doe\")],  # Label, will be used as a display title\n",
    "    name=\"John Doe\",  # Not required: Machine compatible name\n",
    "    # Machine compatible is auto-generated from the first label\n",
    "    first_name=\"John\",\n",
    "    last_name=\"Doe\",\n",
    "    email=\"john.doe@example.com\"\n",
    ")\n",
    "# Should return two ValidationErrors:\n",
    "# - surname: field required\n",
    "# - email: value is not a valid set"
   ],
   "id": "459d6ac5804389a2",
   "outputs": [],
   "execution_count": null
  },
  {
   "metadata": {},
   "cell_type": "markdown",
   "source": [
    "Lets breakdown what happened here\n",
    "\n",
    "- During initialization, the Pydantic model validates the input data. The validation errors are raised as exceptions.\n",
    "- The `surname` field is required, but it was not provided.\n",
    "- The extra field `last_name` was provided, but it was not expected. By default, Pydantic models disregard extra \n",
    "fields without warning.\n",
    "- The `email` field is expected to be a list of strings, but a string was provided. "
   ],
   "id": "f634abd07a3568a"
  },
  {
   "metadata": {},
   "cell_type": "code",
   "source": [
    "# Should run without validation errors\n",
    "john = Person(\n",
    "    label=[Label(text=\"John Doe\")],  # Label, will be used as a display title\n",
    "    first_name=\"John\",\n",
    "    surname=\"Doe\",\n",
    "    email=[\"john.doe@example.com\"],\n",
    ")"
   ],
   "id": "9dd23162dbe110ef",
   "outputs": [],
   "execution_count": null
  },
  {
   "metadata": {},
   "cell_type": "markdown",
   "source": [
    "Before storing the entity in the OSL instance, lets check at which IRI (full page title) it will be stored.\n",
    "The IRI is derived from the `uuid` and the `namespace` of the entity."
   ],
   "id": "fffbf93fcb44ff57"
  },
  {
   "metadata": {},
   "cell_type": "code",
   "source": [
    "print(\"Page label:\", john.label[0].text)\n",
    "print(\"Machine-readable page name:\", john.name)\n",
    "print(\"Namespace:\", john.get_namespace())\n",
    "print(\"UUID:\", john.uuid)\n",
    "print(\"OSW-ID:\", john.get_osw_id())\n",
    "print(\"IRI:\", john.get_iri())"
   ],
   "id": "89b4c364b9f365c2",
   "outputs": [],
   "execution_count": null
  },
  {
   "metadata": {},
   "cell_type": "markdown",
   "source": [
    "### Storing an entity\n",
    "\n",
    "We can now store this entity in the OSL instance. The `store_entity` method uploads the entity to the OSL instance. "
   ],
   "id": "2c88920949485b7"
  },
  {
   "metadata": {},
   "cell_type": "code",
   "source": [
    "# Let's document all storing processes in a list\n",
    "stored = []\n",
    "\n",
    "# Storing an entity requires only one line:\n",
    "res = osw_obj.store_entity(john)\n",
    "\n",
    "# But to be able to access all storage event later on, we will append the result to the list\n",
    "stored.append(res)"
   ],
   "id": "99cf8828bee651ee",
   "outputs": [],
   "execution_count": null
  },
  {
   "cell_type": "markdown",
   "id": "639db64348bbd905",
   "metadata": {},
   "source": [
    "```python\n",
    "# In this specific case equivalent to:\n",
    "params = prm.StoreEntityParam(\n",
    "    entities=[john],\n",
    "    namespace=john.get_namespace(),\n",
    "    parallel=False,\n",
    "    overwrite=\"keep existing\",\n",
    "    overwrite_per_class=None,\n",
    ")  # All default values included\n",
    "stored.append(osw_obj.store_entity(params))\n",
    "```\n",
    "Like most methods and functions in the osw-python library, the `store_entity` takes only a single argument. Usually\n",
    "either a specific object type or a dedicated params object is accepted. If an object of type other than the params \n",
    "object is passed, it is usually tested for compatibility and put inside a params object, filling the other parameters \n",
    "with default values. \n",
    "\n",
    "This ensures that the method signature is as simple as possible and at the same time allows full typing and validation \n",
    "of input parameters that the method is easy to use. "
   ]
  },
  {
   "metadata": {},
   "cell_type": "markdown",
   "source": [
    "### Downloading an entity\n",
    "\n",
    "To download an entity, you need to provide the IRI of the entity. The `download_entity` method downloads the\n",
    "entity from the OSL instance and returns an instance of the respective data class. If the respective data class is \n",
    "not already part of `osw.model.entity`, the data class is generated on-the-fly by default."
   ],
   "id": "ae4da6692096e045"
  },
  {
   "cell_type": "code",
   "id": "19d1c6767b2098b",
   "metadata": {},
   "source": [
    "john2 = osw_obj.load_entity(john.get_iri())\n",
    "# Let's have a look at the attributes of the downloaded entity"
   ],
   "outputs": [],
   "execution_count": null
  },
  {
   "metadata": {},
   "cell_type": "code",
   "source": "pprint(john2.dict())",
   "id": "5e98d8915a3bf440",
   "outputs": [],
   "execution_count": null
  },
  {
   "cell_type": "markdown",
   "id": "d140b974b54155ce",
   "metadata": {},
   "source": [
    "Besides the attributes that we set (first_name, surname, email), the downloaded entity has additional attributes, \n",
    "that are generated by default, either when the entity is initialized (uuid, meta.wiki_page.title) or loaded (None \n",
    "valued attributes). \n",
    "\n",
    "Loading an entity from the OSL instance downloads the full `jsondata` slot and pass it to the \n",
    "`__init__` method of the respective data class. Thereby, attributes not present in the `jsondata` slot are set to the\n",
    " default value of the data class."
   ]
  },
  {
   "metadata": {},
   "cell_type": "markdown",
   "source": [
    "### Modifying an entity\n",
    "\n",
    "To modify an entity, you can change the attributes of the entity instance. The attributes can be accessed and modified \n",
    "like any other attribute of a Python object."
   ],
   "id": "b8713c64622ea4fe"
  },
  {
   "metadata": {},
   "cell_type": "code",
   "source": [
    "# Adding a new attribute\n",
    "john2.middle_name = {\"R.\"}\n",
    "# Changing an existing attribute \n",
    "john2.name = \"John R. Doe\"\n",
    "john2.email = {\"john.doe@gmx.de\"}\n",
    "\n",
    "# Checking the made changes:\n",
    "pprint(john2.dict())"
   ],
   "id": "b4425d8e6b1cbe62",
   "outputs": [],
   "execution_count": null
  },
  {
   "metadata": {},
   "cell_type": "code",
   "source": [
    "# Let's create an organization and link it to the person\n",
    "org = Organization(\n",
    "    label=[Label(text=\"Doe, Inc.\")],\n",
    "    description=[Description(text=\"The John Doe Company\")],\n",
    "    manager=[john2.get_iri()]\n",
    ")\n",
    "# And another one that is linked to both the person and the first organization\n",
    "org2 = Organization(\n",
    "    label=[Label(text=\"Doe Group, Inc.\")],\n",
    "    description=[Description(text=\"The Doe Group\")],\n",
    "    manager=[john2.get_iri()],\n",
    "    member_ous=[org.get_iri()]\n",
    ")"
   ],
   "id": "1247b70481054611",
   "outputs": [],
   "execution_count": null
  },
  {
   "cell_type": "markdown",
   "id": "f42c1600ed17a059",
   "metadata": {},
   "source": [
    "Here we have created links between Entities for the first time. The `get_iri` method returns the full title of the to\n",
    " be created page(s), which replaces the pointers Python use where ever you reference an object by variable. JSON has\n",
    " to use resolvable IRIs to realize this reference.\n",
    "\n",
    "Note: We are already working on a feature to automatically resolve these references, so you can use the Python\n",
    "pointers in the future!"
   ]
  },
  {
   "metadata": {},
   "cell_type": "markdown",
   "source": [
    "### Storing an altered entity\n",
    "\n",
    "Here the same applies as for [Storing an entity](#Storing-an-entity). BUT: overwriting entities is not possible with \n",
    "default settings \"keep existing\". Therefore, you need to call the method `store_entity` passing a `StoreEntityParam` with\n",
    "the attribute `overwrite` set to \"overwrite\".\n"
   ],
   "id": "bd30cfbba5d56386"
  },
  {
   "metadata": {},
   "cell_type": "code",
   "source": [
    "# Define entities to be stored\n",
    "entities2store = [john2, org, org2]"
   ],
   "id": "77b507f13be1235b",
   "outputs": [],
   "execution_count": null
  },
  {
   "metadata": {},
   "cell_type": "code",
   "source": [
    "# Option 1: Overwrite all entities\n",
    "res = osw_obj.store_entity(prm.StoreEntityParam(entities=entities2store, overwrite=True))\n",
    "stored.append(res)"
   ],
   "id": "19d4d48e95e0fe82",
   "outputs": [],
   "execution_count": null
  },
  {
   "metadata": {},
   "cell_type": "code",
   "source": [
    "# Option 2: Overwrite only entities of type Person\n",
    "res = osw_obj.store_entity(prm.StoreEntityParam(\n",
    "    entities=entities2store, overwrite_per_class=[prm.OverwriteClassParam(model=Person, overwrite=True)]))\n",
    "stored.append(res)"
   ],
   "id": "4fc037a10f95356a",
   "outputs": [],
   "execution_count": null
  },
  {
   "metadata": {},
   "cell_type": "code",
   "source": [
    "# Option 3: Overwrite only the email attribute of entities of type Person\n",
    "res = osw_obj.store_entity(prm.StoreEntityParam(\n",
    "    entities=entities2store, overwrite_per_class=[\n",
    "        prm.OverwriteClassParam(model=Person, overwrite=False,per_property={\"email\": True})]))\n",
    "stored.append(res)"
   ],
   "id": "2019c0d5301ab1de",
   "outputs": [],
   "execution_count": null
  },
  {
   "metadata": {},
   "cell_type": "markdown",
   "source": [
    "Here all three options will have the same result, but in many cases the result will differ, especially if you have \n",
    "entities of different classes in the list of entities to store.\n",
    "\n",
    "The param `overwrite` is applied to all entities handed to the method regardless of type / class. It is also possible\n",
    " to specify the overwrite behavior per class, by providing a list of `prm.OverwriteClassParam`s. Those can even be\n",
    " specific down to the property level. \n",
    "- Available options for `prm.StoreEntitParam.overwrite`, `prm.OverwriteClassParam.overwrite` (per class) and `OSW\n",
    ".OverwriteClassParam.per_property` are: \n",
    "    - `prm.OverwriteOptions.true`: True - overwrite the remote entity or property with the local one\n",
    "    - `prm.OverwriteOptions.false`: False - do not overwrite the remote entity or property with the local one\n",
    "    - `prm.OverwriteOptions.only_empty`: \"only empty\" - overwrite the remote entity or property with the local one,\n",
    "      if the remote entity or property is empty\n",
    "- Only available to `prm.StoreEntitParam.overwrite` and `prm.OverwriteClassParam.overwrite` (per class) are:\n",
    "    - `prm.AddOverwriteClassOptions.replace_remote`: \"replace remote\" - replace the remote entity with the local one and\n",
    "      removes all properties not present in the local entity\n",
    "    - `prm.AddOverwriteClassOptions.keep_existing`: \"keep existing\" - keep the remote entity, if one exists under this\n",
    "      OSW-ID"
   ],
   "id": "2107b3efcd22837f"
  },
  {
   "metadata": {},
   "cell_type": "markdown",
   "source": [
    "## Exploring links and properties in the knowledge graph of the OSL instance\n",
    "\n",
    "The output of the code cell above should list pages where entities have been stored at. Follow one of the links\n",
    "to the OSL instance you are connected to. You should end up on the page of an instance of either `Organization` or `Person`. Follow these steps to explore the knowledge graph of the OSL instance:\n",
    "- Scroll down to the bottom of the page and un-collapse, by clicking, the `Graph` section. This will open a graph\n",
    "representation of the entity. By default, only the property edges `HasSchema`/`HasType` and `SubClassOf` are shown.\n",
    "- By right-clicking on a node, e.g., the person instance, the Person/Organization class, you have access to a list of properties that the node posses.\n",
    "- By left-clicking on a property the nodes that are connected via this property will appear. By repeating this\n",
    "process, you can follow property paths in this network and explore the graph.\n",
    "\n",
    "Later on in this tutorial, you can use the paths you have explored to create semantic queries.\n",
    "\n",
    "### Exercise\n",
    "- If you are on the page `John Doe`\n",
    "    - Explore the property `HasName`, `HasFirstName` and `HasSurName` - these are properties of type `string`,\n",
    "    assigning a value to an entry.\n",
    "    - Explore the property `-HasManager` to find organizations, which state John as their manager. Here you are looking into an inverse property relation, of type `@id` - it links two entries within the knowledge graph.\n",
    "    - On the node `Doe Group, Inc.` explore the property `HasMember` to find the organization `Doe, Inc.`. This is also a property of type `@id`, but not an inverse relation.\n",
    "- If you are on the page `Doe Group, Inc.`\n",
    "    - Explore the property `HasMember` to find the organization `Doe, Inc.`.\n",
    "    - Explore the property `HasManager` to find the person `John Doe`."
   ],
   "id": "2dc425de23d5e2ce"
  },
  {
   "metadata": {},
   "cell_type": "markdown",
   "source": [
    "## Interacting with files\n",
    "\n",
    "### Downloading a file\n",
    "\n",
    "Let's say you have already uploaded a file to the instance of OSL you are connected to and have the URL to the file \n",
    "available. (Execute the Upload a file section to upload a file to the OSL instance.) You can download the file with \n",
    "just two lines:\n"
   ],
   "id": "8611c346fba59805"
  },
  {
   "metadata": {},
   "cell_type": "code",
   "source": [
    "from osw.express import osw_download_file\n",
    "local_file = osw_download_file(\n",
    "    \"https://demo.open-semantic-lab.org/wiki/File:OSW98a720defe8349cab010ca1fc3528aee.pdf\",\n",
    "    # , use_cached=True  # Can be used to download the file only once, e.g., when developing code\n",
    "    # , overwrite=True  # Can be used to avoid overwriting an existing file\n",
    ")"
   ],
   "id": "49d395dd958beff7",
   "outputs": [],
   "execution_count": null
  },
  {
   "metadata": {},
   "cell_type": "markdown",
   "source": [
    "The object `local_file` is an instance of `OswExpress.DownloadFileResult` and contains the path to the downloaded file, \n",
    "which is accessible via:"
   ],
   "id": "5215e1b89b4ba89f"
  },
  {
   "metadata": {},
   "cell_type": "markdown",
   "source": [
    "The class `OswExpress.DownloadFileResult` implements all dunder methods required for a context manager. Therefore, it\n",
    " can be used with the `with` statement to ensure the file is closed properly after use:"
   ],
   "id": "c4a6ed35e633a34c"
  },
  {
   "metadata": {},
   "cell_type": "code",
   "source": [
    "with osw_download_file(\n",
    "    \"https://demo.open-semantic-lab.org/wiki/File:OSW2c08f45151ee4b518485ed68cf73c5e5.txt\", overwrite=True\n",
    ") as file:\n",
    "    file.open(\"r\")\n",
    "    print(file.read())"
   ],
   "id": "861724df8468d97",
   "outputs": [],
   "execution_count": null
  },
  {
   "metadata": {},
   "cell_type": "markdown",
   "source": [
    "### Round-Robin\n",
    "\n",
    "Let's create a file, upload it to the OSL instance, download it and read and alter its content, before uploading it \n",
    "again.\n"
   ],
   "id": "efcb9b2381ad388d"
  },
  {
   "metadata": {},
   "cell_type": "code",
   "source": [
    "from pathlib import Path\n",
    "from osw.express import osw_upload_file, osw_download_file\n",
    "\n",
    "# Create a file\n",
    "fp = Path(\"example.txt\")\n",
    "with open(fp, \"w\") as file:\n",
    "    file.write(\"Hello, World!\")\n",
    "# Upload a file to an OSW instance\n",
    "wiki_file = osw_upload_file(fp, domain=wiki_domain)\n",
    "stored.append(wiki_file)\n",
    "# Delete the local file\n",
    "fp.unlink()\n",
    "\n",
    "# Download the file\n",
    "local_file = osw_download_file(wiki_file.url, mode=\"r+\")  # mode=\"r+\" to read and write\n",
    "\n",
    "with local_file as file:\n",
    "    content = file.read()\n",
    "    print(\"Original content:\")\n",
    "    print(content)\n",
    "    content = content.replace(\"World\", \"OSW\")\n",
    "    print(\"\\nModified content:\")\n",
    "    print(content)\n",
    "    # Write the modified content back to the file\n",
    "    file.write(content)\n",
    "\n",
    "# Upload the modified file\n",
    "modified_wiki_file = osw_upload_file(local_file)\n",
    "stored.append(modified_wiki_file)"
   ],
   "id": "9647b490f90d2a0d",
   "outputs": [],
   "execution_count": null
  },
  {
   "metadata": {},
   "cell_type": "code",
   "source": [
    "# Delete WikiFile from OSW instance after you are done with it\n",
    "wiki_file.delete()\n",
    "# Error: InsufficientPermission, if you do not have the required rights"
   ],
   "id": "ca65732aeed620f6",
   "outputs": [],
   "execution_count": null
  },
  {
   "metadata": {},
   "cell_type": "markdown",
   "source": [
    "## Interfacing data sources\n",
    "\n",
    "### Tabular data: Excel, CSV and others\n",
    "\n",
    "Let's create a demo table and save it to an Excel file.   "
   ],
   "id": "e7e9cc49527fab6b"
  },
  {
   "metadata": {},
   "cell_type": "code",
   "source": [
    "import pandas as pd\n",
    "\n",
    "df = pd.DataFrame(\n",
    "    {\n",
    "        \"FirstName\": [\"John\", \"Jane\", \"Alice\"],\n",
    "        \"LastName\": [\"Doe\", \"Do\", \"Dont\"],\n",
    "        \"Email\": [\"john.doe@example.com\", \"jane.do@example.com\", \"alice.dont@example.com\"],\n",
    "    }\n",
    ")\n",
    "df.to_excel(\"demo.xlsx\", index=False)\n",
    "del df"
   ],
   "id": "ed6cd2984e10baca",
   "outputs": [],
   "execution_count": null
  },
  {
   "metadata": {},
   "cell_type": "code",
   "source": [
    "# Let's read in our example Excel file\n",
    "data_df = pd.read_excel(\"demo.xlsx\")\n",
    "# Pandas dict representation is optimal for converting to JSON\n",
    "# Let's have a look at the first row\n",
    "john_dict = data_df.iloc[0].to_dict()\n",
    "pprint(john_dict)"
   ],
   "id": "840449d1e08ea7f2",
   "outputs": [],
   "execution_count": null
  },
  {
   "metadata": {},
   "cell_type": "code",
   "source": [
    "# Let's convert the dict to a Person instance\n",
    "from osw.model.entity import Person\n",
    "john_xl = Person(**john_dict)\n",
    "# This will cause ValidationError(s):\n",
    "# - first_name: field required\n",
    "# - surname: field required"
   ],
   "id": "cea026747cf19c54",
   "outputs": [],
   "execution_count": null
  },
  {
   "metadata": {},
   "cell_type": "markdown",
   "source": [
    "Explanation: This is due to the dictionary unpacking operator `**`, which passes the dictionary keys as keyword\n",
    "arguments to the `Person` class. The `first_name` and `surname` fields are required, but they are not present in the\n",
    "dictionary. \n",
    "\n",
    "We have several options to resolve this issue:\n",
    "- Replace the dictionary keys with fitting ones\n",
    "    - By renaming the columns in the DataFrame before converting it to a dictionary\n",
    "    - By providing a mapping dictionary and replacing the keys in the dictionary, using the following function:\n",
    "      ```python\n",
    "      def replace_keys(d, key_map):    \n",
    "        return {key_map.get(k, k): v for k, v in d.items()}\n",
    "      ```\n",
    "- Create a HelperClass, which inherits from the target data class and `osw.data.import_utility.HelperModel`, and \n",
    "  implements a transformation function to create the target data class instance from the dictionary "
   ],
   "id": "d98830f43fd2a405"
  },
  {
   "metadata": {},
   "cell_type": "markdown",
   "source": [
    "##### Option 1: Rename columns in the DataFrame\n",
    "\n",
    "This option is very simple and will serve you well for cases of low complexity, where the datatypes in the DataFrame \n",
    "columns already match the datatypes of the target data class."
   ],
   "id": "829bb56909333cb1"
  },
  {
   "metadata": {},
   "cell_type": "code",
   "source": [
    "# Let's print out the columns first\n",
    "print(data_df.columns)"
   ],
   "id": "90f7efe362d1fd52",
   "outputs": [],
   "execution_count": null
  },
  {
   "metadata": {},
   "cell_type": "code",
   "source": [
    "# Let's create the mapping dictionary and rename the columns\n",
    "mapping = {\n",
    "    \"FirstName\": \"first_name\",\n",
    "    \"LastName\": \"surname\",\n",
    "    \"Email\": \"email\"\n",
    "}\n",
    "data_df.rename(columns=mapping, inplace=True)\n",
    "# Auto create the name & label\n",
    "data_df[\"name\"] = data_df[\"first_name\"] + \" \" + data_df[\"surname\"]\n",
    "data_df[\"label\"] = data_df[\"name\"].apply(lambda x: [{\"text\": x}])\n",
    "# Let's have a look at the first row\n",
    "john_dict = data_df.iloc[0].to_dict()\n",
    "print(john_dict)"
   ],
   "id": "469e3f2514a16e50",
   "outputs": [],
   "execution_count": null
  },
  {
   "metadata": {},
   "cell_type": "code",
   "source": [
    "# Let's construct an instance of the Person data model\n",
    "john_xl = Person(**john_dict)\n",
    "# This will cause a ValidationError:\n",
    "# - email: value is not a valid set"
   ],
   "id": "9e5c3bc9ff17b2e4",
   "outputs": [],
   "execution_count": null
  },
  {
   "metadata": {},
   "cell_type": "code",
   "source": [
    "# Let's correct the email field\n",
    "john_dict[\"email\"] = [john_dict[\"email\"]]\n",
    "john_xl = Person(**john_dict)\n",
    "pprint(john_xl.dict())"
   ],
   "id": "5d75c837ffc91987",
   "outputs": [],
   "execution_count": null
  },
  {
   "metadata": {},
   "cell_type": "markdown",
   "source": [
    "##### Option 2: Create a HelperModel and a transformation function\n",
    "\n",
    "This approach will be able to treat even cases of high complexity, where the datatypes in the DataFrame columns do not \n",
    "match the datatypes of the target data class or where references to other instances in a dataset have to be made. \n",
    "\n",
    "[!NOTE] Property and variable names in Python must not contain spaces, so the column names in the DataFrame have \n",
    "to be transformed accordingly."
   ],
   "id": "f73419919649608d"
  },
  {
   "metadata": {},
   "cell_type": "code",
   "source": [
    "from typing import Any\n",
    "from osw.data.import_utility import HelperModel\n",
    "from osw.utils.strings import pascal_case\n",
    "\n",
    "class PersonHelper(Person, HelperModel):\n",
    "    # Attributes of the first base class are set to Optional[Any], default: None\n",
    "    FirstName: Any\n",
    "    LastName: Any\n",
    "    Email: Any\n",
    "    \n",
    "    def transform_attributes(self, dd: dict = None) -> bool:\n",
    "        super().transform_attributes()\n",
    "        self.first_name = self.FirstName\n",
    "        self.surname = self.LastName\n",
    "        self.email = {self.Email}\n",
    "        self.name = pascal_case(f\"{self.first_name} {self.surname}\")\n",
    "        self.label = [Label(text=self.name)]\n",
    "        if self.middle_name:\n",
    "            self.name = pascal_case(\"{self.first_name} {self.middle_name} {self.surname}\")\n",
    "        return True\n",
    "\n",
    "    def transform_references(self, dd: dict = None) -> bool:\n",
    "        super().transform_references()\n",
    "        if self.organization:\n",
    "            self.organization = set([org_.get_iri() for org_ in self.organization])\n",
    "        return True\n",
    "\n",
    "# Let's create a new instance of the PersonHelper class\n",
    "data_df = pd.read_excel(\"demo.xlsx\")\n",
    "john_dict = data_df.iloc[0].to_dict()\n",
    "john_helper = PersonHelper(**john_dict)\n",
    "print(\"Before transformation:\")\n",
    "pprint(john_helper.dict())"
   ],
   "id": "872b9e65d606d544",
   "outputs": [],
   "execution_count": null
  },
  {
   "metadata": {},
   "cell_type": "code",
   "source": [
    "# Let's see the effect of the transformation of attributes\n",
    "john_helper.transform_attributes()\n",
    "print(\"After transformation:\")\n",
    "pprint(john_helper.dict())"
   ],
   "id": "2ff76f2a76c097f6",
   "outputs": [],
   "execution_count": null
  },
  {
   "metadata": {},
   "cell_type": "code",
   "source": [
    "# Actually we access 'transformed' directly\n",
    "# If the transformation operations had not been performed already,\n",
    "#  accessing 'transformed' would trigger them\n",
    "local_john = john_helper.transformed\n",
    "print(\"After casting:\")\n",
    "pprint(local_john.dict())"
   ],
   "id": "30e0620c9ef49fdf",
   "outputs": [],
   "execution_count": null
  },
  {
   "metadata": {},
   "cell_type": "code",
   "source": [
    "# We can do the same for all instances quite easily:\n",
    "entities = []\n",
    "for ii in data_df.index:\n",
    "    entities.append(PersonHelper(**data_df.iloc[ii].to_dict()).transformed)"
   ],
   "id": "15f2596aff7ac2e0",
   "outputs": [],
   "execution_count": null
  },
  {
   "metadata": {},
   "cell_type": "code",
   "source": [
    "# And store the entities in the OSL instance\n",
    "res = osw_obj.store_entity(entities)\n",
    "stored.append(res)"
   ],
   "id": "53e1042422f2f0ed",
   "outputs": [],
   "execution_count": null
  },
  {
   "metadata": {},
   "cell_type": "markdown",
   "source": [
    "## Querying data\n",
    "\n",
    "### Querying instances of a category\n",
    "osw-python offers methods to query semantic properties, which are set in the triplestore of the Open Semantic Lab\n",
    "instance, and which were defined in `@context` of the JSON-Schema documents. We can therefore query for instances of\n",
    "a category, which point to the category with the properties `HasType` and `HasSchema`. The method `query_instances`\n",
    "is a convenience method, basically a wrapper around `semantic_search()`, querying: `[[HasType::Category:<OSW-ID of\n",
    "Category:Person>]]`. This query essentially queries all entries in the platform, which fulfill the condition."
   ],
   "id": "d4fe2e79455f2f04"
  },
  {
   "metadata": {},
   "cell_type": "code",
   "source": [
    "# query_instances() returns a list of the full page titles (IRIs) of instances of the given class\n",
    "#  The method queries direct instances only, instances of subclasses are not returned\n",
    "persons = osw_obj.query_instances(Person)\n",
    "organizations = osw_obj.query_instances(Organization)\n",
    "print(\"Number of persons stored in the OSL instance:\", len(persons))\n",
    "print(\"Number of organizations stored in the OSL instance:\", len(organizations))"
   ],
   "id": "c47281593ceed2bf",
   "outputs": [],
   "execution_count": null
  },
  {
   "metadata": {},
   "cell_type": "code",
   "source": [
    "# Test if john is in the list of persons\n",
    "john.get_iri() in persons"
   ],
   "id": "5bf7f397f2cb48c",
   "outputs": [],
   "execution_count": null
  },
  {
   "metadata": {},
   "cell_type": "code",
   "source": [
    "# To get the instances themselves, use load_entity() with the IRIs\n",
    "print(\"Loading person with IRI:\", persons[0])\n",
    "some_person = osw_obj.load_entity(persons[0])\n",
    "pprint(some_person.dict())"
   ],
   "id": "1ae5a4da1418c1",
   "outputs": [],
   "execution_count": null
  },
  {
   "metadata": {},
   "cell_type": "markdown",
   "source": [
    "### Querying semantic properties\n",
    "We can also query for the entries, a semantic properties links to, starting from a specific entity. Here, we are\n",
    "using the syntax defined in the Semantic Mediawiki [user manual](https://www.semantic-mediawiki.org/wiki/Help:Semantic_search).\n",
    "\n",
    "#### In the browser\n",
    "It might be a good idea to start with a query in the browser, to get a feeling for the structure of the data. You\n",
    "have explored the graph tool already, so you know properties (edges) link entities (nodes). The semantic search uses\n",
    "a Semantic Mediawiki specific syntax.\n",
    "\n",
    "If you are connected to the OSL instance with the domain `demo.open-semantic-lab.org`, you can use the following link:\n",
    "[Special:Ask](https://demo.open-semantic-lab.org/w/index.php?title=Special:Ask&#search).\n",
    "\n",
    "If you are connected to another OSL instance, use the following cell to create a link for you:"
   ],
   "id": "8f816e2fc97251d0"
  },
  {
   "metadata": {},
   "cell_type": "code",
   "source": [
    "# Creating a clickable link for you\n",
    "from sys import stdout\n",
    "stdout.write(f\"Interactive semantic search: 'https://{wiki_domain}/w/index.php?title=Special:Ask&#search'\")"
   ],
   "id": "39b2ce4f24ac5793",
   "outputs": [],
   "execution_count": null
  },
  {
   "metadata": {},
   "cell_type": "markdown",
   "source": [
    "Let's explore some queries. Enter the following queries in the field `Condition` and click `Find results`:\n",
    "- [[HasName::John Doe]] - Query for all entries that posses the property `HasName` with the value `John Doe`\n",
    "- [[HasManager.HasName::John Doe]] - Query for all entries that specify person, named `John Doe` as manager\n",
    "\n",
    "The queries should return:\n",
    "- A list of all `John Doe` named entries in the platform\n",
    "- A list of organizations, where `John Doe` is the manager - there should be at least one, the `Doe Group, Inc.` and\n",
    "`Doe, Inc.` we have created earlier"
   ],
   "id": "c814cd2e5bf56d96"
  },
  {
   "metadata": {},
   "cell_type": "markdown",
   "source": [
    "#### In Python\n",
    "\n",
    "The method `semantic_search` allows to do query for semantic properties in python. At the moment, the method is\n",
    "only available for the `site` attribute of OSW / OswExpress."
   ],
   "id": "43df2da7095a1511"
  },
  {
   "metadata": {},
   "cell_type": "code",
   "source": [
    "managed_by_john = f\"[[HasManager::{john.get_iri()}]]\"\n",
    "# Queries can also be performed on inverse properties\n",
    "members_of_doe_group = f\"[[-HasMember::{org2.get_iri()}]]\"\n",
    "# Multiple query conditions can be applied in one query\n",
    "members_of_managed_by_john = f\"[[HasManager::{john.get_iri()}]][[HasMember::+]]\"\n",
    "# Query them\n",
    "for query in [managed_by_john, members_of_doe_group, members_of_managed_by_john]:\n",
    "    query_res = osw_obj.site.semantic_search(query)\n",
    "    print(f\"Querying '{query}' returned:\", query_res)"
   ],
   "id": "be231b1bccee0b71",
   "outputs": [],
   "execution_count": null
  },
  {
   "metadata": {},
   "cell_type": "code",
   "source": [
    "# Now at the very end, lets query everything that we have uploaded\n",
    "# The change_id can be recovered from the store_entity returns, as we have preserved them in `stored`\n",
    "change_ids = [res.change_id for res in stored]\n",
    "print(\"Change Ids:\", change_ids)"
   ],
   "id": "7a3a8d820b939523",
   "outputs": [],
   "execution_count": null
  },
  {
   "metadata": {},
   "cell_type": "code",
   "source": [
    "# Create queries for the change_ids\n",
    "# We can query along a path of properties. Here each entry has a sub-object 'meta', which points to the change_id with\n",
    "#  'HasChangeId'.\n",
    "queries = [f\"[[HasMeta.HasChangeId::{change_id}]]\" for change_id in change_ids]\n",
    "# We could also create a single query, that chains all queries with 'OR':\n",
    "query = \"OR \".join(queries)\n",
    "print(\"Alternative chained query:\", query)\n",
    "search_param = prm.SearchParam(query=queries)\n",
    "res_iris = osw_obj.site.semantic_search(search_param)\n",
    "print(\"IRIs of the uploaded entities:\", res_iris)"
   ],
   "id": "167bd0a450faef66",
   "outputs": [],
   "execution_count": null
  },
  {
   "metadata": {},
   "cell_type": "code",
   "source": [
    "# Clean up - delete all uploaded entities (if you have permission to do so)\n",
    "osw_obj.site.delete_page(res_iris)\n",
    "# Will fail if you do not have the required rights - we will clean up for you :)"
   ],
   "id": "4fff01bc5e87752b",
   "outputs": [],
   "execution_count": null
  }
 ],
 "metadata": {
  "kernelspec": {
   "display_name": "Python 3 (ipykernel)",
   "language": "python",
   "name": "python3"
  },
  "language_info": {
   "codemirror_mode": {
    "name": "ipython",
    "version": 3
   },
   "file_extension": ".py",
   "mimetype": "text/x-python",
   "name": "python",
   "nbconvert_exporter": "python",
   "pygments_lexer": "ipython3",
   "version": "3.12.4"
  }
 },
 "nbformat": 4,
 "nbformat_minor": 5
}
