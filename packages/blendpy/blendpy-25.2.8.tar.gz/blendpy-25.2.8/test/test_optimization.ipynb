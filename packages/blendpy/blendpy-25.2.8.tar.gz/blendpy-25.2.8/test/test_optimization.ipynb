{
 "cells": [
  {
   "cell_type": "code",
   "execution_count": 1,
   "metadata": {},
   "outputs": [],
   "source": [
    "from ase.io import write\n",
    "from ase.build import bulk\n",
    "from ase.optimize import BFGSLineSearch\n",
    "from ase.filters import UnitCellFilter"
   ]
  },
  {
   "cell_type": "code",
   "execution_count": 2,
   "metadata": {},
   "outputs": [
    {
     "name": "stderr",
     "output_type": "stream",
     "text": [
      "/Users/leseixas/miniconda3/envs/mace/lib/python3.13/site-packages/e3nn/o3/_wigner.py:10: UserWarning: Environment variable TORCH_FORCE_NO_WEIGHTS_ONLY_LOAD detected, since the`weights_only` argument was not explicitly passed to `torch.load`, forcing weights_only=False.\n",
      "  _Jd, _W3j_flat, _W3j_indices = torch.load(os.path.join(os.path.dirname(__file__), 'constants.pt'))\n"
     ]
    },
    {
     "name": "stdout",
     "output_type": "stream",
     "text": [
      "cuequivariance or cuequivariance_torch is not available. Cuequivariance acceleration will be disabled.\n",
      "Using Materials Project MACE for MACECalculator with /Users/leseixas/.cache/mace/20231210mace128L0_energy_epoch249model\n",
      "Using float32 for MACECalculator, which is faster but less accurate. Recommended for MD. Use float64 for geometry optimization.\n",
      "Default dtype float32 does not match model dtype float64, converting models to float32.\n"
     ]
    },
    {
     "name": "stderr",
     "output_type": "stream",
     "text": [
      "/Users/leseixas/miniconda3/envs/mace/lib/python3.13/site-packages/mace/calculators/mace.py:139: UserWarning: Environment variable TORCH_FORCE_NO_WEIGHTS_ONLY_LOAD detected, since the`weights_only` argument was not explicitly passed to `torch.load`, forcing weights_only=False.\n",
      "  torch.load(f=model_path, map_location=device)\n"
     ]
    }
   ],
   "source": [
    "# Create Au and Pt Atoms object\n",
    "gold = bulk(\"Au\", cubic=True)\n",
    "platinum = bulk(\"Pt\", cubic=True)\n",
    "\n",
    "# Create a calculator object to optimize structures.\n",
    "from mace.calculators import mace_mp\n",
    "calc_mace = mace_mp(model=\"small\",\n",
    "                    dispersion=False,\n",
    "                    default_dtype=\"float32\",\n",
    "                    device='cpu')\n",
    "\n",
    "gold.calc = calc_mace\n",
    "platinum.calc = calc_mace"
   ]
  },
  {
   "cell_type": "code",
   "execution_count": 3,
   "metadata": {},
   "outputs": [
    {
     "name": "stdout",
     "output_type": "stream",
     "text": [
      "                Step[ FC]     Time          Energy          fmax\n",
      "BFGSLineSearch:    0[  0] 20:26:11      -12.942894       1.0920\n",
      "BFGSLineSearch:    1[  1] 20:26:11      -13.068848       0.2355\n",
      "BFGSLineSearch:    2[  2] 20:26:11      -13.076817       0.0365\n",
      "BFGSLineSearch:    3[  3] 20:26:11      -13.077005       0.0015\n",
      "                Step[ FC]     Time          Energy          fmax\n",
      "BFGSLineSearch:    0[  0] 20:26:11      -24.141430       1.1704\n",
      "BFGSLineSearch:    1[  2] 20:26:12      -24.249146       0.0005\n"
     ]
    },
    {
     "data": {
      "text/plain": [
       "np.True_"
      ]
     },
     "execution_count": 3,
     "metadata": {},
     "output_type": "execute_result"
    }
   ],
   "source": [
    "# Optimize Au and Pt unit cell.\n",
    "optimizer_gold = BFGSLineSearch(UnitCellFilter(gold))\n",
    "optimizer_platinum = BFGSLineSearch(UnitCellFilter(platinum))\n",
    "optimizer_gold.run(fmax=0.01)\n",
    "optimizer_platinum.run(fmax=0.01)"
   ]
  },
  {
   "cell_type": "code",
   "execution_count": 4,
   "metadata": {},
   "outputs": [],
   "source": [
    "# Save the optimized unit cells for Au and Pt.\n",
    "write(\"Au.cif\", gold)\n",
    "write(\"Pt.cif\", platinum)"
   ]
  },
  {
   "cell_type": "code",
   "execution_count": 5,
   "metadata": {},
   "outputs": [
    {
     "name": "stdout",
     "output_type": "stream",
     "text": [
      "                                                \n",
      "   _      _                   _                 \n",
      "  | |__  | |  ___  _ __    __| | _ __   _   _   \n",
      "  | '_ \\ | | / _ \\| '_ \\  / _` || '_ \\ | | | |  \n",
      "  | |_) || ||  __/| | | || (_| || |_) || |_| |  \n",
      "  |_.__/ |_| \\___||_| |_| \\__,_|| .__/  \\__, |  \n",
      "                                |_|     |___/   \n",
      "                                                \n",
      "                 version: 25.2.7                 \n",
      "                                                \n"
     ]
    }
   ],
   "source": [
    "from blendpy import DSIModel\n",
    "\n",
    "# Create a DSIModel object\n",
    "blendpy = DSIModel(alloy_components = ['Au.cif', 'Pt.cif'],\n",
    "                   supercell = [2,2,2],\n",
    "                   calculator=calc_mace)"
   ]
  },
  {
   "cell_type": "code",
   "execution_count": 6,
   "metadata": {},
   "outputs": [],
   "source": [
    "# Optimize the structures\n",
    "blendpy.optimize(method=BFGSLineSearch, fmax=0.01)"
   ]
  },
  {
   "cell_type": "code",
   "execution_count": 7,
   "metadata": {},
   "outputs": [],
   "source": [
    "# Calculate the enthalpy of mixing\n",
    "enthalpy_of_mixing = blendpy.get_enthalpy_of_mixing(npoints=101)"
   ]
  },
  {
   "cell_type": "code",
   "execution_count": 8,
   "metadata": {},
   "outputs": [
    {
     "name": "stderr",
     "output_type": "stream",
     "text": [
      "<>:11: SyntaxWarning: invalid escape sequence '\\D'\n",
      "<>:11: SyntaxWarning: invalid escape sequence '\\D'\n",
      "/Users/leseixas/.openmpi/temp/ipykernel_29805/1163860367.py:11: SyntaxWarning: invalid escape sequence '\\D'\n",
      "  ax.set_ylabel(\"$\\Delta H_{mix}$ (kJ/mol)\", fontsize=20)\n"
     ]
    },
    {
     "data": {
      "image/png": "[encoded data removed]",
      "text/plain": [
       "<Figure size 500x500 with 1 Axes>"
      ]
     },
     "metadata": {},
     "output_type": "display_data"
    }
   ],
   "source": [
    "import numpy as np\n",
    "import matplotlib.pyplot as plt\n",
    "\n",
    "# Create figure and axis\n",
    "fig, ax = plt.subplots(1,1, figsize=(5,5))\n",
    "\n",
    "x = np.linspace(0, 1, 101)\n",
    "\n",
    "# Configure axis labels and limits\n",
    "ax.set_xlabel(\"$x$\", fontsize=20)\n",
    "ax.set_ylabel(\"$\\Delta H_{mix}$ (kJ/mol)\", fontsize=20)\n",
    "ax.set_xlim(0,1)\n",
    "ax.set_ylim(-7,7)\n",
    "ax.set_xticks(np.linspace(0,1,6))\n",
    "ax.set_yticks(np.arange(-6,7,2))\n",
    "\n",
    "# Plot the data\n",
    "ax.plot(x, enthalpy_of_mixing, color='#d53e4f', linewidth=3, label=\"Au$_{1-x}$Pt$_{x}$\")\n",
    "ax.legend(loc=\"best\", fontsize=20)\n",
    "\n",
    "# Customize tick parameters\n",
    "ax.tick_params(direction='in', axis='both', which='major', labelsize=20, width=3, length=8)\n",
    "ax.set_box_aspect(1)\n",
    "for spine in ax.spines.values():\n",
    "    spine.set_linewidth(3)\n",
    "\n",
    "plt.tight_layout()\n",
    "# plt.savefig(\"aupt_enthalpy_of_mixing.png\", dpi=600, format='png', bbox_inches='tight')\n",
    "plt.show()"
   ]
  },
  {
   "cell_type": "code",
   "execution_count": null,
   "metadata": {},
   "outputs": [],
   "source": []
  }
 ],
 "metadata": {
  "kernelspec": {
   "display_name": "mace",
   "language": "python",
   "name": "python3"
  },
  "language_info": {
   "codemirror_mode": {
    "name": "ipython",
    "version": 3
   },
   "file_extension": ".py",
   "mimetype": "text/x-python",
   "name": "python",
   "nbconvert_exporter": "python",
   "pygments_lexer": "ipython3",
   "version": "3.13.2"
  }
 },
 "nbformat": 4,
 "nbformat_minor": 2
}
