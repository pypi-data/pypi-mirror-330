{
 "cells": [
  {
   "metadata": {},
   "cell_type": "markdown",
   "source": [
    "# Example 3: Computation of Energies with diabatization\n",
    "\n",
    "In this example it is shown, how to run the basic energy computations with novel approach for diabatization of orbitals."
   ],
   "id": "caab2890872ed853"
  },
  {
   "metadata": {},
   "cell_type": "markdown",
   "source": "First, we specify the geometry of our system.",
   "id": "1897506f207e0310"
  },
  {
   "metadata": {
    "ExecuteTime": {
     "end_time": "2024-09-17T23:15:01.918776Z",
     "start_time": "2024-09-17T23:15:01.916180Z"
    }
   },
   "cell_type": "code",
   "source": [
    "symbols = ['C', 'N', 'H', 'H', 'H']\n",
    "coords = [[-0.000000000, 0.000000000, -0.000000000],\n",
    "            [-0.000000000, 0.000000000, 1.412052000],\n",
    "            [-0.000000000, -0.944215264, -0.525349226],\n",
    "            [-0.000000000, 0.944215264, -0.525349226],\n",
    "            [-0.176643782, 0.000000000, 2.413848671]]"
   ],
   "id": "759bcd6c4184e4f8",
   "execution_count": 1,
   "outputs": []
  },
  {
   "metadata": {},
   "cell_type": "markdown",
   "source": "Now, let's define our system's properties.",
   "id": "3de40e7f536f8f2a"
  },
  {
   "metadata": {
    "ExecuteTime": {
     "end_time": "2024-09-17T23:15:01.922795Z",
     "start_time": "2024-09-17T23:15:01.919749Z"
    }
   },
   "cell_type": "code",
   "source": [
    "n_orbs_active = 2\n",
    "n_elec_active = 2\n",
    "charge = 0\n",
    "multiplicity = 1\n",
    "basis = 'sto-3g'"
   ],
   "id": "a2724ab6eaac547a",
   "execution_count": 2,
   "outputs": []
  },
  {
   "metadata": {},
   "cell_type": "markdown",
   "source": "For the diabatization process, we use previously obtained wavefunction. Let's load it now.",
   "id": "aa69484f0cd19855"
  },
  {
   "metadata": {
    "ExecuteTime": {
     "end_time": "2024-09-17T23:15:02.247603Z",
     "start_time": "2024-09-17T23:15:01.923946Z"
    }
   },
   "cell_type": "code",
   "source": [
    "import psi4\n",
    "\n",
    "load_wfn = psi4.core.Wavefunction.from_file(f'../tests/bruno_wfn_phi0_theta_180_sto3g')"
   ],
   "id": "1ec9a55cb0d1dc90",
   "execution_count": 3,
   "outputs": []
  },
  {
   "metadata": {},
   "cell_type": "markdown",
   "source": "Now, we create our problem using our previously computed wavefunction, ",
   "id": "f0f0328e013d42ca"
  },
  {
   "metadata": {
    "ExecuteTime": {
     "end_time": "2024-09-17T23:15:05.452607Z",
     "start_time": "2024-09-17T23:15:02.248556Z"
    }
   },
   "cell_type": "code",
   "source": [
    "import saoovqe\n",
    "\n",
    "problem = saoovqe.ProblemSet.with_dia_orbs_from_prev_wfn(symbols, coords, charge, multiplicity, n_elec_active,\n",
    "                                                                 n_orbs_active, load_wfn, basis)\n"
   ],
   "id": "95cd170fecbd7441",
   "execution_count": 4,
   "outputs": []
  },
  {
   "metadata": {},
   "cell_type": "markdown",
   "source": "create initial circuits and ansatz,",
   "id": "efafe4ee6f6c8a8d"
  },
  {
   "metadata": {
    "ExecuteTime": {
     "end_time": "2024-09-17T23:15:05.596849Z",
     "start_time": "2024-09-17T23:15:05.454103Z"
    }
   },
   "cell_type": "code",
   "source": [
    "n_states = 2\n",
    "initial_circuits = saoovqe.OrthogonalCircuitSet.from_problem_set(n_states, problem)\n",
    "\n",
    "repetitions = 1\n",
    "ansatz = saoovqe.Ansatz.from_problem_set(saoovqe.AnsatzType.GUCCSD,\n",
    "                                         problem,\n",
    "                                         repetitions,\n",
    "                                         qubit_mapper=problem.fermionic_mapper)"
   ],
   "id": "728897eef7a525ac",
   "execution_count": 5,
   "outputs": []
  },
  {
   "metadata": {},
   "cell_type": "markdown",
   "source": "and finally, we create our solver.",
   "id": "2596eb0f7cd33f07"
  },
  {
   "metadata": {
    "ExecuteTime": {
     "end_time": "2024-09-17T23:15:05.602806Z",
     "start_time": "2024-09-17T23:15:05.598154Z"
    }
   },
   "cell_type": "code",
   "source": [
    "from qiskit.primitives import Estimator\n",
    "\n",
    "estimator = Estimator()\n",
    "saoovqe_solver = saoovqe.SAOOVQE(estimator,\n",
    "                                 initial_circuits,\n",
    "                                 ansatz,\n",
    "                                 problem,\n",
    "                                 orbital_optimization_settings={})"
   ],
   "id": "e2cb1d369fd3805e",
   "execution_count": 6,
   "outputs": []
  },
  {
   "metadata": {},
   "cell_type": "markdown",
   "source": "As we now have all that is required, we calculate our energies.",
   "id": "db62e6794eb64a19"
  },
  {
   "metadata": {
    "ExecuteTime": {
     "end_time": "2024-09-17T23:15:28.175416Z",
     "start_time": "2024-09-17T23:15:05.604057Z"
    }
   },
   "cell_type": "code",
   "source": [
    "from qiskit_algorithms.optimizers import SciPyOptimizer\n",
    "\n",
    "energies = saoovqe_solver.get_energy(SciPyOptimizer('SLSQP', options={'maxiter': 500, 'ftol': 1e-8}))\n",
    "energies"
   ],
   "id": "a1f6460cedb94930",
   "execution_count": 7,
   "outputs": []
  },
  {
   "metadata": {},
   "cell_type": "raw",
   "source": "And now, we can compare them, with reference data:",
   "id": "8d68d6de06e845a7"
  },
  {
   "metadata": {
    "ExecuteTime": {
     "end_time": "2024-09-17T23:15:28.180879Z",
     "start_time": "2024-09-17T23:15:28.176809Z"
    }
   },
   "cell_type": "code",
   "source": [
    "import numpy as np\n",
    "\n",
    "np.allclose(np.array([-92.69532984620506, -92.64558680739152]), energies)"
   ],
   "id": "37b9cf74417a10a",
   "execution_count": 8,
   "outputs": []
  },
  {
   "metadata": {},
   "cell_type": "markdown",
   "source": "And we can see, that the result is correct!",
   "id": "75dcd511f482c301"
  },
  {
   "metadata": {},
   "cell_type": "markdown",
   "source": "",
   "id": "6e66aa55df63851b"
  }
 ],
 "metadata": {
  "kernelspec": {
   "display_name": "Python 3",
   "language": "python",
   "name": "python3"
  },
  "language_info": {
   "codemirror_mode": {
    "name": "ipython",
    "version": 2
   },
   "file_extension": ".py",
   "mimetype": "text/x-python",
   "name": "python",
   "nbconvert_exporter": "python",
   "pygments_lexer": "ipython2",
   "version": "2.7.6"
  }
 },
 "nbformat": 4,
 "nbformat_minor": 5
}
