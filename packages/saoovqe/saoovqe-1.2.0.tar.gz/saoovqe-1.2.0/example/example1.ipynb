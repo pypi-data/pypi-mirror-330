{
 "cells": [
  {
   "cell_type": "markdown",
   "metadata": {
    "collapsed": false
   },
   "source": [
    "# Example 1: Computation of Energies and Gradients\n",
    "\n",
    "In this example it is shown, how to run the basic energy and gradient computations. Also, the results are compared to\n",
    "CASSCF implementation provided by Psi4 package."
   ]
  },
  {
   "cell_type": "markdown",
   "metadata": {
    "collapsed": false
   },
   "source": [
    "Firstly, we specify geometry of the system given in Cartesian coordinates."
   ]
  },
  {
   "cell_type": "code",
   "metadata": {
    "ExecuteTime": {
     "end_time": "2024-09-11T16:34:23.585619Z",
     "start_time": "2024-09-11T16:34:23.581439Z"
    }
   },
   "source": [
    "symbols = ['N', 'C', 'H', 'H', 'H']\n",
    "coords = [\n",
    "    [0.000000000000, 0.000000000000, 0.000000000000],\n",
    "    [0.000000000000, 0.000000000000, 1.498047000000],\n",
    "    [0.000000000000, -0.938765985000, 2.004775984000],\n",
    "    [0.000000000000, 0.938765985000, 2.004775984000],\n",
    "    [-0.744681452, -0.131307432, -0.634501434]\n",
    "]"
   ],
   "execution_count": 1,
   "outputs": []
  },
  {
   "cell_type": "markdown",
   "metadata": {
    "collapsed": false
   },
   "source": [
    "Subsequently, we specify the system properties."
   ]
  },
  {
   "cell_type": "code",
   "metadata": {
    "collapsed": false,
    "ExecuteTime": {
     "end_time": "2024-09-11T16:34:23.591205Z",
     "start_time": "2024-09-11T16:34:23.587661Z"
    }
   },
   "source": [
    "n_orbs_active = 2\n",
    "n_elec_active = 2\n",
    "charge = 0\n",
    "multiplicity = 1\n",
    "basis = 'sto-3g'"
   ],
   "execution_count": 2,
   "outputs": []
  },
  {
   "cell_type": "markdown",
   "metadata": {
    "collapsed": false
   },
   "source": [
    "Now we construct a `ProblemSet` instance containing the information about our electronic structure problem."
   ]
  },
  {
   "cell_type": "code",
   "metadata": {
    "ExecuteTime": {
     "end_time": "2024-09-11T16:34:25.310583Z",
     "start_time": "2024-09-11T16:34:23.592606Z"
    }
   },
   "source": [
    "import saoovqe\n",
    "import psi4"
   ],
   "execution_count": 3,
   "outputs": []
  },
  {
   "cell_type": "code",
   "metadata": {
    "ExecuteTime": {
     "end_time": "2024-09-11T16:34:25.316089Z",
     "start_time": "2024-09-11T16:34:25.311743Z"
    }
   },
   "source": [
    "saoovqe.__version__"
   ],
   "execution_count": 4,
   "outputs": []
  },
  {
   "cell_type": "code",
   "metadata": {
    "collapsed": false,
    "ExecuteTime": {
     "end_time": "2024-09-11T16:34:27.122732Z",
     "start_time": "2024-09-11T16:34:25.317126Z"
    }
   },
   "source": [
    "\n",
    "problem = saoovqe.problem.ProblemSet(\n",
    "    symbols=symbols,\n",
    "    coords=coords,\n",
    "    charge=charge,\n",
    "    multiplicity=multiplicity,\n",
    "    n_electrons_active=n_elec_active,\n",
    "    n_orbitals_active=n_orbs_active,\n",
    "    basis_name=basis\n",
    ")"
   ],
   "execution_count": 5,
   "outputs": []
  },
  {
   "cell_type": "markdown",
   "metadata": {
    "collapsed": false
   },
   "source": [
    "The next one is a set of circuits representing orthogonal states used to construct the whole circuits\n",
    "representing state vectors later."
   ]
  },
  {
   "cell_type": "code",
   "metadata": {
    "ExecuteTime": {
     "end_time": "2024-09-11T16:34:27.129793Z",
     "start_time": "2024-09-11T16:34:27.123576Z"
    }
   },
   "source": [
    "import numpy as np\n",
    "test1 = problem.qubit_active_hamiltonian.to_matrix()\n",
    "\n",
    "min(np.linalg.eig(test1)[0])"
   ],
   "execution_count": 6,
   "outputs": []
  },
  {
   "cell_type": "code",
   "metadata": {
    "collapsed": false,
    "ExecuteTime": {
     "end_time": "2024-09-11T16:34:27.136946Z",
     "start_time": "2024-09-11T16:34:27.130772Z"
    }
   },
   "source": [
    "initial_circuits = saoovqe.OrthogonalCircuitSet.from_problem_set(n_states=2, problem=problem)"
   ],
   "execution_count": 7,
   "outputs": []
  },
  {
   "cell_type": "markdown",
   "metadata": {
    "collapsed": false
   },
   "source": [
    "Another ingredient for statevector circuits constructed later will be an ansatz."
   ]
  },
  {
   "cell_type": "code",
   "metadata": {
    "collapsed": false,
    "ExecuteTime": {
     "end_time": "2024-09-11T16:34:27.288369Z",
     "start_time": "2024-09-11T16:34:27.137912Z"
    }
   },
   "source": [
    "ansatz = saoovqe.Ansatz.from_problem_set(ansatz=saoovqe.AnsatzType.GUCCSD,\n",
    "                                         problem=problem,\n",
    "                                         repetitions=1,\n",
    "                                         qubit_mapper=problem.fermionic_mapper)"
   ],
   "execution_count": 8,
   "outputs": []
  },
  {
   "cell_type": "markdown",
   "metadata": {
    "collapsed": false
   },
   "source": [
    "Now we can create an instance of our SA-OO-VQE solver. Orbital-optimization doesn't have to be used,\n",
    "but we do use it here, to compare with CASSCF."
   ]
  },
  {
   "cell_type": "code",
   "metadata": {
    "collapsed": false,
    "ExecuteTime": {
     "end_time": "2024-09-11T16:34:27.292381Z",
     "start_time": "2024-09-11T16:34:27.289093Z"
    }
   },
   "source": [
    "from qiskit.primitives import Estimator\n",
    "\n",
    "estimator = Estimator()\n",
    "\n",
    "solver = saoovqe.SAOOVQE(estimator=estimator,\n",
    "                         initial_circuits=initial_circuits,\n",
    "                         ansatz=ansatz,\n",
    "                         problem=problem,\n",
    "                         orbital_optimization_settings={})"
   ],
   "execution_count": 9,
   "outputs": []
  },
  {
   "cell_type": "markdown",
   "metadata": {
    "collapsed": false
   },
   "source": [
    "Let's create a numerical optimizer, pass it to our solver and compute our energies now."
   ]
  },
  {
   "cell_type": "code",
   "metadata": {
    "collapsed": false,
    "ExecuteTime": {
     "end_time": "2024-09-11T16:36:03.763173Z",
     "start_time": "2024-09-11T16:34:27.293469Z"
    }
   },
   "source": [
    "from qiskit_algorithms.optimizers import SciPyOptimizer\n",
    "\n",
    "optimizer = SciPyOptimizer('SLSQP', options={'maxiter': 500, 'ftol': 1e-8})\n",
    "saoovqe_engs = solver.get_energy(optimizer)\n",
    "\n",
    "print(saoovqe_engs)"
   ],
   "execution_count": 10,
   "outputs": []
  },
  {
   "cell_type": "markdown",
   "metadata": {
    "collapsed": false
   },
   "source": [
    "Also, without further setting things up, we're ready to compute our gradients now!"
   ]
  },
  {
   "cell_type": "code",
   "metadata": {
    "ExecuteTime": {
     "end_time": "2024-09-11T16:36:03.769549Z",
     "start_time": "2024-09-11T16:36:03.764556Z"
    }
   },
   "source": [
    "import numpy as np\n",
    "test1 = problem.qubit_active_hamiltonian.to_matrix()\n",
    "\n",
    "np.linalg.eig(test1)[0]"
   ],
   "execution_count": 11,
   "outputs": []
  },
  {
   "cell_type": "code",
   "metadata": {
    "collapsed": false,
    "ExecuteTime": {
     "end_time": "2024-09-11T16:36:19.556896Z",
     "start_time": "2024-09-11T16:36:03.770721Z"
    }
   },
   "source": [
    "saoovqe_grads = []\n",
    "for state_idx in range(2):\n",
    "    saoovqe_grads.append(list())\n",
    "    for atom_idx in range(len(coords)):\n",
    "        grad = solver.eval_eng_gradient(state_idx, atom_idx)\n",
    "        print(grad)\n",
    "        saoovqe_grads[state_idx].append(grad)"
   ],
   "execution_count": 12,
   "outputs": []
  },
  {
   "cell_type": "markdown",
   "metadata": {
    "collapsed": false
   },
   "source": [
    "Perfect! For now, let's set our Psi4 CASSCF solver up. Let's start with re-writing our geometry specification in Psi4-convenient\n",
    "way and passing it to the toolkit."
   ]
  },
  {
   "cell_type": "code",
   "metadata": {
    "collapsed": false,
    "ExecuteTime": {
     "end_time": "2024-09-11T16:36:19.568289Z",
     "start_time": "2024-09-11T16:36:19.558309Z"
    }
   },
   "source": [
    "import psi4\n",
    "import numpy as np\n",
    "\n",
    "def gen_formaldimine_geom_psi4(alpha, phi):\n",
    "    variables = [1.498047, 1.066797, 0.987109, 118.359375, alpha, phi]\n",
    "\n",
    "    # Create Z-matrix\n",
    "    string_geo_dum = '''0 1\n",
    "                    N\n",
    "                    C 1 {0}\n",
    "                    H 2 {1}  1 {3}\n",
    "                    H 2 {1}  1 {3} 3 180\n",
    "                    H 1 {2}  2 {4} 3 {5}\n",
    "                    symmetry c1\n",
    "                    '''.format(*variables)\n",
    "\n",
    "    # Convert to Cartesian coordinates\n",
    "    psi4.core.set_output_file('out.txt', False)\n",
    "    molecule_dum = psi4.geometry(string_geo_dum)\n",
    "    molecule_dum.translate(psi4.core.Vector3(-molecule_dum.x(0), -molecule_dum.y(0), -molecule_dum.z(0)))\n",
    "    mol_geom_dum = molecule_dum.geometry().np * problem.unit_constants['Bohr_to_Angstrom']\n",
    "\n",
    "    if not np.isclose(mol_geom_dum[1, 1], 0.):\n",
    "        mol_geom_dum[:, [1, 2]] = mol_geom_dum[:, [2, 1]]\n",
    "        mol_geom_dum[4, 0] = -mol_geom_dum[4, 0]\n",
    "\n",
    "    string_geo = ''\n",
    "    for i, e in enumerate(mol_geom_dum):\n",
    "        string_geo += f'{molecule_dum.flabel(i)}, {e[0]}, {e[1]}, {e[2]}\\n'\n",
    "\n",
    "    string_geo += 'symmetry c1\\n' \\\n",
    "                  'nocom\\n' \\\n",
    "                  'noreorient\\n'\n",
    "\n",
    "    return string_geo\n",
    "\n",
    "psi4.geometry(gen_formaldimine_geom_psi4(130, 80))"
   ],
   "execution_count": 13,
   "outputs": []
  },
  {
   "cell_type": "code",
   "metadata": {
    "ExecuteTime": {
     "end_time": "2024-09-11T16:36:19.576892Z",
     "start_time": "2024-09-11T16:36:19.571255Z"
    }
   },
   "source": [
    "gen_formaldimine_geom_psi4(130, 80)"
   ],
   "execution_count": 14,
   "outputs": []
  },
  {
   "cell_type": "markdown",
   "metadata": {
    "collapsed": false
   },
   "source": [
    "Now we'll specify all options for Psi4 CASSCF solver."
   ]
  },
  {
   "cell_type": "code",
   "metadata": {
    "ExecuteTime": {
     "end_time": "2024-09-11T16:36:19.581059Z",
     "start_time": "2024-09-11T16:36:19.578021Z"
    }
   },
   "source": [
    "problem._active_space_transformer.prepare_active_space(16,13, occupation_alpha=None, occupation_beta=None)"
   ],
   "execution_count": 15,
   "outputs": []
  },
  {
   "cell_type": "code",
   "metadata": {
    "collapsed": false,
    "ExecuteTime": {
     "end_time": "2024-09-11T16:36:19.586674Z",
     "start_time": "2024-09-11T16:36:19.582059Z"
    }
   },
   "source": [
    "n_orbs_frozen = len(problem.frozen_orbitals_indices)\n",
    "\n",
    "def psi4_casscf():\n",
    "    psi4.set_options({'basis': basis,\n",
    "                      'DETCI_FREEZE_CORE': False,\n",
    "                      'reference': 'RHF',\n",
    "                      'scf_type': 'pk',\n",
    "                      'num_roots': len(initial_circuits),\n",
    "                      'frozen_docc': [0],\n",
    "                      'restricted_docc': [n_orbs_frozen],\n",
    "                      'active': [n_orbs_active],\n",
    "                      'restricted_uocc': [solver.n_mo_optim - n_orbs_frozen - n_orbs_active],\n",
    "                      'frozen_uocc': [problem.virtual_orbitals_indices[-1] - solver.n_mo_optim + 1],\n",
    "                      'MAXITER': 1000,\n",
    "                      'DIIS': False,\n",
    "                      'D_CONVERGENCE': 1e-6,\n",
    "                      'E_CONVERGENCE': 1e-6,\n",
    "                      'S': 0,\n",
    "                      'avg_states': [0, 1],\n",
    "                      'avg_weights': [0.5, 0.5]})\n",
    "    psi4.energy('scf', return_wfn=True)\n",
    "    psi4.energy('casscf', return_wfn=True)"
   ],
   "execution_count": 16,
   "outputs": []
  },
  {
   "cell_type": "markdown",
   "metadata": {
    "collapsed": false
   },
   "source": [
    "And run CASSCF preceded by a common SCF computation!"
   ]
  },
  {
   "cell_type": "code",
   "metadata": {
    "ExecuteTime": {
     "end_time": "2024-09-11T16:36:19.593157Z",
     "start_time": "2024-09-11T16:36:19.587783Z"
    }
   },
   "source": [
    "psi4.variable(\"CURRENT DIPOLE\")"
   ],
   "execution_count": 17,
   "outputs": []
  },
  {
   "cell_type": "code",
   "metadata": {
    "ExecuteTime": {
     "end_time": "2024-09-11T16:36:19.596876Z",
     "start_time": "2024-09-11T16:36:19.594070Z"
    }
   },
   "source": [
    "saoovqe_engs"
   ],
   "execution_count": 18,
   "outputs": []
  },
  {
   "cell_type": "code",
   "metadata": {
    "collapsed": false,
    "ExecuteTime": {
     "end_time": "2024-09-11T16:36:20.213259Z",
     "start_time": "2024-09-11T16:36:19.597853Z"
    }
   },
   "source": [
    "psi4_casscf()\n",
    "\n",
    "psi4_eng0 = psi4.variable('CI ROOT 0 TOTAL ENERGY')\n",
    "psi4_eng1 = psi4.variable('CI ROOT 1 TOTAL ENERGY')"
   ],
   "execution_count": 19,
   "outputs": []
  },
  {
   "cell_type": "markdown",
   "metadata": {
    "collapsed": false
   },
   "source": [
    "Cool! Now we can check, if they're similar to our SA-OO-VQE-obtained energies..."
   ]
  },
  {
   "cell_type": "code",
   "metadata": {
    "collapsed": false,
    "ExecuteTime": {
     "end_time": "2024-09-11T16:36:20.216047Z",
     "start_time": "2024-09-11T16:36:20.213992Z"
    }
   },
   "source": [
    "print(psi4_eng0 - saoovqe_engs[0])\n",
    "print(psi4_eng1 - saoovqe_engs[1])"
   ],
   "execution_count": 20,
   "outputs": []
  },
  {
   "cell_type": "markdown",
   "metadata": {
    "collapsed": false
   },
   "source": [
    "Congratulations! Now it seems, that our energies are really close. Let's compute some gradients\n",
    "via Psi4. In this case, we'll stick to simple stuff and utilize finite-differences approach.\n",
    "Specifically, we'll obtain derivatives w.r.t. the $\\alpha$ angle. So, first of all, let's generate\n",
    "shifted geometries."
   ]
  },
  {
   "cell_type": "code",
   "metadata": {
    "collapsed": false,
    "ExecuteTime": {
     "end_time": "2024-09-11T16:36:20.225452Z",
     "start_time": "2024-09-11T16:36:20.217457Z"
    }
   },
   "source": [
    "delta = 1e-5\n",
    "\n",
    "geom_plus = gen_formaldimine_geom_psi4(alpha=130+(delta/2), phi=80)\n",
    "geom_minus = gen_formaldimine_geom_psi4(alpha=130-(delta/2),phi=80)"
   ],
   "execution_count": 21,
   "outputs": []
  },
  {
   "cell_type": "markdown",
   "metadata": {
    "collapsed": false
   },
   "source": [
    "With geometries prepared, we can evaluate the corresponding energies."
   ]
  },
  {
   "cell_type": "code",
   "metadata": {
    "collapsed": false,
    "ExecuteTime": {
     "end_time": "2024-09-11T16:36:21.424102Z",
     "start_time": "2024-09-11T16:36:20.226569Z"
    }
   },
   "source": [
    "psi4.geometry(geom_plus)\n",
    "psi4_casscf()\n",
    "psi4_eng0_plus = psi4.variable('CI ROOT 0 TOTAL ENERGY')\n",
    "psi4_eng1_plus = psi4.variable('CI ROOT 1 TOTAL ENERGY')\n",
    "\n",
    "psi4.geometry(geom_minus)\n",
    "psi4_casscf()\n",
    "psi4_eng0_minus = psi4.variable('CI ROOT 0 TOTAL ENERGY')\n",
    "psi4_eng1_minus = psi4.variable('CI ROOT 1 TOTAL ENERGY')"
   ],
   "execution_count": 22,
   "outputs": []
  },
  {
   "cell_type": "markdown",
   "metadata": {
    "collapsed": false
   },
   "source": [
    "And finally, let's evaluate Psi4 gradients w.r.t. $\\alpha$."
   ]
  },
  {
   "cell_type": "code",
   "metadata": {
    "collapsed": false,
    "ExecuteTime": {
     "end_time": "2024-09-11T16:36:21.426839Z",
     "start_time": "2024-09-11T16:36:21.424733Z"
    }
   },
   "source": [
    "psi4_grad_0 = (psi4_eng0_plus - psi4_eng0_minus)/delta\n",
    "psi4_grad_1 = (psi4_eng1_plus - psi4_eng1_minus)/delta"
   ],
   "execution_count": 23,
   "outputs": []
  },
  {
   "cell_type": "markdown",
   "metadata": {
    "collapsed": false
   },
   "source": [
    "The gradients obtained directly from SA-OO-VQE are evaluated w.r.t. Cartesian coordinates, so we'll transform\n",
    "these to internal coordinate system to be able to compare the results to each other."
   ]
  },
  {
   "cell_type": "code",
   "metadata": {
    "collapsed": false,
    "ExecuteTime": {
     "end_time": "2024-09-11T16:36:21.432977Z",
     "start_time": "2024-09-11T16:36:21.427471Z"
    }
   },
   "source": [
    "def cartesian_to_inner(vector, R, phi, alpha):\n",
    "    phi_rad = np.deg2rad(phi)\n",
    "    alpha_rad = np.deg2rad(alpha)\n",
    "    v_R = -(vector[0] * np.sin(phi_rad) * np.sin(alpha_rad)) - (vector[1] * np.cos(phi_rad) * np.sin(alpha_rad)) + (vector[2] * np.cos(alpha_rad))\n",
    "    v_phi = -(vector[0] * R * np.cos(phi_rad) * np.sin(alpha_rad)) + (vector[1] * R * np.sin(phi_rad) * np.sin(alpha_rad))\n",
    "    v_alpha = -(vector[0] * R * np.sin(phi_rad) * np.cos(alpha_rad)) - (vector[1] * R * np.cos(phi_rad) * np.cos(alpha_rad)) \\\n",
    "              - (vector[2] * R * np.sin(alpha_rad))\n",
    "\n",
    "    return np.pi * np.array([v_R , v_phi, v_alpha]) / 180\n",
    "\n",
    "bond_length = np.sqrt(sum(np.array(coords[4])**2))\n",
    "saoovqe_grad_0_inner = cartesian_to_inner(saoovqe_grads[0][4], bond_length, 80, 130)\n",
    "saoovqe_grad_1_inner = cartesian_to_inner(saoovqe_grads[1][4], bond_length, 80, 130)\n",
    "\n",
    "print(saoovqe_grad_0_inner[2])\n",
    "print(saoovqe_grad_1_inner[2])\n",
    "print(psi4_grad_0)\n",
    "print(psi4_grad_1)"
   ],
   "execution_count": 24,
   "outputs": []
  },
  {
   "cell_type": "markdown",
   "metadata": {
    "collapsed": false
   },
   "source": [
    "And bingo! Even the gradients seem pretty close, so they're hopefully correct :D"
   ]
  }
 ],
 "metadata": {
  "kernelspec": {
   "display_name": "Python 3",
   "language": "python",
   "name": "python3"
  },
  "language_info": {
   "codemirror_mode": {
    "name": "ipython",
    "version": 3
   },
   "file_extension": ".py",
   "mimetype": "text/x-python",
   "name": "python",
   "nbconvert_exporter": "python",
   "pygments_lexer": "ipython3",
   "version": "3.10.13"
  }
 },
 "nbformat": 4,
 "nbformat_minor": 0
}
