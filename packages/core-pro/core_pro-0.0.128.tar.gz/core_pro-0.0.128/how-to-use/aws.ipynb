{
 "cells": [
  {
   "cell_type": "code",
   "metadata": {
    "ExecuteTime": {
     "end_time": "2025-03-01T08:13:46.757892Z",
     "start_time": "2025-03-01T08:13:45.707161Z"
    }
   },
   "source": [
    "from src.core_pro import AWS\n",
    "from pathlib import Path"
   ],
   "outputs": [],
   "execution_count": 1
  },
  {
   "cell_type": "code",
   "metadata": {
    "ExecuteTime": {
     "end_time": "2025-03-01T08:13:46.763991Z",
     "start_time": "2025-03-01T08:13:46.762365Z"
    }
   },
   "source": [
    "# bucket_name = 'sg-vnbi-proj-img-slide-api'\n",
    "# s3 = AWS(bucket_name)"
   ],
   "outputs": [],
   "execution_count": 2
  },
  {
   "metadata": {
    "ExecuteTime": {
     "end_time": "2025-03-01T08:13:47.330752Z",
     "start_time": "2025-03-01T08:13:46.892849Z"
    }
   },
   "cell_type": "code",
   "source": [
    "bucket_name = 'sg-vnbi-mkt-kevin'\n",
    "s3 = AWS(bucket_name)\n",
    "print(s3.get_all_files())\n",
    "\n",
    "path = Path.home() / 'PycharmProjects/core_pro/how-to-use'\n",
    "s3_key = 'voucher_sensitivity/prediction/2024-09-01_111_114'\n",
    "# s3.download_file(path=path, key=s3_key)"
   ],
   "outputs": [
    {
     "name": "stdout",
     "output_type": "stream",
     "text": [
      "\u001B[96m🐸 S3:\u001B[39m [Get] All files in: sg-vnbi-mkt-kevin\n",
      "['voucher_sensitivity/prediction/2024-09-01_111_114', 'voucher_sensitivity/prediction/2024-09-01_17_114', 'voucher_sensitivity/prediction/2024-09-01_30_114', 'voucher_sensitivity/prediction/2024-09-01_39_114', 'voucher_sensitivity/prediction/2024-09-01_40_114', 'voucher_sensitivity/prediction/2024-09-01_49_114', 'voucher_sensitivity/prediction/2024-09-01_67_114', 'voucher_sensitivity/prediction/2024-09-01_72_114', 'voucher_sensitivity/prediction/2024-09-01_93_114', 'voucher_sensitivity/prediction/2024-09-01_9_114']\n"
     ]
    }
   ],
   "execution_count": 3
  },
  {
   "metadata": {
    "ExecuteTime": {
     "end_time": "2025-03-01T08:13:47.756033Z",
     "start_time": "2025-03-01T08:13:47.424462Z"
    }
   },
   "cell_type": "code",
   "source": [
    "import polars as pl\n",
    "\n",
    "df = pl.read_parquet(s3_key.split('/')[-1])\n",
    "df.head()"
   ],
   "outputs": [
    {
     "data": {
      "text/plain": [
       "shape: (5, 33)\n",
       "┌───────────┬───────────┬───────────┬───────────┬───┬───────────┬───────────┬───────────┬──────────┐\n",
       "│ create_da ┆ userid    ┆ base_chec ┆ shop_id   ┆ … ┆ merchandi ┆ charged_w ┆ final_wei ┆ scheme   │\n",
       "│ tetime    ┆ ---       ┆ kout_id   ┆ ---       ┆   ┆ se_subtot ┆ eight     ┆ ght       ┆ ---      │\n",
       "│ ---       ┆ i32       ┆ ---       ┆ u32       ┆   ┆ al_amt    ┆ ---       ┆ ---       ┆ str      │\n",
       "│ datetime[ ┆           ┆ i64       ┆           ┆   ┆ ---       ┆ f64       ┆ f32       ┆          │\n",
       "│ μs]       ┆           ┆           ┆           ┆   ┆ f32       ┆           ┆           ┆          │\n",
       "╞═══════════╪═══════════╪═══════════╪═══════════╪═══╪═══════════╪═══════════╪═══════════╪══════════╡\n",
       "│ 2024-09-0 ┆ 274061729 ┆ 178902609 ┆ 69169839  ┆ … ┆ 32800.0   ┆ 0.0       ┆ 0.2       ┆ original │\n",
       "│ 1         ┆           ┆ 236639    ┆           ┆   ┆           ┆           ┆           ┆          │\n",
       "│ 22:10:09  ┆           ┆           ┆           ┆   ┆           ┆           ┆           ┆          │\n",
       "│ 2024-09-0 ┆ 874421678 ┆ 178875827 ┆ 2630589   ┆ … ┆ 48000.0   ┆ 0.0       ┆ 0.25      ┆ original │\n",
       "│ 1         ┆           ┆ 238075    ┆           ┆   ┆           ┆           ┆           ┆          │\n",
       "│ 14:43:47  ┆           ┆           ┆           ┆   ┆           ┆           ┆           ┆          │\n",
       "│ 2024-09-0 ┆ 125994065 ┆ 178898266 ┆ 125636839 ┆ … ┆ 90000.0   ┆ 0.02      ┆ 0.11      ┆ original │\n",
       "│ 1         ┆ 6         ┆ 241838    ┆ 7         ┆   ┆           ┆           ┆           ┆          │\n",
       "│ 20:57:46  ┆           ┆           ┆           ┆   ┆           ┆           ┆           ┆          │\n",
       "│ 2024-09-0 ┆ 725329549 ┆ 178865226 ┆ 657326864 ┆ … ┆ 199000.0  ┆ 0.475     ┆ 0.51      ┆ original │\n",
       "│ 1         ┆           ┆ 208754    ┆           ┆   ┆           ┆           ┆           ┆          │\n",
       "│ 11:47:06  ┆           ┆           ┆           ┆   ┆           ┆           ┆           ┆          │\n",
       "│ 2024-09-0 ┆ 118683276 ┆ 178872112 ┆ 894021566 ┆ … ┆ 106000.0  ┆ 0.501667  ┆ 0.501667  ┆ original │\n",
       "│ 1         ┆ 5         ┆ 233853    ┆           ┆   ┆           ┆           ┆           ┆          │\n",
       "│ 13:41:52  ┆           ┆           ┆           ┆   ┆           ┆           ┆           ┆          │\n",
       "└───────────┴───────────┴───────────┴───────────┴───┴───────────┴───────────┴───────────┴──────────┘"
      ],
      "text/html": [
       "<div><style>\n",
       ".dataframe > thead > tr,\n",
       ".dataframe > tbody > tr {\n",
       "  text-align: right;\n",
       "  white-space: pre-wrap;\n",
       "}\n",
       "</style>\n",
       "<small>shape: (5, 33)</small><table border=\"1\" class=\"dataframe\"><thead><tr><th>create_datetime</th><th>userid</th><th>base_checkout_id</th><th>shop_id</th><th>seller_c2c</th><th>date_type</th><th>item_name</th><th>buyer_shipping_address_state</th><th>seller_shipping_address_state</th><th>route</th><th>cogs_range</th><th>order_cluster_global</th><th>order_main_cat_global</th><th>order_weight</th><th>shipping_channel</th><th>loyalty_tier</th><th>buyer_default_region_lvl1</th><th>buyer_lifecycle</th><th>fss_status</th><th>fsv_mbs</th><th>fsv_cap</th><th>fsv_voucher_discount</th><th>fsv_voucher_value</th><th>pv_mbs</th><th>pv_cap</th><th>pv_voucher_discount</th><th>pv_voucher_value</th><th>estimate_shipping_fee</th><th>buyer_paid_shipping_fee</th><th>merchandise_subtotal_amt</th><th>charged_weight</th><th>final_weight</th><th>scheme</th></tr><tr><td>datetime[μs]</td><td>i32</td><td>i64</td><td>u32</td><td>cat</td><td>str</td><td>str</td><td>str</td><td>str</td><td>str</td><td>str</td><td>str</td><td>str</td><td>str</td><td>str</td><td>str</td><td>str</td><td>str</td><td>str</td><td>i32</td><td>i32</td><td>i8</td><td>i32</td><td>i32</td><td>i32</td><td>i8</td><td>i32</td><td>f32</td><td>f32</td><td>f32</td><td>f64</td><td>f32</td><td>str</td></tr></thead><tbody><tr><td>2024-09-01 22:10:09</td><td>274061729</td><td>178902609236639</td><td>69169839</td><td>&quot;Local_C2C&quot;</td><td>&quot;Mini Spike 1&quot;</td><td>&quot;Tấm hắt sáng chụp ảnh 60cm 2 m…</td><td>&quot;TP. Hồ Chí Minh&quot;</td><td>&quot;TP. Hồ Chí Minh&quot;</td><td>&quot;Intra City&quot;</td><td>&quot;[0K, 45K)&quot;</td><td>&quot;ELHA&quot;</td><td>&quot;Cameras &amp; Drones&quot;</td><td>&quot;[0kg - 1kg]&quot;</td><td>&quot;Standard&quot;</td><td>&quot;gold&quot;</td><td>&quot;Urban&quot;</td><td>&quot;Existing&quot;</td><td>&quot;FSS&quot;</td><td>0</td><td>0</td><td>100</td><td>15000</td><td>null</td><td>null</td><td>null</td><td>null</td><td>16500.0</td><td>1500.0</td><td>32800.0</td><td>0.0</td><td>0.2</td><td>&quot;original&quot;</td></tr><tr><td>2024-09-01 14:43:47</td><td>874421678</td><td>178875827238075</td><td>2630589</td><td>&quot;Local_C2C&quot;</td><td>&quot;Mini Spike 1&quot;</td><td>&quot;Ô dù che mưa nắng chống tia uv…</td><td>&quot;Nam Định&quot;</td><td>&quot;Hà Nội&quot;</td><td>&quot;Intra Region&quot;</td><td>&quot;[45K, 100K)&quot;</td><td>&quot;Fashion&quot;</td><td>&quot;Sports &amp; Outdoors&quot;</td><td>&quot;[0kg - 1kg]&quot;</td><td>&quot;Standard&quot;</td><td>&quot;classic&quot;</td><td>&quot;Rural&quot;</td><td>&quot;Existing&quot;</td><td>&quot;FSS&quot;</td><td>0</td><td>0</td><td>100</td><td>15000</td><td>null</td><td>null</td><td>null</td><td>null</td><td>32800.0</td><td>18000.0</td><td>48000.0</td><td>0.0</td><td>0.25</td><td>&quot;original&quot;</td></tr><tr><td>2024-09-01 20:57:46</td><td>1259940656</td><td>178898266241838</td><td>1256368397</td><td>&quot;Local_C2C&quot;</td><td>&quot;Mini Spike 1&quot;</td><td>&quot;Combo sơ mi nhựa Nylon + Vòng …</td><td>&quot;An Giang&quot;</td><td>&quot;TP. Hồ Chí Minh&quot;</td><td>&quot;Intra Region&quot;</td><td>&quot;[45K, 100K)&quot;</td><td>&quot;ELHA&quot;</td><td>&quot;Home Appliances&quot;</td><td>&quot;[0kg - 1kg]&quot;</td><td>&quot;Standard&quot;</td><td>&quot;silver&quot;</td><td>&quot;Rural&quot;</td><td>&quot;Existing&quot;</td><td>&quot;FSS&quot;</td><td>50000</td><td>0</td><td>100</td><td>25000</td><td>null</td><td>null</td><td>null</td><td>null</td><td>32800.0</td><td>8000.0</td><td>90000.0</td><td>0.02</td><td>0.11</td><td>&quot;original&quot;</td></tr><tr><td>2024-09-01 11:47:06</td><td>725329549</td><td>178865226208754</td><td>657326864</td><td>&quot;Local_C2C&quot;</td><td>&quot;Mini Spike 1&quot;</td><td>&quot;Bộ Combo Cần Câu Tay Đế Vương …</td><td>&quot;Bình Dương&quot;</td><td>&quot;Hà Nội&quot;</td><td>&quot;Cross Region&quot;</td><td>&quot;[100K, 300K)&quot;</td><td>&quot;Fashion&quot;</td><td>&quot;Sports &amp; Outdoors&quot;</td><td>&quot;[0kg - 1kg]&quot;</td><td>&quot;Standard&quot;</td><td>&quot;classic&quot;</td><td>&quot;Rural&quot;</td><td>&quot;New&quot;</td><td>&quot;FSS&quot;</td><td>100000</td><td>0</td><td>100</td><td>300000</td><td>0</td><td>0</td><td>0</td><td>50000</td><td>50100.0</td><td>0.0</td><td>199000.0</td><td>0.475</td><td>0.51</td><td>&quot;original&quot;</td></tr><tr><td>2024-09-01 13:41:52</td><td>1186832765</td><td>178872112233853</td><td>894021566</td><td>&quot;Local_C2C&quot;</td><td>&quot;Mini Spike 1&quot;</td><td>&quot;Ba lô học sinh Túi đeo vai kép…</td><td>&quot;Lai Châu&quot;</td><td>&quot;Hà Nội&quot;</td><td>&quot;Intra Region&quot;</td><td>&quot;[45K, 100K)&quot;</td><td>&quot;Fashion&quot;</td><td>&quot;Women Bags&quot;</td><td>&quot;[0kg - 1kg]&quot;</td><td>&quot;Standard&quot;</td><td>&quot;silver&quot;</td><td>&quot;Rural&quot;</td><td>&quot;Existing&quot;</td><td>&quot;FSS&quot;</td><td>50000</td><td>0</td><td>100</td><td>15000</td><td>null</td><td>null</td><td>null</td><td>null</td><td>37600.0</td><td>23000.0</td><td>106000.0</td><td>0.501667</td><td>0.501667</td><td>&quot;original&quot;</td></tr></tbody></table></div>"
      ]
     },
     "execution_count": 4,
     "metadata": {},
     "output_type": "execute_result"
    }
   ],
   "execution_count": 4
  },
  {
   "metadata": {
    "ExecuteTime": {
     "end_time": "2025-03-01T08:19:04.053360Z",
     "start_time": "2025-03-01T08:19:04.045924Z"
    }
   },
   "cell_type": "code",
   "source": "df.schema",
   "outputs": [
    {
     "data": {
      "text/plain": [
       "Schema([('create_datetime', Datetime(time_unit='us', time_zone=None)),\n",
       "        ('userid', Int32),\n",
       "        ('base_checkout_id', Int64),\n",
       "        ('shop_id', UInt32),\n",
       "        ('seller_c2c', Categorical(ordering='physical')),\n",
       "        ('date_type', String),\n",
       "        ('item_name', String),\n",
       "        ('buyer_shipping_address_state', String),\n",
       "        ('seller_shipping_address_state', String),\n",
       "        ('route', String),\n",
       "        ('cogs_range', String),\n",
       "        ('order_cluster_global', String),\n",
       "        ('order_main_cat_global', String),\n",
       "        ('order_weight', String),\n",
       "        ('shipping_channel', String),\n",
       "        ('loyalty_tier', String),\n",
       "        ('buyer_default_region_lvl1', String),\n",
       "        ('buyer_lifecycle', String),\n",
       "        ('fss_status', String),\n",
       "        ('fsv_mbs', Int32),\n",
       "        ('fsv_cap', Int32),\n",
       "        ('fsv_voucher_discount', Int8),\n",
       "        ('fsv_voucher_value', Int32),\n",
       "        ('pv_mbs', Int32),\n",
       "        ('pv_cap', Int32),\n",
       "        ('pv_voucher_discount', Int8),\n",
       "        ('pv_voucher_value', Int32),\n",
       "        ('estimate_shipping_fee', Float32),\n",
       "        ('buyer_paid_shipping_fee', Float32),\n",
       "        ('merchandise_subtotal_amt', Float32),\n",
       "        ('charged_weight', Float64),\n",
       "        ('final_weight', Float32),\n",
       "        ('scheme', String)])"
      ]
     },
     "execution_count": 6,
     "metadata": {},
     "output_type": "execute_result"
    }
   ],
   "execution_count": 6
  },
  {
   "metadata": {
    "ExecuteTime": {
     "end_time": "2025-03-01T08:13:47.871646Z",
     "start_time": "2025-03-01T08:13:47.868708Z"
    }
   },
   "cell_type": "code",
   "source": [
    "s3.convert_dataframe_flink_config(\n",
    "    df,\n",
    "    key=s3_key,\n",
    "    table_name='dev_vnbi_mkt.ds_s3_voucher_sensitivity_fsv_only',\n",
    "    primary_key='userid'\n",
    ")"
   ],
   "outputs": [
    {
     "name": "stdout",
     "output_type": "stream",
     "text": [
      "\n",
      "        [FLINK CONFIG]\n",
      "        source {\n",
      "            S3FileSource {\n",
      "                datasource_name = \"my_s3\"\n",
      "                path = \"s3a://sg-vnbi-mkt-kevin/voucher_sensitivity/prediction/2024-09-01_111_114\"\n",
      "                format = \"parquet\"\n",
      "                schema = '[{\"field\": \"create_datetime\", \"type\": null}, {\"field\": \"userid\", \"type\": \"int\"}, {\"field\": \"base_checkout_id\", \"type\": \"bigint\"}, {\"field\": \"shop_id\", \"type\": \"int\"}, {\"field\": \"seller_c2c\", \"type\": null}, {\"field\": \"date_type\", \"type\": \"string\"}, {\"field\": \"item_name\", \"type\": \"string\"}, {\"field\": \"buyer_shipping_address_state\", \"type\": \"string\"}, {\"field\": \"seller_shipping_address_state\", \"type\": \"string\"}, {\"field\": \"route\", \"type\": \"string\"}, {\"field\": \"cogs_range\", \"type\": \"string\"}, {\"field\": \"order_cluster_global\", \"type\": \"string\"}, {\"field\": \"order_main_cat_global\", \"type\": \"string\"}, {\"field\": \"order_weight\", \"type\": \"string\"}, {\"field\": \"shipping_channel\", \"type\": \"string\"}, {\"field\": \"loyalty_tier\", \"type\": \"string\"}, {\"field\": \"buyer_default_region_lvl1\", \"type\": \"string\"}, {\"field\": \"buyer_lifecycle\", \"type\": \"string\"}, {\"field\": \"fss_status\", \"type\": \"string\"}, {\"field\": \"fsv_mbs\", \"type\": \"int\"}, {\"field\": \"fsv_cap\", \"type\": \"int\"}, {\"field\": \"fsv_voucher_discount\", \"type\": \"int\"}, {\"field\": \"fsv_voucher_value\", \"type\": \"int\"}, {\"field\": \"pv_mbs\", \"type\": \"int\"}, {\"field\": \"pv_cap\", \"type\": \"int\"}, {\"field\": \"pv_voucher_discount\", \"type\": \"int\"}, {\"field\": \"pv_voucher_value\", \"type\": \"int\"}, {\"field\": \"estimate_shipping_fee\", \"type\": \"float\"}, {\"field\": \"buyer_paid_shipping_fee\", \"type\": \"float\"}, {\"field\": \"merchandise_subtotal_amt\", \"type\": \"float\"}, {\"field\": \"charged_weight\", \"type\": \"double\"}, {\"field\": \"final_weight\", \"type\": \"float\"}, {\"field\": \"scheme\", \"type\": \"string\"}]'\n",
      "                endpoint = \"https://s3g.data-infra.shopee.io\"\n",
      "                bucket = \"sg-vnbi-mkt-kevin\"\n",
      "                access_key = \"xuankhang.do\"\n",
      "                secret_key = \"yZEbpqPxgHw9\"\n",
      "                ignore-parse-errors = \"false\"\n",
      "                skip-first-data-row = \"true\"\n",
      "                result_table_name = \"s3FileSource\"\n",
      "              }\n",
      "        }\n",
      "        \n",
      "        [CREATE SQL TABLE]:\n",
      "        CREATE TABLE dev_vnbi_mkt.ds_s3_voucher_sensitivity_fsv_only (\n",
      "        create_datetime None,\n",
      " userid int,\n",
      " base_checkout_id bigint,\n",
      " shop_id int,\n",
      " seller_c2c None,\n",
      " date_type string,\n",
      " item_name string,\n",
      " buyer_shipping_address_state string,\n",
      " seller_shipping_address_state string,\n",
      " route string,\n",
      " cogs_range string,\n",
      " order_cluster_global string,\n",
      " order_main_cat_global string,\n",
      " order_weight string,\n",
      " shipping_channel string,\n",
      " loyalty_tier string,\n",
      " buyer_default_region_lvl1 string,\n",
      " buyer_lifecycle string,\n",
      " fss_status string,\n",
      " fsv_mbs int,\n",
      " fsv_cap int,\n",
      " fsv_voucher_discount int,\n",
      " fsv_voucher_value int,\n",
      " pv_mbs int,\n",
      " pv_cap int,\n",
      " pv_voucher_discount int,\n",
      " pv_voucher_value int,\n",
      " estimate_shipping_fee float,\n",
      " buyer_paid_shipping_fee float,\n",
      " merchandise_subtotal_amt float,\n",
      " charged_weight double,\n",
      " final_weight float,\n",
      " scheme string\n",
      "        PRIMARY KEY (userid)\n",
      "        )\n",
      "        \n"
     ]
    }
   ],
   "execution_count": 5
  },
  {
   "metadata": {},
   "cell_type": "code",
   "outputs": [],
   "execution_count": null,
   "source": [
    "\"\"\"\n",
    "env {\n",
    "}\n",
    "\n",
    "source {\n",
    "    S3FileSource {\n",
    "      datasource_name = \"my_s3\"\n",
    "      path = \"s3a://sg-vnbi-mkt-kevin/voucher_sensitivity/prediction/2024-09-01_111_114\"\n",
    "      format = \"parquet\"\n",
    "      schema = 'b'[{\"field\":\"create_datetime\",\"type\":null},{\"field\":\"userid\",\"type\":\"int\"},{\"field\":\"base_checkout_id\",\"type\":\"bigint\"},{\"field\":\"shop_id\",\"type\":\"int\"},{\"field\":\"seller_c2c\",\"type\":null},{\"field\":\"date_type\",\"type\":\"string\"},{\"field\":\"item_name\",\"type\":\"string\"},{\"field\":\"buyer_shipping_address_state\",\"type\":\"string\"},{\"field\":\"seller_shipping_address_state\",\"type\":\"string\"},{\"field\":\"route\",\"type\":\"string\"},{\"field\":\"cogs_range\",\"type\":\"string\"},{\"field\":\"order_cluster_global\",\"type\":\"string\"},{\"field\":\"order_main_cat_global\",\"type\":\"string\"},{\"field\":\"order_weight\",\"type\":\"string\"},{\"field\":\"shipping_channel\",\"type\":\"string\"},{\"field\":\"loyalty_tier\",\"type\":\"string\"},{\"field\":\"buyer_default_region_lvl1\",\"type\":\"string\"},{\"field\":\"buyer_lifecycle\",\"type\":\"string\"},{\"field\":\"fss_status\",\"type\":\"string\"},{\"field\":\"fsv_mbs\",\"type\":\"int\"},{\"field\":\"fsv_cap\",\"type\":\"int\"},{\"field\":\"fsv_voucher_discount\",\"type\":\"int\"},{\"field\":\"fsv_voucher_value\",\"type\":\"int\"},{\"field\":\"pv_mbs\",\"type\":\"int\"},{\"field\":\"pv_cap\",\"type\":\"int\"},{\"field\":\"pv_voucher_discount\",\"type\":\"int\"},{\"field\":\"pv_voucher_value\",\"type\":\"int\"},{\"field\":\"estimate_shipping_fee\",\"type\":\"float\"},{\"field\":\"buyer_paid_shipping_fee\",\"type\":\"float\"},{\"field\":\"merchandise_subtotal_amt\",\"type\":\"float\"},{\"field\":\"charged_weight\",\"type\":\"double\"},{\"field\":\"final_weight\",\"type\":\"float\"},{\"field\":\"scheme\",\"type\":\"string\"}]''\n",
    "      endpoint = \"https://s3g.data-infra.shopee.io\"\n",
    "      bucket = \"sg-vnbi-mkt-kevin\"\n",
    "      access_key = \"xuankhang.do\"\n",
    "      secret_key = \"yZEbpqPxgHw9\"\n",
    "      ignore-parse-errors = \"false\"\n",
    "      skip-first-data-row = \"true\"\n",
    "      result_table_name = \"s3FileSource\"\n",
    "    }\n",
    "}\n",
    "\n",
    "transform {\n",
    "  Sql {\n",
    "    sql = \"select *, '${bizTime}' as grass_date from `s3FileSource`\"\n",
    "    result_table_name = \"transformed\"\n",
    "  }\n",
    "}\n",
    "\n",
    "sink {\n",
    "  HiveSink {\n",
    "    source_table_name = \"transformed\"\n",
    "    result_table_name = \"dev_vnbi_mkt.ds_s3_voucher_sensitivity_fsv_only\"\n",
    "  }\n",
    "}\n",
    "\"\"\""
   ]
  },
  {
   "cell_type": "code",
   "execution_count": 6,
   "metadata": {},
   "outputs": [
    {
     "name": "stdout",
     "output_type": "stream",
     "text": [
      "C:\\Users\\Kevin\\Desktop\n"
     ]
    },
    {
     "name": "stderr",
     "output_type": "stream",
     "text": [
      "Download - prm_2023-08-24.parquet: 100%|██████████| 13.7M/13.7M [00:05<00:00, 2.64MB/s]"
     ]
    },
    {
     "name": "stdout",
     "output_type": "stream",
     "text": [
      "\u001B[96m🐸 S3:\u001B[39m Download file successfully\n"
     ]
    },
    {
     "name": "stderr",
     "output_type": "stream",
     "text": [
      "\n"
     ]
    }
   ],
   "source": [
    "path = Path().home() / 'Desktop'\n",
    "print(path)\n",
    "\n",
    "s3.download_file(path=path, key='prm_2023-08-24.parquet')"
   ]
  },
  {
   "cell_type": "code",
   "execution_count": 8,
   "metadata": {},
   "outputs": [
    {
     "name": "stderr",
     "output_type": "stream",
     "text": [
      "Upload - prm_2023-08-24.parquet: 100%|██████████| 13.7M/13.7M [00:04<00:00, 3.23MB/s]"
     ]
    },
    {
     "name": "stdout",
     "output_type": "stream",
     "text": [
      "\u001B[96m🐸 S3:\u001B[39m Upload file successfully\n"
     ]
    },
    {
     "name": "stderr",
     "output_type": "stream",
     "text": [
      "\n"
     ]
    }
   ],
   "source": [
    "file_path = path / 'prm_2023-08-24.parquet'\n",
    "s3.upload_file(file=file_path)"
   ]
  },
  {
   "cell_type": "code",
   "execution_count": null,
   "metadata": {},
   "outputs": [],
   "source": []
  }
 ],
 "metadata": {
  "kernelspec": {
   "display_name": "test",
   "language": "python",
   "name": "python3"
  },
  "language_info": {
   "codemirror_mode": {
    "name": "ipython",
    "version": 3
   },
   "file_extension": ".py",
   "mimetype": "text/x-python",
   "name": "python",
   "nbconvert_exporter": "python",
   "pygments_lexer": "ipython3",
   "version": "3.11.5"
  },
  "orig_nbformat": 4
 },
 "nbformat": 4,
 "nbformat_minor": 2
}
