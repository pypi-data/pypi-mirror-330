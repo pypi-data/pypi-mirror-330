{
 "cells": [
  {
   "cell_type": "markdown",
   "metadata": {},
   "source": [
    "### Example 1: Convert Geodetic coordinates to ECEF"
   ]
  },
  {
   "cell_type": "code",
   "execution_count": 1,
   "metadata": {},
   "outputs": [
    {
     "name": "stdout",
     "output_type": "stream",
     "text": [
      "Geodetic to ECEF:\n",
      "X: 3149785.9652 m\n",
      "Y: 598260.8822 m\n",
      "Z: 5495348.4927 m\n"
     ]
    }
   ],
   "source": [
    "from pygeodetics import Geodetic\n",
    "\n",
    "# Initialize Geodetic class with WGS84 ellipsoid\n",
    "geod = Geodetic()\n",
    "\n",
    "lat = 59.907072474276958 # Latitude in degrees\n",
    "lon = 10.754482924017791 # Longitude in degrees\n",
    "h = 63.8281  # Height in meters\n",
    "\n",
    "X, Y, Z = geod.geod2ecef(lat, lon, h)\n",
    "print(f\"Geodetic to ECEF:\\nX: {X:.4f} m\\nY: {Y:.4f} m\\nZ: {Z:.4f} m\")"
   ]
  },
  {
   "cell_type": "markdown",
   "metadata": {},
   "source": [
    "### Example 2: Convert ECEF to Geodetic"
   ]
  },
  {
   "cell_type": "code",
   "execution_count": 2,
   "metadata": {},
   "outputs": [
    {
     "name": "stdout",
     "output_type": "stream",
     "text": [
      "ECEF to Geodetic:\n",
      "Latitude: 59.907072°\n",
      "Longitude: 10.754483°\n",
      "Height: 63.828 m\n"
     ]
    }
   ],
   "source": [
    "from pygeodetics import Geodetic\n",
    "\n",
    "X = 3149785.9652\n",
    "Y = 598260.8822\n",
    "Z = 5495348.4927\n",
    "geod = Geodetic()\n",
    "lat_res, lon_res, h_res = geod.ecef2geod(X, Y, Z, angle_unit='deg')\n",
    "print(f\"ECEF to Geodetic:\\nLatitude: {lat_res:.6f}°\\nLongitude: {lon_res:.6f}°\\nHeight: {h_res:.3f} m\")\n"
   ]
  },
  {
   "cell_type": "markdown",
   "metadata": {},
   "source": [
    "### Example 3: Convert ECEF to ENU"
   ]
  },
  {
   "cell_type": "code",
   "execution_count": 3,
   "metadata": {},
   "outputs": [
    {
     "name": "stdout",
     "output_type": "stream",
     "text": [
      "ECEF to ENU:\n",
      "East: 55954.298016 m\n",
      "North: 111815.801502 m\n",
      "Up: -1224.353365 m\n"
     ]
    }
   ],
   "source": [
    "from pygeodetics import Geodetic\n",
    "\n",
    "# Define ECEF coordinates\n",
    "X = 3149785.9652\n",
    "Y = 598260.8822\n",
    "Z = 5495348.4927\n",
    "\n",
    "# Define reference point\n",
    "lat0 = 58.907072  # Convert degrees to radians\n",
    "lon0 = 9.75448  # Convert degrees to radians\n",
    "h0 = 63.8281  # Height in meters\n",
    "\n",
    "# Convert ECEF to ENU\n",
    "e, n, u = Geodetic().ecef2enu(X, Y, Z, lat0, lon0, h0, radians=False)\n",
    "print(f\"ECEF to ENU:\\nEast: {e:.6f} m\\nNorth: {n:.6f} m\\nUp: {u:.6f} m\")\n"
   ]
  },
  {
   "cell_type": "markdown",
   "metadata": {},
   "source": [
    "### Example 4: Convert ECEF to NED (North, East, Down)"
   ]
  },
  {
   "cell_type": "code",
   "execution_count": 4,
   "metadata": {},
   "outputs": [
    {
     "name": "stdout",
     "output_type": "stream",
     "text": [
      "ECEF to NED:\n",
      "North: 111815.801502 m\n",
      "East: 55954.298016 m\n",
      "Down: 1224.353365 m\n"
     ]
    }
   ],
   "source": [
    "from pygeodetics import Geodetic\n",
    "\n",
    "# Define ECEF coordinates\n",
    "X = 3149785.9652\n",
    "Y = 598260.8822\n",
    "Z = 5495348.4927\n",
    "\n",
    "# Define reference point\n",
    "lat0 = 58.907072  # Convert degrees to radians\n",
    "lon0 = 9.75448  # Convert degrees to radians\n",
    "h0 = 63.8281  # Height in meters\n",
    "n, e, d = Geodetic().ecef2ned(X, Y, Z, lat0, lon0, h0)\n",
    "print(f\"ECEF to NED:\\nNorth: {n:.6f} m\\nEast: {e:.6f} m\\nDown: {d:.6f} m\")\n"
   ]
  },
  {
   "cell_type": "markdown",
   "metadata": {},
   "source": [
    "### Example 5: Compute Geodetic Inverse Problem (Distance and Azimuths) on the GRS80 ellipsoid"
   ]
  },
  {
   "cell_type": "code",
   "execution_count": 5,
   "metadata": {},
   "outputs": [
    {
     "name": "stdout",
     "output_type": "stream",
     "text": [
      "Geodetic Inverse Problem:\n",
      "Forward Azimuth: -147.462804°\n",
      "Reverse Azimuth: -153.716867°\n",
      "Distance: 1316208.083 m\n"
     ]
    }
   ],
   "source": [
    "from pygeodetics import Geodetic\n",
    "from pygeodetics.Ellipsoid import GRS80\n",
    "\n",
    "# Initialize Geodetic class with WGS84 ellipsoid\n",
    "geod = Geodetic(GRS80())\n",
    "\n",
    "# Definiing the coordinates of the first point\n",
    "lat1 = 52.2296756\n",
    "lon1 = 21.0122287\n",
    "\n",
    "# Defining the coordinates of the second point\n",
    "lat2 = 41.8919300\n",
    "lon2 = 12.5113300\n",
    "\n",
    "# Calculate the forward azimuth, reverse azimuth and distance between the two points\n",
    "az1, az2, distance = geod.inverse_problem(lat1, lon1, lat2, lon2, quadrant_correction=False)\n",
    "print(f\"Geodetic Inverse Problem:\\nForward Azimuth: {az1:.6f}°\\nReverse Azimuth: {az2:.6f}°\\nDistance: {distance:.3f} m\")"
   ]
  },
  {
   "cell_type": "markdown",
   "metadata": {},
   "source": [
    "### Example 6: Compute Geodetic Direct Problem (New Position from Distance and Azimuth) on the GRS80 ellipsoid"
   ]
  },
  {
   "cell_type": "code",
   "execution_count": 6,
   "metadata": {},
   "outputs": [
    {
     "name": "stdout",
     "output_type": "stream",
     "text": [
      "Geodetic Direct Problem:\n",
      "Destination Latitude: 41.891930°\n",
      "Destination Longitude: 12.511330°\n",
      "Final Azimuth: 206.283133°\n"
     ]
    }
   ],
   "source": [
    "from pygeodetics import Geodetic\n",
    "from pygeodetics.Ellipsoid import WGS84\n",
    "\n",
    "# Initialize Geodetic class with WGS84 ellipsoid\n",
    "geod = Geodetic(WGS84())\n",
    "\n",
    "az1 = -147.4628043168\n",
    "d = 1316208.08334\n",
    "\n",
    "lat2, lon2, az2 = geod.direct_problem(lat1, lon1, az1, d, quadrant_correction=True)\n",
    "print(f\"Geodetic Direct Problem:\\nDestination Latitude: {lat2:.6f}°\\nDestination Longitude: {lon2:.6f}°\\nFinal Azimuth: {az2:.6f}°\")\n"
   ]
  },
  {
   "cell_type": "markdown",
   "metadata": {},
   "source": [
    "### Example 7: Compute the Radius of Curvature for a given Azimuth using Euler's equation."
   ]
  },
  {
   "cell_type": "code",
   "execution_count": 7,
   "metadata": {},
   "outputs": [
    {
     "name": "stdout",
     "output_type": "stream",
     "text": [
      "Radius of Curvature:\n",
      "6346070.049 meters\n"
     ]
    }
   ],
   "source": [
    "from pygeodetics import Geodetic\n",
    "\n",
    "# Define the latitude and azimuth\n",
    "lat = 45\n",
    "azimuth = 30\n",
    "\n",
    "# Compute the radius of curvature\n",
    "radius = Geodetic().radius_of_curvature(lat, azimuth, radians=False)\n",
    "print(f\"Radius of Curvature:\\n{radius:.3f} meters\")"
   ]
  },
  {
   "cell_type": "markdown",
   "metadata": {},
   "source": [
    "### Example 8: Compute Mean Radius of the International1924 Ellipsoid"
   ]
  },
  {
   "cell_type": "code",
   "execution_count": 8,
   "metadata": {},
   "outputs": [
    {
     "name": "stdout",
     "output_type": "stream",
     "text": [
      "Mean Radius of the Ellipsoid:\n",
      "6371229.315 meters\n"
     ]
    }
   ],
   "source": [
    "from pygeodetics import Geodetic\n",
    "from pygeodetics.Ellipsoid import International1924\n",
    "\n",
    "# Initialize Geodetic class\n",
    "geod = Geodetic(International1924())\n",
    "\n",
    "mean_radius = geod.get_mean_radius()\n",
    "print(f\"Mean Radius of the Ellipsoid:\\n{mean_radius:.3f} meters\")"
   ]
  },
  {
   "cell_type": "markdown",
   "metadata": {},
   "source": [
    "### Example 9: Use standalone function ECEF2geodb directly without using Geodetic class"
   ]
  },
  {
   "cell_type": "code",
   "execution_count": 9,
   "metadata": {},
   "outputs": [
    {
     "name": "stdout",
     "output_type": "stream",
     "text": [
      "ECEF2geod:\n",
      "Latitude=59.907072474276958\n",
      "Longitude=10.754482924017791, Height=63.8281\n",
      "\n"
     ]
    }
   ],
   "source": [
    "from pygeodetics import ECEF2geodb\n",
    "\n",
    "# Get the WGS84 ellipsoid parameters\n",
    "a = 6378137\n",
    "b = 6356752.314245179\n",
    "\n",
    "# Define Cartesian ECEF coordinates\n",
    "X, Y, Z = 3149785.9652, 598260.8822, 5495348.4927\n",
    "\n",
    "# Use ECEF2geod\n",
    "lat, lon, h = ECEF2geodb(a, b, X, Y, Z)\n",
    "print(f\"ECEF2geod:\\nLatitude={lat:.15f}\\nLongitude={lon:.15f}, Height={h:.4f}\\n\")\n",
    "\n"
   ]
  },
  {
   "cell_type": "markdown",
   "metadata": {},
   "source": [
    "### Example 10: Compute distance between two points using Vincenty formula"
   ]
  },
  {
   "cell_type": "code",
   "execution_count": 10,
   "metadata": {},
   "outputs": [
    {
     "name": "stdout",
     "output_type": "stream",
     "text": [
      "Distances between the two points: 1316208.083304771\n"
     ]
    }
   ],
   "source": [
    "from pygeodetics import Geodetic\n",
    "\n",
    "# Define the coordinates of the first point\n",
    "lat1 = 52.2296756\n",
    "lon1 = 21.0122287\n",
    "\n",
    "# Define the coordinates of the second point\n",
    "lat2 = 41.8919300\n",
    "lon2 = 12.5113300\n",
    "\n",
    "distances = Geodetic().distance_between_two_points(lon1, lat1, lon2, lat2, radians=False)\n",
    "print(f\"Distances between the two points: {distances}\")\n"
   ]
  },
  {
   "cell_type": "markdown",
   "metadata": {},
   "source": [
    "### Example 11: Calculate the meridional radius of curvature (M) at a given latitude."
   ]
  },
  {
   "cell_type": "code",
   "execution_count": 11,
   "metadata": {},
   "outputs": [
    {
     "name": "stdout",
     "output_type": "stream",
     "text": [
      "Mean Radius of the Ellipsoid at Latitude 61.456121547°: 6384850.612 meters\n"
     ]
    }
   ],
   "source": [
    "from pygeodetics import Geodetic\n",
    "\n",
    "# Compute the mean radius of the ellipsoid at a given latitude\n",
    "lat = 61.456121547 # Latitude in degrees\n",
    "mradius = Geodetic().mrad(lat)\n",
    "print(f\"Mean Radius of the Ellipsoid at Latitude {lat}°: {mradius:.3f} meters\")"
   ]
  },
  {
   "cell_type": "markdown",
   "metadata": {},
   "source": [
    "### Example 12: Calculate the normal radius of curvature (N) at a given latitude."
   ]
  },
  {
   "cell_type": "code",
   "execution_count": 12,
   "metadata": {},
   "outputs": [
    {
     "name": "stdout",
     "output_type": "stream",
     "text": [
      "Normal Radius of the Ellipsoid at Latitude 61.456121547°:\n",
      "6394675.509 meters\n"
     ]
    }
   ],
   "source": [
    "from pygeodetics import Geodetic\n",
    "\n",
    "# Compute the normal radius of the ellipsoid at a given latitude\n",
    "lat = 61.456121547 # Latitude in degrees\n",
    "mradius = Geodetic().nrad(lat)\n",
    "print(f\"Normal Radius of the Ellipsoid at Latitude {lat}°:\\n{mradius:.3f} meters\")"
   ]
  }
 ],
 "metadata": {
  "kernelspec": {
   "display_name": ".env",
   "language": "python",
   "name": "python3"
  },
  "language_info": {
   "codemirror_mode": {
    "name": "ipython",
    "version": 3
   },
   "file_extension": ".py",
   "mimetype": "text/x-python",
   "name": "python",
   "nbconvert_exporter": "python",
   "pygments_lexer": "ipython3",
   "version": "3.12.6"
  }
 },
 "nbformat": 4,
 "nbformat_minor": 2
}
