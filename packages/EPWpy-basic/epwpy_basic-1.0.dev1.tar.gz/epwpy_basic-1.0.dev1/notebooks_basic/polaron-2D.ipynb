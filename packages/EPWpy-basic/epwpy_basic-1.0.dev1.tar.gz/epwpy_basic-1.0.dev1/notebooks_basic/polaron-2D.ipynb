{
 "cells": [
  {
   "cell_type": "markdown",
   "metadata": {},
   "source": [
    "# EPW workflow for polaron calculations"
   ]
  },
  {
   "cell_type": "markdown",
   "metadata": {},
   "source": [
    "### $\\underline{Introduction}$\n",
    "\n",
    "In this notebook, we will perform calculations of self-trapped polarons in 2D materials with the EPW code. The methodology for polarons in 2D remains the same as in 3D, and one can review it in the notebook **polaron**. However, the dipole electron-phonon interactions have different long-range behaviors, which drastically change the polaron formation in atomistic thin 2D materials. The complete theory and computational method are described in [Phys. Rev. B **105**, 115414 (2022)](https://journals.aps.org/prb/abstract/10.1103/PhysRevB.105.115414) and [Nat. Phys. **19**, 629-636 (2023)](https://doi.org/10.1038/s41567-023-01953-4).\n",
    "\n",
    "We quote the self-consistent polaron equations in reciprocal space here:\n",
    "$$\\begin{aligned}\n",
    "  &\\frac{2}{N_p} \\sum_{\\mathbf{q}m\\nu} B_{\\mathbf{q}\\nu}\n",
    "  \\, g_{mn\\nu}^{*}(\\mathbf{k},\\mathbf{q}) \\, A_{m\\mathbf{k+q}}\n",
    "  =\n",
    "  (\\varepsilon_{n\\mathbf{k}}-\\varepsilon) A_{n\\mathbf{k}} ~,\\\\\n",
    "  &B_{\\mathbf{q}\\nu} = \\frac{1}{N_p}\n",
    "  \\sum_{mn\\mathbf{k}} A^{*}_{m\\mathbf{k+q}}\n",
    "  \\frac{g_{mn\\nu}(\\mathbf{k},\\mathbf{q})}{\\hbar\\omega_{\\mathbf{q}\\nu}} A_{n\\mathbf{k}} ~.\n",
    "\\end{aligned}$$\n",
    "where $g_{mn\\nu}({\\bf k},{\\bf q})$ is the electron-phonon vertex that needs to be interpolated into finer grids when solving the equations. One can review them in the **polaron** notebook, or Eq.(37-38) in [Phys. Rev. B **99**, 235139 (2019)](https://doi.org/10.1103/PhysRevB.99.235139).\n",
    "\n",
    "In bulk polaron materials, Frohlich (dipole) interaction is the key to form a large polaron, while it is divergent in the limit of $|{\\bf q}|=0$, which cannot be captured using Fourier interpolation with finite Fourier components. To treat this problem, one could subtract and add the Frohlich vertex before and after the interpolation of $g_{mn\\nu}({\\bf k},{\\bf q})$, by using the analytic expression shown as Eq.(4) in [Phys. Rev. Lett. 115, 176401 (2015)](https://journals.aps.org/prl/abstract/10.1103/PhysRevLett.115.176401). In practice, one needs to set \"lpolar\" to \".true.\" in the \"epw2\" calculations. However, in monolayer polar materials, the finite thickness imposes screening to the long-range couplings. Based on the dielectric slab model, one could arrive at the Eq.(46) in [Phys. Rev. B **105**, 115414 (2022)](https://journals.aps.org/prb/abstract/10.1103/PhysRevB.105.115414) , which is used to interpolate the dipole part of electron-phonon vertex, when the input variable \"system_2d\" is set as \"dipole_sh\"."
   ]
  },
  {
   "cell_type": "markdown",
   "metadata": {},
   "source": [
    "> Example performed below: hole polaron in monolayer hexagonal BeO."
   ]
  },
  {
   "cell_type": "markdown",
   "metadata": {},
   "source": [
    "### $\\underline{Working~Environment}$"
   ]
  },
  {
   "cell_type": "markdown",
   "metadata": {},
   "source": [
    "Load required modules:"
   ]
  },
  {
   "cell_type": "code",
   "execution_count": 10,
   "metadata": {},
   "outputs": [
    {
     "name": "stdout",
     "output_type": "stream",
     "text": [
      "/scratch1/08220/kfluo/notebook_epw_bgw\n"
     ]
    }
   ],
   "source": [
    "import numpy as np\n",
    "import scipy.interpolate\n",
    "import matplotlib.pyplot as plt\n",
    "import os\n",
    "import pandas as pd\n",
    "import sys\n",
    "#dir_nb = str(os.getcwd())\n",
    "dir_nb = '/scratch1/08220/kfluo/notebook_epw_bgw'\n",
    "print(dir_nb)\n",
    "sys.path.insert(0,dir_nb+'/EPWpy/')\n",
    "from EPWpy import *\n",
    "from plotting import plot_polaron"
   ]
  },
  {
   "cell_type": "markdown",
   "metadata": {},
   "source": [
    "Set paths to relevant directories:"
   ]
  },
  {
   "cell_type": "code",
   "execution_count": 11,
   "metadata": {},
   "outputs": [
    {
     "name": "stdout",
     "output_type": "stream",
     "text": [
      "Path to QE binaries: /work2/08220/kfluo/frontera/software/qe-7.2-plrn/bin/\n",
      "Working directory: /scratch1/08220/kfluo/workdir/\n",
      "Material prefix: beo\n",
      "Directory of pseudopotentials: /scratch1/08220/kfluo/notebook_epw_bgw/pseudos/\n"
     ]
    }
   ],
   "source": [
    "# Set QE binaries directory\n",
    "#QE='/work2/08220/kfluo/frontera/software/qe-7.3/bin/'\n",
    "QE='/work2/08220/kfluo/frontera/software/qe-7.2-plrn/bin/'\n",
    "print('Path to QE binaries:', QE)\n",
    "# Set working directory\n",
    "workdir='/scratch1/08220/kfluo/workdir/'\n",
    "#\n",
    "os.chdir(str(workdir))\n",
    "print('Working directory:', workdir)\n",
    "#\n",
    "prefix='beo'\n",
    "print('Material prefix:', prefix)\n",
    "#\n",
    "pseudo = dir_nb+'/pseudos/'\n",
    "print('Directory of pseudopotentials:', pseudo)"
   ]
  },
  {
   "cell_type": "markdown",
   "metadata": {},
   "source": [
    "Define general calculation parameters to be used throughout the workflow:"
   ]
  },
  {
   "cell_type": "code",
   "execution_count": 12,
   "metadata": {},
   "outputs": [
    {
     "name": "stdout",
     "output_type": "stream",
     "text": [
      "                                       ``:oss/                                        \n",
      "                           `.+s+.     .+ys--yh+     `./ss+.                           \n",
      "                          -sh//yy+`   +yy   +yy    -+h+-oyy                           \n",
      "                          -yh- .oyy/.-sh.   .syo-.:sy-  /yh                           \n",
      "                 `.-.`    `yh+   -oyyyo.     `/syys:    oys      `.`                  \n",
      "               `/+ssys+-` `sh+      `                   oys`   .:osyo`                \n",
      "               -yh- ./syyooyo`                          .sys+/oyo--yh/                \n",
      "               `yy+    .-:-.                             `-/+/:`  -sh-                \n",
      "                /yh.                                              oys                 \n",
      "          ``..---hho---------`   .---------..`      `.-----.`    -hd+---.             \n",
      "       `./osmNMMMMMMMMMMMMMMMs. +NNMMMMMMMMNNmh+.   yNMMMMMNm-  oNMMMMMNmo++:`        \n",
      "       +sy--/sdMMMhyyyyyyyNMMh- .oyNMMmyyyyyhNMMm+` -yMMMdyyo:` .oyyNMMNhs+syy`       \n",
      "       -yy/   /MMM+.`-+/``mMMy-   `mMMh:`````.dMMN:` `MMMy-`-dhhy```mMMy:``+hs        \n",
      "        -yy+` /MMMo:-mMM+`-oo/.    mMMh:     `dMMN/`  dMMm:`dMMMMy..MMMo-.+yo`        \n",
      "         .sys`/MMMMNNMMMs-         mMMmyooooymMMNo:   oMMM/sMMMMMM++MMN//oh:          \n",
      "          `sh+/MMMhyyMMMs- `-`     mMMMMMMMMMNmy+-`   -MMMhMMMsmMMmdMMd/yy+           \n",
      "    `-/+++oyy-/MMM+.`/hh/.`mNm:`   mMMd+/////:-.`      NMMMMMd/:NMMMMMy:/yyo/:.`      \n",
      "   +os+//:-..-oMMMo:--:::-/MMMo. .-mMMd+---`           hMMMMN+. oMMMMMo. `-+osyso:`   \n",
      "   syo     `mNMMMMMNNNNNNNNMMMo.oNNMMMMMNNNN:`         +MMMMs:`  dMMMN/`     ``:syo   \n",
      "   /yh`     :syyyyyyyyyyyyyyyy+.`+syyyyyyyyo:`         .oyys:`   .oyys:`        +yh   \n",
      "   -yh-        ````````````````    `````````              ``        ``          oys   \n",
      "   -+h/------------------------::::::::://////++++++++++++++++++++++///////::::/yd:   \n",
      "   shdddddddddddddddddddddddddddddhhhhhhhhyyyyyssssssssssssssssyyyyyyyhhhhhhhddddh`\n",
      "        .:::::::::::::^^^^^^^^^^^~5#YJYGJ^^:^^^^:^^^^^^^^^^^^^::::::::::::.                 \n",
      "          .:::::::::::::^^^^^^^^^:J@!::G@7?J7^~?J!^^^^^^^^^^:::::::::::::                  \n",
      "           .^::::::::::::::^^^^^^:J@Y?YGY^?@5:^#5^^^^^^^^::::::::::::::                    \n",
      "               :::::::::::::::^^^:J@7~~^:^:J@7P5::^^^:::::::::::::::::                     \n",
      "                 ::::::::::::::::^5@J^::^:::5@5::::::::::::::::::::                       \n",
      "                   ::::::::::::::^!~!^:::^!~5P:::::::::::::::::::                          \n",
      "                     ..:::::::::::::::::::~P5?:::::::::::::::::.    \n",
      "                        ..:::::::::::::::::::::::::::::::...       \n",
      "                          ....::::::::::::::::::....            \n",
      "                                      ....                       \n",
      "pseudopotential directory: '/scratch1/08220/kfluo/notebook_epw_bgw/pseudos/'\n",
      "pseudopotential: ['Be.upf', 'O.upf']\n"
     ]
    }
   ],
   "source": [
    "beo=EPWpy({'prefix':prefix,\n",
    "           'restart_mode':'\\'from_scratch\\'',\n",
    "           'calculation':'\\'scf\\'',\n",
    "           'ibrav':4,\n",
    "           'nat':2,\n",
    "           'ntyp':2,\n",
    "           'atomic_species':['Be', 'O'],\n",
    "           'atomic_pos':np.array([[0.5, 0.2886751, 0.0], \\\n",
    "                                  [0.0, 0.5773503, 0.0]]), # in alat\n",
    "           'mass':[9.3227, 13.6181],\n",
    "           'atoms':['Be', 'O'],\n",
    "           'pseudo':['Be.upf', 'O.upf'],\n",
    "           'ecutwfc':'88',\n",
    "           'ecutrho':'352',\n",
    "           'celldm(1)':'5.0637',\n",
    "           'celldm(3)':'5',\n",
    "           'verbosity':'high',\n",
    "           'pseudo_dir':'\\''+str(pseudo)+'\\''},\n",
    "           code=QE,\n",
    "           env='ibrun',\n",
    "           system='beo')\n",
    "\n",
    "# Print relevant info\n",
    "pseudopot=beo.__dict__['default_pw_atomic_species']['pseudo'][0]\n",
    "print('pseudopotential directory:', beo.__dict__['default_pw_control']['pseudo_dir'])\n",
    "print('pseudopotential:', beo.__dict__['default_pw_atomic_species']['pseudo'][:])"
   ]
  },
  {
   "cell_type": "markdown",
   "metadata": {},
   "source": [
    "### $\\underline{Workflow}$ "
   ]
  },
  {
   "cell_type": "markdown",
   "metadata": {},
   "source": [
    "#### $\\underline{1.~Preliminary~calculations:~scf,~ph,~nscf}$"
   ]
  },
  {
   "cell_type": "code",
   "execution_count": 13,
   "metadata": {},
   "outputs": [
    {
     "name": "stdout",
     "output_type": "stream",
     "text": [
      "scf\n"
     ]
    }
   ],
   "source": [
    "# Prepare scf input file\n",
    "beo.scf(system={'assume_isolated':'2D'},\n",
    "        electrons={'conv_thr':'1.0d-12'}, \n",
    "        kpoints={'kpoints':[[9, 9, 1]]}, \n",
    "        name='scf')\n",
    "beo.prepare(56,type_run='scf')"
   ]
  },
  {
   "cell_type": "code",
   "execution_count": 14,
   "metadata": {},
   "outputs": [
    {
     "name": "stdout",
     "output_type": "stream",
     "text": [
      "['Be.upf', 'O.upf']\n",
      "running scf with 56 k and 1 tasks\n",
      "ibrun /work2/08220/kfluo/frontera/software/qe-7.2-plrn/bin//pw.x -nk 56 -nt 1 -input scf.in > scf.out\n"
     ]
    }
   ],
   "source": [
    "# Run scf calculation\n",
    "beo.run(56)"
   ]
  },
  {
   "cell_type": "code",
   "execution_count": 15,
   "metadata": {},
   "outputs": [
    {
     "name": "stdout",
     "output_type": "stream",
     "text": [
      "running ph with 56 k and 1 tasks\n",
      "ibrun /work2/08220/kfluo/frontera/software/qe-7.2-plrn/bin//ph.x -nk 56 -nt 1 -pd .true. -input ph.in > ph.out\n"
     ]
    }
   ],
   "source": [
    "# Prepare ph input file\n",
    "beo.ph(phonons={'fildyn':'\\'beo.dyn\\'',\n",
    "                'nq1':3,'nq2':3,'nq3':1,\n",
    "                'fildvscf':'\\'dvscf\\'',\n",
    "                'nmix_ph':12,\n",
    "                'tr2_ph':'1.0d-18',\n",
    "                'reduce_io':'.true.',\n",
    "                'epsil': '.true.',\n",
    "                'zeu': '.true.'}) \n",
    "beo.prepare(56,type_run='ph')\n",
    "# Run ph calculation\n",
    "beo.run(56,type_run='ph')"
   ]
  },
  {
   "cell_type": "code",
   "execution_count": 17,
   "metadata": {},
   "outputs": [
    {
     "name": "stdout",
     "output_type": "stream",
     "text": [
      "nscf\n",
      "running nscf with 56 k and 1 tasks\n",
      "ibrun /work2/08220/kfluo/frontera/software/qe-7.2-plrn/bin//pw.x -nk 56 -nt 1 -input nscf.in > nscf.out | tail -f nscf.out\n"
     ]
    }
   ],
   "source": [
    "# Prepare nscf input file\n",
    "beo.nscf(system={'nbnd':5,\n",
    "                 'assume_isolated':'\\'2D\\'',},\n",
    "         kpoints={'grid':[9, 9, 1],\n",
    "        'kpoints_type': 'crystal'})\n",
    "beo.prepare(56, type_run='nscf')\n",
    "# Run nscf calculation\n",
    "beo.run(56,type_run='nscf')"
   ]
  },
  {
   "cell_type": "markdown",
   "metadata": {},
   "source": [
    "#### $\\underline{2.~Calculating~g~matrix~on~coarse~grid}$"
   ]
  },
  {
   "cell_type": "code",
   "execution_count": 18,
   "metadata": {},
   "outputs": [
    {
     "name": "stdout",
     "output_type": "stream",
     "text": [
      "generating filkf\n"
     ]
    }
   ],
   "source": [
    "# Generate filkf if needed ## crystal\n",
    "G=[0.0,    0.0,    0.0]\n",
    "X=[0.5,    0.0,    0.0]\n",
    "K=[0.3333, 0.3333, 0.0]\n",
    "sympoints=[X,G,K]\n",
    "#\n",
    "beo.filkf(path=sympoints, length=[51, 51], name='path.kpt')"
   ]
  },
  {
   "cell_type": "code",
   "execution_count": 20,
   "metadata": {},
   "outputs": [
    {
     "name": "stdout",
     "output_type": "stream",
     "text": [
      "running epw with 56 k and \n",
      "ibrun /work2/08220/kfluo/frontera/software/qe-7.2-plrn/bin//epw.x -nk 56 -input epw1.in > epw1.out\n"
     ]
    }
   ],
   "source": [
    "# Prepare epw input for coarse-grid calculation\n",
    "beo.epw(epwin={'lpolar':'.true.',\n",
    "               'epwwrite':'.true.',\n",
    "               'epwread':'.false.',\n",
    "               'epbwrite':'.false.',\n",
    "               'system_2d': 'dipole_sh',\n",
    "               'use_ws':'.false.',\n",
    "               'asr_typ':'simple',\n",
    "               'wannierize':'.true.',\n",
    "               'auto_projections':'.true.',\n",
    "               'scdm_proj':'.true.',\n",
    "               'band_plot':'.true.',\n",
    "               'filkf':'\\'../path.kpt\\'',\n",
    "               'filqf':'\\'../path.kpt\\'',\n",
    "               'nk1':9,'nk2':9,'nk3':1,\n",
    "               'nq1':3,'nq2':3,'nq3':1,\n",
    "               'num_iter':500,\n",
    "               'nbndsub':3,\n",
    "               'bands_skipped':'\\'exclude_bands = 1:2\\'',\n",
    "               'wannier_plot':'.true.',\n",
    "               'wannier_plot_supercell':'6 6 6'},\n",
    "        name='epw1')\n",
    "#\n",
    "beo.prepare(56, type_run='epw1')\n",
    "beo.run(56, type_run='epw1')"
   ]
  },
  {
   "cell_type": "markdown",
   "metadata": {},
   "source": [
    "#### $\\underline{3.~Solving~polaron~equations~with~interpolated~g~matrix}$"
   ]
  },
  {
   "cell_type": "code",
   "execution_count": 27,
   "metadata": {},
   "outputs": [
    {
     "name": "stdout",
     "output_type": "stream",
     "text": [
      "running epw with 56 k and \n",
      "ibrun /work2/08220/kfluo/frontera/software/qe-7.2-plrn/bin//epw.x -nk 56 -input epw2.in > epw2.out\n"
     ]
    }
   ],
   "source": [
    "# Prepare epw input for polaron calculation on fine-grid\n",
    "beo.epw(epwin={'elph':'.true.',\n",
    "               'epwread':'.true.',\n",
    "               'epwwrite':'.false.',\n",
    "               'epbwrite':'.false.',\n",
    "               'lpolar':'.true.',\n",
    "               'system_2d': 'dipole_sh',\n",
    "               'wannierize':'.false.',\n",
    "               'use_ws':'.false.',\n",
    "               'asr_typ':'simple',\n",
    "               'nbndsub':3,\n",
    "               'bands_skipped':'\\'exclude_bands = 1:2\\'',\n",
    "               'plrn':'.true.',\n",
    "               'restart_plrn':'.false.',\n",
    "               'type_plrn':1,\n",
    "               'init_plrn':1,\n",
    "               'init_sigma_plrn':1,\n",
    "               'niter_plrn':500,\n",
    "               'conv_thr_plrn':1.0E-4,\n",
    "               'ethrdg_plrn':1.0E-6,\n",
    "               'adapt_ethrdg_plrn':'.true.',\n",
    "               'init_ethrdg_plrn':1.0E-3,\n",
    "               'nk1':9, 'nk2':9, 'nk3':1,\n",
    "               'nq1':3, 'nq2':3, 'nq3':1,\n",
    "               'nkf1':10, 'nkf2':10, 'nkf3':1,\n",
    "               'nqf1':10, 'nqf2':10, 'nqf3':1,\n",
    "               'eps_acustic':1,\n",
    "               'diago_david_ndim':4},\n",
    "            name='epw2')\n",
    "#\n",
    "beo.prepare(56,type_run='epw2')\n",
    "beo.run(56,type_run='epw2')"
   ]
  },
  {
   "cell_type": "markdown",
   "metadata": {},
   "source": [
    "#### $\\underline{4.~Postprocessing:~A_{n{\\bf k}}, B_{{\\bf q}\\nu}, \\psi({\\bf r})}$"
   ]
  },
  {
   "cell_type": "code",
   "execution_count": 28,
   "metadata": {},
   "outputs": [
    {
     "name": "stdout",
     "output_type": "stream",
     "text": [
      "running epw with 56 k and \n",
      "ibrun /work2/08220/kfluo/frontera/software/qe-7.2-plrn/bin//epw.x -nk 56 -input epw3.in > epw3.out\n"
     ]
    }
   ],
   "source": [
    "beo.epw(epwin={'elph':'.true.',\n",
    "               'epwread':'.true.',\n",
    "               'epbwrite':'.false.',\n",
    "               'lpolar':'.true.',\n",
    "               'system_2d':'dipole_sh',\n",
    "               'wannierize':'.false.',\n",
    "               'nbndsub':3,\n",
    "               'bands_skipped':'\\'exclude_bands = 1:2\\'',\n",
    "               'plrn':'.true.',\n",
    "               'restart_plrn':'.true.',\n",
    "               'type_plrn':1,\n",
    "               'cal_psir_plrn':'.false.', ## wavefunction in real space\n",
    "               'step_wf_grid_plrn':4,\n",
    "               'interp_Ank_plrn':'.true.',\n",
    "               'interp_Bqu_plrn':'.true.',\n",
    "               'filkf':'\\'../path.kpt\\'',\n",
    "               'filqf':'\\'../path.kpt\\'',\n",
    "               'nk1':9, 'nk2':9, 'nk3':1,\n",
    "               'nq1':3, 'nq2':3, 'nq3':1,\n",
    "               'eig_read':'.false.'},\n",
    "            name='epw3')\n",
    "#\n",
    "beo.prepare(56,type_run='epw3')\n",
    "beo.run(56,type_run='epw3')"
   ]
  },
  {
   "cell_type": "code",
   "execution_count": 29,
   "metadata": {},
   "outputs": [
    {
     "data": {
      "image/png": "[encoded data removed]",
      "text/plain": [
       "<Figure size 576x288 with 1 Axes>"
      ]
     },
     "metadata": {
      "needs_background": "light"
     },
     "output_type": "display_data"
    }
   ],
   "source": [
    "# Plot Ank coefficients\n",
    "plot_polaron.plot_Ank_Bqv('Ank', \n",
    "                          workdir+prefix+'/path.kpt',\n",
    "                          sympoints,\n",
    "                          workdir+prefix+'/epw/Ank.band.plrn')"
   ]
  },
  {
   "cell_type": "code",
   "execution_count": 30,
   "metadata": {},
   "outputs": [
    {
     "data": {
      "image/png": "[encoded data removed]",
      "text/plain": [
       "<Figure size 576x288 with 1 Axes>"
      ]
     },
     "metadata": {
      "needs_background": "light"
     },
     "output_type": "display_data"
    }
   ],
   "source": [
    "# Plot Bqv coefficients\n",
    "plot_polaron.plot_Ank_Bqv('Bqv', \n",
    "                          workdir+prefix+'/path.kpt', \n",
    "                          sympoints, \n",
    "                          workdir+prefix+'/epw/Bmat.band.plrn')"
   ]
  },
  {
   "cell_type": "markdown",
   "metadata": {},
   "source": [
    "<span style=\"color:red\">FIXME: the aoucstic phonon dispersion is problematic, which was stable when I test monolayer BeO before. EPWpy may generate inputs slightly different from mine, while I haven't find it out.</span>"
   ]
  },
  {
   "cell_type": "markdown",
   "metadata": {},
   "source": [
    "*OPTIONAL:* Plot wavefunction; needs installation of [VESTA](https://jp-minerals.org/vesta/en/) (TODO improve this, plot with python?)"
   ]
  },
  {
   "cell_type": "markdown",
   "metadata": {},
   "source": [
    "#### $\\underline{5.~Convergence:~Makov-Payne~extrapolation}$"
   ]
  },
  {
   "cell_type": "code",
   "execution_count": 33,
   "metadata": {},
   "outputs": [],
   "source": [
    "# List of k-point meshes to consider\n",
    "klist = [10, 15, 20]\n",
    "# Generate input files\n",
    "# Read original epw.in file for reference\n",
    "origfile = workdir+prefix+'/epw2.in'\n",
    "with open(origfile, 'rt') as f:\n",
    "    data = f.readlines()\n",
    "#\n",
    "for k in klist:\n",
    "    # set name and path for equilibrium supercell input files\n",
    "    newfile = workdir+prefix+'/epw/epw.k'+str(k)+'.in'\n",
    "    with open(newfile, 'w') as f: \n",
    "        for line in data :\n",
    "            # Modify fine grid lines\n",
    "            if( len(line.split())>0 ):\n",
    "                if( line.split()[0] =='nkf1'):   \n",
    "                    f.write('  nkf1 = '+str(k)+'\\n')\n",
    "                elif( line.split()[0] =='nkf2'):   \n",
    "                    f.write('  nkf2 = '+str(k)+'\\n')\n",
    "                elif( line.split()[0] =='nkf3'):   \n",
    "                    f.write('  nkf3 = '+str(1)+'\\n')\n",
    "                elif( line.split()[0] =='nqf1'):   \n",
    "                    f.write('  nqf1 = '+str(k)+'\\n')\n",
    "                elif( line.split()[0] =='nqf2'):   \n",
    "                    f.write('  nqf2 = '+str(k)+'\\n')\n",
    "                elif( line.split()[0] =='nqf3'):   \n",
    "                    f.write('  nqf3 = '+str(1)+'\\n')\n",
    "                else:\n",
    "                    f.write(line)"
   ]
  },
  {
   "cell_type": "code",
   "execution_count": 34,
   "metadata": {
    "scrolled": true
   },
   "outputs": [
    {
     "name": "stdout",
     "output_type": "stream",
     "text": [
      "running epw with 56 k and \n",
      "ibrun /work2/08220/kfluo/frontera/software/qe-7.2-plrn/bin//epw.x -nk 56 -input /scratch1/08220/kfluo/workdir/beo/epw/epw.k10.in > /scratch1/08220/kfluo/workdir/beo/epw/epw.k10.out\n",
      "running epw with 56 k and \n",
      "ibrun /work2/08220/kfluo/frontera/software/qe-7.2-plrn/bin//epw.x -nk 56 -input /scratch1/08220/kfluo/workdir/beo/epw/epw.k15.in > /scratch1/08220/kfluo/workdir/beo/epw/epw.k15.out\n",
      "running epw with 56 k and \n",
      "ibrun /work2/08220/kfluo/frontera/software/qe-7.2-plrn/bin//epw.x -nk 56 -input /scratch1/08220/kfluo/workdir/beo/epw/epw.k20.in > /scratch1/08220/kfluo/workdir/beo/epw/epw.k20.out\n"
     ]
    }
   ],
   "source": [
    "# Run calculations\n",
    "for k in klist:\n",
    "    beo.run(56, type_run='epw3', \n",
    "            infile=workdir+prefix+'/epw/epw.k'+str(k))"
   ]
  },
  {
   "cell_type": "code",
   "execution_count": 36,
   "metadata": {},
   "outputs": [
    {
     "name": "stdout",
     "output_type": "stream",
     "text": [
      "[ 5.000e-07 -1.294e-04]\n"
     ]
    },
    {
     "ename": "ValueError",
     "evalue": "x and y must be the same size",
     "output_type": "error",
     "traceback": [
      "\u001b[0;31m---------------------------------------------------------------------------\u001b[0m",
      "\u001b[0;31mValueError\u001b[0m                                Traceback (most recent call last)",
      "\u001b[0;32m<ipython-input-36-7f5ca2600b36>\u001b[0m in \u001b[0;36m<module>\u001b[0;34m\u001b[0m\n\u001b[1;32m     18\u001b[0m \u001b[0mprint\u001b[0m\u001b[0;34m(\u001b[0m\u001b[0mEform\u001b[0m\u001b[0;34m)\u001b[0m\u001b[0;34m\u001b[0m\u001b[0m\n\u001b[1;32m     19\u001b[0m \u001b[0;31m# Plot\u001b[0m\u001b[0;34m\u001b[0m\u001b[0;34m\u001b[0m\u001b[0m\n\u001b[0;32m---> 20\u001b[0;31m \u001b[0mplot_polaron\u001b[0m\u001b[0;34m.\u001b[0m\u001b[0mplot_EvsNk\u001b[0m\u001b[0;34m(\u001b[0m\u001b[0mucell_volume\u001b[0m\u001b[0;34m,\u001b[0m \u001b[0mNk\u001b[0m\u001b[0;34m,\u001b[0m \u001b[0mEform\u001b[0m\u001b[0;34m)\u001b[0m\u001b[0;34m\u001b[0m\u001b[0m\n\u001b[0m",
      "\u001b[0;32m/scratch1/08220/kfluo/notebook_epw_bgw/EPWpy/plotting/plot_polaron.py\u001b[0m in \u001b[0;36mplot_EvsNk\u001b[0;34m(ucell_volume, Nk, Eform)\u001b[0m\n\u001b[1;32m    115\u001b[0m \u001b[0;34m\u001b[0m\u001b[0m\n\u001b[1;32m    116\u001b[0m     \u001b[0;31m# Plot Eform\u001b[0m\u001b[0;34m\u001b[0m\u001b[0;34m\u001b[0m\u001b[0m\n\u001b[0;32m--> 117\u001b[0;31m     \u001b[0max\u001b[0m\u001b[0;34m.\u001b[0m\u001b[0mscatter\u001b[0m\u001b[0;34m(\u001b[0m\u001b[0;36m1\u001b[0m\u001b[0;34m/\u001b[0m\u001b[0;34m(\u001b[0m\u001b[0mNk\u001b[0m\u001b[0;34m*\u001b[0m\u001b[0mucell_volume\u001b[0m\u001b[0;34m**\u001b[0m\u001b[0;34m(\u001b[0m\u001b[0;36m1\u001b[0m\u001b[0;34m/\u001b[0m\u001b[0;36m3\u001b[0m\u001b[0;34m)\u001b[0m\u001b[0;34m)\u001b[0m\u001b[0;34m,\u001b[0m \u001b[0mEform\u001b[0m\u001b[0;34m,\u001b[0m \u001b[0ms\u001b[0m\u001b[0;34m=\u001b[0m\u001b[0;36m50\u001b[0m\u001b[0;34m,\u001b[0m \u001b[0mmarker\u001b[0m\u001b[0;34m=\u001b[0m\u001b[0;34m'o'\u001b[0m\u001b[0;34m,\u001b[0m \u001b[0mcolor\u001b[0m\u001b[0;34m=\u001b[0m\u001b[0;34m'darkred'\u001b[0m\u001b[0;34m,\u001b[0m \u001b[0medgecolors\u001b[0m\u001b[0;34m=\u001b[0m\u001b[0;34m'black'\u001b[0m\u001b[0;34m)\u001b[0m\u001b[0;34m\u001b[0m\u001b[0m\n\u001b[0m\u001b[1;32m    118\u001b[0m \u001b[0;34m\u001b[0m\u001b[0m\n\u001b[1;32m    119\u001b[0m     \u001b[0;31m# Perform linear fit and plot\u001b[0m\u001b[0;34m\u001b[0m\u001b[0;34m\u001b[0m\u001b[0m\n",
      "\u001b[0;32m/opt/apps/intel19/python3/3.7.0/lib/python3.7/site-packages/matplotlib/__init__.py\u001b[0m in \u001b[0;36minner\u001b[0;34m(ax, data, *args, **kwargs)\u001b[0m\n\u001b[1;32m   1587\u001b[0m     \u001b[0;32mdef\u001b[0m \u001b[0minner\u001b[0m\u001b[0;34m(\u001b[0m\u001b[0max\u001b[0m\u001b[0;34m,\u001b[0m \u001b[0;34m*\u001b[0m\u001b[0margs\u001b[0m\u001b[0;34m,\u001b[0m \u001b[0mdata\u001b[0m\u001b[0;34m=\u001b[0m\u001b[0;32mNone\u001b[0m\u001b[0;34m,\u001b[0m \u001b[0;34m**\u001b[0m\u001b[0mkwargs\u001b[0m\u001b[0;34m)\u001b[0m\u001b[0;34m:\u001b[0m\u001b[0;34m\u001b[0m\u001b[0m\n\u001b[1;32m   1588\u001b[0m         \u001b[0;32mif\u001b[0m \u001b[0mdata\u001b[0m \u001b[0;32mis\u001b[0m \u001b[0;32mNone\u001b[0m\u001b[0;34m:\u001b[0m\u001b[0;34m\u001b[0m\u001b[0m\n\u001b[0;32m-> 1589\u001b[0;31m             \u001b[0;32mreturn\u001b[0m \u001b[0mfunc\u001b[0m\u001b[0;34m(\u001b[0m\u001b[0max\u001b[0m\u001b[0;34m,\u001b[0m \u001b[0;34m*\u001b[0m\u001b[0mmap\u001b[0m\u001b[0;34m(\u001b[0m\u001b[0msanitize_sequence\u001b[0m\u001b[0;34m,\u001b[0m \u001b[0margs\u001b[0m\u001b[0;34m)\u001b[0m\u001b[0;34m,\u001b[0m \u001b[0;34m**\u001b[0m\u001b[0mkwargs\u001b[0m\u001b[0;34m)\u001b[0m\u001b[0;34m\u001b[0m\u001b[0m\n\u001b[0m\u001b[1;32m   1590\u001b[0m \u001b[0;34m\u001b[0m\u001b[0m\n\u001b[1;32m   1591\u001b[0m         \u001b[0mbound\u001b[0m \u001b[0;34m=\u001b[0m \u001b[0mnew_sig\u001b[0m\u001b[0;34m.\u001b[0m\u001b[0mbind\u001b[0m\u001b[0;34m(\u001b[0m\u001b[0max\u001b[0m\u001b[0;34m,\u001b[0m \u001b[0;34m*\u001b[0m\u001b[0margs\u001b[0m\u001b[0;34m,\u001b[0m \u001b[0;34m**\u001b[0m\u001b[0mkwargs\u001b[0m\u001b[0;34m)\u001b[0m\u001b[0;34m\u001b[0m\u001b[0m\n",
      "\u001b[0;32m/opt/apps/intel19/python3/3.7.0/lib/python3.7/site-packages/matplotlib/axes/_axes.py\u001b[0m in \u001b[0;36mscatter\u001b[0;34m(self, x, y, s, c, marker, cmap, norm, vmin, vmax, alpha, linewidths, verts, edgecolors, plotnonfinite, **kwargs)\u001b[0m\n\u001b[1;32m   4434\u001b[0m         \u001b[0my\u001b[0m \u001b[0;34m=\u001b[0m \u001b[0mnp\u001b[0m\u001b[0;34m.\u001b[0m\u001b[0mma\u001b[0m\u001b[0;34m.\u001b[0m\u001b[0mravel\u001b[0m\u001b[0;34m(\u001b[0m\u001b[0my\u001b[0m\u001b[0;34m)\u001b[0m\u001b[0;34m\u001b[0m\u001b[0m\n\u001b[1;32m   4435\u001b[0m         \u001b[0;32mif\u001b[0m \u001b[0mx\u001b[0m\u001b[0;34m.\u001b[0m\u001b[0msize\u001b[0m \u001b[0;34m!=\u001b[0m \u001b[0my\u001b[0m\u001b[0;34m.\u001b[0m\u001b[0msize\u001b[0m\u001b[0;34m:\u001b[0m\u001b[0;34m\u001b[0m\u001b[0m\n\u001b[0;32m-> 4436\u001b[0;31m             \u001b[0;32mraise\u001b[0m \u001b[0mValueError\u001b[0m\u001b[0;34m(\u001b[0m\u001b[0;34m\"x and y must be the same size\"\u001b[0m\u001b[0;34m)\u001b[0m\u001b[0;34m\u001b[0m\u001b[0m\n\u001b[0m\u001b[1;32m   4437\u001b[0m \u001b[0;34m\u001b[0m\u001b[0m\n\u001b[1;32m   4438\u001b[0m         \u001b[0;32mif\u001b[0m \u001b[0ms\u001b[0m \u001b[0;32mis\u001b[0m \u001b[0;32mNone\u001b[0m\u001b[0;34m:\u001b[0m\u001b[0;34m\u001b[0m\u001b[0m\n",
      "\u001b[0;31mValueError\u001b[0m: x and y must be the same size"
     ]
    },
    {
     "data": {
      "image/png": "[encoded data removed]",
      "text/plain": [
       "<Figure size 576x288 with 1 Axes>"
      ]
     },
     "metadata": {
      "needs_background": "light"
     },
     "output_type": "display_data"
    }
   ],
   "source": [
    "## Linear fit and extrapolate to Np->\\infty\n",
    "ucell_volume = 1 \n",
    "## FIXME: needs to change ucell_volume to ucell_area for 2D\n",
    "## or change the unit to be Energy per Unit cell\n",
    "#\n",
    "# Read formation energies from output files\n",
    "Eform = []\n",
    "for k in klist:\n",
    "    outfile = workdir+prefix+'/epw/epw.k'+str(k)+'.out'\n",
    "    with open(outfile, 'r') as f: \n",
    "        for line in f:\n",
    "            if( len(line.split())>0 ):\n",
    "                if( line.split()[0] =='Formation'):    \n",
    "                    Eform.append(float(line.split()[3]))\n",
    "#\n",
    "Nk = np.array(klist)\n",
    "Eform = np.array(Eform)\n",
    "# Plot\n",
    "plot_polaron.plot_EvsNk(ucell_volume, Nk, Eform)"
   ]
  },
  {
   "cell_type": "code",
   "execution_count": 37,
   "metadata": {},
   "outputs": [
    {
     "ename": "SyntaxError",
     "evalue": "invalid syntax (<ipython-input-37-c2acb4f85c22>, line 1)",
     "output_type": "error",
     "traceback": [
      "\u001b[0;36m  File \u001b[0;32m\"<ipython-input-37-c2acb4f85c22>\"\u001b[0;36m, line \u001b[0;32m1\u001b[0m\n\u001b[0;31m    <span style=\"color:red\">FIXME: real solutions are NOT found due to the issue in phonon dispersions.</span>\u001b[0m\n\u001b[0m    ^\u001b[0m\n\u001b[0;31mSyntaxError\u001b[0m\u001b[0;31m:\u001b[0m invalid syntax\n"
     ]
    }
   ],
   "source": [
    "<span style=\"color:red\">FIXME: real solutions are NOT found due to the issue in phonon dispersions.</span>"
   ]
  },
  {
   "cell_type": "markdown",
   "metadata": {},
   "source": [
    "### $\\underline{Exercises}$\n",
    "\n",
    "1. Plot the polaron wavefunction isosurface with VESTA.\n",
    "2. Look at the effective thickness calculated in the \"epw2.out\", then compare it with geometric thickness and polaron wavefunction along $z$-direction.\n",
    "3. Calculate the electron polaron in the hexagonal monolayer BeO. Note: the conductance bands near band gap are entangaled, which needs precaution for wannierization.\n",
    "4. Check out the limiting behavior of $g$ coupling matrix of electron and optical phonon modes, to reproduce Fig.5 (which is for h-BN) in [Phys. Rev. B **105**, 115414 (2022)](https://journals.aps.org/prb/abstract/10.1103/PhysRevB.105.115414) ."
   ]
  }
 ],
 "metadata": {
  "kernelspec": {
   "display_name": "Python 3",
   "language": "python",
   "name": "python3"
  },
  "language_info": {
   "codemirror_mode": {
    "name": "ipython",
    "version": 3
   },
   "file_extension": ".py",
   "mimetype": "text/x-python",
   "name": "python",
   "nbconvert_exporter": "python",
   "pygments_lexer": "ipython3",
   "version": "3.7.0"
  }
 },
 "nbformat": 4,
 "nbformat_minor": 4
}
