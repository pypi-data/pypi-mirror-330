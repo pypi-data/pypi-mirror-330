{
 "cells": [
  {
   "cell_type": "code",
   "execution_count": 2,
   "id": "7f7c6a31",
   "metadata": {},
   "outputs": [],
   "source": [
    "%load_ext autoreload\n",
    "#%autoreload 2\n",
    "import matplotlib.pyplot as plt\n",
    "from matplotlib import rc"
   ]
  },
  {
   "cell_type": "markdown",
   "id": "51a0749b",
   "metadata": {},
   "source": [
    "$\\underline{\\large{\\rm Calculation\\,of\\,optical\\,absorption\\,coefficient\\,from\\,first\\,principle}}$\n",
    "\n",
    "We calculate the optical absorption coefficient $\\alpha(\\hbar\\omega)$ from the first principles in the presence of phonons.\n",
    "\n",
    "Below we define constants that will remail all accross the calculations\n",
    "\n"
   ]
  },
  {
   "cell_type": "code",
   "execution_count": 1,
   "id": "ce542e0f",
   "metadata": {},
   "outputs": [
    {
     "name": "stdout",
     "output_type": "stream",
     "text": [
      "/home1/05193/sabyadk/jupyter_nb_git/notebooks_basic\n",
      "\n",
      "                                                                                                                         \n",
      "                                                                                          \n",
      "                                       -*#*-                             ...............- \n",
      "                          .+*=      .+%*-=%%:      .=#*-               -===============-:.\n",
      "                        :*%=*%%-    *%*   #%*    :+%+-%%+             .:.  -=.   :==-.    \n",
      "                        -%S  -%%*: :#%.   -%%-. -##:  #%*                  -=.   :==-     \n",
      "                ..      .%S:   +%%%%*.     :*%%%#=    %%=                  -=.   :==-     \n",
      "              :=#%%*-   .#S-     ..                  .%%=     :*#*:        -=.   :==-     \n",
      "             -%S:.=#%%*==%#                           *%%=::=##-+%%.  .   .=-.   :==-  .= \n",
      "             :%%-   .-+++:                             -+##*=.  =%S   :-::==:    .==-  --.\n",
      "              *%#                                               #%+    -=--:.     .----:. \n",
      "              :%%-                                             -%S.                       \n",
      "       .-=*####SS%#########:  -###########*+:     +#######=   =%SS####+::.                \n",
      "     =+#**%SSSSSSSSSSSSSSSS=  =SSSSSSSSSSSSSSS=   #SSSSSSS*.  +SSSSSSSS%%%%-              \n",
      "     *%%    =SSS..     .SSS=     SSS=.   .:+SSS+   -SSS:. .-::.  .SSS+.  #%*              \n",
      "      #%#.  =SSS.  *S#  *S%:     SSS=       %SS%.  .SSS=  #SSS%. :SSS:  =%#.              \n",
      "       *%%: =SSS#*#SSS-          SSS=     .+SSS+.   %SS*.=SSSSS+ +SS%.:+%+                \n",
      "        +%%:=SSSSSSSSS-          SSSSSSSSSSSSS=.    +SSS:SSS%SSS:%SS*-#%=                 \n",
      "     ....#S==SSS:..SSS:  =+-     SSS%######+=.      -SSS%SS%.#SS%SSS==%%=.                \n",
      " .:+##%%#*- =SSS.   ::. :SSS.    SSS=.               SSSSSS:..SSSSSS: :*%%%*=-            \n",
      " #%+.     -+#SSS*+++++++*SSS: .=+SSS#++++:           %SSSS+.  =SSSS%.    :-+#%%+          \n",
      " #%*     .SSSSSSSSSSSSSSSSSS: *SSSSSSSSSSS.          +SSS%.    %SSS*.      . .%%=         \n",
      " =%S       :::::::::::::::::.  .:::::::::.            :::.      :::.     =+=-.#%+         \n",
      " -%S:                                                                    =+===#S:         \n",
      " ==*------------------------------=========+++++++++++++++++++++++========++-+##          \n",
      " =+++++++++++*******++++++++++++++++========------------------==========+++++++-          \n",
      "-- -- -- -- -- -- -- -- -- -- -- -- Structure Info -- -- -- -- -- -- -- -- -- -- -- -- -- \n",
      "1\n",
      "-- -- -- -- -- -- -- -- -- -- -- -- -- -- -- -- -- -- -- -- -- -- -- -- -- -- -- -- -- -- \n",
      "pseudopotential: Si.upf\n",
      "pseudopotential directory: '/home1/05193/sabyadk/pseudos'\n",
      "prefix: si\n"
     ]
    },
    {
     "data": {
      "text/plain": [
       "0"
      ]
     },
     "execution_count": 1,
     "metadata": {},
     "output_type": "execute_result"
    }
   ],
   "source": [
    "import numpy as np\n",
    "#import matplotlib.pyplot as plt\n",
    "#from matplotlib import rc\n",
    "import math\n",
    "import os\n",
    "import sys\n",
    "import subprocess\n",
    "sys.path.insert(0,str(os.getcwd())+'/../EPWpy/')\n",
    "#sys.path.insert(0,str(os.getcwd())+'/../EPWpy/plotting/')\n",
    "import EPWpy\n",
    "from EPWpy import *\n",
    "from plotting import plot_bands\n",
    "from QE.PW_util import *\n",
    "\n",
    "#sys.path.insert(0, '/workspace/QE_sabyadk/QE_SXT/bin/')\n",
    "#print(sys.path)\n",
    "############ Nice plot generation##################\n",
    "#rc('text',usetex=True)\n",
    "#rc('font',family='serif')\n",
    "#import matplotlib as mpl\n",
    "#mpl.rcParams['axes.linewidth'] = 1.5\n",
    "#from matplotlib import rcParams\n",
    "#rcParams.update({'figure.autolayout': True})\n",
    "###################################################\n",
    "################################\n",
    "####Constants########\n",
    "nr=3.3\n",
    "hbar=6.6*10**-16\n",
    "c=3*10**10\n",
    "font=16\n",
    "################################\n",
    "\n",
    "##################\n",
    "#Define folders for inputs\n",
    "\n",
    "folder='./'\n",
    "\n",
    "cores='4'\n",
    "prefix='si'\n",
    "pseudo='/home1/05193/sabyadk/pseudos'\n",
    "######Define the directory of installation##############\n",
    "QE = '/work2/05193/sabyadk/frontera/codes_EPW/EPW_sync_QE/q-e/bin/'\n",
    "########################################################\n",
    "home='/home1/05193/sabyadk/jupyter_nb_git/notebooks_basic'#os.getcwd()\n",
    "print(home)\n",
    "##################\n",
    "\n",
    "########Define system which will remain constant throughout the calculation###############\n",
    "\n",
    "silicon=EPWpy({'prefix':prefix,\n",
    "               'restart_mode':'\\'from_scratch\\'',\n",
    "               'ibrav':2,\n",
    "               'nat':2,\n",
    "               'calculation':'\\'scf\\'',\n",
    "               'atomic_species':['Si'],\n",
    "               'mass':[28.0855],\n",
    "               'atoms':['Si','Si'],\n",
    "               'ntyp':1,\n",
    "               'pseudo':['Si.upf'],\n",
    "               'ecutwfc':'40',\n",
    "               'ecutrho':'160',\n",
    "               'celldm(1)':'10.262',\n",
    "               'verbosity':'high',\n",
    "               'pseudo_dir':'\\''+str(pseudo)+'\\''                  \n",
    "                },\n",
    "               code=QE,\n",
    "               env='ibrun')\n",
    "\n",
    "\n",
    "#######Printing any attribute######\n",
    "pseudopot=silicon.__dict__['pw_atomic_species']['pseudo'][0]\n",
    "#prefix=str(silicon.__dict__['default_pw_control']['prefix'])\n",
    "print('pseudopotential:', silicon.__dict__['pw_atomic_species']['pseudo'][0])\n",
    "print('pseudopotential directory:', silicon.__dict__['pw_control']['pseudo_dir'])\n",
    "#print(silicon.__dict__['default_pw_control'])\n",
    "##print(silicon.__dict__['default_pw_system'])\n",
    "#print(silicon.__dict__['default_pw_kpoints'])\n",
    "print('prefix:',prefix)\n",
    "\n",
    "os.system('module list')\n",
    "\n"
   ]
  },
  {
   "cell_type": "markdown",
   "id": "586a0737",
   "metadata": {},
   "source": [
    "$\\underline{\\large{\\rm Self\\,consistent\\,field\\,(SCF) \\,calculations}}$\n",
    "\n",
    "We first solve the Kohn-Sham equations to obtain the Kohn-Sham orbitals $\\phi_v(r)$, $r$ is the electronic position (generally a mesh grid), $R$ is the position of ions.\n",
    "\n",
    "$E[\\phi_v,R]=-\\frac{\\hbar^2}{2m}\\sum_v{\\int{\\phi_v^\\star(r)\\nabla^2\\phi_v(r)dr}+\\int{V_R(r)n(r)dr}+\\frac{e^2}{2}\\int{\\frac{n(r)n(r')}{|r-r'|}drdr'}+E_{xc}[n(r')]+\\sum_{I\\neq J}{\\frac{e^2}{2}\\frac{Z_IZ_J}{|R_I-R_J|}}}$\n",
    "\n",
    "We minimize $E(R)=min(E[\\phi_v,R])$\n",
    "\n",
    "Where, $\\Big(-\\frac{\\hbar^2}{2m}\\nabla^2+V_{KS}(r)\\Big)\\phi_v(r)=\\epsilon_v\\phi_v(r)$\n",
    "\n"
   ]
  },
  {
   "cell_type": "code",
   "execution_count": 3,
   "id": "192a15bc",
   "metadata": {
    "scrolled": true
   },
   "outputs": [
    {
     "name": "stdout",
     "output_type": "stream",
     "text": [
      "-- -- -- -- -- -- -- -- -- -- --  Calculation: scf  -- -- -- -- -- -- -- -- -- -- -- \n",
      "Running scf |████████████████████████████████████████| in 0.0s (198.00/s) \n",
      "\n",
      "-- -- -- -- -- -- -- -- -- -- -- -- -- -- -- -- -- -- -- -- -- -- -- -- -- -- -- -- -- -- \n"
     ]
    }
   ],
   "source": [
    "######scf run##############\n",
    "\n",
    "#######build scf file #############\n",
    "silicon.scf(electrons={'conv_thr':'1E-13'},kpoints={'kpoints':[[6,6,6]]},name='scf')\n",
    "#####################################\n",
    "\n",
    "#subprocess.Popen('ibrun -np '+str(cores)+' '+str(QE)+'pw.x -nk '+str(cores)+' -input '+' ./scf.in > scf.out',shell=True)\n",
    "silicon.prepare(4,type_run='scf')\n",
    "silicon.run(4)"
   ]
  },
  {
   "cell_type": "markdown",
   "id": "8c84a4db",
   "metadata": {},
   "source": [
    "$\\underline{\\large{\\rm Bandstructure\\,calculation}}$\n",
    "\n",
    "We now calculate the bandstructure of the material (Si in our case).\n",
    "\n",
    "The bandstructure is basically the eigenvectors of KS orbitals at various high symmetry k-points\n",
    "$\\Big(-\\frac{\\hbar^2}{2m}|k+G|^2+V_{KS}(G-G')\\Big)\\phi_v(k)=\\epsilon_v(k)\\phi_v(k)$"
   ]
  },
  {
   "cell_type": "code",
   "execution_count": 35,
   "id": "2fa783fa",
   "metadata": {
    "scrolled": true
   },
   "outputs": [
    {
     "name": "stdout",
     "output_type": "stream",
     "text": [
      "-- -- -- -- -- -- -- -- -- -- --  Calculation: bs  -- -- -- -- -- -- -- -- -- -- -- \n",
      "Running bs |████████████████████████████████████████| in 0.0s (153.03/s) \n",
      "\n",
      "-- -- -- -- -- -- -- -- -- -- -- -- -- -- -- -- -- -- -- -- -- -- -- -- -- -- -- -- -- -- \n"
     ]
    }
   ],
   "source": [
    "############Bandstructure run############\n",
    "\n",
    "#### Create bandstructure files ######\n",
    "\n",
    "silicon.scf(control={'calculation':'\\'bands\\''},system={'nbnd':12},electrons={'conv_thr':'1E-11'},\n",
    "            kpoints={'kpoints':[['0.5', '0.5', '0.5', '20'],\n",
    "                                ['0.0','0.0','0.0','20'],\n",
    "                                ['0.5000','0.2500','0.7500','20']],\n",
    "                     'kpoints_type':'{crystal_b}'},\n",
    "            name='bs')\n",
    "########################################\n",
    "\n",
    "silicon.prepare(20,type_run='bs')\n",
    "silicon.run(4,type_run='bs')"
   ]
  },
  {
   "cell_type": "markdown",
   "id": "1289c7ba",
   "metadata": {},
   "source": [
    "$\\underline{\\large{\\rm Plot\\,bandstructure}}$\n",
    "\n",
    "We now plot the bandstructure of the material (Si in our case).\n"
   ]
  },
  {
   "cell_type": "code",
   "execution_count": 19,
   "id": "3b6ad327",
   "metadata": {},
   "outputs": [
    {
     "name": "stdout",
     "output_type": "stream",
     "text": [
      "(41, 12)\n",
      "Fermi level 6.45 eV\n"
     ]
    },
    {
     "data": {
      "image/png": "[encoded data removed]",
      "text/plain": [
       "<Figure size 432x288 with 1 Axes>"
      ]
     },
     "metadata": {
      "needs_background": "light"
     },
     "output_type": "display_data"
    }
   ],
   "source": [
    "############# Plot Bandstructure ############\n",
    "\n",
    "#######inputs$$###############\n",
    "Band=plot_bands.plot_band_scf('./si/bs/bs.out')\n",
    "#print((Band))\n",
    "xticks=['$\\Gamma$','K','M','$\\Gamma$']\n",
    "\n",
    "ef0=find_fermi('./si/scf/scf.out')+0.1\n",
    "\n",
    "xticks=['X','$\\Gamma$','L']\n",
    "\n",
    "ef0=6.45\n",
    "\n",
    "plot_bands.plot_band_prod(Band,ef0=ef0)\n",
    "\n",
    "print('Fermi level',ef0,'eV')"
   ]
  },
  {
   "cell_type": "markdown",
   "id": "531acd6e",
   "metadata": {},
   "source": [
    "$\\underline{\\large{\\rm Phonon\\,calculations}}$\n",
    "\n",
    "In order to obtain the optical absorption coefficient, we need the electron-phonon interactions. \n",
    "Which is the first derivative of the lattice potential.\n",
    "We also need phonon energies and displacement vectors.\n",
    "We obtain all these quantities using the density-functional perturbation theory (DFPT)\n",
    "\n",
    "https://docs.epw-code.org/_downloads/b3f5899664a87fcdd6dcacc262e6f103/Mon.1.Giannozzi.pdf\n",
    "\n",
    "We solve for $q$-grid: $2\\times2\\times2$"
   ]
  },
  {
   "cell_type": "code",
   "execution_count": 13,
   "id": "5bc17133",
   "metadata": {
    "scrolled": true
   },
   "outputs": [],
   "source": [
    "############Phonon run############\n",
    "\n",
    "##Prepare file\n",
    "silicon.ph(phonons={'fildyn':'\\'si.dyn\\'',\n",
    "                    'nq1':3,\n",
    "                    'nq2':3,\n",
    "                    'nq3':3,\n",
    "                    'fildvscf':'\\'dvscf\\''})\n",
    "#silicon.prepare(20,type_run='ph')\n",
    "\n",
    "###########\n",
    "\n",
    "#######Run ph #########\n",
    "\n",
    "#silicon.run(4,type_run='ph')\n"
   ]
  },
  {
   "cell_type": "markdown",
   "id": "274c7908",
   "metadata": {},
   "source": [
    "We can plot the phonon spectra using the matdyn.x but we will directly plot the interpolated phonon spectra in a later step."
   ]
  },
  {
   "cell_type": "markdown",
   "id": "f395ad31",
   "metadata": {},
   "source": [
    "$\\underline{\\large{\\rm non-self\\,consistent\\,field\\,(NSCF) \\,calculations}}$\n",
    "\n",
    "We now solve the  non-self-consistent DFT calculation for a k-point grid of $6\\times6\\times6$"
   ]
  },
  {
   "cell_type": "code",
   "execution_count": 11,
   "id": "891d6421",
   "metadata": {},
   "outputs": [],
   "source": [
    "############nscf run############\n",
    "\n",
    "silicon.nscf(system={'nbnd':12},\n",
    "             kpoints={'grid':[6,6,6],\n",
    "                      'kpoints_type': 'crystal'})\n",
    "\n",
    "silicon.prepare(20,type_run='nscf')\n",
    "\n",
    "######### Run #####################\n",
    "\n",
    "silicon.run(4,type_run='nscf')\n",
    "\n",
    "\n",
    "####################################\n",
    "\n"
   ]
  },
  {
   "cell_type": "markdown",
   "id": "98a08933",
   "metadata": {},
   "source": [
    "$\\underline{\\large{\\rm Wannierization\\,of\\,electronic\\,and\\,phonon\\,part\\,(EPW\\,I)}}$\n",
    "\n",
    "Now, we have the phonon spectra, the dynamical matrices, and the electron-phonon interactions.\n",
    "We next interpolate these using the EPW code (https://journals.aps.org/rmp/abstract/10.1103/RevModPhys.89.015003). \n",
    "The first step consists of finding the Wannier functions.\n",
    "In the second step one uses the Wannier functions for obtaining electron-phonon matrix elements on a fine grid.\n",
    "We also use a scissor shifted eigenvalue file for interpolation si.eig\n"
   ]
  },
  {
   "cell_type": "code",
   "execution_count": 9,
   "id": "394ae4e9",
   "metadata": {},
   "outputs": [],
   "source": [
    "############epw run############\n",
    "\n",
    "########Generate epw1 file############\n",
    "\n",
    "silicon.epw(epwin={'wdata':['\\'guiding_centres = .true.\\'',\n",
    "                            '\\'dis_num_iter = 500\\'',\n",
    "                            '\\'num_print_cycles  = 10\\'',\n",
    "                            '\\'dis_mix_ratio = 1\\'',\n",
    "                            '\\'use_ws_distance = T\\''],\n",
    "                            'proj':['\\'Si : sp3\\''],\n",
    "                            'band_plot':'.true.',\n",
    "                            'filkf':'\\'LGX.txt\\'',\n",
    "                            'filqf':'\\'LGX.txt\\'',\n",
    "                            'eig_read':'false'},    \n",
    "                           # 'nk1':6,\n",
    "                           # 'nk2':6,\n",
    "                           # 'nk3':6,\n",
    "                           # 'nq1':3,\n",
    "                           # 'nq2':3,\n",
    "                            #'nq3':3},\n",
    "            name='epw1')\n",
    "\n",
    "######################################################################################\n",
    "######## Generate filkf if needed with the same name as the filkf key above##########\n",
    "silicon.filkf(path=[[0.5,0.5,0.5],\n",
    "        [0,0,0],[0.5,0.5,0.5]],length=[51,51],name='LGX.txt')\n",
    "######################################################################################\n",
    "\n",
    "\n"
   ]
  },
  {
   "cell_type": "code",
   "execution_count": 10,
   "id": "cd5cb40e",
   "metadata": {},
   "outputs": [],
   "source": [
    "########## run epw1 ############\n",
    "#print(os.system('pwd'))\n",
    "\n",
    "\n",
    "silicon.prepare(20,type_run='epw1') \n",
    "\n",
    "\n",
    "#os.chdir('./epw')\n",
    "\n",
    "#silicon.pp()\n",
    "#silicon.set_home()\n",
    "\n",
    "\n"
   ]
  },
  {
   "cell_type": "code",
   "execution_count": 12,
   "id": "4e269549",
   "metadata": {},
   "outputs": [
    {
     "name": "stdout",
     "output_type": "stream",
     "text": [
      "-- -- -- -- -- -- -- -- -- -- --  Calculation: epw1  -- -- -- -- -- -- -- -- -- -- -- \n",
      "Running epw1 |████████████████████████████████████████| in 0.0s (148.62/s) \n",
      "\n",
      "-- -- -- -- -- -- -- -- -- -- -- -- -- -- -- -- -- -- -- -- -- -- -- -- -- -- -- -- -- -- \n"
     ]
    }
   ],
   "source": [
    "silicon.run(16,type_run='epw1')"
   ]
  },
  {
   "cell_type": "markdown",
   "id": "57ecce51",
   "metadata": {},
   "source": [
    "$\\underline{\\large{\\rm Plot\\,electron\\,and\\,phonon\\,dispersion\\,obtained\\,from\\,EPW}}$\n",
    "\n",
    "At this point, we plot the electronic and phonon bandstructure obtained from the Wannier interpolation"
   ]
  },
  {
   "cell_type": "code",
   "execution_count": 20,
   "id": "ad578961",
   "metadata": {},
   "outputs": [
    {
     "data": {
      "image/png": "[encoded data removed]",
      "text/plain": [
       "<Figure size 432x288 with 1 Axes>"
      ]
     },
     "metadata": {
      "needs_background": "light"
     },
     "output_type": "display_data"
    }
   ],
   "source": [
    "#####plot electron and phonon bandstructure from epw #####\n",
    "\n",
    "\n",
    "os.system('pwd')\n",
    "\n",
    "####Electroninc #################\n",
    "#######inputs$$###############\n",
    "Band=plot_bands.plot_band_eig('./si/epw/band.eig')\n",
    "#xticks=['$\\Gamma$','K','M','$\\Gamma$']\n",
    "#ticks=['$\\Gamma$','X','W','K','$\\Gamma$']\n",
    "\n",
    "xticks=['L','$\\Gamma$','X']\n",
    "ef0=6.45+0.2\n",
    "##############################\n",
    "\n",
    "plot_bands.plot_band_prod(Band,ef0=ef0,xticks=xticks)\n",
    "############################\n",
    "\n",
    "\n"
   ]
  },
  {
   "cell_type": "code",
   "execution_count": 5,
   "id": "90641083",
   "metadata": {},
   "outputs": [
    {
     "data": {
      "image/png": "[encoded data removed]",
      "text/plain": [
       "<Figure size 432x288 with 1 Axes>"
      ]
     },
     "metadata": {
      "needs_background": "light"
     },
     "output_type": "display_data"
    }
   ],
   "source": [
    "####Phonon #################\n",
    "#######inputs$$###############\n",
    "Band=plot_bands.plot_band_eig('./si/epw/phband.freq')\n",
    "#xticks=['$\\Gamma$','K','M','$\\Gamma$']\n",
    "xticks=['L','$\\Gamma$','X']\n",
    "ef0=0\n",
    "##############################\n",
    "\n",
    "plot_bands.plot_band_freq(Band,xticks)\n",
    "############################\n"
   ]
  },
  {
   "cell_type": "markdown",
   "id": "eb882094",
   "metadata": {},
   "source": [
    "$\\underline{\\large{\\rm Wannier\\,interpolation\\,and\\,calculation\\,of\\,optical\\,absorption\\,(EPW\\,II)}}$\n",
    "\n",
    "We now have the Wannier functions which we will use to obtain the optical absorption coefficient.\n",
    "We solve for $k$-grid: $12\\times12\\times12$ and $q$-grid: $3\\times3\\times3$"
   ]
  },
  {
   "cell_type": "code",
   "execution_count": 14,
   "id": "f56f439b",
   "metadata": {
    "scrolled": true
   },
   "outputs": [
    {
     "name": "stdout",
     "output_type": "stream",
     "text": [
      "-- -- -- -- -- -- -- -- -- -- --  Calculation: epw2  -- -- -- -- -- -- -- -- -- -- -- \n",
      "Running epw2 |████████████████████████████████████████| in 0.0s (160.29/s) \n",
      "\n",
      "-- -- -- -- -- -- -- -- -- -- -- -- -- -- -- -- -- -- -- -- -- -- -- -- -- -- -- -- -- -- \n"
     ]
    }
   ],
   "source": [
    "########## run epw2 ############\n",
    "######## Write epw2 file ####################\n",
    "\n",
    "silicon.epw(epwin={'elph':'.true.',\n",
    "                   'epbwrite':'.false.',\n",
    "                   'epbread':'.false.',\n",
    "                   'epwwrite': '.false.',\n",
    "                   'epwread':'.true.',\n",
    "                   'etf_mem': '1',\n",
    "                   'wannierize':'.false.',\n",
    "                   'omegamin':0.05,\n",
    "                   'omegamax':4.0,\n",
    "                   'omegastep':0.05,\n",
    "                   'lindabs':'.true.',\n",
    "                   'eig_read':'.false.',\n",
    "                   'nkf1':12,\n",
    "                   'nkf2':12,\n",
    "                   'nkf3':12,\n",
    "                   'nqf1':3,\n",
    "                   'nqf2':3,\n",
    "                   'nqf3':3,  \n",
    "                   'mp_mesh_k':'.true.',\n",
    "                   'efermi_read':'.true.',\n",
    "                   'fermi_energy':6.5,\n",
    "                   'lpolar':'.true.',\n",
    "                   'fsthick': 5.5,\n",
    "                   'temps':300 ,\n",
    "                   'degaussw':0.1},\n",
    "            name='epw2')\n",
    "\n",
    "##############################################\n",
    "\n",
    "silicon.prepare(16,type_run='epw2')\n",
    "\n",
    "#subprocess.Popen('cp -r ./si/epw2.in ./si/epw/',shell=True).wait()\n",
    "#print(os.getcwd())\n",
    "silicon.run(16,type_run='epw2')\n"
   ]
  },
  {
   "cell_type": "markdown",
   "id": "0a50511f",
   "metadata": {},
   "source": [
    "$\\underline{\\large{\\rm Plotting\\,phonon-assisted\\,optical\\,asbsorption\\, (Old-method)}}$\n",
    "\n",
    "First we plot the data obtained by simple indirect absorption without any modifications\n",
    "$\\newcommand{\\mrm}[1]{\\mathrm{#1}}$\n",
    "$\\newcommand{\\vec}[1]{{\\mathbf{\\mathrm{#1}}}}$\n",
    "$\\newcommand{\\Ver}[1]{$V_\\mathrm{er}$}$\n",
    "\n",
    "$$\\alpha(\\omega)=2\\frac{(4\\pi^2e^2)}{\\omega c n_r(\\omega)}\\frac{1}{V_{\\mathrm{cell}}}\\frac{1}{N_kN_q}\\sum_{\\nu mn\\vec{k}\\vec{q}}|\\vec{\\lambda}.(S_1+S_2)|^2\\times P \\delta(\\epsilon_{m,\\vec{k+q}}-\\epsilon_{n\\vec{k}}-\\hbar \\omega \\pm \\hbar\\omega_{\\nu\\vec{q}})$$\n",
    "Here, the $\\hbar\\omega$ and $\\vec{\\lambda}$ are the energy and the polarization of the photon, $n_r({\\omega})$ is the refractive index . The optical matrix elements are,\n",
    "\\begin{equation}\n",
    "S_1=\\sum_{m'}\\frac{v_{mm'}(\\vec{k})g_{m'n,\\nu}(\\vec{k},\\vec{q})}{\\epsilon_{m'\\vec{k}}-\\epsilon_{n\\vec{k}}-\\hbar\\omega+\\vec{i}\\Gamma}\n",
    "\\end{equation}\n",
    "\\begin{equation}\n",
    "S_2=\\sum_{m'}\\frac{g_{nm',\\nu}(\\vec{k},\\vec{q})v_{m'm}(\\vec{k+q})}{\\epsilon_{m'\\vec{k+q}}-\\epsilon_{n\\vec{k}}-\\hbar\\omega_{\\nu \\vec{q}}+\\vec{i}\\Gamma}\n",
    "\\end{equation}\n",
    "\n",
    "We will refer to this method as KP"
   ]
  },
  {
   "cell_type": "code",
   "execution_count": 15,
   "id": "cef9c5a9",
   "metadata": {},
   "outputs": [
    {
     "data": {
      "image/png": "[encoded data removed]",
      "text/plain": [
       "<Figure size 432x288 with 1 Axes>"
      ]
     },
     "metadata": {
      "needs_background": "light"
     },
     "output_type": "display_data"
    }
   ],
   "source": [
    "####### plot dielectric constant #############33\n",
    "\n",
    "nr=3.3\n",
    "#Exp_energy,Exp_alpha=read_exp('exp.dat')\n",
    "eps_ind=np.loadtxt('./si/epw/epsilon2_indabs_300.0K.dat')\n",
    "omega_ind=eps_ind[:,0]\n",
    "#print(np.shape(omega_ind))\n",
    "alpha_ind=(omega_ind/(float(hbar*c)*nr))*eps_ind[:,1]\n",
    "fig=plt.figure()\n",
    "ax1=fig.add_subplot(1,1,1)\n",
    "\n",
    "\n",
    "#ax1.semilogy(Exp_energy,Exp_alpha,color='k',marker='^',alpha=0.2)\n",
    "ax1.semilogy(omega_ind+0.1,alpha_ind,color='r')\n",
    "\n",
    "\n",
    "ax1.tick_params('x',colors='black',labelsize=font)\n",
    "ax1.tick_params('y',colors='k',labelsize=font)\n",
    "ax1.set_xlabel('$\\hbar\\omega$ [eV]',fontsize=font)\n",
    "ax1.set_ylabel('$\\\\alpha$ [$ \\\\rm cm^{-1}$]',color='k',fontsize=font)\n",
    "#ax2.set_ylabel('States [a.u]',fontsize=font,color='red')\n",
    "ax1.legend(['Indirect'],fontsize=font)\n",
    "ax1.axis([0.0,3.8,1e-3,1e10])\n",
    "plt.show()\n",
    "plt.close()"
   ]
  },
  {
   "cell_type": "markdown",
   "id": "f3ae8561",
   "metadata": {},
   "source": []
  },
  {
   "cell_type": "code",
   "execution_count": 27,
   "id": "defeec4d",
   "metadata": {},
   "outputs": [
    {
     "name": "stdout",
     "output_type": "stream",
     "text": [
      "0\n",
      "-- -- -- -- -- -- -- -- -- -- -- -- Warning -- -- -- -- -- -- -- -- -- -- -- -- -- \n",
      "Refreshing EPW input (remove refresh from epw_save.json if not needed)\n",
      "-- -- -- -- -- -- -- -- -- -- -- -- -- -- -- -- -- -- -- -- -- -- -- -- -- -- -- -- -- -- \n",
      "-- -- -- -- -- -- -- -- -- -- --  Calculation: epw2  -- -- -- -- -- -- -- -- -- -- -- \n",
      "Running epw2 |████████████████████████████████████████| in 0.0s (148.01/s) \n",
      "\n",
      "-- -- -- -- -- -- -- -- -- -- -- -- -- -- -- -- -- -- -- -- -- -- -- -- -- -- -- -- -- -- \n"
     ]
    }
   ],
   "source": [
    "########## run epw2 ############\n",
    "os.chdir(home)\n",
    "\n",
    "print(os.system('pwd'))\n",
    "######## Write epw2 file ####################\n",
    "\n",
    "silicon.epw(epwin={'elph':'.true.',\n",
    "                   'epbwrite':'.false.',\n",
    "                   'epbread':'.false.',\n",
    "                   'epwwrite': '.false.',\n",
    "                   'epwread':'.true.',\n",
    "                   'etf_mem': '1',\n",
    "                   'wannierize':'.false.',\n",
    "                   'omegamin':0.05,\n",
    "                   'omegamax':4.0,\n",
    "                   'omegastep':0.05,\n",
    "                   'lindabs':'.true.',\n",
    "                   'nkf1':12,\n",
    "                   'nkf2':12,\n",
    "                   'nkf3':12,\n",
    "                   'nqf1':3,\n",
    "                   'nqf2':3,\n",
    "                   'nqf3':3,  \n",
    "                   'mp_mesh_k':'.true.',\n",
    "                   'efermi_read':'.true.',\n",
    "                   'fermi_energy':7.1,\n",
    "                   'lpolar':'.true.',\n",
    "                   'eig_read':'.false.',\n",
    "                   'fsthick': 5.5,\n",
    "                   'temps':300 ,\n",
    "                   'degaussw':0.1,\n",
    "                   'len_mesh':25,\n",
    "                   'meshnum':24,\n",
    "                   'quasiabs':'.true.',\n",
    "                   'QD_min':0.6,\n",
    "                   'QD_bin':0.2,\n",
    "                   'nq_init':-1},\n",
    "            name='epw2')\n",
    "\n",
    "##############################################\n",
    "\n",
    "silicon.prepare(16,type_run='epw2')\n",
    "silicon.run(16,type_run='epw2')\n"
   ]
  },
  {
   "cell_type": "markdown",
   "id": "94cb47ad",
   "metadata": {},
   "source": [
    "$\\underline{\\large{\\rm Plotting\\,phonon-assisted\\,optical\\,asbsorption\\, (QDPT)}}$\n",
    "\n",
    "We now use QDPT for obtaining the absorption coefficient\n",
    "$\\newcommand{\\mrm}[1]{\\mathrm{#1}}$\n",
    "$\\newcommand{\\vec}[1]{{\\mathbf{\\mathrm{#1}}}}$\n",
    "$\\newcommand{\\Ver}[1]{$V_\\mathrm{er}$}$\n",
    "\n",
    "$\\def\\>{\\rangle} $\n",
    "$\\def\\<{\\langle} $\n",
    "$\\def\\bk{{\\bf k}}$\n",
    "$\\def\\bq{{\\bf q}}$\n",
    "$\\def\\be{{\\bf e}}$\n",
    "$\\def\\bv{{\\bf v}}$\n",
    "$\\def\\a{\\alpha}$\n",
    "$\\def\\d{\\delta}$\n",
    "$\\def\\w{\\omega}$\n",
    "$\\def\\ve{\\varepsilon}$\n",
    "$\\def\\hc{{\\hat{c}^{\\phantom{\\dagger}}}}$\n",
    "$\\def\\hcd{{\\hat{c}^\\dagger}}$\n",
    "$\\def\\hH{{\\hat{H}}}$\n",
    "$\\def\\hp{{\\hat{\\bf p}}}$\n",
    "$\\def\\ha{{\\hat{a}^{\\phantom{\\dagger}}}}$\n",
    "$\\def\\had{{\\hat{a}^\\dagger}}$\n",
    "$\\def\\Vep{\\hat{V}_{\\rm ep}}$\n",
    "$\\def\\Ver{\\hat{V}_{\\rm er}}$\n",
    "\n",
    "\n",
    "\n",
    "We use the QDPT expession for imaginary dielectric constant\n",
    "\n",
    "\\begin{eqnarray}\n",
    "  && \\ve_2(\\w) = \\frac{\\pi e^2}{\\epsilon_0 \\Omega} \\frac{1}{\\w^2}\\frac{1}{N_{\\rm BZ}} \n",
    "  \\bigg|\\,\\be \\cdot \\!\\sum_{cv\\bk} \n",
    "    \\Big\\{\n",
    "   U^*_{d_0,i_0-1_{v\\bk}+1_{c\\bk}} \\bv_{cv\\bk} \\nonumber \\\\ && \n",
    "    +N_{\\rm BZ}^{-1/2} \\!\\sum_{\\bq\\nu\\eta} \n",
    "    \\sqrt{n_{\\bq\\nu}\\!+\\!(1\\!+\\!\\eta)/2} \n",
    "    \\,\\, U^*_{d_0,i_0-1_{v\\bk}+1_{c\\bk+\\bq}+\\eta 1_{-\\eta \\bq\\nu}}  \n",
    "  \\nonumber \\\\[-3pt]\n",
    "   &&  \n",
    "    \\times \\bigg[\\!\n",
    "   \\sum_{c'} \n",
    "     \\frac{ g_{cc'\\nu}(\\bk,\\bq) \\bv_{c'v\\bk}  } \n",
    "     {(\\bar E\\!-\\!E_{i_0})\\!-\\!(\\ve_{c'\\bk}\\!-\\!\\ve_{v\\bk})}\n",
    "     \\, \\theta_{c'v\\bk} \n",
    "\\nonumber \\\\\n",
    "  & &\n",
    "     + \\sum_{v'} \n",
    "      \\frac{ \\bv_{cv'\\bk+\\bq} \\, g_{v'v\\nu}(\\bk,\\bq)  } \n",
    "     {(\\bar E\\!-\\!E_{i_0})\\!-\\!(\\ve_{c\\bk+\\bq}\\!-\\!\\ve_{v'\\bk+\\bq})} \n",
    "     \\,\\theta_{cv'\\bk+\\bq} \n",
    "    \\!  \\nonumber \\\\[-3pt]\n",
    "  & &\n",
    "     + \\sum_{c'} \n",
    "     \\frac{\\bv_{cc'\\bk+\\bq} \\, g_{c'v\\nu}(\\bk,\\bq)  }{\\ve_{v\\bk}\\!-\\!\\ve_{c'\\bk+\\bq}\\!-\\!\\eta\\hbar\\w_{\\bq\\nu}}\n",
    "     \\!+\\! \\sum_{v'} \n",
    "      \\frac{g_{cv'\\nu}(\\bk,\\bq) \\bv_{v'v\\bk} } {\\ve_{v'\\bk}\\!-\\!\\ve_{c\\bk+\\bq}\\!-\\!\\eta\\hbar\\w_{\\bq\\nu}}\n",
    "\\bigg] \\!\\bigg\\}\\! \n",
    "  \\Bigg|^2  \\nonumber \\\\[2pt] \n",
    "   && \\times\\,\\delta(E_{d_0}-E_{i_0}- \\hbar \\omega)~. \n",
    "   \\label{e:epsilon}\n",
    "\\end{eqnarray}\n",
    "\n",
    "We will refer to this method as KP"
   ]
  },
  {
   "cell_type": "code",
   "execution_count": 29,
   "id": "307fffe6",
   "metadata": {},
   "outputs": [
    {
     "data": {
      "image/png": "[encoded data removed]",
      "text/plain": [
       "<Figure size 432x288 with 1 Axes>"
      ]
     },
     "metadata": {
      "needs_background": "light"
     },
     "output_type": "display_data"
    }
   ],
   "source": [
    "####### plot dielectric constant #############33\n",
    "\n",
    "nr=3.3\n",
    "eps_ind=np.loadtxt('./si/epw/epsilon2_indabs_300.0K.dat')\n",
    "eps_qd=np.loadtxt('./si/epw/epsilon2_indabs_300.0K_24.dat')\n",
    "omega_ind=eps_ind[:,0]\n",
    "omega_qd=eps_qd[:,0]\n",
    "\n",
    "#print(np.shape(omega_ind))\n",
    "alpha_ind=(omega_ind/(float(hbar*c)*nr))*eps_ind[:,1]\n",
    "alpha_qd=(omega_ind/(float(hbar*c)*nr))*eps_qd[:,1]\n",
    "\n",
    "fig=plt.figure()\n",
    "ax1=fig.add_subplot(1,1,1)\n",
    "\n",
    "\n",
    "#ax1.semilogy(Exp_energy,Exp_alpha,color='k',marker='^',alpha=0.2)\n",
    "ax1.semilogy(omega_ind+0.5,alpha_ind,color='r')\n",
    "ax1.semilogy(omega_qd+0.5,alpha_qd,color='royalblue')\n",
    "\n",
    "ax1.tick_params('x',colors='black',labelsize=font)\n",
    "ax1.tick_params('y',colors='k',labelsize=font)\n",
    "ax1.set_xlabel('$\\hbar\\omega$ [eV]',fontsize=font)\n",
    "ax1.set_ylabel('$\\\\alpha$ [$ \\\\rm cm^{-1}$]',color='k',fontsize=font)\n",
    "#ax2.set_ylabel('States [a.u]',fontsize=font,color='red')\n",
    "ax1.legend(['Indirect','QDPT'],fontsize=font)\n",
    "ax1.axis([0.0,4.0,1e-3,1e10])\n",
    "plt.show()\n",
    "plt.close()"
   ]
  },
  {
   "cell_type": "code",
   "execution_count": 31,
   "id": "ca037e02",
   "metadata": {},
   "outputs": [
    {
     "ename": "AttributeError",
     "evalue": "'EPWpy' object has no attribute 'default_epw_input'",
     "output_type": "error",
     "traceback": [
      "\u001b[0;31m---------------------------------------------------------------------------\u001b[0m",
      "\u001b[0;31mAttributeError\u001b[0m                            Traceback (most recent call last)",
      "\u001b[0;32m<ipython-input-31-4d82b6073055>\u001b[0m in \u001b[0;36m<module>\u001b[0;34m\u001b[0m\n\u001b[1;32m      7\u001b[0m \u001b[0msilicon\u001b[0m\u001b[0;34m.\u001b[0m\u001b[0meps0\u001b[0m\u001b[0;34m=\u001b[0m\u001b[0;36m10.0\u001b[0m\u001b[0;34m\u001b[0m\u001b[0m\n\u001b[1;32m      8\u001b[0m \u001b[0msilicon\u001b[0m\u001b[0;34m.\u001b[0m\u001b[0mtemp\u001b[0m\u001b[0;34m=\u001b[0m\u001b[0;36m300.0\u001b[0m\u001b[0;34m\u001b[0m\u001b[0m\n\u001b[0;32m----> 9\u001b[0;31m \u001b[0meps1\u001b[0m\u001b[0;34m=\u001b[0m\u001b[0msilicon\u001b[0m\u001b[0;34m.\u001b[0m\u001b[0meps1\u001b[0m\u001b[0;34m\u001b[0m\u001b[0m\n\u001b[0m\u001b[1;32m     10\u001b[0m \u001b[0meps2\u001b[0m\u001b[0;34m=\u001b[0m\u001b[0msilicon\u001b[0m\u001b[0;34m.\u001b[0m\u001b[0meps2\u001b[0m\u001b[0;34m\u001b[0m\u001b[0m\n\u001b[1;32m     11\u001b[0m \u001b[0momega\u001b[0m\u001b[0;34m=\u001b[0m\u001b[0msilicon\u001b[0m\u001b[0;34m.\u001b[0m\u001b[0momega\u001b[0m\u001b[0;34m\u001b[0m\u001b[0m\n",
      "\u001b[0;32m/scratch1/05193/sabyadk/EPWpy_test/notebook_epw_bgw/notebooks_basic/../EPWpy/EPWpy_analysis.py\u001b[0m in \u001b[0;36meps1\u001b[0;34m(self)\u001b[0m\n\u001b[1;32m     49\u001b[0m             \u001b[0m_\u001b[0m\u001b[0;34m,\u001b[0m\u001b[0meps_real\u001b[0m\u001b[0;34m,\u001b[0m\u001b[0m_\u001b[0m\u001b[0;34m,\u001b[0m\u001b[0m_\u001b[0m\u001b[0;34m=\u001b[0m\u001b[0mcalc_epr_real\u001b[0m\u001b[0;34m(\u001b[0m\u001b[0;34m'epw/epsilon2_indabs_'\u001b[0m\u001b[0;34m+\u001b[0m\u001b[0mstr\u001b[0m\u001b[0;34m(\u001b[0m\u001b[0mT\u001b[0m\u001b[0;34m)\u001b[0m\u001b[0;34m+\u001b[0m\u001b[0;34m'K.dat'\u001b[0m\u001b[0;34m,\u001b[0m\u001b[0mself\u001b[0m\u001b[0;34m.\u001b[0m\u001b[0meps0\u001b[0m\u001b[0;34m,\u001b[0m\u001b[0;36m100\u001b[0m\u001b[0;34m)\u001b[0m\u001b[0;34m\u001b[0m\u001b[0m\n\u001b[1;32m     50\u001b[0m         \u001b[0;32mif\u001b[0m\u001b[0;34m(\u001b[0m\u001b[0mself\u001b[0m\u001b[0;34m.\u001b[0m\u001b[0mtype_run\u001b[0m\u001b[0;34m==\u001b[0m\u001b[0;34m'qdabs'\u001b[0m\u001b[0;34m)\u001b[0m\u001b[0;34m:\u001b[0m\u001b[0;34m\u001b[0m\u001b[0m\n\u001b[0;32m---> 51\u001b[0;31m             \u001b[0m_\u001b[0m\u001b[0;34m,\u001b[0m\u001b[0meps_real\u001b[0m\u001b[0;34m,\u001b[0m\u001b[0m_\u001b[0m\u001b[0;34m,\u001b[0m\u001b[0m_\u001b[0m\u001b[0;34m=\u001b[0m\u001b[0mcalc_epr_real\u001b[0m\u001b[0;34m(\u001b[0m\u001b[0;34m'epw/epsilon2_indabs_'\u001b[0m\u001b[0;34m+\u001b[0m\u001b[0mstr\u001b[0m\u001b[0;34m(\u001b[0m\u001b[0mT\u001b[0m\u001b[0;34m)\u001b[0m\u001b[0;34m+\u001b[0m\u001b[0;34m'K_'\u001b[0m\u001b[0;34m+\u001b[0m\u001b[0mself\u001b[0m\u001b[0;34m.\u001b[0m\u001b[0mdefault_epw_input\u001b[0m\u001b[0;34m[\u001b[0m\u001b[0;34m'meshnum'\u001b[0m\u001b[0;34m]\u001b[0m\u001b[0;34m+\u001b[0m\u001b[0;34m'.dat'\u001b[0m\u001b[0;34m,\u001b[0m\u001b[0mself\u001b[0m\u001b[0;34m.\u001b[0m\u001b[0meps0\u001b[0m\u001b[0;34m,\u001b[0m\u001b[0;36m100\u001b[0m\u001b[0;34m)\u001b[0m\u001b[0;34m\u001b[0m\u001b[0m\n\u001b[0m\u001b[1;32m     52\u001b[0m         \u001b[0;32mif\u001b[0m\u001b[0;34m(\u001b[0m\u001b[0mself\u001b[0m\u001b[0;34m.\u001b[0m\u001b[0mtype_run\u001b[0m\u001b[0;34m==\u001b[0m\u001b[0;34m'dirabs'\u001b[0m\u001b[0;34m)\u001b[0m\u001b[0;34m:\u001b[0m\u001b[0;34m\u001b[0m\u001b[0m\n\u001b[1;32m     53\u001b[0m             \u001b[0m_\u001b[0m\u001b[0;34m,\u001b[0m\u001b[0meps_real\u001b[0m\u001b[0;34m,\u001b[0m\u001b[0m_\u001b[0m\u001b[0;34m,\u001b[0m\u001b[0m_\u001b[0m\u001b[0;34m=\u001b[0m\u001b[0mcalc_epr_real\u001b[0m\u001b[0;34m(\u001b[0m\u001b[0;34m'epw/epsilon2_dirabs_'\u001b[0m\u001b[0;34m+\u001b[0m\u001b[0mstr\u001b[0m\u001b[0;34m(\u001b[0m\u001b[0mT\u001b[0m\u001b[0;34m)\u001b[0m\u001b[0;34m+\u001b[0m\u001b[0;34m'K.dat'\u001b[0m\u001b[0;34m,\u001b[0m\u001b[0mself\u001b[0m\u001b[0;34m.\u001b[0m\u001b[0meps0\u001b[0m\u001b[0;34m,\u001b[0m\u001b[0;36m100\u001b[0m\u001b[0;34m)\u001b[0m\u001b[0;34m\u001b[0m\u001b[0m\n",
      "\u001b[0;31mAttributeError\u001b[0m: 'EPWpy' object has no attribute 'default_epw_input'"
     ]
    }
   ],
   "source": [
    "############Kramers-Kronig-Analysis ################################\n",
    "\n",
    "\n",
    "silicon.type_run='qdabs'\n",
    "silicon.epw_params['meshnum']='24'\n",
    "\n",
    "silicon.eps0=10.0\n",
    "silicon.temp=300.0\n",
    "eps1=silicon.eps1\n",
    "eps2=silicon.eps2\n",
    "omega=silicon.omega\n",
    "nr=silicon.nr\n",
    "plt.plot(omega,eps1)\n",
    "plt.plot(omega,eps2)\n",
    "#plt.plot(omega,nr)\n",
    "\n",
    "\n",
    "#alpha=silicon.alpha\n"
   ]
  },
  {
   "cell_type": "code",
   "execution_count": null,
   "id": "7b2d35fc",
   "metadata": {},
   "outputs": [],
   "source": [
    "\n"
   ]
  }
 ],
 "metadata": {
  "kernelspec": {
   "display_name": "Python 3 (ipykernel)",
   "language": "python",
   "name": "python3"
  },
  "language_info": {
   "codemirror_mode": {
    "name": "ipython",
    "version": 3
   },
   "file_extension": ".py",
   "mimetype": "text/x-python",
   "name": "python",
   "nbconvert_exporter": "python",
   "pygments_lexer": "ipython3",
   "version": "3.9.7"
  },
  "widgets": {
   "application/vnd.jupyter.widget-state+json": {
    "state": {},
    "version_major": 2,
    "version_minor": 0
   }
  }
 },
 "nbformat": 4,
 "nbformat_minor": 5
}
