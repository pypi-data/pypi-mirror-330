{
 "cells": [
  {
   "cell_type": "markdown",
   "id": "745c7be9",
   "metadata": {},
   "source": [
    "# In this notebook we install Quantum ESPRESSO, EPW, and EPWpy\n",
    "\n",
    "This installation procedure involves the following three steps:\n",
    "1. Download Quantum ESPRESSO (which includes EPW) from the EPW GitLab repo\n",
    "2. Download the Jupyter Notebooks\n",
    "3. Install EPWpy\n"
   ]
  },
  {
   "cell_type": "markdown",
   "id": "a522c47a",
   "metadata": {},
   "source": [
    "### Step 1: Download and build Quantum ESPRESSO and EPW\n",
    "\n",
    "We download EPW v5.9s from the EPW GitLab repo https://gitlab.com/epw, configure, and make (this process should take approx. 5-10 min) "
   ]
  },
  {
   "cell_type": "code",
   "execution_count": null,
   "id": "47d1c6ae",
   "metadata": {
    "scrolled": true
   },
   "outputs": [],
   "source": [
    "import os\n",
    "import numpy as np\n",
    "PWD = os.getcwd()\n",
    "work_dir = os.getenv('WORK')\n",
    "os.chdir(work_dir)\n",
    "os.system('wget https://gitlab.com/epw/q-e/-/archive/EPW-5.9s/q-e-EPW-5.9s.tar.gz && tar xfz q-e-EPW-5.9s.tar.gz')\n",
    "os.system('cd q-e-EPW-5.9s && ./configure && make epw -j 8')\n",
    "PWDqe = work_dir + '/q-e-EPW-5.9s'\n",
    "print(f'Quantum ESPRESSO executables in {PWDqe}/bin')\n",
    "path=[]\n",
    "path.append(f'{PWDqe}/bin')\n",
    "np.save('pathQE.npy',np.array(path))\n",
    "os.system(f'mv pathQE.npy {PWD}')"
   ]
  },
  {
   "cell_type": "markdown",
   "id": "a985978f",
   "metadata": {},
   "source": [
    "### Step 2: Copy the Jupyter Notebooks into your folder\n",
    "\n",
    "We obtain the notebooks from EPWpy's lead developer Dr. Tiwari's folder: "
   ]
  },
  {
   "cell_type": "code",
   "execution_count": null,
   "id": "690730c3",
   "metadata": {
    "scrolled": true
   },
   "outputs": [],
   "source": [
    "print(os.getcwd())\n",
    "os.system('cp /work2/05193/sabyadk/shared/notebooks/notebooks.tar.gz  ./')\n",
    "os.system('tar -xvzf notebooks.tar.gz ')"
   ]
  },
  {
   "cell_type": "markdown",
   "id": "15696ada",
   "metadata": {},
   "source": [
    "### Step3: Download and install EPWpy\n",
    "\n",
    "In this step, we download and build EPWpy, which is called by the Notebooks as a module:"
   ]
  },
  {
   "cell_type": "code",
   "execution_count": null,
   "id": "197f156b",
   "metadata": {},
   "outputs": [],
   "source": [
    "!python -m pip install alive_progress --user\n",
    "!python -m pip install dash --user\n",
    "!python -m pip install dash_bio --user\n",
    "!python -m pip install requests --user\n",
    "!python -m pip install matplotlib==3.5.0\n",
    "!python -m pip install mp_api\n",
    "!python -m pip install -i https://test.pypi.org/simple/ EPWpy --upgrade"
   ]
  },
  {
   "cell_type": "markdown",
   "id": "246d9a1e",
   "metadata": {},
   "source": [
    "### Final comments\n",
    "\n",
    "Each of the notebooks in your folder can now be used. Copy the QE install lobrary location and add that in each notebook's code section\n",
    "In case of a issue faced contact:\n",
    "\n",
    "* Sabyasachi Tiwari (sabyasachi.tiwari@austin.utexas.edu)\n",
    "* Feliciano Giustino(fgiustino@oden.utexas.edu)"
   ]
  }
 ],
 "metadata": {
  "kernelspec": {
   "display_name": "Python 3 (ipykernel)",
   "language": "python",
   "name": "python3"
  },
  "language_info": {
   "codemirror_mode": {
    "name": "ipython",
    "version": 3
   },
   "file_extension": ".py",
   "mimetype": "text/x-python",
   "name": "python",
   "nbconvert_exporter": "python",
   "pygments_lexer": "ipython3",
   "version": "3.11.7"
  }
 },
 "nbformat": 4,
 "nbformat_minor": 5
}
