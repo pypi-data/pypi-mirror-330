{
 "cells": [
  {
   "cell_type": "markdown",
   "metadata": {},
   "source": [
    "## Calculation of polarons hopping barriers and mobilities\n",
    "\n",
    "Author: Z. Dai (v1, 09/05/2024) <br>\n",
    "Revision: \n",
    "\n",
    "In this notebook, we perform calculations of polaron mobilities from hoppings. The underlying method is the Emin-Holstein-Austin-Mott theory, and the computational workflow is presented in [PNAS, **121**, e2318151121 (2024)](https://www.pnas.org/doi/10.1073/pnas.2318151121).\n",
    "\n",
    "Electrons and phonons are computed with Quantum ESPRESSO (QE), maximally-localized Wannier functions are computed with Wannier90, and polarons are computed with EPW. "
   ]
  },
  {
   "cell_type": "markdown",
   "metadata": {},
   "source": [
    "### Set up working environment"
   ]
  },
  {
   "cell_type": "markdown",
   "metadata": {},
   "source": [
    "Load required modules:"
   ]
  },
  {
   "cell_type": "code",
   "execution_count": 38,
   "metadata": {
    "scrolled": true
   },
   "outputs": [
    {
     "name": "stdout",
     "output_type": "stream",
     "text": [
      "/home1/09084/zhenbang\n"
     ]
    }
   ],
   "source": [
    "%matplotlib inline\n",
    "\n",
    "import numpy as np\n",
    "import scipy.interpolate\n",
    "import matplotlib.pyplot as plt\n",
    "from mpl_toolkits.mplot3d import Axes3D\n",
    "from matplotlib.ticker import MultipleLocator,FormatStrFormatter\n",
    "import os\n",
    "import pandas as pd\n",
    "#\n",
    "import sys\n",
    "print(str(os.getcwd()))\n",
    "sys.path.insert(0,str(os.getcwd())+'/../')\n",
    "from EPWpy import EPWpy\n",
    "from EPWpy.plotting import plot_polaron\n",
    "# from EPWpy.utilities import EPW_util"
   ]
  },
  {
   "cell_type": "markdown",
   "metadata": {},
   "source": [
    "Set paths to relevant directories:"
   ]
  },
  {
   "cell_type": "code",
   "execution_count": null,
   "metadata": {},
   "outputs": [],
   "source": [
    "# Set QE binaries directory\n",
    "QE = '/scratch/tacc/apps/intel19/impi19_0/qe/7.3/bin'\n",
    "prefix='lif'\n"
   ]
  },
  {
   "cell_type": "markdown",
   "metadata": {},
   "source": [
    "Set the number of cores to be used in the calculations:"
   ]
  },
  {
   "cell_type": "code",
   "execution_count": null,
   "metadata": {},
   "outputs": [],
   "source": [
    "# Maximum number of cores to be used\n",
    "cores = 128\n",
    "print('Maximum number of cores to be used:', cores)"
   ]
  },
  {
   "cell_type": "markdown",
   "metadata": {},
   "source": [
    "Define general calculation parameters to be used throughout the workflow:"
   ]
  },
  {
   "cell_type": "code",
   "execution_count": null,
   "metadata": {},
   "outputs": [],
   "source": [
    "lif=EPWpy.EPWpy({'prefix':prefix,\n",
    "           'restart_mode':'\\'from_scratch\\'',\n",
    "           'calculation':'\\'scf\\'',\n",
    "           'ibrav':2,\n",
    "           'nat':2,\n",
    "           'ntyp':2,\n",
    "           'atomic_species':['Li', 'F'],\n",
    "           'atomic_pos':np.array([[0.0, 0.0, 0.0], [-0.5, 0.5, 0.5]]), # in alat\n",
    "           'mass':[6.941, 18.9984],\n",
    "           'atoms':['Li', 'F'],\n",
    "           'ecutwfc':'80',\n",
    "           'celldm(1)':'7.67034',\n",
    "           'verbosity':'high',\n",
    "           'pseudo_auto':True},\n",
    "           code=QE,\n",
    "           env='ibrun',\n",
    "           system='lif')\n",
    "lif.run_serial = True\n",
    "lif.env = 'ibrun'\n",
    "#'pseudo_dir':'\\''+str(pseudo)+'\\''},\n",
    "\n",
    "# Print relevant info\n",
    "os.system('module list')"
   ]
  },
  {
   "cell_type": "markdown",
   "metadata": {},
   "source": [
    "### Workflow\n",
    "\n",
    "We will consider a hole polaron in LiF as an example."
   ]
  },
  {
   "cell_type": "markdown",
   "metadata": {},
   "source": [
    "#### Preliminary scf, ph, and nscf calculations"
   ]
  },
  {
   "cell_type": "code",
   "execution_count": 8,
   "metadata": {},
   "outputs": [
    {
     "name": "stdout",
     "output_type": "stream",
     "text": [
      "parallelization chosen:   -nk 32 -nd 4\n",
      "-- -- -- -- -- -- -- -- -- -- --  Calculation: scf  -- -- -- -- -- -- -- -- -- -- -- \n",
      "Running scf |████████████████████████████████████████| in 6.8s (0.22/s)         \n",
      "\n",
      "-- -- -- -- -- -- -- -- -- -- -- -- -- -- -- -- -- -- -- -- -- -- -- -- -- -- -- -- -- -- \n"
     ]
    }
   ],
   "source": [
    "# Prepare scf input file\n",
    "lif.scf(electrons={'conv_thr':'1.0d-12'}, kpoints={'kpoints':[[6, 6, 6]]}, name='scf')\n",
    "lif.prepare(4,type_run='scf')\n",
    "\n",
    "# Run scf calculation\n",
    "lif.run(128, parallelization=' -nk 32 -nd 4')"
   ]
  },
  {
   "cell_type": "code",
   "execution_count": 9,
   "metadata": {},
   "outputs": [
    {
     "name": "stdout",
     "output_type": "stream",
     "text": [
      "parallelization chosen:   -nk 32 -nd 4\n",
      "-- -- -- -- -- -- -- -- -- -- --  Calculation: ph  -- -- -- -- -- -- -- -- -- -- -- \n",
      "Running ph |████████████████████████████████████████| in 10:37.5 (0.00/s)       |████████████████████                    | ▇▅▃ in 0s (~0s, 844.4/s)  \n",
      "\n",
      "-- -- -- -- -- -- -- -- -- -- -- -- -- -- -- -- -- -- -- -- -- -- -- -- -- -- -- -- -- -- \n"
     ]
    }
   ],
   "source": [
    "# Prepare ph input file\n",
    "#lif.ph(phonons={'fildyn':'\\'lif.dyn\\'','nq1':6,'nq2':6,'nq3':6,'fildvscf':'\\'dvscf\\''})\n",
    "lif.ph(phonons={'nq1':6,\n",
    "                'nq2':6,\n",
    "                'nq3':6})\n",
    "\n",
    "# Run ph calculation\n",
    "lif.prepare(20,type_run='ph')\n",
    "lif.run(128,type_run='ph', parallelization=' -nk 32 -nd 4')"
   ]
  },
  {
   "cell_type": "code",
   "execution_count": 10,
   "metadata": {},
   "outputs": [
    {
     "name": "stdout",
     "output_type": "stream",
     "text": [
      "parallelization chosen:   -nk 32 -nd 4\n",
      "-- -- -- -- -- -- -- -- -- -- --  Calculation: nscf  -- -- -- -- -- -- -- -- -- -- -- \n",
      "Running nscf |████████████████████████████████████████| in 10.0s (0.14/s)       █▆▄ in 0s (~0s, 1011.9/s\n",
      "\n",
      "-- -- -- -- -- -- -- -- -- -- -- -- -- -- -- -- -- -- -- -- -- -- -- -- -- -- -- -- -- -- \n"
     ]
    }
   ],
   "source": [
    "# Prepare nscf input file\n",
    "lif.nscf(system={'nbnd':15},kpoints={'grid':[6, 6, 6],'kpoints_type': 'crystal'})\n",
    "lif.prepare(20,type_run='nscf')\n",
    "\n",
    "# Run nscf calculation\n",
    "lif.run(128,type_run='nscf', parallelization=' -nk 32 -nd 4')"
   ]
  },
  {
   "cell_type": "markdown",
   "metadata": {},
   "source": [
    "#### Coarse mesh epw calculations"
   ]
  },
  {
   "cell_type": "code",
   "execution_count": 13,
   "metadata": {},
   "outputs": [
    {
     "name": "stdout",
     "output_type": "stream",
     "text": [
      "obtaining nscf and ph attributes\n",
      "nscf ph\n",
      "-- -- -- -- -- -- -- -- -- -- -- -- -- Info -- -- -- -- -- -- -- -- -- -- -- -- -- -- \n",
      "Based on previous pw and ph calculations some parameters are set below\n",
      "lpolar:  .true. (related to epsil in ph)\n",
      "-- -- -- -- -- -- -- -- -- -- -- -- -- -- -- -- -- -- -- -- -- -- -- -- -- -- -- -- -- -- \n",
      "(4, 3)\n",
      "[51, 51, 51]\n"
     ]
    }
   ],
   "source": [
    "# Prepare epw input for coarse mesh calculation\n",
    "lif.reset()\n",
    "lif.epw(epwin={'proj':['\\'F : p\\''],\n",
    "               'elph':'.true.',\n",
    "               'etf_mem':0,\n",
    "               'epwwrite':'.true.',\n",
    "               'epwread':'.false.',\n",
    "               'wannier_plot':'.true.',\n",
    "               'band_plot':'.true.',\n",
    "               'filkf':'\\'./path.kpt\\'',\n",
    "               'filqf':'\\'./path.kpt\\'',\n",
    "               'num_iter':500,\n",
    "               'epbwrite':'.false.',\n",
    "               'nbndsub':'3',\n",
    "               'bands_skipped':'\\'exclude_bands = 1:2, 6:15\\'',\n",
    "               'wannier_plot':'.true.',\n",
    "               'wannier_plot_supercell':'6, 6, 6',\n",
    "               'lpolar':'.true.',\n",
    "               'eig_read':'.false.',\n",
    "              'wannierize':'.true.'},\n",
    "        name='epw1')\n",
    "# Generate filkf if needed\n",
    "\n",
    "W=[0.5,0.75,0.25]\n",
    "L=[0.0,0.5,0.0]\n",
    "G=[0.0,0.0,0.0]\n",
    "X=[0.5,0.5,0.0]\n",
    "K=[0.375,0.75,0.375]\n",
    "sympoints=[W,L,G,X,W,K]\n",
    "#\n",
    "lif.filkf(path=sympoints, length=[41, 41, 41, 41, 41], name='path.kpt')\n",
    "\n",
    "#\n",
    "lif.prepare(1,type_run='epw1') \n"
   ]
  },
  {
   "cell_type": "code",
   "execution_count": 14,
   "metadata": {},
   "outputs": [
    {
     "name": "stdout",
     "output_type": "stream",
     "text": [
      "/scratch/tacc/apps/intel19/impi19_0/qe/7.3/bin\n",
      "-- -- -- -- -- -- -- -- -- -- --  Calculation: epw1  -- -- -- -- -- -- -- -- -- -- -- \n",
      "Running epw1 |████████████████████████████████████████| in 1:46.4 (0.01/s)      \n",
      "\n",
      "-- -- -- -- -- -- -- -- -- -- -- -- -- -- -- -- -- -- -- -- -- -- -- -- -- -- -- -- -- -- \n"
     ]
    }
   ],
   "source": [
    "print(lif.code)\n",
    "\n",
    "#lif.env='mpirun -np 4'\n",
    "lif.run(128,type_run='epw1')"
   ]
  },
  {
   "cell_type": "markdown",
   "metadata": {},
   "source": [
    "#### Interpolation to a relatively fine mesh and solution of polaron equations"
   ]
  },
  {
   "cell_type": "code",
   "execution_count": 17,
   "metadata": {},
   "outputs": [
    {
     "name": "stdout",
     "output_type": "stream",
     "text": [
      "-- -- -- -- -- -- -- -- -- -- -- -- -- Warning -- -- -- -- -- -- -- -- -- -- -- -- -- -- \n",
      "Refreshing EPW input (remove refresh from epw_save.json if not needed)\n",
      "-- -- -- -- -- -- -- -- -- -- -- -- -- -- -- -- -- -- -- -- -- -- -- -- -- -- -- -- -- -- \n",
      "-- -- -- -- -- -- -- -- -- -- -- -- -- Info -- -- -- -- -- -- -- -- -- -- -- -- -- -- \n",
      "Based on previous pw and ph calculations some parameters are set below\n",
      "lpolar:  .true. (related to epsil in ph)\n",
      "-- -- -- -- -- -- -- -- -- -- -- -- -- -- -- -- -- -- -- -- -- -- -- -- -- -- -- -- -- -- \n"
     ]
    }
   ],
   "source": [
    "# Prepare epw input for fine mesh interpolation and polaron calculation\n",
    "\n",
    "lif.epw(epwin={'bands_skipped':'\\'exclude_bands = 1:2, 6:15\\'',\n",
    "               'etf_mem':0,\n",
    "               'nbndsub':3,\n",
    "               'plrn':'.true.',\n",
    "               'restart_plrn':'.false.',\n",
    "               'type_plrn':1,\n",
    "               'init_plrn':1,\n",
    "               'init_sigma_plrn':1.0,\n",
    "               'niter_plrn':500,\n",
    "               'conv_thr_plrn':1.0E-4,\n",
    "               'ethrdg_plrn':1.0E-6,\n",
    "               'adapt_ethrdg_plrn':'.true.',\n",
    "               'init_ethrdg_plrn':1.0E-4,\n",
    "               'nethrdg_plrn':20,\n",
    "               'io_lvl_plrn':0,\n",
    "               'nkf1':6,\n",
    "               'nkf2':6,\n",
    "               'nkf3':6,\n",
    "               'nqf1':6,\n",
    "               'nqf2':6,\n",
    "               'nqf3':6,\n",
    "               'lpolar':'.true.',\n",
    "               'eig_read':'.false.'},\n",
    "            name='epw2')\n",
    "\n",
    "#\n",
    "lif.prepare(1,type_run='epw2')"
   ]
  },
  {
   "cell_type": "code",
   "execution_count": 18,
   "metadata": {},
   "outputs": [
    {
     "name": "stdout",
     "output_type": "stream",
     "text": [
      "-- -- -- -- -- -- -- -- -- -- --  Calculation: epw2  -- -- -- -- -- -- -- -- -- -- -- \n",
      "Running epw2 |████████████████████████████████████████| in 12.7s (0.11/s)       \n",
      "\n",
      "-- -- -- -- -- -- -- -- -- -- -- -- -- -- -- -- -- -- -- -- -- -- -- -- -- -- -- -- -- -- \n"
     ]
    }
   ],
   "source": [
    "# Run\n",
    "lif.run(128,type_run='epw2')"
   ]
  },
  {
   "cell_type": "markdown",
   "metadata": {},
   "source": [
    "#### From the displacement pattern, translate the polaron by one unit cell."
   ]
  },
  {
   "cell_type": "code",
   "execution_count": 35,
   "metadata": {},
   "outputs": [
    {
     "name": "stdout",
     "output_type": "stream",
     "text": [
      "/home1/09084/zhenbang\n",
      "lif/epw/dtau.plrn\n"
     ]
    }
   ],
   "source": [
    "print(os.getcwd())\n",
    "prefix=lif.prefix\n",
    "print(prefix+'/epw/dtau.plrn')\n",
    "\n",
    "\n",
    "\"\"\"\n",
    "For reading dtau.plrn for further postprocessing\n",
    "\"\"\"\n",
    "file = open(prefix+'/epw/dtau.plrn', 'r');\n",
    "control = ( file.readline() ).split();\n",
    "control = np.array(control, dtype=int);\n",
    "\n",
    "dim = [control[0], control[1], control[2]]\n",
    "dim.append(control[-1] // 3)\n",
    "dim.append(3)\n",
    "\n",
    "disp = np.zeros((dim),dtype=complex);\n",
    "\n",
    "for ix in range(control[0]):\n",
    "    for iy in range(control[1]):\n",
    "        for iz in range(control[2]):\n",
    "            for iat in range(dim[-2]):\n",
    "                for icart in range(3):\n",
    "                    temp = ( file.readline() ).split()\n",
    "                    disp[ix,iy,iz,iat,icart] = float(temp[-2]) + 1j * float(temp[-1])\n",
    "\n",
    "\n",
    "file.close();\n",
    "\n",
    "\n",
    "\"\"\"\n",
    "Shift the polaron along the [100] direction\n",
    "\"\"\"\n",
    "shift_x = np.zeros((np.shape(disp)),dtype=complex);\n",
    "\n",
    "params = np.shape(disp)\n",
    "\n",
    "idx = np.zeros((params[0]), dtype=int)\n",
    "idx[0:params[0] - 1] = np.arange(1, params[0], dtype=int); idx[-1] = 0\n",
    "\n",
    "for ix in range(params[0]):\n",
    "    for iy in range(params[1]):\n",
    "        for iz in range(params[2]):\n",
    "            for iat in range(params[3]):\n",
    "                for icart in range(3):\n",
    "                    shift_x[idx[ix], iy, iz, iat, icart] = disp[ix, iy, iz, iat, icart]\n",
    "\n",
    "\"\"\"\n",
    "Generate the dtau_disp.plrn_* files\n",
    "\"\"\"\n",
    "midpoints = 21;\n",
    "scaling = np.linspace(0,1,21,endpoint=True)\n",
    "shift = shift_x - disp\n",
    "\n",
    "for i in range(midpoints):\n",
    "    file = open(prefix + '/epw/dtau_disp.plrn_' + str(i+1), 'w');\n",
    "\n",
    "    file.write( '{:10d}'.format(params[0]) + '{:10d}'.format(params[1]) + '{:10d}'.format(params[2]) );\n",
    "    file.write( '{:10d}'.format(params[0] * params[1] * params[2]) );\n",
    "    file.write( '{:10d}'.format(params[3] * 3)  + '\\n');\n",
    "\n",
    "\n",
    "    for ix in range(params[0]):\n",
    "        for iy in range(params[1]):\n",
    "            for iz in range(params[2]):\n",
    "                iunit = ix * params[1] * params[2] + iy * params[2] + iz + 1\n",
    "                for iat in range(params[3]):\n",
    "                    for icart in range(3):\n",
    "                        ifree = iat * 3 + icart + 1\n",
    "                        disp_value = shift[ix, iy, iz, iat, icart] * scaling[i]+\\\n",
    "                                      disp[ix, iy, iz, iat, icart];\n",
    "                        \n",
    "                        file.write( '{:18.10E}'.format(np.real(disp_value)) + '{:18.10E}'.format(np.imag(disp_value)) +'\\n' )\n",
    "\n",
    "\n",
    "    file.close();"
   ]
  },
  {
   "cell_type": "markdown",
   "metadata": {},
   "source": [
    "#### Perform the polaron calculations with given atomic displacements, and compute the polaron total energy for each given displacements"
   ]
  },
  {
   "cell_type": "code",
   "execution_count": 51,
   "metadata": {
    "jupyter": {
     "outputs_hidden": true
    }
   },
   "outputs": [
    {
     "name": "stdout",
     "output_type": "stream",
     "text": [
      "-- -- -- -- -- -- -- -- -- -- -- -- -- Warning -- -- -- -- -- -- -- -- -- -- -- -- -- -- \n",
      "Refreshing EPW input (remove refresh from epw_save.json if not needed)\n",
      "-- -- -- -- -- -- -- -- -- -- -- -- -- -- -- -- -- -- -- -- -- -- -- -- -- -- -- -- -- -- \n",
      "-- -- -- -- -- -- -- -- -- -- -- -- -- Info -- -- -- -- -- -- -- -- -- -- -- -- -- -- \n",
      "Based on previous pw and ph calculations some parameters are set below\n",
      "lpolar:  .true. (related to epsil in ph)\n",
      "-- -- -- -- -- -- -- -- -- -- -- -- -- -- -- -- -- -- -- -- -- -- -- -- -- -- -- -- -- -- \n",
      "-- -- -- -- -- -- -- -- -- -- --  Calculation: epw2.dtau  -- -- -- -- -- -- -- -- -- -- -- \n",
      "Running epw2.dtau |████████████████████████████████████████| in 13.1s (0.11/s)  \n",
      "\n",
      "-- -- -- -- -- -- -- -- -- -- -- -- -- -- -- -- -- -- -- -- -- -- -- -- -- -- -- -- -- -- \n"
     ]
    }
   ],
   "source": [
    "lif.epw(epwin={'etf_mem':0,\n",
    "               'bands_skipped':'\\'exclude_bands = 1:2, 6:15\\'',\n",
    "               'nbndsub':3,\n",
    "               'plrn':'.true.',\n",
    "               'restart_plrn':'.false.',\n",
    "               'type_plrn':1,\n",
    "               'init_plrn':6,\n",
    "               'init_ntau_plrn':str(midpoints),\n",
    "               'init_sigma_plrn':1.0,\n",
    "               'niter_plrn':1,\n",
    "               'conv_thr_plrn':1.0E-4,\n",
    "               'ethrdg_plrn':1.0E-6,\n",
    "               'adapt_ethrdg_plrn':'.true.',\n",
    "               'init_ethrdg_plrn':1.0E-4,\n",
    "               'nethrdg_plrn':20,\n",
    "               'io_lvl_plrn':0,\n",
    "               'nkf1':6,\n",
    "               'nkf2':6,\n",
    "               'nkf3':6,\n",
    "               'nqf1':6,\n",
    "               'nqf2':6,\n",
    "               'nqf3':6,\n",
    "               'lpolar':'.true.',\n",
    "               'eig_read':'.false.'},\n",
    "            name='epw2.dtau')\n",
    "\n",
    "#\n",
    "lif.prepare(1,type_run='epw2',name = 'epw',infile='epw2.dtau.in')\n",
    "\n",
    "lif.run(128,type_run='epw2', infile='epw2.dtau')"
   ]
  },
  {
   "cell_type": "markdown",
   "metadata": {},
   "source": [
    "#### Plot the potential surface and extract the hopping barrier"
   ]
  },
  {
   "cell_type": "code",
   "execution_count": 52,
   "metadata": {},
   "outputs": [
    {
     "data": {
      "image/png": "[encoded data removed]",
      "text/plain": [
       "<Figure size 864x576 with 1 Axes>"
      ]
     },
     "metadata": {
      "needs_background": "light"
     },
     "output_type": "display_data"
    },
    {
     "name": "stdout",
     "output_type": "stream",
     "text": [
      "Hopping barrier (eV):  0.5021256\n"
     ]
    }
   ],
   "source": [
    "prefix=lif.prefix\n",
    "E_pot_surf = []\n",
    "file = open(prefix + '/epw/epw2.dtau.out', 'r')\n",
    "for line in file:\n",
    "    if \"Formation Energy at this \" in line:\n",
    "        E_pot_surf.append( float(line.split()[-1]) )\n",
    "file.close()\n",
    "\n",
    "font = {'family' : 'DejaVu Sans',\n",
    "    'size'   : 36}\n",
    "plt.rc('font', **font)\n",
    "\n",
    "fig, ax = plt.subplots(1, figsize=(12,8))\n",
    "ax.plot(scaling, E_pot_surf, marker='o', markersize=10, linewidth=5, color='black')\n",
    "ax.set_xlabel('Reaction coordinate')\n",
    "ax.set_ylabel('Formation energy (eV)')\n",
    "\n",
    "plt.show()\n",
    "\n",
    "plt.close()\n",
    "\n",
    "E_barrier = max(E_pot_surf) - min(E_pot_surf)\n",
    "\n",
    "print('Hopping barrier (eV): ', E_barrier)"
   ]
  },
  {
   "cell_type": "markdown",
   "metadata": {},
   "source": [
    "#### Compute the mobility from the Emin-Holstein-Austin-Mott (EHAM) theory"
   ]
  },
  {
   "cell_type": "code",
   "execution_count": 53,
   "metadata": {
    "scrolled": true
   },
   "outputs": [
    {
     "data": {
      "image/png": "[encoded data removed]",
      "text/plain": [
       "<Figure size 864x576 with 1 Axes>"
      ]
     },
     "metadata": {
      "needs_background": "light"
     },
     "output_type": "display_data"
    }
   ],
   "source": [
    "# Some constants\n",
    "eSI = 1.60217663 * 1e-19\n",
    "heV = 4.135667696*1e-15 #in eV * s \n",
    "hSI = 6.62607015*1e-34 #in J * s \n",
    "kb = 8.617333262*1e-5 # in eV\n",
    "\n",
    "# The energy of the phonon mode that assists the polaron hopping\n",
    "# Usually taken as the LO mode near zone center \n",
    "nu = 75 # in meV\n",
    "\n",
    "# The distance between two hopping sites\n",
    "R = 2.87012 * 1e-10 # in meter\n",
    "\n",
    "# Hopping barrier\n",
    "hopping = E_barrier\n",
    "\n",
    "# The number of sites accepting the hopping along a specific direction\n",
    "neighbor = 1\n",
    "\n",
    "# The EHAM calculations\n",
    "temperature = np.linspace(100, 300, 100, endpoint=True)\n",
    "ket = (nu / 1000 / heV) * np.exp(-hopping / kb / temperature / 1000)\n",
    "D = R * R * neighbor * ket\n",
    "mu = eSI * D / (kb * temperature * eSI) * 1e4 # in cm^2 * V^-1 * s^-1\n",
    "\n",
    "\n",
    "fig2 = plt.figure(2, figsize=(12,8))\n",
    "plt.plot(temperature, mu, color='black', linewidth=3.0)\n",
    "plt.xlabel('Tempeature (K)')\n",
    "plt.ylabel(r'Mobility ($cm^2 \\cdot V^{-1} \\cdot s^{-1})$')\n",
    "plt.yscale('log')"
   ]
  },
  {
   "cell_type": "code",
   "execution_count": null,
   "metadata": {},
   "outputs": [],
   "source": []
  }
 ],
 "metadata": {
  "kernelspec": {
   "display_name": "Python 3 (ipykernel)",
   "language": "python",
   "name": "python3"
  },
  "language_info": {
   "codemirror_mode": {
    "name": "ipython",
    "version": 3
   },
   "file_extension": ".py",
   "mimetype": "text/x-python",
   "name": "python",
   "nbconvert_exporter": "python",
   "pygments_lexer": "ipython3",
   "version": "3.9.7"
  }
 },
 "nbformat": 4,
 "nbformat_minor": 4
}
