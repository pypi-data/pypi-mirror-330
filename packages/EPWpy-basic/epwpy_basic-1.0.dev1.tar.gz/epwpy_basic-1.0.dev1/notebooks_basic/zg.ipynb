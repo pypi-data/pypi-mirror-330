{
 "cells": [
  {
   "cell_type": "markdown",
   "metadata": {},
   "source": [
    "$\\underline{\\large{\\rm Temperature-dependent\\,properties\\,using\\,the\\,ZG\\,method}}$\n",
    "\n",
    "Here we calculate temperature-dependent properties such as band strictures using the ZG method.\n",
    "\n",
    "Below we define the main input file which defines all constants and the system we will investigate, in this case silicon.\n"
   ]
  },
  {
   "cell_type": "code",
   "execution_count": 1,
   "metadata": {},
   "outputs": [
    {
     "name": "stdout",
     "output_type": "stream",
     "text": [
      "\n",
      "                                                                                                                         \n",
      "                                                                                          \n",
      "                                       -*#*-                             ...............- \n",
      "                          .+*=      .+%*-=%%:      .=#*-               -===============-:.\n",
      "                        :*%=*%%-    *%*   #%*    :+%+-%%+             .:.  -=.   :==-.    \n",
      "                        -%S  -%%*: :#%.   -%%-. -##:  #%*                  -=.   :==-     \n",
      "                ..      .%S:   +%%%%*.     :*%%%#=    %%=                  -=.   :==-     \n",
      "              :=#%%*-   .#S-     ..                  .%%=     :*#*:        -=.   :==-     \n",
      "             -%S:.=#%%*==%#                           *%%=::=##-+%%.  .   .=-.   :==-  .= \n",
      "             :%%-   .-+++:                             -+##*=.  =%S   :-::==:    .==-  --.\n",
      "              *%#                                               #%+    -=--:.     .----:. \n",
      "              :%%-                                             -%S.                       \n",
      "       .-=*####SS%#########:  -###########*+:     +#######=   =%SS####+::.                \n",
      "     =+#**%SSSSSSSSSSSSSSSS=  =SSSSSSSSSSSSSSS=   #SSSSSSS*.  +SSSSSSSS%%%%-              \n",
      "     *%%    =SSS..     .SSS=     SSS=.   .:+SSS+   -SSS:. .-::.  .SSS+.  #%*              \n",
      "      #%#.  =SSS.  *S#  *S%:     SSS=       %SS%.  .SSS=  #SSS%. :SSS:  =%#.              \n",
      "       *%%: =SSS#*#SSS-          SSS=     .+SSS+.   %SS*.=SSSSS+ +SS%.:+%+                \n",
      "        +%%:=SSSSSSSSS-          SSSSSSSSSSSSS=.    +SSS:SSS%SSS:%SS*-#%=                 \n",
      "     ....#S==SSS:..SSS:  =+-     SSS%######+=.      -SSS%SS%.#SS%SSS==%%=.                \n",
      " .:+##%%#*- =SSS.   ::. :SSS.    SSS=.               SSSSSS:..SSSSSS: :*%%%*=-            \n",
      " #%+.     -+#SSS*+++++++*SSS: .=+SSS#++++:           %SSSS+.  =SSSS%.    :-+#%%+          \n",
      " #%*     .SSSSSSSSSSSSSSSSSS: *SSSSSSSSSSS.          +SSS%.    %SSS*.      . .%%=         \n",
      " =%S       :::::::::::::::::.  .:::::::::.            :::.      :::.     =+=-.#%+         \n",
      " -%S:                                                                    =+===#S:         \n",
      " ==*------------------------------=========+++++++++++++++++++++++========++-+##          \n",
      " =+++++++++++*******++++++++++++++++========------------------==========+++++++-          \n",
      "-- -- -- -- -- -- -- -- -- -- -- -- Structure Info -- -- -- -- -- -- -- -- -- -- -- -- -- \n",
      "1\n",
      "pseudo found at pseudodojo : ONCVPSP-PBE-FR-PDv0.3/Si_r.upf\n",
      "-- -- -- -- -- -- -- -- -- -- -- -- -- -- -- -- -- -- -- -- -- -- -- -- -- -- -- -- -- -- \n",
      "pseudopotential: Si_r.upf\n",
      "pseudopotential directory: '/work2/07369/mzach/frontera/QE/Notebooks/pseudo/'\n",
      "prefix: si\n"
     ]
    },
    {
     "data": {
      "text/plain": [
       "0"
      ]
     },
     "execution_count": 1,
     "metadata": {},
     "output_type": "execute_result"
    }
   ],
   "source": [
    "import numpy as np\n",
    "import math\n",
    "import os\n",
    "import sys\n",
    "import subprocess\n",
    "import EPWpy\n",
    "from EPWpy import EPWpy\n",
    "from EPWpy.plotting import plot_bands\n",
    "\n",
    "####Constants########\n",
    "nr=3.3\n",
    "hbar=6.6*10**-16\n",
    "c=3*10**10\n",
    "font=16\n",
    "# Supercell dimensions\n",
    "dim1=3\n",
    "dim2=3\n",
    "dim3=3\n",
    "\n",
    "#Define folder locations, prefix and number of cores\n",
    "folder='./'\n",
    "cores='16'\n",
    "prefix='si'\n",
    "flfrc='\\''+str(prefix)+'.fc\\''\n",
    "pseudo = os.getcwd() + '/pseudos'\n",
    "######Define the directory of installation##############\n",
    "QE = '/home1/07369/mzach/codes/q-e_dev_2024/bin'\n",
    "########################################################\n",
    "\n",
    "\n",
    "########Define the system used for the calculations###############\n",
    "silicon=EPWpy.EPWpy({'prefix':prefix,'restart_mode':'\\'from_scratch\\'','ibrav':2,'nat':2,'calculation':'\\'scf\\'',\n",
    "                  'atomic_species':['Si'],'mass':[28.0855],\n",
    "                  'atoms':['Si','Si'],'ntyp':1,'pseudo':['Si.upf'],'ecutwfc':'40','ecutrho':'160',\n",
    "                  'celldm(1)':'10.262','verbosity':'high','type':'alat','pseudo_auto':True                  \n",
    "                 },code=QE,env='ibrun')\n",
    "silicon.serial = True\n",
    "\n",
    "#######Printing any attribute######\n",
    "pseudopot=silicon.__dict__['pw_atomic_species']['pseudo'][0]\n",
    "print('pseudopotential:', silicon.__dict__['pw_atomic_species']['pseudo'][0])\n",
    "print('pseudopotential directory:', silicon.__dict__['pw_control']['pseudo_dir'])\n",
    "print('prefix:',prefix)\n",
    "\n",
    "os.system('module list')"
   ]
  },
  {
   "cell_type": "markdown",
   "metadata": {},
   "source": [
    "$\\underline{\\large{\\rm Self\\,Consistent\\,Field\\,(SCF) \\,Calculations}}$\n",
    "\n",
    "We first solve the Kohn-Sham equations to obtain the Kohn-Sham orbitals $\\phi_v(r)$, $r$ is the electronic position (generally a mesh grid), $R$ is the position of ions.\n",
    "\n",
    "$E[\\phi_v,R]=-\\frac{\\hbar^2}{2m}\\sum_v{\\int{\\phi_v^\\star(r)\\nabla^2\\phi_v(r)dr}+\\int{V_R(r)n(r)dr}+\\frac{e^2}{2}\\int{\\frac{n(r)n(r')}{|r-r'|}drdr'}+E_{xc}[n(r')]+\\sum_{I\\neq J}{\\frac{e^2}{2}\\frac{Z_IZ_J}{|R_I-R_J|}}}$\n",
    "\n",
    "We minimize $E(R)=min(E[\\phi_v,R])$\n",
    "\n",
    "Where, $\\Big(-\\frac{\\hbar^2}{2m}\\nabla^2+V_{KS}(r)\\Big)\\phi_v(r)=\\epsilon_v\\phi_v(r)$\n"
   ]
  },
  {
   "cell_type": "code",
   "execution_count": 2,
   "metadata": {},
   "outputs": [
    {
     "name": "stdout",
     "output_type": "stream",
     "text": [
      "-- -- -- -- -- -- -- -- -- -- --  Calculation: scf  -- -- -- -- -- -- -- -- -- -- -- \n",
      "Running scf |████████████████████████████████████████| in 0.0s (193.46/s) \n",
      "\n",
      "-- -- -- -- -- -- -- -- -- -- -- -- -- -- -- -- -- -- -- -- -- -- -- -- -- -- -- -- -- -- \n"
     ]
    }
   ],
   "source": [
    "## Create SCF input file ##\n",
    "silicon.scf(electrons={'conv_thr':'1E-6',\n",
    "                       'mixing_beta':'0.7'},\n",
    "            kpoints={'kpoints':[[6,6,6]],\n",
    "                     'kpoints_type':'automatic'},\n",
    "            name='scf')\n",
    "## Prepare folders and copy necessary files ##\n",
    "silicon.prepare(1,type_run='scf')\n",
    "## Run calculation ##\n",
    "silicon.run(2)"
   ]
  },
  {
   "cell_type": "code",
   "execution_count": 10,
   "metadata": {},
   "outputs": [
    {
     "name": "stdout",
     "output_type": "stream",
     "text": [
      "-- -- -- -- -- -- -- -- -- -- -- -- -- -- -- -- -- -- -- -- -- -- -- -- -- -- -- -- -- -- \n",
      "Calculation finished normally in si/scf/scf.out\n",
      "\n",
      "-- -- -- -- -- -- -- -- -- -- -- -- -- -- -- -- -- -- -- -- -- -- -- -- -- -- -- -- -- -- \n"
     ]
    }
   ],
   "source": [
    "silicon.file = 'si/scf/scf.out'\n",
    "silicon.get_QE_status()"
   ]
  },
  {
   "cell_type": "markdown",
   "metadata": {},
   "source": [
    "$\\underline{\\large{\\rm Phonon\\,Calculations}}$\n",
    "\n",
    "In order to obtain the temperature-dependent properties we need the electron-phonon interactions, which is the first derivative of the lattice potential.\n",
    "\n",
    "We also need phonon energies and displacement vectors. We will obtain all these quantities using the density-functional perturbation theory (DFPT)\n",
    "\n",
    "https://docs.epw-code.org/_downloads/b3f5899664a87fcdd6dcacc262e6f103/Mon.1.Giannozzi.pdf\n",
    "\n",
    "Here as an example we evaluate phonons in a $3\\times3\\times3$ $q$-grid."
   ]
  },
  {
   "cell_type": "code",
   "execution_count": 4,
   "metadata": {},
   "outputs": [
    {
     "name": "stdout",
     "output_type": "stream",
     "text": [
      "-- -- -- -- -- -- -- -- -- -- --  Calculation: ph  -- -- -- -- -- -- -- -- -- -- -- \n",
      "Running ph |████████████████████████████████████████| in 0.0s (201.11/s) \n",
      "\n",
      "-- -- -- -- -- -- -- -- -- -- -- -- -- -- -- -- -- -- -- -- -- -- -- -- -- -- -- -- -- -- \n"
     ]
    }
   ],
   "source": [
    "## Create PH input file ##\n",
    "silicon.ph(phonons={'nq1':3,\n",
    "                    'nq2':3,\n",
    "                    'nq3':3,\n",
    "                    'fildvscf':'\\' \\''})\n",
    "## Prepare folders and copy necessary files ##\n",
    "silicon.prepare(1,type_run='ph')\n",
    "## Run calculation ##\n",
    "silicon.run(48,type_run='ph')"
   ]
  },
  {
   "cell_type": "code",
   "execution_count": 11,
   "metadata": {},
   "outputs": [
    {
     "name": "stdout",
     "output_type": "stream",
     "text": [
      "-- -- -- -- -- -- -- -- -- -- -- -- -- -- -- -- -- -- -- -- -- -- -- -- -- -- -- -- -- -- \n",
      "Calculation finished normally in si/ph/ph.out\n",
      "\n",
      "-- -- -- -- -- -- -- -- -- -- -- -- -- -- -- -- -- -- -- -- -- -- -- -- -- -- -- -- -- -- \n"
     ]
    }
   ],
   "source": [
    "silicon.file = 'si/ph/ph.out'\n",
    "silicon.get_QE_status()"
   ]
  },
  {
   "cell_type": "markdown",
   "metadata": {},
   "source": [
    "$\\underline{\\large{\\rm Interatomic\\,Force\\,Constants\\,(IFCs)}}$\n",
    "\n",
    "In order to produce the ZG configurations we first need to evaluate the interatomic forces constants, as they will provide information on how to displace the atoms. This constants are obtain via second derivatives of the total potential energy, that is: $C_{\\kappa\\alpha\\rho\\kappa'\\alpha'\\rho'}=\\partial^{2}U/\\partial\\tau_{\\kappa\\alpha\\rho}\\tau_{\\kappa'\\alpha'\\rho'}$"
   ]
  },
  {
   "cell_type": "code",
   "execution_count": 5,
   "metadata": {},
   "outputs": [
    {
     "name": "stdout",
     "output_type": "stream",
     "text": [
      "-- -- -- -- -- -- -- -- -- -- --  Calculation: q2r  -- -- -- -- -- -- -- -- -- -- -- \n",
      "Running q2r |████████████████████████████████████████| in 0.0s (200.60/s) \n",
      "\n",
      "-- -- -- -- -- -- -- -- -- -- -- -- -- -- -- -- -- -- -- -- -- -- -- -- -- -- -- -- -- -- \n"
     ]
    }
   ],
   "source": [
    "## Create q2r input file ##\n",
    "silicon.q2r(q2r={'fildyn':'\\'si.dyn\\'',\n",
    "                 'flfrc':flfrc,\n",
    "                 'zasr':'\\'crystal\\''})\n",
    "## Prepare folders and copy necessary files ##\n",
    "silicon.prepare(1,type_run='q2r')\n",
    "## Run calculation ##\n",
    "silicon.run(1,type_run='q2r')"
   ]
  },
  {
   "cell_type": "markdown",
   "metadata": {},
   "source": [
    "$\\underline{\\large{\\rm The\\,ZG\\,Displacements}}$\n",
    "\n",
    "In order to generate the set of atomic displacements (ZG displacements) that best incorporate the effect of electron-phonon coupling in ab initio nonperturbative calculations we employ the equation described below, as implemented in Quantum ESPRESSO by M. Zacharias and F. Giustino (Phys. Rev. Research 2, 013357 (2020)):\n",
    "$\\Delta\\tau^{ZG}_{pk}=\\sqrt{\\frac{M_{p}}{N_{p}M_{k}}}2\\sum_{q\\in B,v}S_{qv}Re[e^{iq.R_{p}}e_{k,v}(q)]\\sigma_{qv,T}$\n",
    "\n",
    "In this example we will create ZG configurations in a $3\\times3\\times3$ at 0 Kelvin. Our goal in this example is to determine the phonon-induced band gap renormalization."
   ]
  },
  {
   "cell_type": "code",
   "execution_count": 7,
   "metadata": {},
   "outputs": [
    {
     "name": "stdout",
     "output_type": "stream",
     "text": [
      "-- -- -- -- -- -- -- -- -- -- --  Calculation: zg  -- -- -- -- -- -- -- -- -- -- -- \n",
      "Running zg |████████████████████████████████████████| in 0.0s (192.87/s) \n",
      "\n",
      "-- -- -- -- -- -- -- -- -- -- -- -- -- -- -- -- -- -- -- -- -- -- -- -- -- -- -- -- -- -- \n"
     ]
    }
   ],
   "source": [
    "## Create ZG input file ##\n",
    "size=3     # Supercell size given by size X size X size\n",
    "T=0.0   # Temperature\n",
    "silicon.zg(inputzg={'T':T,\n",
    "               'flfrc':flfrc,\n",
    "               'dim1':dim1,\n",
    "               'dim2':dim2,\n",
    "               'dim3':dim3,\n",
    "               'error_thresh':'0.3',\n",
    "               'niters':'4000'})\n",
    "## Prepare folders and copy necessary files ##\n",
    "silicon.prepare(1,type_run='zg')\n",
    "## Run calculation ##\n",
    "silicon.run(2,type_run='zg')"
   ]
  },
  {
   "cell_type": "code",
   "execution_count": 14,
   "metadata": {},
   "outputs": [
    {
     "name": "stdout",
     "output_type": "stream",
     "text": [
      "-- -- -- -- -- -- -- -- -- -- -- -- -- -- -- -- -- -- -- -- -- -- -- -- -- -- -- -- -- -- \n",
      "Calculation finished normally in si/zg/zg.out\n",
      "\n",
      "-- -- -- -- -- -- -- -- -- -- -- -- -- -- -- -- -- -- -- -- -- -- -- -- -- -- -- -- -- -- \n"
     ]
    }
   ],
   "source": [
    "silicon.file = 'si/zg/zg.out'\n",
    "silicon.get_QE_status()"
   ]
  },
  {
   "cell_type": "markdown",
   "metadata": {},
   "source": [
    "$\\underline{\\large{\\rm Phonon-Assisted\\,Optical\\,Spectra}}$\n",
    "\n",
    "Next, we will calculate temperature-dependent optical spectra. We will evaluate the optical matrix elements in the independent-particle approximation. Our goal is to obtain the real and imaginary part of the dielectric function and then calculate the absorption coefficient for both the equilibrium and ZG structure.\n",
    "\n",
    "First, we will run a SCF and NSCF calculation for both systems:\n",
    "\n",
    "1) The NSCF should be done with the flag \"nosym=.true.\", as the code we will use to calculate absorption does not recognize symmetries (epsilon_Gaus.x).\n",
    "\n",
    "2) We need to include extra bands with the \"nbnd\" flag to account for transitions to conduction states that are higher in energy.\n",
    "\n",
    "3) The epsilon_Gaus.x code doesn't support the reduction of the k-points grid into the irreducible Brillouin zone. Therefore the PW run must be performed with a uniform k-points grid and all k-points weights must be equal to each other. In other words, we will manually specify a k-point list.\n",
    "\n",
    "Below we write the inputs, prepare the folders and run the SCF and NSCF calculations."
   ]
  },
  {
   "cell_type": "code",
   "execution_count": 11,
   "metadata": {},
   "outputs": [
    {
     "name": "stdout",
     "output_type": "stream",
     "text": [
      "\n",
      "                                                                                                                         \n",
      "                                                                                          \n",
      "                                       -*#*-                             ...............- \n",
      "                          .+*=      .+%*-=%%:      .=#*-               -===============-:.\n",
      "                        :*%=*%%-    *%*   #%*    :+%+-%%+             .:.  -=.   :==-.    \n",
      "                        -%S  -%%*: :#%.   -%%-. -##:  #%*                  -=.   :==-     \n",
      "                ..      .%S:   +%%%%*.     :*%%%#=    %%=                  -=.   :==-     \n",
      "              :=#%%*-   .#S-     ..                  .%%=     :*#*:        -=.   :==-     \n",
      "             -%S:.=#%%*==%#                           *%%=::=##-+%%.  .   .=-.   :==-  .= \n",
      "             :%%-   .-+++:                             -+##*=.  =%S   :-::==:    .==-  --.\n",
      "              *%#                                               #%+    -=--:.     .----:. \n",
      "              :%%-                                             -%S.                       \n",
      "       .-=*####SS%#########:  -###########*+:     +#######=   =%SS####+::.                \n",
      "     =+#**%SSSSSSSSSSSSSSSS=  =SSSSSSSSSSSSSSS=   #SSSSSSS*.  +SSSSSSSS%%%%-              \n",
      "     *%%    =SSS..     .SSS=     SSS=.   .:+SSS+   -SSS:. .-::.  .SSS+.  #%*              \n",
      "      #%#.  =SSS.  *S#  *S%:     SSS=       %SS%.  .SSS=  #SSS%. :SSS:  =%#.              \n",
      "       *%%: =SSS#*#SSS-          SSS=     .+SSS+.   %SS*.=SSSSS+ +SS%.:+%+                \n",
      "        +%%:=SSSSSSSSS-          SSSSSSSSSSSSS=.    +SSS:SSS%SSS:%SS*-#%=                 \n",
      "     ....#S==SSS:..SSS:  =+-     SSS%######+=.      -SSS%SS%.#SS%SSS==%%=.                \n",
      " .:+##%%#*- =SSS.   ::. :SSS.    SSS=.               SSSSSS:..SSSSSS: :*%%%*=-            \n",
      " #%+.     -+#SSS*+++++++*SSS: .=+SSS#++++:           %SSSS+.  =SSSS%.    :-+#%%+          \n",
      " #%*     .SSSSSSSSSSSSSSSSSS: *SSSSSSSSSSS.          +SSS%.    %SSS*.      . .%%=         \n",
      " =%S       :::::::::::::::::.  .:::::::::.            :::.      :::.     =+=-.#%+         \n",
      " -%S:                                                                    =+===#S:         \n",
      " ==*------------------------------=========+++++++++++++++++++++++========++-+##          \n",
      " =+++++++++++*******++++++++++++++++========------------------==========+++++++-          \n",
      "-- -- -- -- -- -- -- -- -- -- -- -- Structure Info -- -- -- -- -- -- -- -- -- -- -- -- -- \n",
      "1\n",
      "pseudo found at pseudodojo : ONCVPSP-PBE-FR-PDv0.3/Si_r.upf\n",
      "-- -- -- -- -- -- -- -- -- -- -- -- -- -- -- -- -- -- -- -- -- -- -- -- -- -- -- -- -- -- \n",
      "-- -- -- -- -- -- -- -- -- -- --  Calculation: scf  -- -- -- -- -- -- -- -- -- -- -- \n",
      "Running scf |████████████████████████████████████████| in 0.0s (195.67/s) \n",
      "\n",
      "-- -- -- -- -- -- -- -- -- -- -- -- -- -- -- -- -- -- -- -- -- -- -- -- -- -- -- -- -- -- \n"
     ]
    }
   ],
   "source": [
    "import EPWpy\n",
    "from EPWpy import EPWpy\n",
    "from EPWpy.utilities import parse\n",
    "\n",
    "filename3 =str(os.getcwd())+'/'+f\"{prefix}/zg/ZG-scf_{dim1}{dim2}{dim3}_{T}0K.in\"\n",
    "atomic_labels, atomic_positions, cell_param, add_param = parse.parse_data(filename3)\n",
    "\n",
    "si_zg=EPWpy.EPWpy({'prefix':prefix,\n",
    "            'restart_mode':'\\'from_scratch\\'','ibrav':2,'nat':2*dim1*dim2*dim3,'calculation':'\\'scf\\'',\n",
    "            'atomic_species':['Si'],'mass':[28.0855],\n",
    "            'atoms':atomic_labels,'atomic_pos':atomic_positions,'ntyp':1,'pseudo':['Si.upf'],\n",
    "            'ecutwfc':'20','ecutrho':'80',\n",
    "            'celldm(1)':10.262*dim1,'verbosity':'high','atomic_position_type':'angstrom',\n",
    "           'pseudo_auto':True },code=QE,env='ibrun',system='si_zg')\n",
    "si_zg.serial = True\n",
    "\n",
    "## Run SCF for the ZG structure\n",
    "si_zg.scf(system={'nbnd':'119'},electrons={'conv_thr':'1E-6','mixing_beta':'0.7'},\n",
    "            kpoints={'kpoints':[[2,2,2]],'kpoints_type': 'automatic'},name='scf')\n",
    "si_zg.prepare(1,type_run='scf')\n",
    "si_zg.run(28)"
   ]
  },
  {
   "cell_type": "code",
   "execution_count": 12,
   "metadata": {},
   "outputs": [
    {
     "name": "stdout",
     "output_type": "stream",
     "text": [
      "\n",
      "                                                                                                                         \n",
      "                                                                                          \n",
      "                                       -*#*-                             ...............- \n",
      "                          .+*=      .+%*-=%%:      .=#*-               -===============-:.\n",
      "                        :*%=*%%-    *%*   #%*    :+%+-%%+             .:.  -=.   :==-.    \n",
      "                        -%S  -%%*: :#%.   -%%-. -##:  #%*                  -=.   :==-     \n",
      "                ..      .%S:   +%%%%*.     :*%%%#=    %%=                  -=.   :==-     \n",
      "              :=#%%*-   .#S-     ..                  .%%=     :*#*:        -=.   :==-     \n",
      "             -%S:.=#%%*==%#                           *%%=::=##-+%%.  .   .=-.   :==-  .= \n",
      "             :%%-   .-+++:                             -+##*=.  =%S   :-::==:    .==-  --.\n",
      "              *%#                                               #%+    -=--:.     .----:. \n",
      "              :%%-                                             -%S.                       \n",
      "       .-=*####SS%#########:  -###########*+:     +#######=   =%SS####+::.                \n",
      "     =+#**%SSSSSSSSSSSSSSSS=  =SSSSSSSSSSSSSSS=   #SSSSSSS*.  +SSSSSSSS%%%%-              \n",
      "     *%%    =SSS..     .SSS=     SSS=.   .:+SSS+   -SSS:. .-::.  .SSS+.  #%*              \n",
      "      #%#.  =SSS.  *S#  *S%:     SSS=       %SS%.  .SSS=  #SSS%. :SSS:  =%#.              \n",
      "       *%%: =SSS#*#SSS-          SSS=     .+SSS+.   %SS*.=SSSSS+ +SS%.:+%+                \n",
      "        +%%:=SSSSSSSSS-          SSSSSSSSSSSSS=.    +SSS:SSS%SSS:%SS*-#%=                 \n",
      "     ....#S==SSS:..SSS:  =+-     SSS%######+=.      -SSS%SS%.#SS%SSS==%%=.                \n",
      " .:+##%%#*- =SSS.   ::. :SSS.    SSS=.               SSSSSS:..SSSSSS: :*%%%*=-            \n",
      " #%+.     -+#SSS*+++++++*SSS: .=+SSS#++++:           %SSSS+.  =SSSS%.    :-+#%%+          \n",
      " #%*     .SSSSSSSSSSSSSSSSSS: *SSSSSSSSSSS.          +SSS%.    %SSS*.      . .%%=         \n",
      " =%S       :::::::::::::::::.  .:::::::::.            :::.      :::.     =+=-.#%+         \n",
      " -%S:                                                                    =+===#S:         \n",
      " ==*------------------------------=========+++++++++++++++++++++++========++-+##          \n",
      " =+++++++++++*******++++++++++++++++========------------------==========+++++++-          \n",
      "-- -- -- -- -- -- -- -- -- -- -- -- Structure Info -- -- -- -- -- -- -- -- -- -- -- -- -- \n",
      "1\n",
      "pseudo found at pseudodojo : ONCVPSP-PBE-FR-PDv0.3/Si_r.upf\n",
      "-- -- -- -- -- -- -- -- -- -- -- -- -- -- -- -- -- -- -- -- -- -- -- -- -- -- -- -- -- -- \n",
      "-- -- -- -- -- -- -- -- -- -- --  Calculation: scf  -- -- -- -- -- -- -- -- -- -- -- \n",
      "Running scf |████████████████████████████████████████| in 0.0s (196.34/s) \n",
      "\n",
      "-- -- -- -- -- -- -- -- -- -- -- -- -- -- -- -- -- -- -- -- -- -- -- -- -- -- -- -- -- -- \n"
     ]
    }
   ],
   "source": [
    "import EPWpy\n",
    "from EPWpy import EPWpy\n",
    "from EPWpy.utilities import parse\n",
    "\n",
    "filename4 =str(os.getcwd())+'/'+f\"{prefix}/zg/equil-scf_{dim1}{dim2}{dim3}.in\"\n",
    "atomic_labels, atomic_positions, cell_param, add_param = parse.parse_data(filename4)\n",
    "\n",
    "silicon_equil=EPWpy.EPWpy({'prefix':prefix,'restart_mode':'\\'from_scratch\\'','ibrav':2,'nat':2*size*size*size,\n",
    "            'calculation':'\\'scf\\'','atomic_species':['Si'],'mass':[28.0855],\n",
    "            'atoms':atomic_labels,'atomic_pos':atomic_positions,'ntyp':1,'pseudo':['Si.upf'],'ecutwfc':'20',\n",
    "            'ecutrho':'80','celldm(1)':10.262*dim1,'verbosity':'high','atomic_position_type':'angstrom',\n",
    "            'pseudo_auto':True },code=QE,env='ibrun',system='si_equil')\n",
    "silicon_equil.serial = True\n",
    "\n",
    "## Run SCF for the equilibrium structure\n",
    "silicon_equil.scf(system={'nbnd':'119'},electrons={'conv_thr':'1E-6','mixing_beta':'0.7'},\n",
    "            kpoints={'kpoints':[[2,2,2]],'kpoints_type': 'automatic'},name='scf')\n",
    "silicon_equil.prepare(1,type_run='scf')\n",
    "silicon_equil.run(28)"
   ]
  },
  {
   "cell_type": "markdown",
   "metadata": {},
   "source": [
    "$\\underline{\\large{\\rm Question}}$\n",
    "\n",
    "After you run both SCF calculations, the folders si_equil and si_zg will contain the SCF for both supercells. Compare the energies and band gaps. Are they the same?\n",
    "\n",
    "\n",
    "Next we run the NSCF calculations for both systems:"
   ]
  },
  {
   "cell_type": "code",
   "execution_count": 14,
   "metadata": {},
   "outputs": [
    {
     "name": "stdout",
     "output_type": "stream",
     "text": [
      "-- -- -- -- -- -- -- -- -- -- --  Calculation: nscf  -- -- -- -- -- -- -- -- -- -- -- \n",
      "Running nscf |████████████████████████████████████████| in 0.0s (197.47/s) \n",
      "\n",
      "-- -- -- -- -- -- -- -- -- -- -- -- -- -- -- -- -- -- -- -- -- -- -- -- -- -- -- -- -- -- \n"
     ]
    }
   ],
   "source": [
    "## Run NSCF for the ZG structure\n",
    "si_zg.nscf(system={'nbnd':'135','nosym':'.true.','ecutwfc':'20'},electrons={'conv_thr':'1E-6','mixing_beta':'0.7'},\n",
    "            kpoints={'grid':[4,4,4],'kpoints_type': 'crystal'},name='nscf')\n",
    "si_zg.prepare(1,type_run='nscf')\n",
    "si_zg.run(28,type_run='nscf')"
   ]
  },
  {
   "cell_type": "code",
   "execution_count": 15,
   "metadata": {},
   "outputs": [
    {
     "name": "stdout",
     "output_type": "stream",
     "text": [
      "-- -- -- -- -- -- -- -- -- -- --  Calculation: nscf  -- -- -- -- -- -- -- -- -- -- -- \n",
      "Running nscf |████████████████████████████████████████| in 0.0s (195.11/s) \n",
      "\n",
      "-- -- -- -- -- -- -- -- -- -- -- -- -- -- -- -- -- -- -- -- -- -- -- -- -- -- -- -- -- -- \n"
     ]
    }
   ],
   "source": [
    "## Run NSCF for the equilibrium structure\n",
    "silicon_equil.nscf(system={'nbnd':'135','nosym':'.true.'},electrons={'conv_thr':'1E-6','mixing_beta':'0.7'},\n",
    "            kpoints={'grid':[4,4,4],'kpoints_type': 'crystal'},name='nscf')\n",
    "silicon_equil.prepare(1,type_run='nscf')\n",
    "silicon_equil.run(48,type_run='nscf')"
   ]
  },
  {
   "cell_type": "markdown",
   "metadata": {},
   "source": [
    "Next, we prepare folders, create inputs and run the calculations for the real and imaginary part of the dielectric function with epsilon_Gaus.x from Quantum Espresso:"
   ]
  },
  {
   "cell_type": "code",
   "execution_count": 16,
   "metadata": {},
   "outputs": [
    {
     "name": "stdout",
     "output_type": "stream",
     "text": [
      "-- -- -- -- -- -- -- -- -- -- --  Calculation: eps  -- -- -- -- -- -- -- -- -- -- -- \n",
      "Running eps |████████████████████████████████████████| in 0.0s (198.65/s) \n",
      "\n",
      "-- -- -- -- -- -- -- -- -- -- -- -- -- -- -- -- -- -- -- -- -- -- -- -- -- -- -- -- -- -- \n"
     ]
    }
   ],
   "source": [
    "## Run dielectric function calculation for the ZG structure\n",
    "si_zg.eps(inputpp={'calculation':'eps'},energy_grid={'intersmear':'0.03','wmin':'0.2','wmax':'4.5','nw':'600'},name='eps')\n",
    "si_zg.prepare(1,type_run='eps')\n",
    "si_zg.run(8,type_run='eps')"
   ]
  },
  {
   "cell_type": "code",
   "execution_count": 17,
   "metadata": {},
   "outputs": [
    {
     "name": "stdout",
     "output_type": "stream",
     "text": [
      "-- -- -- -- -- -- -- -- -- -- --  Calculation: eps  -- -- -- -- -- -- -- -- -- -- -- \n",
      "Running eps |████████████████████████████████████████| in 0.0s (197.54/s) \n",
      "\n",
      "-- -- -- -- -- -- -- -- -- -- -- -- -- -- -- -- -- -- -- -- -- -- -- -- -- -- -- -- -- -- \n"
     ]
    }
   ],
   "source": [
    "## Run dielectric function calculation for the equilibrium structure\n",
    "silicon_equil.eps(inputpp={'calculation':'eps'},energy_grid={'intersmear':'0.03','wmin':'0.2','wmax':'4.5','nw':'600'},name='eps')\n",
    "silicon_equil.prepare(1,type_run='eps')\n",
    "silicon_equil.run(2,type_run='eps')"
   ]
  },
  {
   "cell_type": "code",
   "execution_count": 18,
   "metadata": {},
   "outputs": [
    {
     "data": {
      "image/png": "[encoded data removed]",
      "text/plain": [
       "<Figure size 432x288 with 1 Axes>"
      ]
     },
     "metadata": {
      "needs_background": "light"
     },
     "output_type": "display_data"
    }
   ],
   "source": [
    "# Plot the absorption coefficient for the both systems\n",
    "import matplotlib.pyplot as plt\n",
    "\n",
    "si_zg.abs_calc\n",
    "silicon_equil.abs_calc\n",
    "data = np.loadtxt(str(os.getcwd())+'/'+f\"si_zg/eps/abs.dat\")\n",
    "data2 = np.loadtxt(str(os.getcwd())+'/'+f\"si_equil/eps/abs.dat\")\n",
    "plt.plot(data2[:, 0], data2[:, 1],color='royalblue', label='Equilibrium structure')\n",
    "plt.plot(data[:, 0], data[:, 1],color='gold', label='ZG structure')\n",
    "plt.xlim(0.0,4.5)\n",
    "#plt.ylim(1e-3,1e2)\n",
    "plt.yscale('log')\n",
    "plt.legend()\n",
    "plt.xlabel(r'$\\hbar\\omega (eV)$')\n",
    "plt.ylabel(r'$\\alpha(cm^{-1})$')\n",
    "plt.show()"
   ]
  },
  {
   "cell_type": "markdown",
   "metadata": {},
   "source": [
    "$\\underline{\\large{\\rm Question}}$\n",
    "\n",
    "Can you observe differences in the optical absorption? As an exercise, (i) investigate convergence of the spectra with respect to the k-point grid and (ii) investigate the temperature dependence of the spectra."
   ]
  },
  {
   "cell_type": "code",
   "execution_count": null,
   "metadata": {},
   "outputs": [],
   "source": []
  }
 ],
 "metadata": {
  "kernelspec": {
   "display_name": "Python 3",
   "language": "python",
   "name": "python3"
  },
  "language_info": {
   "codemirror_mode": {
    "name": "ipython",
    "version": 3
   },
   "file_extension": ".py",
   "mimetype": "text/x-python",
   "name": "python",
   "nbconvert_exporter": "python",
   "pygments_lexer": "ipython3",
   "version": "3.7.0"
  }
 },
 "nbformat": 4,
 "nbformat_minor": 4
}
