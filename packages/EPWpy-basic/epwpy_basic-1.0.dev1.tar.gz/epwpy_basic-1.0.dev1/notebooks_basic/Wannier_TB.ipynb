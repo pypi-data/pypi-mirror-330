{
 "cells": [
  {
   "cell_type": "markdown",
   "metadata": {},
   "source": [
    "In this Notenook we obtain the Wannier tight-binding Hamiltonian for $\\rm MoS_2$ and calculate it's transmission"
   ]
  },
  {
   "cell_type": "code",
   "execution_count": 2,
   "metadata": {},
   "outputs": [
    {
     "name": "stdout",
     "output_type": "stream",
     "text": [
      "The autoreload extension is already loaded. To reload it, use:\n",
      "  %reload_ext autoreload\n"
     ]
    }
   ],
   "source": [
    "%load_ext autoreload\n",
    "#%autoreload 2\n",
    "import matplotlib.pyplot as plt\n",
    "from matplotlib import rc"
   ]
  },
  {
   "cell_type": "code",
   "execution_count": 1,
   "metadata": {},
   "outputs": [
    {
     "name": "stdout",
     "output_type": "stream",
     "text": [
      "/scratch1/05193/sabyadk/jupyter_nb_git/notebooks_basic\n",
      "found structure\n",
      "(3, 3)\n",
      "prefix: MoS2\n"
     ]
    },
    {
     "data": {
      "text/plain": [
       "0"
      ]
     },
     "execution_count": 1,
     "metadata": {},
     "output_type": "execute_result"
    }
   ],
   "source": [
    "import numpy as np\n",
    "#import matplotlib.pyplot as plt\n",
    "#from matplotlib import rc\n",
    "import math\n",
    "import os\n",
    "import sys\n",
    "import subprocess\n",
    "sys.path.insert(0,str(os.getcwd())+'/../EPWpy/')\n",
    "#sys.path.insert(0,str(os.getcwd())+'/../EPWpy/plotting/')\n",
    "import EPWpy\n",
    "from EPWpy import *\n",
    "from plotting import plot_bands\n",
    "\n",
    "#sys.path.insert(0, '/workspace/QE_sabyadk/QE_SXT/bin/')\n",
    "#print(sys.path)\n",
    "############ Nice plot generation##################\n",
    "#rc('text',usetex=True)\n",
    "#rc('font',family='serif')\n",
    "#import matplotlib as mpl\n",
    "#mpl.rcParams['axes.linewidth'] = 1.5\n",
    "#from matplotlib import rcParams\n",
    "#rcParams.update({'figure.autolayout': True})\n",
    "###################################################\n",
    "################################\n",
    "####Constants########\n",
    "nr=3.3\n",
    "hbar=6.6*10**-16\n",
    "c=3*10**10\n",
    "font=16\n",
    "################################\n",
    "\n",
    "##################\n",
    "#Define folders for inputs\n",
    "\n",
    "folder='./'\n",
    "\n",
    "cores='4'\n",
    "prefix='MoS2'\n",
    "pseudo='/home1/05193/sabyadk/jupyter_nb_git/pseudos'\n",
    "######Define the directory of installation##############\n",
    "#QE_install='/work2/05193/sabyadk/frontera/codes_EPW/q-e_new/q-e_ZPR2/'\n",
    "QE='/work2/05193/sabyadk/frontera/codes_EPW/q-e_new/q-e_ZPR_band/bin/'\n",
    "#QE='/work2/05193/sabyadk/frontera/codes_EPW/q-e-qe-6.7MaX-Release_sxt_new_joint_ELPA_newer_final/bin/'\n",
    "########################################################\n",
    "\n",
    "#QE_install_fldr='QE_install'\n",
    "#QE=str(QE_install)+'/'+str(QE_install_fldr)+'/'+'/QE_sabyadk/QE_SXT/bin/'\n",
    "\n",
    "#######Define your home directory by shooting pwd#########\n",
    "#home='/oden/stiwari/data_files/workbook_test/'\n",
    "home='/scratch1/05193/sabyadk/jupyter_nb_git/notebooks_basic'#os.getcwd()\n",
    "print(home)\n",
    "##################\n",
    "\n",
    "########Define system which will remain constant throughout the calculation###############\n",
    "\n",
    "MoS2=EPWpy({'prefix':prefix,\n",
    "               'restart_mode':'\\'from_scratch\\'',\n",
    "               'structure':'MoS2.poscar',               \n",
    "               'mass':[95.95, 32.065],\n",
    "               'pseudo':['Mo.UPF','S.UPF'],\n",
    "               'ecutwfc':'60',\n",
    "               'verbosity':'high',\n",
    "               'pseudo_dir':'\\''+str(pseudo)+'\\''                  \n",
    "                },\n",
    "               code=QE,\n",
    "               env='ibrun',\n",
    "               system='MoS2')\n",
    "\n",
    "#######Printing any attribute######\n",
    "\n",
    "print('prefix:',prefix)\n",
    "\n",
    "os.system('module list')\n",
    "\n"
   ]
  },
  {
   "cell_type": "code",
   "execution_count": 14,
   "metadata": {},
   "outputs": [
    {
     "name": "stdout",
     "output_type": "stream",
     "text": [
      "scf\n",
      "MoS2\n",
      "['Mo.UPF', 'S.UPF']\n",
      "running scf with 2 k and 2 tasks\n",
      "ibrun /work2/05193/sabyadk/frontera/codes_EPW/q-e_new/q-e_ZPR_band/bin//pw.x -nk 2 -nt 2 -input scf.in > scf.out | tail -f scf.out\n"
     ]
    }
   ],
   "source": [
    "######scf run##############\n",
    "\n",
    "#######build scf file #############\n",
    "MoS2.scf(electrons={'conv_thr':'1E-13'},kpoints={'kpoints':[[6,6,1]],'kpoints_type':'automatic'},name='scf')\n",
    "#####################################\n",
    "\n",
    "MoS2.prepare(4,type_run='scf')\n",
    "MoS2.run(4)"
   ]
  },
  {
   "cell_type": "code",
   "execution_count": 18,
   "metadata": {},
   "outputs": [
    {
     "name": "stdout",
     "output_type": "stream",
     "text": [
      "bs\n",
      "running bands with 2 k and 2 tasks\n",
      "ibrun /work2/05193/sabyadk/frontera/codes_EPW/q-e_new/q-e_ZPR_band/bin//pw.x -nk 2 -nt 2 -input bs.in > bs.out | tail -f bs.out\n"
     ]
    }
   ],
   "source": [
    "############Bandstructure run############\n",
    "\n",
    "#### Create bandstructure files ######\n",
    "\n",
    "MoS2.scf(control={'calculation':'\\'bands\\''},system={'nbnd':50},electrons={'conv_thr':'1E-11'},\n",
    "            kpoints={'kpoints':[['0.5', '0.5', '0.0', '20'],\n",
    "                                ['0.0','0.0','0.0','20'],\n",
    "                                ['0.33','0.33','0.00','20']],\n",
    "                     'kpoints_type':'{crystal_b}'},\n",
    "            name='bs')\n",
    "########################################\n",
    "\n",
    "MoS2.prepare(20,type_run='bs')\n",
    "MoS2.run(4,type_run='bs')"
   ]
  },
  {
   "cell_type": "code",
   "execution_count": 25,
   "metadata": {},
   "outputs": [
    {
     "name": "stdout",
     "output_type": "stream",
     "text": [
      "(41, 50)\n",
      "6 5\n",
      "bandgap 2.1384\n",
      "bandgap direct: 2.1967999999999996\n"
     ]
    },
    {
     "data": {
      "image/png": "[encoded data removed]",
      "text/plain": [
       "<Figure size 432x288 with 1 Axes>"
      ]
     },
     "metadata": {
      "needs_background": "light"
     },
     "output_type": "display_data"
    }
   ],
   "source": [
    "############# Plot Bandstructure ############\n",
    "\n",
    "#######inputs$$###############\n",
    "Band=plot_bands.plot_band_scf('./MoS2/bs/bs.out')\n",
    "#print((Band))\n",
    "\n",
    "xticks=['M','$\\Gamma$','K']\n",
    "\n",
    "ef0=1.48\n",
    "\n",
    "plot_bands.plot_band_prod(Band[:,20:35],ef0)\n",
    "\n"
   ]
  },
  {
   "cell_type": "code",
   "execution_count": 2,
   "metadata": {},
   "outputs": [
    {
     "name": "stdout",
     "output_type": "stream",
     "text": [
      "nscf\n",
      "running nscf with 2 k and 2 tasks\n",
      "ibrun /work2/05193/sabyadk/frontera/codes_EPW/q-e_new/q-e_ZPR_band/bin//pw.x -nk 2 -nt 2 -input nscf.in > nscf.out | tail -f nscf.out\n"
     ]
    }
   ],
   "source": [
    "MoS2.nscf(control={'calculation':'\\'bands\\''},system={'nbnd':54},\n",
    "             kpoints={'grid':[6,6,1],\n",
    "                      'kpoints_type': 'crystal'})\n",
    "\n",
    "MoS2.prepare(20,type_run='nscf')\n",
    "\n",
    "######### Run #####################\n",
    "\n",
    "MoS2.run(4,type_run='nscf')\n"
   ]
  },
  {
   "cell_type": "code",
   "execution_count": 4,
   "metadata": {},
   "outputs": [
    {
     "name": "stdout",
     "output_type": "stream",
     "text": [
      "(36, 54)\n",
      "(36, 54)\n",
      "(36, 54)\n",
      "(36, 54)\n"
     ]
    }
   ],
   "source": [
    "######Wannierization #######\n",
    "\n",
    "MoS2.wannier(win={'projections':[['Mo : d'],['S : p']], \n",
    "                  'num_wann':22,\n",
    "                  'exclude_bands':'1-10,45-54',\n",
    "                  'num_bands':34,\n",
    "                  'dis_win_max':20,\n",
    "                  'dis_win_min':-10,\n",
    "                  'dis_froz_max':5.0,\n",
    "                  'dis_froz_min':0.0,\n",
    "                  'use_ws_distance': '.true.',\n",
    "                  'write_hr':'.true.'\n",
    "                 })\n",
    "\n"
   ]
  },
  {
   "cell_type": "code",
   "execution_count": 5,
   "metadata": {},
   "outputs": [
    {
     "name": "stdout",
     "output_type": "stream",
     "text": [
      "cp -r ./nscf/MoS2.save ./wannier\n"
     ]
    }
   ],
   "source": [
    "MoS2.prepare(20,type_run='wannier')"
   ]
  },
  {
   "cell_type": "code",
   "execution_count": 6,
   "metadata": {},
   "outputs": [
    {
     "name": "stdout",
     "output_type": "stream",
     "text": [
      "running wannier90\n",
      "ibrun /work2/05193/sabyadk/frontera/codes_EPW/q-e_new/q-e_ZPR_band/bin//wannier.x -in MoS2.win MoS2.wout\n"
     ]
    }
   ],
   "source": [
    "MoS2.run(1,type_run='wannier')"
   ]
  },
  {
   "cell_type": "code",
   "execution_count": null,
   "metadata": {},
   "outputs": [],
   "source": []
  }
 ],
 "metadata": {
  "kernelspec": {
   "display_name": "Python 3",
   "language": "python",
   "name": "python3"
  },
  "language_info": {
   "codemirror_mode": {
    "name": "ipython",
    "version": 3
   },
   "file_extension": ".py",
   "mimetype": "text/x-python",
   "name": "python",
   "nbconvert_exporter": "python",
   "pygments_lexer": "ipython3",
   "version": "3.7.0"
  }
 },
 "nbformat": 4,
 "nbformat_minor": 2
}
