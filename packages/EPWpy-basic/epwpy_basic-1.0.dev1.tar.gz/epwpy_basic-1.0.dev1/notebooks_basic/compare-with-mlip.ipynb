{
 "cells": [
  {
   "cell_type": "markdown",
   "metadata": {},
   "source": [
    "## Integrating EPWpy with MLIP workflow\n",
    "\n",
    "EPW workflows written in `EPWpy` can seamlessly integrate with machine learning interatomic potential (MLIP) workflows, which are usually written in Python.\n",
    "\n",
    "In this notebook, we calculate phonon dispersion using `PWscf` and `PHonon` executables in [Quantum Espresso](https://www.quantum-espresso.org/) accessed via `EPWpy`, and compare with the corresponding output generated with a universal interatomic potential (UIP) named [M3GNet](https://www.nature.com/articles/s43588-022-00349-3)."
   ]
  },
  {
   "cell_type": "markdown",
   "metadata": {},
   "source": [
    "### Getting started"
   ]
  },
  {
   "cell_type": "code",
   "execution_count": null,
   "metadata": {},
   "outputs": [],
   "source": [
    "from typing import Dict\n",
    "import os\n",
    "import sys\n",
    "sys.path.insert(0, os.path.abspath(f'{os.getcwd()}/../EPWpy'))\n",
    "import json\n",
    "\n",
    "import numpy as np\n",
    "\n",
    "from EPWpy import EPWpy"
   ]
  },
  {
   "cell_type": "code",
   "execution_count": null,
   "metadata": {},
   "outputs": [],
   "source": [
    "diamond = EPWpy({'prefix':'diamond',\n",
    "               'restart_mode':'\\'from_scratch\\'',\n",
    "               'structure':'diamond.POSCAR',               \n",
    "               'mass':[12.011],\n",
    "               'pseudo': 'automatic',\n",
    "               'ecutwfc': '90',\n",
    "               'verbosity': 'high',\n",
    "               'pseudo_dir': 'automatic'                  \n",
    "                },\n",
    "               code='',\n",
    "               env='mpirun',\n",
    "               system='C')"
   ]
  },
  {
   "cell_type": "markdown",
   "metadata": {},
   "source": [
    "### EPWpy workflow"
   ]
  },
  {
   "cell_type": "code",
   "execution_count": null,
   "metadata": {},
   "outputs": [],
   "source": [
    "# Calculate phonon frequencies using pw.x and ph.x\n",
    "\n",
    "# TODO: Write code here\n"
   ]
  },
  {
   "cell_type": "markdown",
   "metadata": {},
   "source": [
    "### MLIP workflow"
   ]
  },
  {
   "cell_type": "code",
   "execution_count": null,
   "metadata": {},
   "outputs": [],
   "source": [
    "# Install and import packages required for this section\n",
    "! pip install torch pymatgen ase phonopy matgl pydantic > /dev/null\n",
    "import numpy as np\n",
    "import torch\n",
    "from pymatgen.core import Structure\n",
    "from phonopy import Phonopy\n",
    "from phonopy.structure.atoms import PhonopyAtoms\n",
    "from phonopy.phonon.band_structure import (\n",
    "    get_band_qpoints_and_path_connections,\n",
    ")\n",
    "from ase import Atoms\n",
    "from ase.calculators.calculator import Calculator"
   ]
  },
  {
   "cell_type": "code",
   "execution_count": null,
   "metadata": {},
   "outputs": [],
   "source": [
    "struct = Structure(\n",
    "    lattice=diamond.default_pw_cell_parameters['vec'],\n",
    "    species=diamond.default_pw_atomic_positions['atoms'],\n",
    "    coords=diamond.default_pw_atomic_positions['atomic_pos']\n",
    ")\n",
    "struct"
   ]
  },
  {
   "cell_type": "code",
   "execution_count": null,
   "metadata": {},
   "outputs": [],
   "source": [
    "# Relax the structure according to MLIP\n",
    "calc = 'm3gnet'\n",
    "\n",
    "torch.set_default_device('cpu')  # need this for now, maybe matgl folks would fix this later\n",
    "struct = struct.relax(calculator=calc, steps=1000, fmax=1e-5, verbose=True)\n",
    "calc: Calculator = struct.calc"
   ]
  },
  {
   "cell_type": "code",
   "execution_count": null,
   "metadata": {},
   "outputs": [],
   "source": [
    "def phonopyatoms2atoms(pnpatoms: PhonopyAtoms) -> Atoms:\n",
    "    \"\"\"\n",
    "    phonopy.PhonopyAtoms -> ase.Atoms converter\n",
    "    \"\"\"\n",
    "    return Atoms(\n",
    "        symbols=pnpatoms.symbols,\n",
    "        positions=pnpatoms.positions,\n",
    "        cell=pnpatoms.cell,\n",
    "    )\n",
    "\n",
    "supercell_dim = 5\n",
    "unitcell = PhonopyAtoms(symbols=[s.symbol for s in struct.species],\n",
    "                        cell=struct.lattice.matrix,\n",
    "                        scaled_positions=struct.frac_coords,\n",
    "                        )\n",
    "factors = [supercell_dim] * 3\n",
    "\n",
    "dx = 0.04  # in Angstrom\n",
    "phonon = Phonopy(unitcell, supercell_matrix=np.diag(factors))\n",
    "phonon.generate_displacements(distance=dx)\n",
    "sets_of_forces = np.array([\n",
    "    calc.get_forces(phonopyatoms2atoms(scell))\n",
    "    for scell in phonon.supercells_with_displacements\n",
    "])\n",
    "phonon.forces = sets_of_forces\n",
    "phonon.produce_force_constants()\n",
    "phonon.symmetrize_force_constants(level=1)\n",
    "\n",
    "# Get phonon band structure data\n",
    "band_paths = [\n",
    "    # Path 1\n",
    "    [\n",
    "        [0.0, 0.0, 0.0],  # Gamma\n",
    "        [1/2, 0.0, 1/2],  # X\n",
    "        [1/2, 1/4, 3/4],  # W\n",
    "        [1/2, 1/2, 1/2],  # L\n",
    "        [0.0, 0.0, 0.0],  # Gamma\n",
    "    ],\n",
    "]\n",
    "band_path_labels = ['$\\\\Gamma$', '$X$', '$W$', '$L$', '$\\\\Gamma$']\n",
    "qpoints, _ = get_band_qpoints_and_path_connections(band_paths)\n",
    "phonon.run_band_structure(qpoints)\n",
    "data = phonon.get_band_structure_dict()"
   ]
  },
  {
   "cell_type": "code",
   "execution_count": null,
   "metadata": {},
   "outputs": [],
   "source": [
    "qpoints = [data['qpoints'][0][:1, :]]\n",
    "frequencies = [data['frequencies'][0][:1, :]]\n",
    "for qpts, freqs in zip(data['qpoints'], data['frequencies']):\n",
    "    qpoints.append(qpts[1:, :])\n",
    "    frequencies.append(freqs[1:, :])\n",
    "qpoints, frequencies = np.vstack(qpoints), np.vstack(frequencies)\n",
    "qdist = np.linalg.norm(qpoints[1:,:] - qpoints[:-1,:],\n",
    "                        axis=1, keepdims=True)\n",
    "qdist = np.vstack((np.zeros((1, 1)), qdist))\n",
    "qdist = np.cumsum(qdist, axis=0).flatten()"
   ]
  },
  {
   "cell_type": "code",
   "execution_count": null,
   "metadata": {},
   "outputs": [],
   "source": [
    "import matplotlib.pyplot as plt\n",
    "%matplotlib inline\n",
    "\n",
    "plt.figure(figsize=(8., 6.), facecolor='w')\n",
    "plt.plot(qdist, frequencies, 'r-')\n",
    "plt.xlim(qdist.min(), qdist.max())\n",
    "plt.xticks(ticks=qdist[::50], labels=band_path_labels)\n",
    "plt.grid()\n",
    "plt.ylabel('$\\omega$ (THz)')\n",
    "plt.show()"
   ]
  }
 ],
 "metadata": {
  "kernelspec": {
   "display_name": "torch",
   "language": "python",
   "name": "python3"
  },
  "language_info": {
   "codemirror_mode": {
    "name": "ipython",
    "version": 3
   },
   "file_extension": ".py",
   "mimetype": "text/x-python",
   "name": "python",
   "nbconvert_exporter": "python",
   "pygments_lexer": "ipython3",
   "version": "3.9.18"
  }
 },
 "nbformat": 4,
 "nbformat_minor": 2
}
