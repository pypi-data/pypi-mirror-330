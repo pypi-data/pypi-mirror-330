{
 "cells": [
  {
   "cell_type": "markdown",
   "metadata": {},
   "source": [
    "# EnergyID Webhook V2 Demo\n",
    "\n",
    "This notebook demonstrates the new EnergyID Webhook V2 API, which includes device provisioning, claiming, and the new data format for sending measurements to EnergyID.\n",
    "\n",
    "The new webhook implementation offers several advantages:\n",
    "\n",
    "- Simplified device registration through a claiming process\n",
    "- Token-based authentication with automatic refresh\n",
    "- Standardized metric types for common energy measurements\n",
    "- Support for batch uploads and data aggregation\n",
    "- More efficient data format for transmitting measurements"
   ]
  },
  {
   "cell_type": "markdown",
   "metadata": {},
   "source": [
    "## Summary\n",
    "\n",
    "This notebook demonstrates the EnergyID Webhook V2 API with the following features:\n",
    "\n",
    "1. **Device Provisioning**: Setting up a device with a unique identifier\n",
    "2. **Claiming Process**: Allowing users to claim a device and link it to their EnergyID account\n",
    "3. **Token-based Authentication**: Automatic token refresh and handling of expired tokens\n",
    "4. **Simplified Data Format**: Using standardized keys like `el`, `pv`, `gas` for common energy metrics\n",
    "5. **Batch Data Uploads**: Sending multiple metrics in a single request\n",
    "6. **Custom Timestamps**: Attaching specific timestamps to data\n",
    "7. **Prefixed Metrics**: Using prefixes to handle multiple metrics of the same type\n",
    "8. **Sensor Objects**: Managing sensor state and synchronization\n",
    "9. **Automatic Synchronization**: Periodically sending updates without manual intervention\n",
    "\n",
    "The new Webhook V2 API provides a more efficient and user-friendly way to integrate devices with EnergyID."
   ]
  },
  {
   "cell_type": "markdown",
   "metadata": {},
   "source": [
    "## 1. Setup & Dependencies\n",
    "\n",
    "First, let's install the required dependencies if needed and import the necessary libraries:"
   ]
  },
  {
   "cell_type": "code",
   "execution_count": null,
   "metadata": {},
   "outputs": [],
   "source": [
    "# Uncomment to install dependencies if needed\n",
    "# !pip install -q aiohttp nest-asyncio python-dotenv\n",
    "\n",
    "import asyncio\n",
    "import datetime as dt\n",
    "import json\n",
    "import logging\n",
    "import os\n",
    "import random\n",
    "import uuid\n",
    "\n",
    "import nest_asyncio\n",
    "from dotenv import load_dotenv\n",
    "\n",
    "# Configure logging for better output\n",
    "logging.basicConfig(\n",
    "    level=logging.INFO, format=\"%(asctime)s - %(name)s - %(levelname)s - %(message)s\"\n",
    ")\n",
    "logger = logging.getLogger(\"energyid-demo\")\n",
    "\n",
    "# Apply nest_asyncio to make asyncio work in Jupyter\n",
    "nest_asyncio.apply()\n",
    "\n",
    "# Load environment variables\n",
    "load_dotenv()"
   ]
  },
  {
   "cell_type": "markdown",
   "metadata": {},
   "source": [
    "## 2. WebhookClient Implementation\n",
    "\n",
    "We'll implement a client for the EnergyID Webhook V2 API. This client handles the device provisioning flow, authentication, and sending data to EnergyID.\n",
    "\n",
    "For brevity, we'll import our implementation from `energyid_webhooks.client` module. Let's look at how to use it:"
   ]
  },
  {
   "cell_type": "code",
   "execution_count": null,
   "metadata": {},
   "outputs": [],
   "source": [
    "# Import the WebhookClient module\n",
    "from energyid_webhooks.client_v2 import WebhookClient\n",
    "\n",
    "\n",
    "# We'll also create a helper function to run async functions in the notebook\n",
    "def run_async(coroutine):\n",
    "    \"\"\"Run an async coroutine.\"\"\"\n",
    "    return asyncio.get_event_loop().run_until_complete(coroutine)"
   ]
  },
  {
   "cell_type": "markdown",
   "metadata": {},
   "source": [
    "## 3. Device Provisioning and Claiming\n",
    "\n",
    "The first step in using the EnergyID Webhook V2 API is device provisioning. This process involves:\n",
    "\n",
    "1. Creating a unique device identifier\n",
    "2. Authenticating with EnergyID using provisioning credentials\n",
    "3. Claiming the device through the EnergyID web interface\n",
    "\n",
    "Let's set up the client with credentials from environment variables:\n",
    "\n",
    "NOTE: you can also use existing device by specifying it in the .env. To not have to add a new device."
   ]
  },
  {
   "cell_type": "code",
   "execution_count": null,
   "metadata": {},
   "outputs": [],
   "source": [
    "# Get credentials from environment variables\n",
    "client_id = os.getenv(\"CLIENT_ID\")\n",
    "client_secret = os.getenv(\"CLIENT_SECRET\")\n",
    "device_id = os.getenv(\"ENERGYID_DEVICE_ID\")\n",
    "device_name = os.getenv(\"ENERGYID_DEVICE_NAME\", \"Jupyter Demo Device\")\n",
    "\n",
    "if not client_id or not client_secret:\n",
    "    raise ValueError(\"Please set CLIENT_ID and CLIENT_SECRET environment variables\")\n",
    "\n",
    "\n",
    "# Generate a device ID if not provided in environment\n",
    "if not device_id:\n",
    "    device_id = f\"jupyter_demo_{uuid.uuid4().hex[:8]}\"\n",
    "    print(f\"Generated new device ID: {device_id}\")\n",
    "else:\n",
    "    print(f\"Using existing device ID from environment: {device_id}\")\n",
    "\n",
    "# Create the webhook client\n",
    "client = WebhookClient(\n",
    "    client_id=client_id,\n",
    "    client_secret=client_secret,\n",
    "    device_id=device_id,\n",
    "    device_name=device_name,\n",
    "    firmware_version=\"1.0.0\",\n",
    ")\n",
    "# Display device info for future reference\n",
    "print(\"\\nDevice info for future reference:\")\n",
    "print(f\"device_id: {client.device_id}\")\n",
    "print(f\"device_name: {client.device_name}\")\n",
    "print(f\"firmware_version: {client.firmware_version}\")\n",
    "print(\"To reuse this device in future runs, set these environment variables:\")\n",
    "print(f\"ENERGYID_DEVICE_ID={client.device_id}\")\n",
    "print(f\"ENERGYID_DEVICE_NAME={client.device_name}\")"
   ]
  },
  {
   "cell_type": "markdown",
   "metadata": {},
   "source": [
    "Now let's authenticate and check if the device is already claimed:"
   ]
  },
  {
   "cell_type": "code",
   "execution_count": null,
   "metadata": {},
   "outputs": [],
   "source": [
    "# Authenticate with EnergyID\n",
    "is_claimed = run_async(client.authenticate())\n",
    "\n",
    "if is_claimed:\n",
    "    print(\"✅ Device is already claimed and ready to send data!\")\n",
    "    print(f\"Webhook URL: {client.webhook_url}\")\n",
    "    print(f\"Auth valid until: {client.auth_valid_until}\")\n",
    "    print(f\"\\nWebhook policy: {json.dumps(client.webhook_policy, indent=2)}\")\n",
    "else:\n",
    "    # Device needs to be claimed\n",
    "    claim_info = client.get_claim_info()\n",
    "    print(\"⚠️ Device needs to be claimed before sending data!\")\n",
    "    print(f\"\\nClaim Code: {claim_info['claim_code']}\")\n",
    "    print(f\"Claim URL: {claim_info['claim_url']}\")\n",
    "    print(f\"Valid until: {claim_info['valid_until']}\")\n",
    "    print(\"\\n1. Visit the claim URL above in your browser\")\n",
    "    print(\"2. Log in to your EnergyID account if needed\")\n",
    "    print(\"3. Enter the claim code shown above\")\n",
    "    print(\"4. Once claimed, re-run this cell to continue or run the next cell\")"
   ]
  },
  {
   "cell_type": "markdown",
   "metadata": {},
   "source": [
    "If the device isn't claimed yet, follow the instructions above to claim it through the EnergyID web interface. Then re-run the cell or the next one to verify it's been claimed successfully."
   ]
  },
  {
   "cell_type": "code",
   "execution_count": null,
   "metadata": {},
   "outputs": [],
   "source": [
    "# Authenticate with EnergyID\n",
    "is_claimed = run_async(client.authenticate())\n",
    "\n",
    "if is_claimed:\n",
    "    print(\"✅ Device is already claimed and ready to send data!\")\n",
    "    print(f\"Webhook URL: {client.webhook_url}\")\n",
    "    # print(f\"client info: {client.client_info}\")\n",
    "    print(f\"Auth valid until: {client.auth_valid_until}\")\n",
    "    print(f\"\\nWebhook policy: {json.dumps(client.webhook_policy, indent=2)}\")\n",
    "else:\n",
    "    raise ValueError(\"Device is not claimed yet, please claim it first\")"
   ]
  },
  {
   "cell_type": "markdown",
   "metadata": {},
   "source": [
    "## 3.5 Testing reauthentication"
   ]
  },
  {
   "cell_type": "code",
   "execution_count": null,
   "metadata": {},
   "outputs": [],
   "source": [
    "# Test reauthentication by simulating an expired token\n",
    "async def test_reauthentication(client):\n",
    "    \"\"\"Test that the client properly handles a 401 Unauthorized response.\"\"\"\n",
    "    if not client.is_claimed:\n",
    "        print(\"⚠️ Device must be claimed to test reauthentication\")\n",
    "        return\n",
    "\n",
    "    print(\"Testing reauthentication flow:\")\n",
    "\n",
    "    # Create a copy of the original headers to restore later\n",
    "    original_headers = client.headers.copy() if client.headers else None\n",
    "\n",
    "    try:\n",
    "        # 1. Temporarily remove the authorization header to force a 401\n",
    "        if client.headers and \"authorization\" in client.headers:\n",
    "            # Save the auth header value\n",
    "            _ = client.headers.pop(\"authorization\")\n",
    "            print(\"1. Removed authorization header to simulate expired token\")\n",
    "        else:\n",
    "            print(\"1. Cannot test - no authorization header found\")\n",
    "            return\n",
    "\n",
    "        # 2. Try to send data without the authorization header\n",
    "        data = {\"el\": 9999.9}  # Use a distinctive value\n",
    "        print(\"2. Sending data without authorization header...\")\n",
    "\n",
    "        _ = await client.send_data(data)\n",
    "        print(\"   ✅ Client successfully reauthorized and sent data\")\n",
    "\n",
    "        # 3. Verify token refresh worked\n",
    "        print(\"3. Checking authentication status...\")\n",
    "        if client.auth_valid_until:\n",
    "            print(f\"   ✅ Token refreshed, valid until: {client.auth_valid_until}\")\n",
    "        else:\n",
    "            print(\"   ❌ Token refresh might have failed, no valid_until time set\")\n",
    "\n",
    "        return True\n",
    "    finally:\n",
    "        # Restore the original headers if needed\n",
    "        if original_headers:\n",
    "            client.headers = original_headers\n",
    "\n",
    "\n",
    "# Run the reauthentication test\n",
    "if client.is_claimed:\n",
    "    run_async(test_reauthentication(client))"
   ]
  },
  {
   "cell_type": "markdown",
   "metadata": {},
   "source": [
    "## 4. Sending Data in the New Format\n",
    "\n",
    "Once the device is claimed, we can start sending data. The new V2 API uses a simpler key-value structure with standardized metric keys:"
   ]
  },
  {
   "cell_type": "code",
   "execution_count": null,
   "metadata": {},
   "outputs": [],
   "source": [
    "# Check if device is claimed before proceeding\n",
    "if not client.is_claimed:\n",
    "    print(\"⚠️ Please claim the device first!\")\n",
    "else:\n",
    "    # Create a simple data point with current timestamp\n",
    "    data = {\n",
    "        # ts is automatically added if not provided\n",
    "        \"el\": 1250.5,  # Electricity consumption in kWh\n",
    "        \"pv\": 3560.2,  # Solar production in kWh\n",
    "    }\n",
    "\n",
    "    # Send the data\n",
    "    response = run_async(client.send_data(data))\n",
    "    print(\"✅ Data sent successfully!\")\n",
    "    print(f\"Response: {response}\")"
   ]
  },
  {
   "cell_type": "markdown",
   "metadata": {},
   "source": [
    "## 5. Sending Multiple Metrics in a Single Request\n",
    "\n",
    "The new format allows sending multiple metrics in a single request, which is more efficient:"
   ]
  },
  {
   "cell_type": "code",
   "execution_count": null,
   "metadata": {},
   "outputs": [],
   "source": [
    "# Check if device is claimed before proceeding\n",
    "if not client.is_claimed:\n",
    "    print(\"⚠️ Please claim the device first!\")\n",
    "else:\n",
    "    # Create a batch of metrics\n",
    "    metrics = {\n",
    "        \"el\": 1255.7,  # Electricity consumption\n",
    "        \"el-i\": 150.3,  # Electricity injection\n",
    "        \"pv\": 3570.8,  # Solar production\n",
    "        \"gas\": 450.2,  # Gas consumption\n",
    "        \"temperature\": 21.5,  # Custom metric for temperature\n",
    "    }\n",
    "\n",
    "    # Send all metrics in a single request\n",
    "    response = run_async(client.send_batch_data(metrics))\n",
    "    print(\"✅ Batch data sent successfully!\")\n",
    "    print(f\"Response: {response}\")"
   ]
  },
  {
   "cell_type": "markdown",
   "metadata": {},
   "source": [
    "## 6. Sending Data with Specific Timestamp\n",
    "\n",
    "We can also send data with a specific timestamp instead of using the current time:"
   ]
  },
  {
   "cell_type": "code",
   "execution_count": null,
   "metadata": {},
   "outputs": [],
   "source": [
    "# Check if device is claimed before proceeding\n",
    "if not client.is_claimed:\n",
    "    print(\"⚠️ Please claim the device first!\")\n",
    "else:\n",
    "    # Create data for a specific time (yesterday)\n",
    "    yesterday = dt.datetime.now(dt.timezone.utc) - dt.timedelta(days=1)\n",
    "    metrics = {\"el\": 1240.3, \"pv\": 3550.1}\n",
    "\n",
    "    # Send with specific timestamp\n",
    "    response = run_async(client.send_batch_data(metrics, timestamp=yesterday))\n",
    "    print(f\"✅ Data sent with timestamp {yesterday.isoformat()}\")\n",
    "    print(f\"Response: {response}\")"
   ]
  },
  {
   "cell_type": "markdown",
   "metadata": {},
   "source": [
    "## 7. Using Prefixed Metrics\n",
    "\n",
    "The new API also supports prefixed metrics to handle multiple data points of the same type:"
   ]
  },
  {
   "cell_type": "code",
   "execution_count": null,
   "metadata": {},
   "outputs": [],
   "source": [
    "# Check if device is claimed before proceeding\n",
    "if not client.is_claimed:\n",
    "    print(\"⚠️ Please claim the device first!\")\n",
    "else:\n",
    "    # Create data with prefixed metrics\n",
    "    metrics = {\n",
    "        # Electricity with time-of-use tariffs\n",
    "        \"el.t1\": 850.5,  # Day tariff\n",
    "        \"el.t2\": 410.2,  # Night tariff\n",
    "        # Electricity injection with time-of-use tariffs\n",
    "        \"el-i.t1\": 120.3,  # Day tariff\n",
    "        \"el-i.t2\": 35.7,  # Night tariff\n",
    "        # Custom sensors\n",
    "        \"temperature.living\": 21.5,\n",
    "        \"temperature.outside\": 15.2,\n",
    "    }\n",
    "\n",
    "    # Send with prefixed metrics\n",
    "    response = run_async(client.send_batch_data(metrics))\n",
    "    print(\"✅ Prefixed metrics sent successfully!\")\n",
    "    print(f\"Response: {response}\")"
   ]
  },
  {
   "cell_type": "markdown",
   "metadata": {},
   "source": [
    "## 8. Using Sensor Objects\n",
    "\n",
    "The WebhookClient provides a Sensor class to manage each sensor's state and synchronization:"
   ]
  },
  {
   "cell_type": "code",
   "execution_count": null,
   "metadata": {},
   "outputs": [],
   "source": [
    "# Check if device is claimed before proceeding\n",
    "if not client.is_claimed:\n",
    "    print(\"⚠️ Please claim the device first!\")\n",
    "else:\n",
    "    # Set up some sensors\n",
    "    electricity = client.add_sensor(\"el\")\n",
    "    electricity_injection = client.add_sensor(\"el-i\")\n",
    "    pv = client.add_sensor(\"pv\")\n",
    "    gas = client.add_sensor(\"gas\")\n",
    "\n",
    "    # Update sensor values\n",
    "    electricity.update(1260.0)\n",
    "    electricity_injection.update(155.2)\n",
    "    pv.update(3580.0)\n",
    "    gas.update(455.3)\n",
    "\n",
    "    # Synchronize the updated sensors\n",
    "    response = run_async(client.synchronize_sensors())\n",
    "    print(\"✅ Sensors synchronized successfully!\")\n",
    "    print(f\"Response: {response}\")"
   ]
  },
  {
   "cell_type": "markdown",
   "metadata": {},
   "source": [
    "## 9. Simulating Continuous Data Updates\n",
    "\n",
    "Let's simulate how you might continuously update data over time:"
   ]
  },
  {
   "cell_type": "code",
   "execution_count": null,
   "metadata": {},
   "outputs": [],
   "source": [
    "async def simulate_updates(client, updates=5, interval=2):\n",
    "    \"\"\"Simulate sensor updates over time.\"\"\"\n",
    "    if not client.is_claimed:\n",
    "        print(\"⚠️ Please claim the device first!\")\n",
    "        return\n",
    "\n",
    "    # Set up sensors if they don't exist\n",
    "    electricity = client.add_sensor(\"el\")\n",
    "    pv = client.add_sensor(\"pv\")\n",
    "    temperature = client.add_sensor(\"temperature.living\")\n",
    "\n",
    "    # Starting values\n",
    "    el_value = 1260.0\n",
    "    pv_value = 3580.0\n",
    "    temp_value = 21.0\n",
    "\n",
    "    print(f\"Simulating {updates} updates at {interval} second intervals...\")\n",
    "\n",
    "    for i in range(updates):\n",
    "        # Update values with small random changes\n",
    "        el_value += random.uniform(0.1, 0.5)  # Small increase in consumption\n",
    "        pv_value += random.uniform(0.2, 1.0)  # Larger increase in production\n",
    "        temp_value = max(18, min(25, temp_value + random.uniform(-0.5, 0.5)))\n",
    "\n",
    "        # Update sensors\n",
    "        electricity.update(el_value)\n",
    "        pv.update(pv_value)\n",
    "        temperature.update(temp_value)\n",
    "\n",
    "        now = dt.datetime.now()\n",
    "        print(\n",
    "            f\"[{now.isoformat()}] Update {i + 1}/{updates}: el={el_value:.2f}, \"\n",
    "            f\"pv={pv_value:.2f}, temp={temp_value:.1f}\"\n",
    "        )\n",
    "\n",
    "        # Synchronize after each update (in a real application, you'd do this less frequently)\n",
    "        if i % 2 == 1:  # Sync every other update\n",
    "            print(\"   Synchronizing...\")\n",
    "            await client.synchronize_sensors()\n",
    "\n",
    "        # Wait between updates\n",
    "        if i < updates - 1:  # Don't wait after the last update\n",
    "            await asyncio.sleep(interval)\n",
    "\n",
    "    print(\"\\n✅ Simulation complete!\")\n",
    "\n",
    "\n",
    "# Run the simulation\n",
    "run_async(simulate_updates(client, updates=5, interval=2))"
   ]
  },
  {
   "cell_type": "markdown",
   "metadata": {},
   "source": [
    "## 10. Auto-synchronization\n",
    "\n",
    "The WebhookClient supports automatic synchronization at a specified interval:"
   ]
  },
  {
   "cell_type": "code",
   "execution_count": null,
   "metadata": {},
   "outputs": [],
   "source": [
    "# Start auto-sync with a 30-second interval\n",
    "client.start_auto_sync(30)\n",
    "print(\"✅ Auto-sync started with 30-second interval\")\n",
    "print(\"   Now you can update sensors and they will be synchronized automatically\")"
   ]
  },
  {
   "cell_type": "markdown",
   "metadata": {},
   "source": [
    "Let's update some sensors and rely on auto-sync to send the data:"
   ]
  },
  {
   "cell_type": "code",
   "execution_count": null,
   "metadata": {},
   "outputs": [],
   "source": [
    "# Update sensors without manually synchronizing\n",
    "client.update_sensor(\"el\", 1265.5)\n",
    "client.update_sensor(\"pv\", 3590.2)\n",
    "client.update_sensor(\"temperature.living\", 22.0)\n",
    "\n",
    "print(\"✅ Sensors updated, they will be synchronized automatically\")\n",
    "print(\"   Wait for the auto-sync interval to see the data being sent\")"
   ]
  },
  {
   "cell_type": "markdown",
   "metadata": {},
   "source": [
    "## 11. Clean Up\n",
    "\n",
    "Finally, let's properly close the client to clean up resources:"
   ]
  },
  {
   "cell_type": "code",
   "execution_count": null,
   "metadata": {},
   "outputs": [],
   "source": [
    "# Close the client\n",
    "run_async(client.close())\n",
    "print(\"✅ Client closed and resources cleaned up!\")"
   ]
  }
 ],
 "metadata": {
  "kernelspec": {
   "display_name": ".venv",
   "language": "python",
   "name": "python3"
  },
  "language_info": {
   "codemirror_mode": {
    "name": "ipython",
    "version": 3
   },
   "file_extension": ".py",
   "mimetype": "text/x-python",
   "name": "python",
   "nbconvert_exporter": "python",
   "pygments_lexer": "ipython3",
   "version": "3.12.3"
  }
 },
 "nbformat": 4,
 "nbformat_minor": 4
}
