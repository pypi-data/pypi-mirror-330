{
 "cells": [
  {
   "cell_type": "code",
   "execution_count": null,
   "metadata": {},
   "outputs": [],
   "source": [
    "import sys\n",
    "\n",
    "from prepare_submit import main as test\n",
    "\n",
    "sys.argv = [\"prepare_submit.py\", \"--project\", \"20250223_qctr_mt_test\", \"--test\"]\n",
    "test()"
   ]
  },
  {
   "cell_type": "code",
   "execution_count": null,
   "metadata": {},
   "outputs": [],
   "source": [
    "import matplotlib.pyplot as plt\n",
    "import mplhep as hep\n",
    "import pandas as pd\n",
    "\n",
    "hep.style.use(\"CMS\")\n",
    "\n",
    "fig, ax_memory = plt.subplots()\n",
    "fig, ax_cpu = plt.subplots()\n",
    "for job_id in [\"mt_2\", \"mt_4\", \"mt_16\", \"sr\"]:\n",
    "    df = pd.read_feather(\n",
    "        f\"/hpcfs/juno/junogpu/dingxf/log/20250220_qctr_mt_test/monitor/{job_id}_rec_monitor.feather\"\n",
    "    )\n",
    "    display(df)\n",
    "    ax_memory.plot(df[\"elapsed\"], df[\"rss\"]/1024/1024/1024, label=job_id)\n",
    "    ax_memory.plot(df[\"elapsed\"], df[\"vsz\"]/1024/1024/1024, label=job_id+\" vsz\")\n",
    "    ax_cpu.plot(df[\"elapsed\"], df[\"cpu\"], label=job_id)\n",
    "ax_memory.legend()\n",
    "ax_cpu.legend()"
   ]
  }
 ],
 "metadata": {
  "kernelspec": {
   "display_name": "juno_env",
   "language": "python",
   "name": "python3"
  },
  "language_info": {
   "codemirror_mode": {
    "name": "ipython",
    "version": 3
   },
   "file_extension": ".py",
   "mimetype": "text/x-python",
   "name": "python",
   "nbconvert_exporter": "python",
   "pygments_lexer": "ipython3",
   "version": "3.11.10"
  }
 },
 "nbformat": 4,
 "nbformat_minor": 2
}
