{
 "cells": [
  {
   "cell_type": "markdown",
   "metadata": {
    "collapsed": true
   },
   "source": [
    "# Characterization of a Telegraph Noise Measurement\n",
    "\n",
    "Here we are analyzing a quantum point contact measurement. We will extract \n",
    "tunneling rates."
   ]
  },
  {
   "cell_type": "code",
   "execution_count": 1,
   "metadata": {
    "ExecuteTime": {
     "end_time": "2024-02-01T15:19:00.825446Z",
     "start_time": "2024-02-01T15:18:55.759236Z"
    }
   },
   "source": [
    "import quantumcatch as qc\n",
    "import signalsnap as snp\n",
    "import numpy as np\n",
    "from qutip import *"
   ],
   "outputs": []
  },
  {
   "cell_type": "markdown",
   "metadata": {},
   "source": [
    "## Experimental Quantum Polyspectra \n",
    "We begin with calculating the quantum polyspectra of the measurement using the [SignalSnap](https://github.com/MarkusSifft/SignalSnap) library."
   ]
  },
  {
   "cell_type": "code",
   "execution_count": 2,
   "metadata": {
    "ExecuteTime": {
     "end_time": "2024-02-01T14:45:11.631018Z",
     "start_time": "2024-02-01T14:44:59.077392Z"
    }
   },
   "source": [
    "path = 'example_data/long_measurement.h5'\n",
    "group_key = 'day1'\n",
    "data_set = 'measurement1'\n",
    "\n",
    "config = snp.SpectrumConfig(\n",
    "    path=path,\n",
    "    group_key=group_key,\n",
    "    dataset=data_set,\n",
    "    f_unit='Hz',\n",
    "    spectrum_size=100,\n",
    "    order_in='all',\n",
    "    f_max=0.4e3,\n",
    "    backend='cpu'\n",
    ")\n",
    "\n",
    "spec = snp.SpectrumCalculator(config)\n",
    "\n",
    "f, s, serr = spec.calc_spec()"
   ],
   "outputs": []
  },
  {
   "cell_type": "markdown",
   "metadata": {},
   "source": [
    "Let's see what the polyspectra look like."
   ]
  },
  {
   "cell_type": "code",
   "execution_count": 3,
   "metadata": {
    "ExecuteTime": {
     "end_time": "2024-02-01T14:45:28.288190Z",
     "start_time": "2024-02-01T14:45:27.230530Z"
    }
   },
   "source": [
    "plot_config = snp.PlotConfig(plot_orders=[2,3,4], sigma=3)\n",
    "fig = spec.plot(plot_config)"
   ],
   "outputs": []
  },
  {
   "cell_type": "markdown",
   "metadata": {},
   "source": [
    "Lastly, the spectra need to be saved. The stored object is later used by the fitting routine."
   ]
  },
  {
   "cell_type": "code",
   "execution_count": 4,
   "metadata": {
    "ExecuteTime": {
     "end_time": "2024-02-01T15:08:44.112543Z",
     "start_time": "2024-02-01T15:08:44.084993Z"
    }
   },
   "source": [
    "spec.save_spec('example_data/polyspectra_for_fit_example.pkl')"
   ],
   "outputs": []
  },
  {
   "cell_type": "markdown",
   "metadata": {},
   "source": [
    "These experimental spectra can now be compared to their theoretical counterparts. For this we need to create model of the assumed quantum system, and introduce variable parameters (here the tunneling rates of the electron tunneling into and out of the quantum dot) that are determined during the fit."
   ]
  },
  {
   "cell_type": "markdown",
   "metadata": {},
   "source": [
    "## Definition of a two-level system with variable parameters"
   ]
  },
  {
   "cell_type": "code",
   "execution_count": 2,
   "metadata": {
    "ExecuteTime": {
     "end_time": "2024-02-01T15:19:00.833052Z",
     "start_time": "2024-02-01T15:19:00.830779Z"
    }
   },
   "source": [
    "def set_system(params):\n",
    "    # ------ Operators and Hamiltonian -----\n",
    "    dot_levels = 2\n",
    "    a = destroy(dot_levels)\n",
    "    n = a.dag() * a\n",
    "    rho_0 = ket2dm(basis(dot_levels, 0)) + ket2dm(basis(dot_levels, 1)) \n",
    "    rho_0 /= np.trace(rho_0)\n",
    "    H = 0 * n\n",
    "    \n",
    "    # ------ System Parameters ------\n",
    "    c_measure_strength = {\n",
    "        'a': params['gamma_out']**0.5,\n",
    "        'a_d': params['gamma_in']**0.5,\n",
    "    }\n",
    "    \n",
    "    sc_measure_strength = {\n",
    "        'n': params['beta']\n",
    "    }\n",
    "    \n",
    "    c_ops = {\n",
    "        'a': a,\n",
    "        'a_d': a.dag(),\n",
    "    }\n",
    "    \n",
    "    sc_ops =  {\n",
    "        'n': n,\n",
    "    }\n",
    "    \n",
    "    e_ops = {\n",
    "        'n': n,\n",
    "    }\n",
    "\n",
    "    system = qc.System(H, rho_0, c_ops, sc_ops, e_ops, c_measure_strength, sc_measure_strength)\n",
    "    \n",
    "    return system, sc_ops, sc_measure_strength"
   ],
   "outputs": []
  },
  {
   "cell_type": "markdown",
   "metadata": {},
   "source": [
    "This function is now handed to the `FitSystem` object"
   ]
  },
  {
   "cell_type": "code",
   "execution_count": 3,
   "metadata": {
    "ExecuteTime": {
     "end_time": "2024-02-01T15:19:00.837496Z",
     "start_time": "2024-02-01T15:19:00.834783Z"
    }
   },
   "source": [
    "m_op = 'n'\n",
    "system_fit = qc.FitSystem(set_system, m_op)"
   ],
   "outputs": []
  },
  {
   "cell_type": "markdown",
   "metadata": {},
   "source": [
    "We can now specify the start values and the bounds for the parameters and start the fitting routine. A constant noise offset `c` can be set, if needed."
   ]
  },
  {
   "cell_type": "code",
   "execution_count": 4,
   "metadata": {
    "ExecuteTime": {
     "end_time": "2024-02-01T15:20:56.031757Z",
     "start_time": "2024-02-01T15:19:00.841649Z"
    },
    "scrolled": false
   },
   "source": [
    "parameter = {'gamma_in':[300, 0, 1e5, True],\n",
    "             'gamma_out': [700, 0, 1e5, True],\n",
    "             'beta': [1, 0, 1e12, True],\n",
    "             'c': [0, -1e12, 1e12, True]}\n",
    "       \n",
    "path = 'example_data/polyspectra_for_fit_example.pkl'         \n",
    "out = system_fit.complete_fit(path, parameter, method='least_squares', xtol=1e-8, ftol=1e-8, fit_modus='resolution_based',\n",
    "                                                            fit_orders=(1,2,3,4))"
   ],
   "outputs": []
  },
  {
   "cell_type": "markdown",
   "metadata": {},
   "source": [
    "This figure presents a comprehensive set of nine plots designed to evaluate the quality of the fit. The plots are arranged in a 3x3 grid and are interpreted as follows:\n",
    "\n",
    "- (0,0): Depicts the first-order spectrum, S1, which is proportional to the mean of the measurement. The experimental S1 trace is displayed in blue, accompanied by its 3σ (three standard deviations) error. The fitted S1 is overlaid in orange.\n",
    "\n",
    "- (0,1): Illustrates both the experimental and theoretical power spectra.\n",
    "\n",
    "- (0,2): Presents the relative error between the experimental and theoretical power spectra, normalized to the experimental power spectrum, as a blue line. This line can be compared to the 3σ error of the power spectra values.\n",
    "\n",
    "- (1,0): Displays the theoretical (upper left triangle) and experimental (lower right triangle) bispectra. This combined representation is facilitated by the symmetry properties of the bispectrum, with the diagonal serving as a symmetry axis.\n",
    "\n",
    "- (1,1): Shows the relative error between the experimental and theoretical bispectra, normalized to the experimental bispectrum. A pixel is colored green when the difference between the experimental and theoretical bispectra is less than the 3σ error of the spectral values.\n",
    "\n",
    "- (1,2): Features experimental and theoretical bispectral values along the axes (ω1, 0) and the diagonal, accompanied by a 3σ error band.\n",
    "\n",
    "- (2,0) to (2,2): These plots mirror the type of plots shown for the bispectrum, but now with the trispectrum. \n",
    "\n",
    "Each plot provides a unique perspective on the data, collectively offering a robust assessment of the fit's accuracy."
   ]
  },
  {
   "cell_type": "code",
   "execution_count": null,
   "metadata": {},
   "source": [],
   "outputs": []
  }
 ],
 "metadata": {
  "kernelspec": {
   "display_name": "Python 3 (ipykernel)",
   "language": "python",
   "name": "python3"
  },
  "language_info": {
   "codemirror_mode": {
    "name": "ipython",
    "version": 3
   },
   "file_extension": ".py",
   "mimetype": "text/x-python",
   "name": "python",
   "nbconvert_exporter": "python",
   "pygments_lexer": "ipython3",
   "version": "3.11.4"
  },
  "pycharm": {
   "stem_cell": {
    "cell_type": "raw",
    "metadata": {
     "collapsed": false
    },
    "source": []
   }
  },
  "toc": {
   "base_numbering": 1,
   "nav_menu": {},
   "number_sections": true,
   "sideBar": true,
   "skip_h1_title": false,
   "title_cell": "Table of Contents",
   "title_sidebar": "Contents",
   "toc_cell": false,
   "toc_position": {},
   "toc_section_display": true,
   "toc_window_display": false
  }
 },
 "nbformat": 4,
 "nbformat_minor": 1
}
