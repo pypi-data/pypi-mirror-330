{
 "cells": [
  {
   "cell_type": "markdown",
   "metadata": {
    "collapsed": true,
    "pycharm": {
     "name": "#%% md\n"
    }
   },
   "source": [
    "# (Not Working) Calculating Polyspectra from a Simulation in Realtime\n",
    "\n",
    "Old Method! After defining a system (e.g. a single quantum dot measured by a quantum point contact) we can start a simulation\n",
    "and watch the polyspectra being calculated in real time. The resulting spectra will be equivalent to the ones calculated \n",
    "directly from the stochastic master equation."
   ]
  },
  {
   "cell_type": "code",
   "execution_count": 1,
   "source": [
    "import QuantumPolyspectra as qp\n",
    "from qutip import *\n",
    "import numpy as np"
   ],
   "metadata": {
    "collapsed": false,
    "pycharm": {
     "name": "#%%\n",
     "is_executing": false
    }
   },
   "outputs": []
  },
  {
   "cell_type": "code",
   "execution_count": 2,
   "source": [
    "# ------ Operators and Hamiltonian -----\n",
    "dot_levels = 2\n",
    "a = destroy(dot_levels)\n",
    "n = a.dag() * a\n",
    "rho_0 = ket2dm(basis(dot_levels, 0)) + ket2dm(basis(dot_levels, 1)) \n",
    "rho_0 /= np.trace(rho_0)\n",
    "H = 0 * n\n",
    "\n",
    "# ------ System Parameters ------\n",
    "beta = 5\n",
    "gamma_out = 0.5\n",
    "gamma_in = 0.5\n",
    "\n",
    "c_measure_strength = {\n",
    "    'a': gamma_out**0.5,\n",
    "    'a_d': gamma_in**0.5,\n",
    "}\n",
    "\n",
    "sc_measure_strength = {\n",
    "    'n': beta\n",
    "}\n",
    "\n",
    "c_ops = {\n",
    "    'a': a,\n",
    "    'a_d': a.dag(),\n",
    "}\n",
    "\n",
    "sc_ops =  {\n",
    "    'n': n,\n",
    "}\n",
    "\n",
    "e_ops = {\n",
    "    'n': n,\n",
    "}\n",
    "\n",
    "system = qp.System(H, rho_0, c_ops, sc_ops, e_ops, c_measure_strength, sc_measure_strength)\n",
    "\n"
   ],
   "metadata": {
    "collapsed": false,
    "pycharm": {
     "name": "#%%\n",
     "is_executing": false
    }
   },
   "outputs": []
  },
  {
   "cell_type": "markdown",
   "source": [
    "Before starting the simulation we have to define a few parameters for the integration stochastic master equation\n",
    "and the fourier transform:"
   ],
   "metadata": {
    "collapsed": false,
    "pycharm": {
     "name": "#%% md\n"
    }
   }
  },
  {
   "cell_type": "code",
   "execution_count": 3,
   "source": [
    "f_max = 2 #[kHz]\n",
    "t_start = 0\n",
    "t_stop = int(10e1)\n",
    "n_steps = int(50e3+1)\n",
    "t = np.linspace(t_start, t_stop, n_steps)\n",
    "f_nyqist =  n_steps / t_stop / 2\n",
    "\n",
    "print('f_ny: {:.3f} kHz'.format(f_nyqist))\n",
    "print('f_min: {:.3f} kHz'.format(2 * f_nyqist / n_steps))\n",
    "print('')\n",
    "print('f_max: {} kHz'.format(f_max))\n",
    "print('number of points: {}'.format(int(f_max // (2 * f_nyqist / n_steps))))\n",
    "\n",
    "\n"
   ],
   "metadata": {
    "collapsed": false,
    "pycharm": {
     "name": "#%%\n",
     "is_executing": false
    }
   },
   "outputs": []
  },
  {
   "cell_type": "markdown",
   "source": [
    "Now we just have to state the operate from which we want to analyze the corresponding measurement:"
   ],
   "metadata": {
    "collapsed": false,
    "pycharm": {
     "name": "#%% md\n"
    }
   }
  },
  {
   "cell_type": "code",
   "execution_count": 4,
   "source": [
    "op = 'n'\n",
    "title = 'Γ<sub>l</sub> = {:.2f} kHz, Γ<sub>r</sub> = {:.2f} kHz, β<sub>main</sub>= {:.1f} kHz<sup>0.5</sup>'.format(gamma_in, gamma_out, beta)\n",
    "res = system.numeric_spec(t, op, f_max=f_max, power=1, order=2, max_samples=50, plot_after=25, _solver='milstein', title_in=title, with_noise=True, roll=False)"
   ],
   "metadata": {
    "collapsed": false,
    "pycharm": {
     "name": "#%%\n",
     "is_executing": false
    }
   },
   "outputs": []
  }
 ],
 "metadata": {
  "kernelspec": {
   "name": "python3",
   "language": "python",
   "display_name": "Python 3"
  },
  "language_info": {
   "codemirror_mode": {
    "name": "ipython",
    "version": 2
   },
   "file_extension": ".py",
   "mimetype": "text/x-python",
   "name": "python",
   "nbconvert_exporter": "python",
   "pygments_lexer": "ipython2",
   "version": "2.7.6"
  },
  "pycharm": {
   "stem_cell": {
    "cell_type": "raw",
    "source": [],
    "metadata": {
     "collapsed": false
    }
   }
  }
 },
 "nbformat": 4,
 "nbformat_minor": 0
}
