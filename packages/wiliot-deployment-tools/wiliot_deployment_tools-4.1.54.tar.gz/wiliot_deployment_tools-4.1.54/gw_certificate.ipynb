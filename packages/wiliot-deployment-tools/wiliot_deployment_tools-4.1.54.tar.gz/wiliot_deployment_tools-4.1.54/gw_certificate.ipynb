{
 "cells": [
  {
   "cell_type": "code",
   "execution_count": 10,
   "metadata": {},
   "outputs": [
    {
     "name": "stdout",
     "output_type": "stream",
     "text": [
      "{'gatewayId': 'ERM864292045293444', 'gatewayType': 'lte', 'status': 'active', 'reportedConf': {'interfaceChipSwVersion': '3.10.34', 'bleChipSwVersion': '2.0.0', 'version': 'erm_3.10.34', 'apiVersion': '200', 'additional': {'gnssAlwaysOn': False, 'gnssMaxDuration': 250, 'bluetoothAlwaysOn': True, 'geoLocationRefreshTime': 60}}, 'desiredConf': {'interfaceChipSwVersion': '3.10.34', 'bleChipSwVersion': '2.0.0', 'version': 'erm_3.10.34', 'apiVersion': '200', 'additional': {'gnssAlwaysOn': False, 'gnssMaxDuration': 250, 'bluetoothAlwaysOn': True, 'geoLocationRefreshTime': 60}}, 'gatewayInfo': {'Cache': 'Pixels=9/128, Meta=5/256', 'Ignition switch state': '0', 'Battery voltage': '3.6', 'Cellular signal': '53A3:00A8AC15@-80 (9460)', 'ICCID': '89972010122060332131', 'Time since last boot': '0:00:00:40', 'ERM firmware version': '3.10.34', 'Cellular network state': 'Home', 'Hardware name': 'StarLink-W1 GWIFI2e32 AG', 'IMEI': '864292045293444', 'Cellular MNC-MCC': '425001', 'Cellular network': 'Partner', 'Main voltage': '12.2', 'APN': 'm2m'}, 'activateBy': 'ori.rafalin@wiliot.com', 'activateAt': 1682520298641, 'connections': [{'bridgeId': 'E465A89A65BE', 'connected': True, 'updatedAt': 1684742216165}, {'bridgeId': '0272A2B3B3E6', 'connected': True, 'updatedAt': 1684741944852}, {'bridgeId': '7BA7DD8E304A', 'connected': True, 'updatedAt': 1684741956660}, {'bridgeId': '639186EF4881', 'connected': True, 'updatedAt': 1684742304490}, {'bridgeId': '0FE4A7088AD1', 'connected': True, 'updatedAt': 1684741950856}], 'online': True, 'onlineUpdatedAt': 1684741943083, 'packetsSent': 85}\n"
     ]
    }
   ],
   "source": [
    "import time\n",
    "from api_secrets import *\n",
    "from wiliot_api.edge.edge import BridgeAction\n",
    "from wiliot_deployment_tools.api.extended_api import ExtendedEdgeClient, ExtendedPlatformClient, GatewayAction\n",
    "from wiliot_deployment_tools.internal.Archive.firmware_update.firmware_update import FirmwareUpdate\n",
    "from wiliot_deployment_tools.internal.Archive.power_mgmt.power_mgmt import PowerManagementClient\n",
    "GW = 'GW864292045293444'\n",
    "BRGS = ['7BA7DD8E304A', '0272A2B3B3E6',\n",
    "        '639186EF4881', 'E465A89A65BE']\n",
    "e = ExtendedEdgeClient(WH_EDGE, WH_OWNERID, 'prod')\n",
    "p = ExtendedPlatformClient(WH_ASSET, WH_OWNERID, 'prod')\n",
    "fw = FirmwareUpdate(WH_EDGE, WH_OWNERID, 'prod')\n",
    "pm = PowerManagementClient(WH_EDGE, WH_OWNERID, 'prod')\n",
    "print(e.get_gateway(GW))\n",
    "# e.change_brg_config(BRGS, {'sub1GhzFrequency': 919100})"
   ]
  },
  {
   "attachments": {},
   "cell_type": "markdown",
   "metadata": {},
   "source": [
    "#### GW Config Change (All parameters available) + Timing"
   ]
  },
  {
   "cell_type": "code",
   "execution_count": 9,
   "metadata": {},
   "outputs": [
    {
     "name": "stderr",
     "output_type": "stream",
     "text": [
      "2023-05-21 12:07:28,555 - root - INFO - Configuration sent to ['ERM864292045293444']\n",
      "2023-05-21 12:07:28,998 - root - INFO - ['ERM864292045293444'] updated to desired configuration:\n",
      "2023-05-21 12:07:28,999 - root - INFO - (\"{'gnssAlwaysOn': False, 'gnssMaxDuration': 250, 'bluetoothAlwaysOn': True, \"\n",
      " \"'geoLocationRefreshTime': 60}\")\n"
     ]
    },
    {
     "name": "stdout",
     "output_type": "stream",
     "text": [
      "183.789950584 184.769044209 0.9790936249999902\n"
     ]
    },
    {
     "name": "stderr",
     "output_type": "stream",
     "text": [
      "2023-05-21 12:07:29,453 - root - INFO - Configuration sent to ['ERM864292045293444']\n",
      "2023-05-21 12:07:29,915 - root - INFO - ['ERM864292045293444'] updated to desired configuration:\n",
      "2023-05-21 12:07:29,916 - root - INFO - (\"{'gnssAlwaysOn': False, 'gnssMaxDuration': 250, 'bluetoothAlwaysOn': True, \"\n",
      " \"'geoLocationRefreshTime': 60}\")\n"
     ]
    },
    {
     "name": "stdout",
     "output_type": "stream",
     "text": [
      "184.76950675 185.685429 0.9159222499999942\n"
     ]
    }
   ],
   "source": [
    "params = e.get_gateway(GW)['desiredConf']['additional']\n",
    "new_params = {'gnssAlwaysOn': False, 'gnssMaxDuration': 250, 'bluetoothAlwaysOn': True, 'geoLocationRefreshTime': 60}\n",
    "start = time.perf_counter()\n",
    "e.change_gw_config([GW], new_params)\n",
    "end = time.perf_counter()\n",
    "print(start, end, (end-start))\n",
    "start = time.perf_counter()\n",
    "e.change_gw_config([GW], params)\n",
    "end = time.perf_counter()\n",
    "print(start, end, (end-start))\n",
    "\n"
   ]
  },
  {
   "attachments": {},
   "cell_type": "markdown",
   "metadata": {},
   "source": [
    "#### GW Reboot"
   ]
  },
  {
   "cell_type": "code",
   "execution_count": 14,
   "metadata": {},
   "outputs": [
    {
     "name": "stdout",
     "output_type": "stream",
     "text": [
      "True\n",
      "560.151477875 561.102792167 0.9513142920000064\n"
     ]
    }
   ],
   "source": [
    "def get_erm_online():\n",
    "    if e.get_gateway(GW)['status'] == 'active':\n",
    "        return True\n",
    "    return False\n",
    "\n",
    "print(get_erm_online())\n",
    "start = time.perf_counter()\n",
    "e.send_action_to_gateway(GW, GatewayAction.REBOOT_GW)\n",
    "while not(get_erm_online()):\n",
    "    time.sleep(2)\n",
    "end = time.perf_counter()\n",
    "print(start, end, (end-start))\n",
    "\n",
    "## Check for MQTT Connection event\n"
   ]
  },
  {
   "attachments": {},
   "cell_type": "markdown",
   "metadata": {},
   "source": [
    "#### GW OTA"
   ]
  },
  {
   "cell_type": "code",
   "execution_count": 20,
   "metadata": {},
   "outputs": [
    {
     "name": "stderr",
     "output_type": "stream",
     "text": [
      "2023-05-21 12:24:14,588 - root - INFO - Gateway ERM864292045293444 is online.\n",
      "2023-05-21 12:24:16,018 - root - INFO - No need to update GW ERM864292045293444 to version erm_3.10.33, GW already updated\n"
     ]
    },
    {
     "name": "stdout",
     "output_type": "stream",
     "text": [
      "1188.289997334 1191.164777542 2.8747802079999474\n"
     ]
    },
    {
     "name": "stderr",
     "output_type": "stream",
     "text": [
      "2023-05-21 12:24:17,409 - root - INFO - Gateway ERM864292045293444 is online.\n",
      "2023-05-21 12:24:18,779 - root - INFO - Will Update GWs ['ERM864292045293444'] from type GatewayType.LTE to version erm_3.10.34\n",
      "2023-05-21 12:24:19,307 - root - INFO - Configuration sent to ['ERM864292045293444']\n",
      "2023-05-21 12:24:19,756 - root - INFO - ['ERM864292045293444'] updated to desired configuration:\n",
      "2023-05-21 12:24:19,757 - root - INFO - '{}'\n",
      "2023-05-21 12:24:20,194 - root - INFO - Waiting for GW to get back online...\n",
      "2023-05-21 12:24:30,655 - root - INFO - Waiting for GW to get back online...\n",
      "2023-05-21 12:24:41,102 - root - INFO - Waiting for GW to get back online...\n",
      "2023-05-21 12:24:51,545 - root - INFO - Waiting for GW to get back online...\n",
      "2023-05-21 12:25:01,982 - root - INFO - Waiting for GW to get back online...\n",
      "2023-05-21 12:25:12,418 - root - INFO - Waiting for GW to get back online...\n",
      "2023-05-21 12:25:22,867 - root - INFO - Waiting for GW to get back online...\n",
      "2023-05-21 12:25:33,356 - root - INFO - Waiting for GW to get back online...\n",
      "2023-05-21 12:25:43,986 - root - INFO - Waiting for GW to get back online...\n",
      "2023-05-21 12:25:54,426 - root - INFO - Waiting for GW to get back online...\n",
      "2023-05-21 12:26:04,872 - root - INFO - Waiting for GW to get back online...\n",
      "2023-05-21 12:26:15,328 - root - INFO - Waiting for GW to get back online...\n",
      "2023-05-21 12:26:25,763 - root - INFO - Waiting for GW to get back online...\n",
      "2023-05-21 12:26:36,218 - root - INFO - GW ERM864292045293444 Version erm_3.10.34\n"
     ]
    },
    {
     "name": "stdout",
     "output_type": "stream",
     "text": [
      "1191.1650395 1331.059051042 139.89401154200004\n"
     ]
    }
   ],
   "source": [
    "start = time.perf_counter()\n",
    "fw.firmware_update([GW], desired_version='erm_3.10.33', update_to_latest=False, update_all_connected_bridges=False)\n",
    "end = time.perf_counter()\n",
    "print(start, end, (end-start))\n",
    "start = time.perf_counter()\n",
    "fw.firmware_update([GW], desired_version='erm_3.10.34', update_to_latest=False, update_all_connected_bridges=False)\n",
    "end = time.perf_counter()\n",
    "print(start, end, (end-start))\n"
   ]
  },
  {
   "attachments": {},
   "cell_type": "markdown",
   "metadata": {},
   "source": [
    "#### GW Info"
   ]
  },
  {
   "cell_type": "code",
   "execution_count": 22,
   "metadata": {},
   "outputs": [
    {
     "name": "stdout",
     "output_type": "stream",
     "text": [
      "{'Cache': 'Pixels=9/128, Meta=5/256', 'Ignition switch state': '0', 'Battery voltage': '3.6', 'Cellular signal': '53A3:00A8AC15@-80 (9460)', 'ICCID': '89972010122060332131', 'Time since last boot': '0:00:00:40', 'ERM firmware version': '3.10.34', 'Cellular network state': 'Home', 'Hardware name': 'StarLink-W1 GWIFI2e32 AG', 'IMEI': '864292045293444', 'Cellular MNC-MCC': '425001', 'Cellular network': 'Partner', 'Main voltage': '12.2', 'APN': 'm2m'}\n",
      "1412.687417959 1413.126360792 0.43894283300005554\n"
     ]
    }
   ],
   "source": [
    "start = time.perf_counter()\n",
    "print(e.get_gateway_info(GW))\n",
    "\n",
    "end = time.perf_counter()\n",
    "print(start, end, (end-start))\n"
   ]
  },
  {
   "attachments": {},
   "cell_type": "markdown",
   "metadata": {},
   "source": [
    "#### Gateway Logs  "
   ]
  },
  {
   "cell_type": "code",
   "execution_count": 24,
   "metadata": {},
   "outputs": [
    {
     "name": "stdout",
     "output_type": "stream",
     "text": [
      "None\n",
      "1478.546560959 1481.433913875 2.887352915999827\n"
     ]
    }
   ],
   "source": [
    "start = time.perf_counter()\n",
    "print(e.get_gateway_logs(GW))\n",
    "end = time.perf_counter()\n",
    "print(start, end, (end-start))\n"
   ]
  },
  {
   "attachments": {},
   "cell_type": "markdown",
   "metadata": {},
   "source": []
  },
  {
   "attachments": {},
   "cell_type": "markdown",
   "metadata": {},
   "source": [
    "#### Bridge Blink"
   ]
  },
  {
   "cell_type": "code",
   "execution_count": 20,
   "metadata": {},
   "outputs": [
    {
     "name": "stdout",
     "output_type": "stream",
     "text": [
      "7BA7DD8E304A 5294.107723833 5294.628696083 0.5209722500003409\n",
      "0272A2B3B3E6 5294.628868667 5295.14061475 0.5117460830006166\n",
      "639186EF4881 5295.140777583 5295.664535458 0.523757874999319\n",
      "E465A89A65BE 5295.664723667 5296.183167708 0.5184440410002935\n"
     ]
    }
   ],
   "source": [
    "from wiliot_deployment_tools.api.extended_api import BridgeThroughGatewayAction\n",
    "for brg in BRGS:\n",
    "    start = time.perf_counter()\n",
    "    e.send_action_to_bridge(brg, BridgeAction.BLINK_LED)\n",
    "    end = time.perf_counter()\n",
    "    print(brg, start, end, (end-start))\n"
   ]
  },
  {
   "attachments": {},
   "cell_type": "markdown",
   "metadata": {},
   "source": [
    "#### Bridge Reboot"
   ]
  },
  {
   "cell_type": "code",
   "execution_count": null,
   "metadata": {},
   "outputs": [],
   "source": [
    "from wiliot_deployment_tools.api.extended_api import BridgeThroughGatewayAction\n",
    "for brg in BRGS:\n",
    "    e.send_bridge_action_through_gw(GW, BridgeThroughGatewayAction.REBOOT)"
   ]
  },
  {
   "attachments": {},
   "cell_type": "markdown",
   "metadata": {},
   "source": [
    "#### Power Management"
   ]
  },
  {
   "cell_type": "code",
   "execution_count": null,
   "metadata": {},
   "outputs": [],
   "source": [
    "for brg in BRGS:\n",
    "    start = time.perf_counter()\n",
    "    pm.enter_power_mgmt(1, 30, gateway_id=GW, bridge_id=brg)\n",
    "    end = time.perf_counter()\n",
    "    print(start, end, (end-start))\n",
    "    start = time.perf_counter()\n",
    "    pm.exit_power_mgmt(gateway_id=GW, bridge_id=brg)\n",
    "    end = time.perf_counter()\n",
    "    print(start, end, (end-start))"
   ]
  },
  {
   "attachments": {},
   "cell_type": "markdown",
   "metadata": {},
   "source": [
    " #### Change Bridge Configuration"
   ]
  },
  {
   "cell_type": "code",
   "execution_count": 36,
   "metadata": {},
   "outputs": [
    {
     "name": "stdout",
     "output_type": "stream",
     "text": [
      "{'txPeriodMs': 5, 'rxTxPeriodMs': 15, 'txRepetition': 0, 'energyPattern': 63, 'pacerInterval': 15, 'txProbability': 50, 'sub1GhzFrequency': 919100, '2.4GhzOutputPower': 2, 'globalPacingGroup': 0, 'otaUpgradeEnabled': 0, 'sub1GhzOutputPower': 32}\n",
      "{'txPeriodMs': 8, 'rxTxPeriodMs': 24, 'txRepetition': 0, 'energyPattern': 50, 'pacerInterval': 15, 'txProbability': 50, 'sub1GhzFrequency': 919100, '2.4GhzOutputPower': 2, 'globalPacingGroup': 1, 'otaUpgradeEnabled': 0, 'sub1GhzOutputPower': 32}\n",
      "{'txPeriodMs': 9, 'rxTxPeriodMs': 22, 'txRepetition': 0, 'energyPattern': 36, 'pacerInterval': 60, 'txProbability': 50, 'sub1GhzFrequency': 919100, '2.4GhzOutputPower': 2, 'globalPacingGroup': 2, 'otaUpgradeEnabled': 0, 'sub1GhzOutputPower': 32}\n",
      "{'txPeriodMs': 5, 'rxTxPeriodMs': 15, 'txRepetition': 0, 'energyPattern': 36, 'pacerInterval': 5, 'txProbability': 30, 'sub1GhzFrequency': 919100, '2.4GhzOutputPower': 2, 'globalPacingGroup': 0, 'otaUpgradeEnabled': 0, 'sub1GhzOutputPower': 32}\n"
     ]
    }
   ],
   "source": [
    "for brg in BRGS:\n",
    "    config = e.get_bridge(brg)['config']\n",
    "    config.pop('pacingMode')\n",
    "    new_config = {'txPeriodMs': 5, 'rxTxPeriodMs': 15, 'txRepetition': 0, 'energyPattern': 63, 'pacerInterval': 15, 'txProbability': 50, 'sub1GhzFrequency': 919100, '2.4GhzOutputPower': 2, 'globalPacingGroup': 0, 'otaUpgradeEnabled': 0, 'sub1GhzOutputPower': 32}\n",
    "\n",
    "    start = time.perf_counter()\n",
    "    e.change_brg_config()\n",
    "    end = time.perf_counter()\n",
    "    print(brg, start, end, (end-start))\n",
    "    print(config)"
   ]
  }
 ],
 "metadata": {
  "kernelspec": {
   "display_name": "pywiliot_internal",
   "language": "python",
   "name": "python3"
  },
  "language_info": {
   "codemirror_mode": {
    "name": "ipython",
    "version": 3
   },
   "file_extension": ".py",
   "mimetype": "text/x-python",
   "name": "python",
   "nbconvert_exporter": "python",
   "pygments_lexer": "ipython3",
   "version": "3.9.17"
  },
  "orig_nbformat": 4
 },
 "nbformat": 4,
 "nbformat_minor": 2
}
