{
 "cells": [
  {
   "cell_type": "code",
   "execution_count": 1,
   "metadata": {},
   "outputs": [],
   "source": [
    "import os\n",
    "from pyairtable import Api\n",
    "from pyairtable import api\n",
    "from dotenv import load_dotenv\n",
    "from fibsem_tools import read\n",
    "from pyairtable.formulas import match\n",
    "from cellmap_utils import upsert_image\n",
    "\n",
    "load_dotenv()\n",
    "\n",
    "at_api = Api(os.environ['AIRTABLE_API_KEY'])\n",
    "# image table (switch between prod and test bases in .env)\n",
    "image_table = at_api.table(os.environ['AIRTABLE_BASE_ID'], os.environ['IMAGE_TABLE_ID'])\n",
    "collection_table = at_api.table(os.environ['AIRTABLE_BASE_ID'], os.environ['COLLECTION_TABLE_ID'])\n",
    "fibsem_table = at_api.table(os.environ['AIRTABLE_BASE_ID'], os.environ['FIBSEM_TABLE_ID'])\n",
    "annotation_table = at_api.table(os.environ['AIRTABLE_BASE_ID'], os.environ['ANNOTATION_TABLE_ID'])"
   ]
  },
  {
   "cell_type": "code",
   "execution_count": 8,
   "metadata": {},
   "outputs": [
    {
     "name": "stdout",
     "output_type": "stream",
     "text": [
      "1\n",
      "jrc_mosquito-stylet-1\n",
      "/nrs/cellmap/data/jrc_mosquito-stylet-1/jrc_mosquito-stylet-1.zarr/recon-1/em/fibsem-uint8/s0\n",
      "/nrs/cellmap/data/jrc_mosquito-stylet-1/jrc_mosquito-stylet-1.zarr/recon-1/em/fibsem-uint8\n",
      "s0\n",
      "2\n",
      "jrc_mosquito-stylet-2\n",
      "/nrs/cellmap/data/jrc_mosquito-stylet-2/jrc_mosquito-stylet-2.zarr/recon-1/em/fibsem-uint8/s0\n",
      "/nrs/cellmap/data/jrc_mosquito-stylet-2/jrc_mosquito-stylet-2.zarr/recon-1/em/fibsem-uint8\n",
      "s0\n",
      "3\n",
      "jrc_mosquito-stylet-3\n",
      "/nrs/cellmap/data/jrc_mosquito-stylet-3/jrc_mosquito-stylet-3.zarr/recon-1/em/fibsem-uint8/s0\n",
      "/nrs/cellmap/data/jrc_mosquito-stylet-3/jrc_mosquito-stylet-3.zarr/recon-1/em/fibsem-uint8\n",
      "s0\n",
      "4\n",
      "jrc_mosquito-stylet-4\n",
      "/nrs/cellmap/data/jrc_mosquito-stylet-4/jrc_mosquito-stylet-4.zarr/recon-1/em/fibsem-uint8/s0\n",
      "/nrs/cellmap/data/jrc_mosquito-stylet-4/jrc_mosquito-stylet-4.zarr/recon-1/em/fibsem-uint8\n",
      "s0\n"
     ]
    }
   ],
   "source": [
    "\n",
    "for i in range(1, 5, 1):\n",
    "    print(i)\n",
    "\n",
    "    ds_name = f'jrc_mosquito-stylet-{i}'\n",
    "    image_name = 'fibsem-uint8'\n",
    "    image_path = f'/nrs/cellmap/data/jrc_mosquito-stylet-{i}/jrc_mosquito-stylet-{i}.zarr/recon-1/em/fibsem-uint8/s0'\n",
    "\n",
    "    print(ds_name)\n",
    "    print(image_path)\n",
    "    upsert_image(image_table,\n",
    "                 ds_name,\n",
    "                 image_name,\n",
    "                 image_path,\n",
    "                 'human_segmentation',\n",
    "                 collection_table, \n",
    "                 fibsem_table,\n",
    "                 annotation_table)"
   ]
  },
  {
   "cell_type": "code",
   "execution_count": null,
   "metadata": {},
   "outputs": [],
   "source": []
  }
 ],
 "metadata": {
  "kernelspec": {
   "display_name": "env1",
   "language": "python",
   "name": "python3"
  },
  "language_info": {
   "codemirror_mode": {
    "name": "ipython",
    "version": 3
   },
   "file_extension": ".py",
   "mimetype": "text/x-python",
   "name": "python",
   "nbconvert_exporter": "python",
   "pygments_lexer": "ipython3",
   "version": "3.11.11"
  }
 },
 "nbformat": 4,
 "nbformat_minor": 2
}
