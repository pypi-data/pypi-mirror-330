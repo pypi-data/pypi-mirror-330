{
 "cells": [
  {
   "cell_type": "code",
   "execution_count": 8,
   "metadata": {},
   "outputs": [],
   "source": [
    "import os\n",
    "from pyairtable import Api\n",
    "from pyairtable import api\n",
    "from dotenv import load_dotenv\n",
    "from fibsem_tools import read\n",
    "from pyairtable.formulas import match\n",
    "from cellmap_utils import upsert_image\n",
    "\n",
    "load_dotenv()\n",
    "\n",
    "at_api = Api(os.environ['AIRTABLE_API_KEY'])\n",
    "# image table (switch between prod and test bases in .env)\n",
    "image_table = at_api.table(os.environ['AIRTABLE_BASE_ID'], os.environ['IMAGE_TABLE_ID'])\n",
    "collection_table = at_api.table(os.environ['AIRTABLE_BASE_ID'], os.environ['COLLECTION_TABLE_ID'])\n",
    "fibsem_table = at_api.table(os.environ['AIRTABLE_BASE_ID'], os.environ['FIBSEM_TABLE_ID'])\n",
    "annotation_table = at_api.table(os.environ['AIRTABLE_BASE_ID'], os.environ['ANNOTATION_TABLE_ID'])"
   ]
  },
  {
   "cell_type": "code",
   "execution_count": 9,
   "metadata": {},
   "outputs": [
    {
     "name": "stdout",
     "output_type": "stream",
     "text": [
      "1\n",
      "jrc_mosquito-stylet-1\n",
      "/nrs/cellmap/data/jrc_mosquito-stylet-1/jrc_mosquito-stylet-1.zarr/recon-1/em/fibsem-uint8/\n"
     ]
    },
    {
     "ename": "KeyError",
     "evalue": "'multiscales'",
     "output_type": "error",
     "traceback": [
      "\u001b[0;31m---------------------------------------------------------------------------\u001b[0m",
      "\u001b[0;31mKeyError\u001b[0m                                  Traceback (most recent call last)",
      "Cell \u001b[0;32mIn[9], line 10\u001b[0m\n\u001b[1;32m      8\u001b[0m \u001b[38;5;28mprint\u001b[39m(ds_name)\n\u001b[1;32m      9\u001b[0m \u001b[38;5;28mprint\u001b[39m(image_path)\n\u001b[0;32m---> 10\u001b[0m \u001b[43mupsert_image\u001b[49m\u001b[43m(\u001b[49m\u001b[43mimage_table\u001b[49m\u001b[43m,\u001b[49m\n\u001b[1;32m     11\u001b[0m \u001b[43m             \u001b[49m\u001b[43mds_name\u001b[49m\u001b[43m,\u001b[49m\n\u001b[1;32m     12\u001b[0m \u001b[43m             \u001b[49m\u001b[43mimage_name\u001b[49m\u001b[43m,\u001b[49m\n\u001b[1;32m     13\u001b[0m \u001b[43m             \u001b[49m\u001b[43mimage_path\u001b[49m\u001b[43m,\u001b[49m\n\u001b[1;32m     14\u001b[0m \u001b[43m             \u001b[49m\u001b[38;5;124;43m'\u001b[39;49m\u001b[38;5;124;43mem\u001b[39;49m\u001b[38;5;124;43m'\u001b[39;49m\u001b[43m,\u001b[49m\n\u001b[1;32m     15\u001b[0m \u001b[43m             \u001b[49m\u001b[43mcollection_table\u001b[49m\u001b[43m,\u001b[49m\u001b[43m \u001b[49m\n\u001b[1;32m     16\u001b[0m \u001b[43m             \u001b[49m\u001b[43mfibsem_table\u001b[49m\u001b[43m,\u001b[49m\n\u001b[1;32m     17\u001b[0m \u001b[43m             \u001b[49m\u001b[43mannotation_table\u001b[49m\u001b[43m)\u001b[49m\n",
      "File \u001b[0;32m~/mambaforge/envs/env1/lib/python3.11/site-packages/cellmap_utils/airtable/image.py:28\u001b[0m, in \u001b[0;36mupsert_image\u001b[0;34m(image_table, ds_name, image_name, image_path, image_type, collection_table, fibsem_table, annotation_table)\u001b[0m\n\u001b[1;32m     25\u001b[0m     value_type \u001b[38;5;241m=\u001b[39m \u001b[38;5;124m'\u001b[39m\u001b[38;5;124mscalar\u001b[39m\u001b[38;5;124m'\u001b[39m\n\u001b[1;32m     27\u001b[0m input_zarr \u001b[38;5;241m=\u001b[39m read(image_path)\n\u001b[0;32m---> 28\u001b[0m \u001b[38;5;28;01mif\u001b[39;00m \u001b[38;5;28misinstance\u001b[39m(input_zarr, zarr\u001b[38;5;241m.\u001b[39mGroup):\n\u001b[1;32m     29\u001b[0m     zg \u001b[38;5;241m=\u001b[39m input_zarr\n\u001b[1;32m     30\u001b[0m     z_arr_name \u001b[38;5;241m=\u001b[39m \u001b[38;5;124m'\u001b[39m\u001b[38;5;124ms0\u001b[39m\u001b[38;5;124m'\u001b[39m\n",
      "File \u001b[0;32m~/mambaforge/envs/env1/lib/python3.11/site-packages/zarr/attrs.py:74\u001b[0m, in \u001b[0;36mAttributes.__getitem__\u001b[0;34m(self, item)\u001b[0m\n\u001b[1;32m     73\u001b[0m \u001b[38;5;28;01mdef\u001b[39;00m\u001b[38;5;250m \u001b[39m\u001b[38;5;21m__getitem__\u001b[39m(\u001b[38;5;28mself\u001b[39m, item):\n\u001b[0;32m---> 74\u001b[0m     \u001b[38;5;28;01mreturn\u001b[39;00m \u001b[38;5;28;43mself\u001b[39;49m\u001b[38;5;241;43m.\u001b[39;49m\u001b[43masdict\u001b[49m\u001b[43m(\u001b[49m\u001b[43m)\u001b[49m\u001b[43m[\u001b[49m\u001b[43mitem\u001b[49m\u001b[43m]\u001b[49m\n",
      "\u001b[0;31mKeyError\u001b[0m: 'multiscales'"
     ]
    }
   ],
   "source": [
    "\n",
    "for i in range(1, 5, 1):\n",
    "    print(i)\n",
    "\n",
    "    ds_name = f'jrc_mosquito-stylet-{i}'\n",
    "    image_name = 'fibsem-uint8'\n",
    "    image_path = f'/nrs/cellmap/data/jrc_mosquito-stylet-{i}/jrc_mosquito-stylet-{i}.zarr/recon-1/em/fibsem-uint8/'\n",
    "\n",
    "    print(ds_name)\n",
    "    print(image_path)\n",
    "    upsert_image(image_table,\n",
    "                 ds_name,\n",
    "                 image_name,\n",
    "                 image_path,\n",
    "                 'em',\n",
    "                 collection_table, \n",
    "                 fibsem_table,\n",
    "                 annotation_table)"
   ]
  },
  {
   "cell_type": "code",
   "execution_count": null,
   "metadata": {},
   "outputs": [
    {
     "name": "stdout",
     "output_type": "stream",
     "text": [
      "Collecting cellmap-utils==0.0.13\n",
      "  Downloading cellmap_utils-0.0.13-py3-none-any.whl.metadata (1.3 kB)\n",
      "Downloading cellmap_utils-0.0.13-py3-none-any.whl (9.3 kB)\n",
      "Installing collected packages: cellmap-utils\n",
      "  Attempting uninstall: cellmap-utils\n",
      "    Found existing installation: cellmap-utils 0.0.12\n",
      "    Uninstalling cellmap-utils-0.0.12:\n",
      "      Successfully uninstalled cellmap-utils-0.0.12\n",
      "Successfully installed cellmap-utils-0.0.13\n"
     ]
    }
   ],
   "source": [
    "# ['/nrs/cellmap/data/jrc_mus-liver-4/jrc_mus-liver-4.zarr/recon-1/em/fibsem-uint8/',\n",
    "#  '/nrs/cellmap/data/jrc_mus-liver-5/jrc_mus-liver-5.zarr/recon-1/em/fibsem-uint8/',\n",
    "#  '/nrs/cellmap/data/jrc_mus-liver-6/jrc_mus-liver-6.zarr/recon-1/em/fibsem-uint8/',\n",
    "#  '/nrs/cellmap/data/jrc_mus-liver-7/jrc_mus-liver-7.zarr/recon-1/em/fibsem-uint8/']\n",
    "for i in range(4, 8, 1):\n",
    "    print(i)\n",
    "\n",
    "    ds_name = f'jrc_mus-liver-{i}'\n",
    "    image_name = 'fibsem-uint8'\n",
    "    image_path = f'/nrs/cellmap/data/{ds_name}/{ds_name}.zarr/recon-1/em/fibsem-uint8/s0'\n",
    "\n",
    "    print(ds_name)\n",
    "    print(image_path)\n",
    "    upsert_image(image_table,\n",
    "                 ds_name,\n",
    "                 image_name,\n",
    "                 image_path,\n",
    "                 'em',\n",
    "                 collection_table, \n",
    "                 fibsem_table,\n",
    "                 annotation_table)"
   ]
  },
  {
   "cell_type": "code",
   "execution_count": 7,
   "metadata": {},
   "outputs": [
    {
     "name": "stdout",
     "output_type": "stream",
     "text": [
      "Collecting cellmap_utils==0.0.14\n",
      "  Downloading cellmap_utils-0.0.14-py3-none-any.whl.metadata (1.3 kB)\n",
      "Downloading cellmap_utils-0.0.14-py3-none-any.whl (9.4 kB)\n",
      "Installing collected packages: cellmap_utils\n",
      "  Attempting uninstall: cellmap_utils\n",
      "    Found existing installation: cellmap-utils 0.0.13\n",
      "    Uninstalling cellmap-utils-0.0.13:\n",
      "      Successfully uninstalled cellmap-utils-0.0.13\n",
      "Successfully installed cellmap_utils-0.0.14\n"
     ]
    }
   ],
   "source": [
    "!pip install cellmap_utils==0.0.14"
   ]
  },
  {
   "cell_type": "code",
   "execution_count": 12,
   "metadata": {},
   "outputs": [
    {
     "name": "stdout",
     "output_type": "stream",
     "text": [
      "group\n"
     ]
    },
    {
     "data": {
      "text/plain": [
       "[{'axes': [{'name': 'z', 'type': 'space', 'unit': 'nanometer'},\n",
       "   {'name': 'y', 'type': 'space', 'unit': 'nanometer'},\n",
       "   {'name': 'x', 'type': 'space', 'unit': 'nanometer'}],\n",
       "  'coordinateTransformations': [{'scale': [1.0, 1.0, 1.0], 'type': 'scale'}],\n",
       "  'datasets': [{'coordinateTransformations': [{'scale': [4.0, 4.0, 4.0],\n",
       "      'type': 'scale'},\n",
       "     {'translation': [0.0, 0.0, 0.0], 'type': 'translation'}],\n",
       "    'path': 's0'},\n",
       "   {'coordinateTransformations': [{'scale': [8.0, 8.0, 8.0], 'type': 'scale'},\n",
       "     {'translation': [2.0, 2.0, 2.0], 'type': 'translation'}],\n",
       "    'path': 's1'},\n",
       "   {'coordinateTransformations': [{'scale': [16.0, 16.0, 16.0],\n",
       "      'type': 'scale'},\n",
       "     {'translation': [6.0, 6.0, 6.0], 'type': 'translation'}],\n",
       "    'path': 's2'},\n",
       "   {'coordinateTransformations': [{'scale': [32.0, 32.0, 32.0],\n",
       "      'type': 'scale'},\n",
       "     {'translation': [14.0, 14.0, 14.0], 'type': 'translation'}],\n",
       "    'path': 's3'},\n",
       "   {'coordinateTransformations': [{'scale': [64.0, 64.0, 64.0],\n",
       "      'type': 'scale'},\n",
       "     {'translation': [30.0, 30.0, 30.0], 'type': 'translation'}],\n",
       "    'path': 's4'},\n",
       "   {'coordinateTransformations': [{'scale': [128.0, 128.0, 128.0],\n",
       "      'type': 'scale'},\n",
       "     {'translation': [62.0, 62.0, 62.0], 'type': 'translation'}],\n",
       "    'path': 's5'},\n",
       "   {'coordinateTransformations': [{'scale': [256.0, 256.0, 256.0],\n",
       "      'type': 'scale'},\n",
       "     {'translation': [126.0, 126.0, 126.0], 'type': 'translation'}],\n",
       "    'path': 's6'},\n",
       "   {'coordinateTransformations': [{'scale': [512.0, 512.0, 512.0],\n",
       "      'type': 'scale'},\n",
       "     {'translation': [254.0, 254.0, 254.0], 'type': 'translation'}],\n",
       "    'path': 's7'},\n",
       "   {'coordinateTransformations': [{'scale': [1024.0, 1024.0, 1024.0],\n",
       "      'type': 'scale'},\n",
       "     {'translation': [510.0, 510.0, 510.0], 'type': 'translation'}],\n",
       "    'path': 's8'}],\n",
       "  'name': '/recon-1/em/fibsem-uint8',\n",
       "  'version': '0.4'}]"
      ]
     },
     "execution_count": 12,
     "metadata": {},
     "output_type": "execute_result"
    }
   ],
   "source": [
    "from fibsem_tools import read\n",
    "import zarr\n",
    "zg = read('/nrs/cellmap/data/jrc_mosquito-stylet-1/jrc_mosquito-stylet-1.zarr/recon-1/em/fibsem-uint8/')\n",
    "if isinstance(zg, zarr.Group):\n",
    "    print('group')\n",
    "zg.attrs['multiscales']"
   ]
  },
  {
   "cell_type": "code",
   "execution_count": null,
   "metadata": {},
   "outputs": [],
   "source": [
    "from typing import Tuple\n",
    "from pyairtable import api\n",
    "from pyairtable.formulas import match\n",
    "from fibsem_tools import read\n",
    "import os\n",
    "import zarr\n",
    "\n",
    "# upsert image record\n",
    "from typing import Literal\n",
    "def upsert_image( image_table : api.table.Table,\n",
    "                 ds_name : str,\n",
    "                 image_name : str,\n",
    "                 image_path : str,\n",
    "                 image_type : Literal['human_segmentation', 'em'],\n",
    "                 collection_table : api.table.Table,\n",
    "                 fibsem_table : api.table.Table,\n",
    "                 annotation_table : api.table.Table\n",
    "                 ):\n",
    "    \n",
    "    existing_records = image_table.all(formula = match({'name' : image_name, 'location' : image_path.rstrip('/')}))\n",
    "    \n",
    "    if image_type == 'human_segmentation':\n",
    "            value_type = 'label'\n",
    "    else: \n",
    "        value_type = 'scalar'\n",
    "    \n",
    "    input_zarr = read(image_path.rstrip('/'))\n",
    "    if isinstance(input_zarr, zarr.Group):\n",
    "        zg = input_zarr\n",
    "        z_arr_name = 's0'\n",
    "    else:\n",
    "        zg_path, z_arr_name = os.path.split(image_path.rstrip('/'))\n",
    "        zg = read(zg_path)    \n",
    "        \n",
    "    \n",
    "    scale = zg.attrs['multiscales'][0]['datasets'][0]['coordinateTransformations'][0]['scale']\n",
    "    offset = zg.attrs['multiscales'][0]['datasets'][0]['coordinateTransformations'][1]['translation']\n",
    "    shape  = zg[z_arr_name].shape\n",
    "    \n",
    "    try:\n",
    "        fibsem_imaging = [fibsem_table.all(formula = match({'name' : ds_name}))[0]['id']]\n",
    "    except:\n",
    "        fibsem_imaging = []\n",
    "     \n",
    "    try:   \n",
    "        annotation = [annotation_table.all(formula = match({'name' : image_name}))[0]['id']]\n",
    "    except:\n",
    "        annotation = []\n",
    "    \n",
    "    print(z_arr_name)\n",
    "    record_to_upsert = {    'name' : image_name,\n",
    "                            'collection' : [collection_table.all(formula = match({'id' : ds_name}))[0]['id']],\n",
    "                            'location' : image_path.rstrip('/'),\n",
    "                            'format' : 'zarr',\n",
    "                            'image_type' : image_type,\n",
    "                            'value_type' : value_type,\n",
    "                            'size_x_pix' : shape[2],\n",
    "                            'size_y_pix' : shape[1],\n",
    "                            'size_z_pix' : shape[0],\n",
    "                            'resolution_x_nm' : scale[2],\n",
    "                            'resolution_y_nm' : scale[1],\n",
    "                            'resolution_z_nm' : scale[0],\n",
    "                            'offset_x_nm' : offset[2],\n",
    "                            'offset_y_nm' : offset[1],\n",
    "                            'offset_z_nm' : offset[0],\n",
    "                            'fibsem_imaging' : fibsem_imaging,\n",
    "                            'annotation' : annotation\n",
    "                            }\n",
    "    \n",
    "    \n",
    "    if len(existing_records) > 2:\n",
    "        raise ValueError('Multiple records with matching input image name found')\n",
    "    \n",
    "    if not existing_records:\n",
    "        image_table.create(record_to_upsert)\n",
    "    elif len(existing_records) == 1:\n",
    "        image_table.update(existing_records[0]['id'], record_to_upsert)\n",
    "        \n",
    "        \n"
   ]
  },
  {
   "cell_type": "code",
   "execution_count": 14,
   "metadata": {},
   "outputs": [
    {
     "name": "stdout",
     "output_type": "stream",
     "text": [
      "1\n",
      "jrc_mosquito-stylet-1\n",
      "/nrs/cellmap/data/jrc_mosquito-stylet-1/jrc_mosquito-stylet-1.zarr/recon-1/em/fibsem-uint8/\n"
     ]
    },
    {
     "ename": "UnboundLocalError",
     "evalue": "cannot access local variable 'zg_path' where it is not associated with a value",
     "output_type": "error",
     "traceback": [
      "\u001b[0;31m---------------------------------------------------------------------------\u001b[0m",
      "\u001b[0;31mUnboundLocalError\u001b[0m                         Traceback (most recent call last)",
      "Cell \u001b[0;32mIn[14], line 10\u001b[0m\n\u001b[1;32m      8\u001b[0m \u001b[38;5;28mprint\u001b[39m(ds_name)\n\u001b[1;32m      9\u001b[0m \u001b[38;5;28mprint\u001b[39m(image_path)\n\u001b[0;32m---> 10\u001b[0m \u001b[43mupsert_image\u001b[49m\u001b[43m(\u001b[49m\u001b[43mimage_table\u001b[49m\u001b[43m,\u001b[49m\n\u001b[1;32m     11\u001b[0m \u001b[43m             \u001b[49m\u001b[43mds_name\u001b[49m\u001b[43m,\u001b[49m\n\u001b[1;32m     12\u001b[0m \u001b[43m             \u001b[49m\u001b[43mimage_name\u001b[49m\u001b[43m,\u001b[49m\n\u001b[1;32m     13\u001b[0m \u001b[43m             \u001b[49m\u001b[43mimage_path\u001b[49m\u001b[43m,\u001b[49m\n\u001b[1;32m     14\u001b[0m \u001b[43m             \u001b[49m\u001b[38;5;124;43m'\u001b[39;49m\u001b[38;5;124;43mem\u001b[39;49m\u001b[38;5;124;43m'\u001b[39;49m\u001b[43m,\u001b[49m\n\u001b[1;32m     15\u001b[0m \u001b[43m             \u001b[49m\u001b[43mcollection_table\u001b[49m\u001b[43m,\u001b[49m\u001b[43m \u001b[49m\n\u001b[1;32m     16\u001b[0m \u001b[43m             \u001b[49m\u001b[43mfibsem_table\u001b[49m\u001b[43m,\u001b[49m\n\u001b[1;32m     17\u001b[0m \u001b[43m             \u001b[49m\u001b[43mannotation_table\u001b[49m\u001b[43m)\u001b[49m\n",
      "Cell \u001b[0;32mIn[13], line 50\u001b[0m, in \u001b[0;36mupsert_image\u001b[0;34m(image_table, ds_name, image_name, image_path, image_type, collection_table, fibsem_table, annotation_table)\u001b[0m\n\u001b[1;32m     47\u001b[0m \u001b[38;5;28;01mexcept\u001b[39;00m:\n\u001b[1;32m     48\u001b[0m     annotation \u001b[38;5;241m=\u001b[39m []\n\u001b[0;32m---> 50\u001b[0m \u001b[38;5;28mprint\u001b[39m(\u001b[43mzg_path\u001b[49m)\n\u001b[1;32m     51\u001b[0m \u001b[38;5;28mprint\u001b[39m(z_arr_name)\n\u001b[1;32m     52\u001b[0m record_to_upsert \u001b[38;5;241m=\u001b[39m {    \u001b[38;5;124m'\u001b[39m\u001b[38;5;124mname\u001b[39m\u001b[38;5;124m'\u001b[39m : image_name,\n\u001b[1;32m     53\u001b[0m                         \u001b[38;5;124m'\u001b[39m\u001b[38;5;124mcollection\u001b[39m\u001b[38;5;124m'\u001b[39m : [collection_table\u001b[38;5;241m.\u001b[39mall(formula \u001b[38;5;241m=\u001b[39m match({\u001b[38;5;124m'\u001b[39m\u001b[38;5;124mid\u001b[39m\u001b[38;5;124m'\u001b[39m : ds_name}))[\u001b[38;5;241m0\u001b[39m][\u001b[38;5;124m'\u001b[39m\u001b[38;5;124mid\u001b[39m\u001b[38;5;124m'\u001b[39m]],\n\u001b[1;32m     54\u001b[0m                         \u001b[38;5;124m'\u001b[39m\u001b[38;5;124mlocation\u001b[39m\u001b[38;5;124m'\u001b[39m : image_path\u001b[38;5;241m.\u001b[39mrstrip(\u001b[38;5;124m'\u001b[39m\u001b[38;5;124m/\u001b[39m\u001b[38;5;124m'\u001b[39m),\n\u001b[0;32m   (...)\u001b[0m\n\u001b[1;32m     68\u001b[0m                         \u001b[38;5;124m'\u001b[39m\u001b[38;5;124mannotation\u001b[39m\u001b[38;5;124m'\u001b[39m : annotation\n\u001b[1;32m     69\u001b[0m                         }\n",
      "\u001b[0;31mUnboundLocalError\u001b[0m: cannot access local variable 'zg_path' where it is not associated with a value"
     ]
    }
   ],
   "source": [
    "\n",
    "for i in range(1, 5, 1):\n",
    "    print(i)\n",
    "\n",
    "    ds_name = f'jrc_mosquito-stylet-{i}'\n",
    "    image_name = 'fibsem-uint8'\n",
    "    image_path = f'/nrs/cellmap/data/jrc_mosquito-stylet-{i}/jrc_mosquito-stylet-{i}.zarr/recon-1/em/fibsem-uint8/'\n",
    "\n",
    "    print(ds_name)\n",
    "    print(image_path)\n",
    "    upsert_image(image_table,\n",
    "                 ds_name,\n",
    "                 image_name,\n",
    "                 image_path,\n",
    "                 'em',\n",
    "                 collection_table, \n",
    "                 fibsem_table,\n",
    "                 annotation_table)"
   ]
  },
  {
   "cell_type": "code",
   "execution_count": null,
   "metadata": {},
   "outputs": [],
   "source": []
  }
 ],
 "metadata": {
  "kernelspec": {
   "display_name": "env1",
   "language": "python",
   "name": "python3"
  },
  "language_info": {
   "codemirror_mode": {
    "name": "ipython",
    "version": 3
   },
   "file_extension": ".py",
   "mimetype": "text/x-python",
   "name": "python",
   "nbconvert_exporter": "python",
   "pygments_lexer": "ipython3",
   "version": "3.11.11"
  }
 },
 "nbformat": 4,
 "nbformat_minor": 2
}
