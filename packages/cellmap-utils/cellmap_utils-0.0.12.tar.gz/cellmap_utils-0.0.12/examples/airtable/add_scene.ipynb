{
 "cells": [
  {
   "cell_type": "code",
   "execution_count": 1,
   "metadata": {},
   "outputs": [
    {
     "ename": "ModuleNotFoundError",
     "evalue": "No module named 'scene'",
     "output_type": "error",
     "traceback": [
      "\u001b[0;31m---------------------------------------------------------------------------\u001b[0m",
      "\u001b[0;31mModuleNotFoundError\u001b[0m                       Traceback (most recent call last)",
      "Cell \u001b[0;32mIn[1], line 4\u001b[0m\n\u001b[1;32m      2\u001b[0m \u001b[38;5;28;01mfrom\u001b[39;00m\u001b[38;5;250m \u001b[39m\u001b[38;5;21;01mpyairtable\u001b[39;00m\u001b[38;5;250m \u001b[39m\u001b[38;5;28;01mimport\u001b[39;00m Api\n\u001b[1;32m      3\u001b[0m \u001b[38;5;28;01mfrom\u001b[39;00m\u001b[38;5;250m \u001b[39m\u001b[38;5;21;01mdotenv\u001b[39;00m\u001b[38;5;250m \u001b[39m\u001b[38;5;28;01mimport\u001b[39;00m load_dotenv\n\u001b[0;32m----> 4\u001b[0m \u001b[38;5;28;01mfrom\u001b[39;00m\u001b[38;5;250m \u001b[39m\u001b[38;5;21;01mscene\u001b[39;00m\u001b[38;5;250m \u001b[39m\u001b[38;5;28;01mimport\u001b[39;00m upsert_record_scene_tables\n\u001b[1;32m      5\u001b[0m load_dotenv()\n\u001b[1;32m      7\u001b[0m api \u001b[38;5;241m=\u001b[39m Api(os\u001b[38;5;241m.\u001b[39menviron[\u001b[38;5;124m'\u001b[39m\u001b[38;5;124mAIRTABLE_API_KEY\u001b[39m\u001b[38;5;124m'\u001b[39m])\n",
      "\u001b[0;31mModuleNotFoundError\u001b[0m: No module named 'scene'"
     ]
    }
   ],
   "source": [
    "import os\n",
    "from pyairtable import Api\n",
    "from dotenv import load_dotenv\n",
    "from cellmap_utils.airtable.scene import upsert_record_scene_tables\n",
    "load_dotenv()\n",
    "\n",
    "api = Api(os.environ['AIRTABLE_API_KEY'])\n",
    "# image table (switch between prod and test bases in .env)\n",
    "image_table = api.table(os.environ['AIRTABLE_BASE_ID'], os.environ['IMAGE_TABLE_ID'])\n",
    "scene_table = api.table(os.environ['AIRTABLE_BASE_ID'], os.environ['SCENE_TABLE_ID'])\n",
    "scene_to_image_table = api.table(os.environ['AIRTABLE_BASE_ID'], os.environ['SCENE_TO_IMAGE_ID'])"
   ]
  },
  {
   "cell_type": "code",
   "execution_count": null,
   "metadata": {},
   "outputs": [],
   "source": [
    "upsert_record_scene_tables(scene_table,\n",
    "                           scene_to_image_table,\n",
    "                           image_table,\n",
    "                           'image_record_location')"
   ]
  }
 ],
 "metadata": {
  "kernelspec": {
   "display_name": "env1",
   "language": "python",
   "name": "python3"
  },
  "language_info": {
   "codemirror_mode": {
    "name": "ipython",
    "version": 3
   },
   "file_extension": ".py",
   "mimetype": "text/x-python",
   "name": "python",
   "nbconvert_exporter": "python",
   "pygments_lexer": "ipython3",
   "version": "3.11.11"
  }
 },
 "nbformat": 4,
 "nbformat_minor": 2
}
