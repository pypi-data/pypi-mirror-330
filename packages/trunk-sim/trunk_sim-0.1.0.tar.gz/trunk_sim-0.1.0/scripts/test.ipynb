{
 "cells": [
  {
   "cell_type": "code",
   "execution_count": 49,
   "metadata": {},
   "outputs": [],
   "source": [
    "import argparse\n",
    "import os\n",
    "import numpy as np\n",
    "\n",
    "os.environ[\"MUJOCO_GL\"] = \"egl\"  # Avoids issues with GLFWError on Linux TODO: Patrick\n",
    "\n",
    "import mujoco\n",
    "from trunk_sim.simulator import Simulator, TrunkSimulator, get_model_path, render_simulator\n",
    "from trunk_sim.generate_trunk_model import generate_trunk_model\n",
    "\n",
    "\n",
    "\n"
   ]
  },
  {
   "cell_type": "code",
   "execution_count": 50,
   "metadata": {},
   "outputs": [
    {
     "data": {
      "text/html": [
       "<table class=\"show_images\" style=\"border-spacing:0px;\"><tr><td style=\"padding:1px;\"><img width=\"320\" height=\"240\" style=\"image-rendering:auto; object-fit:cover;\" src=\"data:image/png;base64,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\"/></td></tr></table>"
      ],
      "text/plain": [
       "<IPython.core.display.HTML object>"
      ]
     },
     "metadata": {},
     "output_type": "display_data"
    }
   ],
   "source": [
    "simulator = TrunkSimulator(n_links=10, payload_mass=0.1, timestep=0.002)\n",
    "#simulator = Simulator(model_path=\"/home/patrick/Documents/Stanford/Software/trunk-sim/src/trunk_sim/models/cable_trunk_expanded_old_4_tendons.xml\")\n",
    "#simulator = Simulator(model_path=\"/home/patrick/Documents/Stanford/Software/trunk-sim/src/trunk_sim/models/trunk.xml\")\n",
    "render_simulator(simulator)\n",
    "\n"
   ]
  },
  {
   "cell_type": "code",
   "execution_count": null,
   "metadata": {},
   "outputs": [],
   "source": []
  },
  {
   "cell_type": "code",
   "execution_count": 51,
   "metadata": {},
   "outputs": [
    {
     "data": {
      "text/html": [
       "<table class=\"show_images\" style=\"border-spacing:0px;\"><tr><td style=\"padding:1px;\"><img width=\"320\" height=\"240\" style=\"image-rendering:auto; object-fit:cover;\" src=\"data:image/png;base64,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\"/></td></tr></table>"
      ],
      "text/plain": [
       "<IPython.core.display.HTML object>"
      ]
     },
     "metadata": {},
     "output_type": "display_data"
    }
   ],
   "source": [
    "for i in range(100):\n",
    "    simulator.step(control_input=np.array([0,1]))\n",
    "\n",
    "render_simulator(simulator)"
   ]
  },
  {
   "cell_type": "code",
   "execution_count": 52,
   "metadata": {},
   "outputs": [
    {
     "data": {
      "text/plain": [
       "array([ 0.,  0.,  1., -1.])"
      ]
     },
     "execution_count": 52,
     "metadata": {},
     "output_type": "execute_result"
    }
   ],
   "source": [
    "simulator.data.ctrl"
   ]
  }
 ],
 "metadata": {
  "kernelspec": {
   "display_name": ".venv",
   "language": "python",
   "name": "python3"
  },
  "language_info": {
   "codemirror_mode": {
    "name": "ipython",
    "version": 3
   },
   "file_extension": ".py",
   "mimetype": "text/x-python",
   "name": "python",
   "nbconvert_exporter": "python",
   "pygments_lexer": "ipython3",
   "version": "3.12.8"
  }
 },
 "nbformat": 4,
 "nbformat_minor": 2
}
