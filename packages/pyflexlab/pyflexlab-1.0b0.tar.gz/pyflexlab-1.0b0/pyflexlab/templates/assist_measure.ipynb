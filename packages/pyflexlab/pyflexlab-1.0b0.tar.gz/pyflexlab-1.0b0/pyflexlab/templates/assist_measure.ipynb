{
 "cells": [
  {
   "cell_type": "markdown",
   "metadata": {},
   "source": [
    "# preloading"
   ]
  },
  {
   "cell_type": "code",
   "execution_count": 1,
   "metadata": {
    "ExecuteTime": {
     "end_time": "2024-09-15T16:46:06.365038Z",
     "start_time": "2024-09-15T16:46:03.968265Z"
    }
   },
   "outputs": [
    {
     "name": "stdout",
     "output_type": "stream",
     "text": [
      "set with PYLAB_DB_LOCAL_DONGKAI\n",
      "set with PYLAB_DB_OUT_DONGKAI\n",
      "read from PYLAB_DB_LOCAL:D:\\ONEDRIVE-NTU\\OneDrive - Nanyang Technological University\\script-tools\\data_files\n",
      "read from PYLAB_DB_OUT:D:\\ONEDRIVE-NTU\\OneDrive - Nanyang Technological University\\database\n"
     ]
    }
   ],
   "source": [
    "import os\n",
    "from pathlib import Path\n",
    "import datetime\n",
    "import time\n",
    "import numpy as np\n",
    "import matplotlib as mpl\n",
    "import matplotlib.pyplot as plt\n",
    "import pandas as pd\n",
    "import functools\n",
    "import itertools\n",
    "\n",
    "import pyflexlab\n",
    "from pyflexlab.constants import cm_to_inch, next_lst_gen, constant_generator\n",
    "from pyflexlab import FileOrganizer\n",
    "from pyflexlab import DataProcess\n",
    "from pyflexlab import DataPlot\n",
    "# MeasureManager module will need the NIDAQmx module to work,\n",
    "from pyflexlab import MeasureManager"
   ]
  },
  {
   "cell_type": "code",
   "execution_count": 2,
   "metadata": {
    "ExecuteTime": {
     "end_time": "2024-09-15T16:46:33.657109Z",
     "start_time": "2024-09-15T16:46:33.586555Z"
    }
   },
   "outputs": [],
   "source": [
    "project_name = \"Date-Material\"\n",
    "#FileOrganizer.reload_paths(local_db_path=od_path / \"script-tools\" / \"data_files\", out_db_path=od_path / \"database\")\n",
    "folder = FileOrganizer(project_name)\n",
    "#Folder.add_measurement(\"RT\")\n",
    "#Folder.add_plan(\"RT\",\"__whole, measure the whole RT\")"
   ]
  },
  {
   "cell_type": "code",
   "execution_count": null,
   "metadata": {
    "ExecuteTime": {
     "end_time": "2024-09-15T16:46:36.094483Z",
     "start_time": "2024-09-15T16:46:36.090296Z"
    }
   },
   "outputs": [],
   "source": [
    "folder.tree()"
   ]
  },
  {
   "cell_type": "markdown",
   "metadata": {},
   "source": [
    "### Add measurement type if needed"
   ]
  },
  {
   "cell_type": "code",
   "execution_count": null,
   "metadata": {},
   "outputs": [],
   "source": [
    "#FileOrganizer.add_measurement_type(\"V_source_sweep_ac\",\"Vmax{maxv}V-step{stepv}V-freq{freq}Hz-{vhigh}-{vlow}\", overwrite=False)"
   ]
  },
  {
   "cell_type": "code",
   "execution_count": 4,
   "metadata": {
    "ExecuteTime": {
     "end_time": "2024-09-15T16:46:48.158796Z",
     "start_time": "2024-09-15T16:46:48.153205Z"
    }
   },
   "outputs": [
    {
     "data": {
      "text/plain": [
       "('I-V-T',\n",
       " 'Imax{maxi}A-step{stepi}A-{iin}-{iout}-swpmode{mode}_V{note}-{vhigh}-{vlow}_Temp{Tstart}-{Tstop}K')"
      ]
     },
     "execution_count": 4,
     "metadata": {},
     "output_type": "execute_result"
    }
   ],
   "source": [
    "FileOrganizer.name_fstr_gen(\"I_source_sweep_dc\",\"V_sense\",\"T_vary\")"
   ]
  },
  {
   "cell_type": "code",
   "execution_count": null,
   "metadata": {},
   "outputs": [],
   "source": [
    "#DataPlot.gui_pan_color()"
   ]
  },
  {
   "cell_type": "markdown",
   "metadata": {},
   "source": [
    "# Setup and Parameter"
   ]
  },
  {
   "cell_type": "code",
   "execution_count": 10,
   "metadata": {},
   "outputs": [],
   "source": [
    "measurement = MeasureManager(project_name)\n",
    "#measurement.get_visa_resources()   # list all VISA resources\n",
    "#measurement.load_meter(\"6221\",\"GPIB0::12::INSTR\")\n",
    "#measurement.load_meter(\"2182\",\"GPIB0::7::INSTR\")\n",
    "#measurement.load_meter(\"2400\",\"GPIB0::23::INSTR\")\n",
    "#measurement.load_meter(\"6430\",\"GPIB0::24::INSTR\")\n",
    "#measurement.load_meter(\"sr830\",\"GPIB0::8::INSTR\",\"GPIB0::9::INSTR\")\n",
    "#measurement.load_mercury_ips(\"TCPIP0::10.97.24.237::7020::SOCKET\")\n",
    "#measurement.load_mercury_itc(\"TCPIP0::10.101.28.24::7020::SOCKET\")\n",
    "#measurement.load_ITC503(\"GPIB0::23::INSTR\",\"GPIB0::24::INSTR\")\n",
    "#measurement.load_rotator()"
   ]
  },
  {
   "cell_type": "markdown",
   "metadata": {},
   "source": [
    "*****\n",
    "# Guidance for measurement"
   ]
  },
  {
   "cell_type": "markdown",
   "metadata": {},
   "source": [
    "### *sweep modes:*\n",
    "- 0-max-0\n",
    "- 0--max-max-0\n",
    "- manual"
   ]
  },
  {
   "cell_type": "markdown",
   "metadata": {},
   "source": [
    "### Column Names:\n",
    "- time (default in generator)\n",
    "- X_source\n",
    "- X (sense->ext) \n",
    "    - (if lock-in, then X, Y, R, Theta)"
   ]
  },
  {
   "cell_type": "markdown",
   "metadata": {},
   "source": [
    "### Combination of Varies or Mappings\n",
    "- set `if_combine_gen=False` in `get_mea_dict` to get the list of generators instead of a whole list generator\n",
    "- use `constants.next_lst_gen` to get the next values list\n",
    "- replace mapping generators with constant generators (careful about the values) to temporarily pause the mapping and do varying, and remember to vary circularly (hysteretically) use `reverse=True`"
   ]
  },
  {
   "cell_type": "code",
   "execution_count": 18,
   "metadata": {},
   "outputs": [
    {
     "data": {
      "text/plain": [
       "('I-V-T',\n",
       " 'Ifix{fixi}A-freq{freq}Hz-{iin}-{iout}_V{note}-{vhigh}-{vlow}_Temp{Tstart}-{Tstop}K')"
      ]
     },
     "execution_count": 18,
     "metadata": {},
     "output_type": "execute_result"
    }
   ],
   "source": [
    "# used for getting namestr for filling the vars_tup\n",
    "FileOrganizer.name_fstr_gen(\"I_source_fixed_ac\",\"V_sense\", \"T_vary\")"
   ]
  },
  {
   "cell_type": "markdown",
   "metadata": {},
   "source": [
    "# Common Head"
   ]
  },
  {
   "cell_type": "code",
   "execution_count": null,
   "metadata": {},
   "outputs": [],
   "source": [
    "##TODO::##\n",
    "# Parameters\n",
    "step_time = 1 # s, wait time between each measurement step, note the delay time of python itself, especially during varying process\n",
    "mapping = False\n",
    "constrained = False  # constrained mapping means single sweep with multiple vars constrained by an equation (so just concatenation)\n",
    "# NOTE the wait interval must be SHORTER than the ACTUAL step time x vary_criteria steps ()\n",
    "wait_before_vary = 7 # s, wait time before starting the varying process\n",
    "vary_criteria = 10  # the criteria step number for judging the end of varying process\n",
    "vary_loop = True  # if scan hysteresis loop for varying\n",
    "\n",
    "assert wait_before_vary < step_time * vary_criteria, \"wait_before_vary must be shorter than the actual step time x vary_criteria steps\"  # or the waiting will be misjudged as stability\n",
    "if vary_loop:\n",
    "    vary_criteria *= 3  # avoid misjudging at the turning point\n",
    "\n",
    "# setup related meters IF SPECIAL PARAMETERS ARE NEEDED\n",
    "#measurement.instrs[\"6221\"][0].setup(low_grounded=False)\n",
    "\n",
    "# setup mapping IF NEEDED\n",
    "if mapping:\n",
    "    def map_func(x):\n",
    "        \"\"\"\n",
    "        the correspondance between mapping variables, default is equal\n",
    "        \"\"\"\n",
    "        return x\n",
    "\n",
    "    # more mapping variables can be included\n",
    "    # note the order ((1,2) x (3,4) -> 1,3; 1,4; 2,3; 2,4)\n",
    "    map1_lst = np.concatenate([np.arange(-10, -5, 0.2),np.arange(-5, 5, 0.1),np.arange(5, 10.001, 0.2)]) # achieve flexible mapping instead of evenly spaced\n",
    "\n",
    "    map2_lst = map_func(map1_lst)  # or directly assign the mapping variables\n",
    "    if not constrained:\n",
    "        map_lsts = measurement.create_mapping(map1_lst, map2_lst, idxs=(0,1))\n",
    "    else:\n",
    "        map_lsts = [map1_lst, map2_lst]\n",
    "else:\n",
    "    map_lsts = None\n",
    "\n",
    "# Core configuration\n",
    "# Generate the measurement generator\n",
    "mea_dict = measurement.get_measure_dict(\n",
    "    mea_mods := (\"V_source_sweep_dc\",\"I_sense\"),\n",
    "    *(vars_tup := (1E-3, 5E-5, 1, 1, \"0-max-0\", \"\",1,1)), # refer to the last cell for the meaning of each element\n",
    "    wrapper_lst=[measurement.instrs[\"6221\"][0],\n",
    "             measurement.instrs[\"2182\"][0]],\n",
    "    compliance_lst=[\"10V\"],\n",
    "    sr830_current_resistor = None, # only float\n",
    "    if_combine_gen = True, # False for coexistence of vary and mapping\n",
    "    special_name = None,\n",
    "    sweep_tables = map_lsts,\n",
    "    vary_criteria = vary_criteria\n",
    "    )\n",
    "##::TODO##\n",
    "\n",
    "print(f\"filepath: {mea_dict['file_path']}\")\n",
    "print(f\"no of columns(with time column): {mea_dict['record_num']}\")\n",
    "print(f\"vary modules: {mea_dict[\"vary_mod\"]}\")"
   ]
  },
  {
   "cell_type": "markdown",
   "metadata": {},
   "source": [
    "# Normal Single Sweep"
   ]
  },
  {
   "cell_type": "code",
   "execution_count": null,
   "metadata": {},
   "outputs": [],
   "source": [
    "# modify the plot configuration\n",
    "# note i[0] is timer\n",
    "measurement.live_plot_init(1,2,1)\n",
    "measurement.start_saving(mea_dict[\"plot_record_path\"],30)\n",
    "for i in mea_dict[\"gen_lst\"]:\n",
    "    measurement.record_update(mea_dict[\"file_path\"], mea_dict[\"record_num\"], i)\n",
    "    measurement.live_plot_update([0,0],\n",
    "                                 [0,1],\n",
    "                                 [0,0],\n",
    "                                 [i[1],i[0]],\n",
    "                                 [i[2],i[1]], incremental=True)\n",
    "    time.sleep(step_time)\n",
    "measurement.stop_saving()"
   ]
  },
  {
   "cell_type": "markdown",
   "metadata": {},
   "source": [
    "# Vary \n",
    "(only 1 vary is applied)"
   ]
  },
  {
   "cell_type": "code",
   "execution_count": null,
   "metadata": {},
   "outputs": [],
   "source": [
    "# integrate vary functions and current value getters\n",
    "vary_lst = []\n",
    "curr_val_lst = []\n",
    "set_val_lst = []\n",
    "for i in mea_dict[\"vary_mod\"]:\n",
    "    match i:\n",
    "        case \"T\":\n",
    "            vary_lst.append(mea_dict[\"tmp_vary\"][0])\n",
    "            curr_val_lst.append(mea_dict[\"tmp_vary\"][1])\n",
    "            set_val_lst.append(mea_dict[\"tmp_vary\"][2])\n",
    "        case \"B\":\n",
    "            vary_lst.append(mea_dict[\"mag_vary\"][0])\n",
    "            curr_val_lst.append(mea_dict[\"mag_vary\"][1])\n",
    "            set_val_lst.append(mea_dict[\"mag_vary\"][2])\n",
    "        case \"Theta\":\n",
    "            vary_lst.append(mea_dict[\"angle_vary\"][0])\n",
    "            curr_val_lst.append(mea_dict[\"angle_vary\"][1])\n",
    "            set_val_lst.append(mea_dict[\"angle_vary\"][2])\n",
    "\n",
    "assert len(curr_val_lst) == 1, \"vary_lst and curr_val_lst have lengths as 1\"\n",
    "assert len(vary_lst) == 1, \"only one varying parameter is allowed\""
   ]
  },
  {
   "cell_type": "code",
   "execution_count": null,
   "metadata": {},
   "outputs": [],
   "source": [
    "# modify the plot configuration\n",
    "##TODO::##\n",
    "measurement.live_plot_init(1,1,1)\n",
    "##::TODO##\n",
    "measurement.start_saving(mea_dict[\"plot_record_path\"],30)\n",
    "begin_vary = False\n",
    "counter = 0\n",
    "counter_vary = [0] * len(vary_lst)\n",
    "for gen_i in mea_dict[\"gen_lst\"]:\n",
    "    measurement.record_update(mea_dict[\"file_path\"], mea_dict[\"record_num\"], gen_i)\n",
    "    ##TODO:: add vary observing plotting##\n",
    "    measurement.live_plot_update(0,0,0,gen_i[1],gen_i[2], incremental=True)\n",
    "    ##::TODO##\n",
    "    time.sleep(step_time)\n",
    "\n",
    "    if not begin_vary:\n",
    "        if counter >= wait_before_vary:\n",
    "            for funci in vary_lst:\n",
    "                funci()\n",
    "            begin_vary = True\n",
    "        else:\n",
    "            counter += step_time\n",
    "\n",
    "    if vary_loop:\n",
    "        for idx, (i,j,k) in enumerate(zip(curr_val_lst, set_val_lst, vary_lst)):\n",
    "            if abs(i() - j()) < i()/100:\n",
    "                counter_vary[idx] += 1\n",
    "                if counter_vary[idx] >= vary_criteria:\n",
    "                    # NOTE: will cause delay among multiple varies (if any)\n",
    "                    k(reverse=True)\n",
    "                    counter_vary[idx] = 0\n",
    "measurement.stop_saving()"
   ]
  },
  {
   "cell_type": "markdown",
   "metadata": {},
   "source": [
    "# Mapping"
   ]
  },
  {
   "cell_type": "code",
   "execution_count": null,
   "metadata": {},
   "outputs": [],
   "source": [
    "# modify the plot configuration\n",
    "measurement.live_plot_init(3,1,1,plot_types=[[\"scatter\"],[\"scatter\"],[\"contour\"]])\n",
    "measurement.start_saving(mea_dict[\"plot_record_path\"],30)\n",
    "for i in mea_dict[\"gen_lst\"]:\n",
    "    measurement.record_update(mea_dict[\"file_path\"], mea_dict[\"record_num\"], i)\n",
    "    measurement.live_plot_update([0,1,2],[0]*3,[0]*3,\n",
    "                                 [i[1],i[1],i[0]],\n",
    "                                 [i[2],i[3],i[1]],\n",
    "                                 [i[2]], incremental=True)\n",
    "    time.sleep(step_time)\n",
    "measurement.stop_saving()"
   ]
  },
  {
   "cell_type": "markdown",
   "metadata": {},
   "source": [
    "# Special Measurement with Head\n",
    "(combination of Vary (one) and Mapping)\n",
    "(the combination could also be achieved by manually appointing Mapping (fixed python loop))"
   ]
  },
  {
   "cell_type": "code",
   "execution_count": null,
   "metadata": {},
   "outputs": [],
   "source": [
    "##TODO::##\n",
    "# Parameters\n",
    "step_time = 1 # s, wait time between each measurement step, note the delay time of python itself, especially during varying process\n",
    "mapping = False  # sweeping, not mapping\n",
    "constrained = False  # constrained mapping means sweep on a curve (single sweep with multiple vars constrained by an equation) (so just concatenation)\n",
    "# NOTE the wait interval must be SHORTER than the ACTUAL step time x vary_criteria steps ()\n",
    "wait_before_vary = 7 # s, wait time before starting the varying process\n",
    "vary_criteria = 10  # the criteria step number for judging the end of varying process\n",
    "vary_loop = True  # if scan hysteresis loop for varying\n",
    "\n",
    "assert wait_before_vary < step_time * vary_criteria, \"wait_before_vary must be shorter than the actual step time x vary_criteria steps\"  # or the waiting will be misjudged as stability\n",
    "if vary_loop:\n",
    "    vary_criteria *= 3  # avoid misjudging at the turning point\n",
    "\n",
    "# setup related meters IF SPECIAL PARAMETERS ARE NEEDED\n",
    "#measurement.instrs[\"6221\"][0].setup(low_grounded=False)\n",
    "\n",
    "# setup mapping IF NEEDED\n",
    "if mapping:\n",
    "    def map_func(x):\n",
    "        \"\"\"\n",
    "        the correspondance between mapping variables, default is equal\n",
    "        \"\"\"\n",
    "        return x\n",
    "\n",
    "    # more mapping variables can be included\n",
    "    # note the order ((1,2) x (3,4) -> 1,3; 1,4; 2,3; 2,4)\n",
    "    map1_lst = np.concatenate([np.arange(-10, -5, 0.2),np.arange(-5, 5, 0.1),np.arange(5, 10.001, 0.2)]) # achieve flexible mapping instead of evenly spaced\n",
    "\n",
    "    map2_lst = map_func(map1_lst)  # or directly assign the mapping variables\n",
    "    if not constrained:\n",
    "        map_lsts = measurement.create_mapping(map1_lst, map2_lst, idxs=(0,1))\n",
    "    else:\n",
    "        map_lsts = [map1_lst, map2_lst]\n",
    "else:\n",
    "    map_lsts = None\n",
    "\n",
    "# Core configuration\n",
    "# Generate the measurement generator\n",
    "mea_dict = measurement.get_measure_dict(\n",
    "    mea_mods := (\"V_source_sweep_dc\",\"I_sense\",\"B_vary\"),\n",
    "    *(vars_tup := (1E-3, 5E-5, 1, 1, \"0-max-0\", \"\",1,1, vary_start := -1, vary_stop:= 1)), # refer to the last cell for the meaning of each element\n",
    "    wrapper_lst=[measurement.instrs[\"6221\"][0],\n",
    "             measurement.instrs[\"2182\"][0]],\n",
    "    compliance_lst=[\"10V\"],\n",
    "    sr830_current_resistor = None, # only float\n",
    "    if_combine_gen = False, # False for coexistence of vary and mapping\n",
    "    special_name = None,\n",
    "    sweep_tables = map_lsts,\n",
    "    vary_criteria = vary_criteria\n",
    "    )\n",
    "##::TODO##\n",
    "\n",
    "print(f\"filepath: {mea_dict['file_path']}\")\n",
    "print(f\"no of columns(with time column): {mea_dict['record_num']}\")\n",
    "print(f\"vary modules: {mea_dict[\"vary_mod\"]}\")\n",
    "\n",
    "# integrate vary functions and current value getters\n",
    "vary_lst = []\n",
    "curr_val_lst = []\n",
    "set_val_lst = []\n",
    "vary_bound_lst = []\n",
    "for i in mea_dict[\"vary_mod\"]:\n",
    "    match i:\n",
    "        case \"T\":\n",
    "            vary_lst.append(mea_dict[\"tmp_vary\"][0])\n",
    "            curr_val_lst.append(mea_dict[\"tmp_vary\"][1])\n",
    "            set_val_lst.append(mea_dict[\"tmp_vary\"][2])\n",
    "            vary_bound_lst.append(mea_dict[\"tmp_vary\"][3])\n",
    "        case \"B\":\n",
    "            vary_lst.append(mea_dict[\"mag_vary\"][0])\n",
    "            curr_val_lst.append(mea_dict[\"mag_vary\"][1])\n",
    "            set_val_lst.append(mea_dict[\"mag_vary\"][2])\n",
    "            vary_bound_lst.append(mea_dict[\"mag_vary\"][3])\n",
    "        case \"Theta\":\n",
    "            vary_lst.append(mea_dict[\"angle_vary\"][0])\n",
    "            curr_val_lst.append(mea_dict[\"angle_vary\"][1])\n",
    "            set_val_lst.append(mea_dict[\"angle_vary\"][2])\n",
    "            vary_bound_lst.append(mea_dict[\"angle_vary\"][3])\n",
    "\n",
    "assert max(len(vary_lst), len(curr_val_lst), len(set_val_lst), len(vary_bound_lst)) == 1, \"only one varying parameter is allowed\"\n",
    "assert min(len(vary_lst), len(curr_val_lst), len(set_val_lst), len(vary_bound_lst)) == 1, \"only one varying parameter is allowed\"\n",
    "vary_start = vary_bound_lst[0][0]\n",
    "vary_stop = vary_bound_lst[0][1]"
   ]
  },
  {
   "cell_type": "code",
   "execution_count": null,
   "metadata": {},
   "outputs": [],
   "source": [
    "# modify the plot configuration\n",
    "##TODO::##\n",
    "measurement.live_plot_init(1,2,1)\n",
    "##::TODO##\n",
    "begin_vary = False\n",
    "counter = 0\n",
    "counter_vary = [0] * len(vary_lst)\n",
    "# each row in list is a sweep step, so should be interruped each step\n",
    "tmp_lst_swp = [[]] * len(mea_dict[\"swp_idx\"])\n",
    "plot_idx = 0\n",
    "ori_path = mea_dict[\"plot_record_path\"]\n",
    "while True:\n",
    "    measurement.start_saving(ori_path.parent / (ori_path.stem + f\"{plot_idx}\" + ori_path.suffix),30)\n",
    "    measured_lst = next_lst_gen(mea_dict[\"gen_lst\"])\n",
    "    if measured_lst is None:\n",
    "        break\n",
    "    measurement.record_update(mea_dict[\"file_path\"], mea_dict[\"record_num\"], measured_lst)\n",
    "    # substitute the swp to constant to do varies\n",
    "    for n, i in enumerate(mea_dict[\"swp_idx\"]):\n",
    "        tmp_lst_swp[n] = mea_dict[\"gen_lst\"][i]\n",
    "        mea_dict[\"gen_lst\"][i] = constant_generator(measured_lst[i])\n",
    "    # begin a circular vary under each sweep step\n",
    "    time.sleep(wait_before_vary)\n",
    "    vary_lst[0]()\n",
    "    counter = 0\n",
    "    while counter < vary_criteria:\n",
    "        measured_lst = next_lst_gen(mea_dict[\"gen_lst\"])\n",
    "        measurement.record_update(mea_dict[\"file_path\"], mea_dict[\"record_num\"], measured_lst)\n",
    "        ##TODO:: add vary observing plotting##\n",
    "        measurement.live_plot_update([0,0],[0,1],[0,0],\n",
    "                                     [measured_lst[3], measured_lst[0]],[measured_lst[2], measured_lst[4]], incremental=True)\n",
    "\n",
    "        if abs(curr_val_lst[0]() - set_val_lst[0]()) < 0.01:\n",
    "            counter += 1\n",
    "        else:\n",
    "            counter = 0\n",
    "        ##::TODO##\n",
    "        time.sleep(step_time)\n",
    "\n",
    "    if vary_loop:\n",
    "        time.sleep(wait_before_vary)\n",
    "        vary_lst[0](reverse=True)\n",
    "        counter = 0\n",
    "        while counter < vary_criteria:\n",
    "            measured_lst = next_lst_gen(mea_dict[\"gen_lst\"])\n",
    "            measurement.record_update(mea_dict[\"file_path\"], mea_dict[\"record_num\"], measured_lst)\n",
    "            ##TODO:: add vary observing plotting##\n",
    "            measurement.live_plot_update([0,0],[0,1],[0,0],\n",
    "                                         [measured_lst[3], measured_lst[0]],[measured_lst[2], measured_lst[4]], incremental=True)\n",
    "\n",
    "            if abs(curr_val_lst[0]() - vary_stop) < 0.01:\n",
    "                counter += 1\n",
    "            else:\n",
    "                counter = 0\n",
    "            ##::TODO##\n",
    "            time.sleep(step_time)\n",
    "        measurement.live_plot_update(0,0,0,[],[])\n",
    "\n",
    "    # substitute the swp to constant to do varies\n",
    "    for n, i in enumerate(mea_dict[\"swp_idx\"]):\n",
    "        mea_dict[\"gen_lst\"][i] = tmp_lst_swp[n]\n",
    "        tmp_lst_swp[n] = []\n",
    "    \n",
    "    measurement.stop_saving()\n",
    "    measurement.live_plot_update([0,0],[0,1],[0,0],[[],[]],[[],[]])\n",
    "    plot_idx += 1"
   ]
  },
  {
   "cell_type": "markdown",
   "metadata": {},
   "source": [
    "# END of Template\n",
    "******"
   ]
  }
 ],
 "metadata": {
  "kernelspec": {
   "display_name": "unified",
   "language": "python",
   "name": "python3"
  },
  "language_info": {
   "codemirror_mode": {
    "name": "ipython",
    "version": 3
   },
   "file_extension": ".py",
   "mimetype": "text/x-python",
   "name": "python",
   "nbconvert_exporter": "python",
   "pygments_lexer": "ipython3",
   "version": "3.12.4"
  }
 },
 "nbformat": 4,
 "nbformat_minor": 4
}
