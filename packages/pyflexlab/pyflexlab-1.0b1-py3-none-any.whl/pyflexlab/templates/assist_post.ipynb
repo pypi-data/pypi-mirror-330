{
 "cells": [
  {
   "cell_type": "markdown",
   "metadata": {},
   "source": [
    "# preloading"
   ]
  },
  {
   "cell_type": "code",
   "execution_count": 1,
   "metadata": {},
   "outputs": [
    {
     "name": "stdout",
     "output_type": "stream",
     "text": [
      "set with PYLAB_DB_LOCAL_DONGKAI\n",
      "set with PYLAB_DB_OUT_DONGKAI\n",
      "read from PYLAB_DB_LOCAL:D:\\ONEDRIVE-NTU\\OneDrive - Nanyang Technological University\\script-tools\\data_files\n",
      "read from PYLAB_DB_OUT:D:\\ONEDRIVE-NTU\\OneDrive - Nanyang Technological University\\database\n"
     ]
    }
   ],
   "source": [
    "import os\n",
    "from pathlib import Path\n",
    "import datetime\n",
    "import time\n",
    "import numpy as np\n",
    "import matplotlib as mpl\n",
    "import matplotlib.pyplot as plt\n",
    "from matplotlib import colormaps as cm\n",
    "from matplotlib.colors import LinearSegmentedColormap, ListedColormap\n",
    "import pandas as pd\n",
    "import functools\n",
    "import itertools\n",
    "\n",
    "import pyflexlab\n",
    "import pyflexlab.pltconfig.color_preset as colors\n",
    "from pyflexlab.constants import cm_to_inch, next_lst_gen, constant_generator\n",
    "from pyflexlab.file_organizer import FileOrganizer\n",
    "from pyflexlab.data_process import DataProcess\n",
    "from pyflexlab.data_plot import DataPlot\n",
    "# MeasureManager module will need the NIDAQmx module to work,\n",
    "from pyflexlab.measure_manager import MeasureManager"
   ]
  },
  {
   "cell_type": "code",
   "execution_count": 2,
   "metadata": {},
   "outputs": [],
   "source": [
    "project_name = \"Date-Material\"\n",
    "folder = FileOrganizer(project_name)\n",
    "plotobj = DataPlot(project_name)\n",
    "#FileOrganizer.reload_paths(local_db_path=od_path / \"script-tools\" / \"data_files\", out_db_path=od_path / \"database\")"
   ]
  },
  {
   "cell_type": "code",
   "execution_count": null,
   "metadata": {},
   "outputs": [],
   "source": [
    "folder.tree()"
   ]
  },
  {
   "cell_type": "code",
   "execution_count": 6,
   "metadata": {},
   "outputs": [
    {
     "data": {
      "text/plain": [
       "('I-V-T',\n",
       " 'Imax{maxi}A-step{stepi}A-{iin}-{iout}-swpmode{mode}_V{note}-{vhigh}-{vlow}_Temp{Tstart}-{Tstop}K')"
      ]
     },
     "execution_count": 6,
     "metadata": {},
     "output_type": "execute_result"
    }
   ],
   "source": [
    "FileOrganizer.name_fstr_gen(\"I_source_sweep_dc\",\"V_sense\",\"T_vary\")"
   ]
  },
  {
   "cell_type": "markdown",
   "metadata": {},
   "source": [
    "### Colors Palette"
   ]
  },
  {
   "cell_type": "code",
   "execution_count": null,
   "metadata": {},
   "outputs": [],
   "source": [
    "DataPlot.gui_pan_color()"
   ]
  },
  {
   "cell_type": "markdown",
   "metadata": {},
   "source": [
    "## File Inspection"
   ]
  },
  {
   "cell_type": "code",
   "execution_count": null,
   "metadata": {},
   "outputs": [],
   "source": [
    "list(plotobj.proj_path.glob(\"*\"))"
   ]
  },
  {
   "cell_type": "code",
   "execution_count": null,
   "metadata": {},
   "outputs": [],
   "source": [
    "os.startfile(plotobj.proj_path)  # open the explorer window"
   ]
  },
  {
   "cell_type": "markdown",
   "metadata": {},
   "source": [
    "# Processing Template\n",
    "### load sweep files\n",
    "```python\n",
    "gate_lst = []  # the sweeped values\n",
    "gate_lst.sort()\n",
    "df_lst = []\n",
    "for ivg in gate_lst:\n",
    "    df_loaded = plotobj.load_dfs(mod_tuple, *vars, tmpfolder=\"\")\n",
    "    df_loaded = plotobj.identify_direction(df_loaded, \"B\")  # add direction label\n",
    "    df_loaded[\"gate\"] = ivg\n",
    "    df_lst.append(df_loaded)\n",
    "overall_df = pd.concat(df_lst, ignore_index=True)\n",
    "```\n",
    "### calculate loop differences (e.g. for hysteresis loop)\n",
    "```python\n",
    "diff = plotobj.loop_diff(df_loaded, \"vary-property\",  \"observe-property\")\n",
    "```"
   ]
  },
  {
   "cell_type": "markdown",
   "metadata": {},
   "source": [
    "# Colormap\n",
    "### Create Cmap\n",
    "```python\n",
    "mycmap = ListedColormap([\"red\", \"blue\", \"green\"])  # discrete colormap\n",
    "mycmap = LinearSegmentedColormap.from_list(\"custom\", [(0, \"red\"), (0.5, \"blue\"), (1, \"green\")], N = 256)  # Linear colormap (default to 256, continuous effect)\n",
    "colormaps.get_cmap(mycmap)  # plot the cmap to show the effect\n",
    "```\n",
    "### Modify Existing Cmap\n",
    "##### Reverse\n",
    "reverse any existing colormap by appending `_r` to its name or using the `.reversed()` method.\n",
    "##### Truncate a Cmap\n",
    "use `constants.truncate_cmap(cmap, min_val, max_val, n=256)`\n",
    "##### Combine Cmaps\n",
    "use `constants.combine_cmap(cmap_lst, segment=128)`"
   ]
  },
  {
   "cell_type": "markdown",
   "metadata": {},
   "source": [
    "#### Common Issues\n",
    "`(df1[col1] == val1) & (df2[col2] == val2)`, the parentheses here are necessary"
   ]
  },
  {
   "cell_type": "markdown",
   "metadata": {},
   "source": [
    "## Plotting Template"
   ]
  },
  {
   "cell_type": "markdown",
   "metadata": {},
   "source": [
    "### generic\n",
    "```python\n",
    "# the return value of the load_dfs is exact the same as that stored in dfs[measurename_main], used for comparison or other cases\n",
    "# or use df from other sources, there is no diff\n",
    "df_measure_appendix = plotobj.load_dfs(measure_mods, *params,tmpfolder=\"\",cached = False)\n",
    "measurename = \"VV-II-BT\"\n",
    "# rename columns if needed\n",
    "#plotobj.rename_columns(measurename,{2:\"T\"})\n",
    "df_measure_appendix.rename({2: \"T\"}, inplace=True)\n",
    "plotobj.set_unit({\"I\":\"uA\"})\n",
    "\n",
    "fig, ax, params = DataPlot.init_canvas(1,1, 10, 6, lines_per_fig=2) # params: rows x cols x 2\n",
    "axtwin = ax.twinx()\n",
    "# params[int, int, int] is multidimension-array-like, params[int] is flattened-array-like\n",
    "params[0,0,0].update(label=\"\")  # could also use one int to index the params\n",
    "\n",
    "line = ax.plot(plotobj.dfs[measurename][\"I\"] * plotobj.unit_factor(\"I\"),plotobj.dfs[measurename][\"V\"] * plotobj.unit_factor(\"V\"),**params[0,0,0])\n",
    "line2 = axtwin.plot(plotobj.dfs[measurename][\"I\"] * plotobj.unit_factor(\"I\"),plotobj.dfs[measurename][\"V\"] * plotobj.unit_factor(\"V\"),**params[0,0,1])\n",
    "\n",
    "ax.set_xlabel(rf\"$I$ ({plotobj.unit_name(\"I\")})\")\n",
    "ax.set_ylabel(rf\"$V$ ({plotobj.unit_name(\"V\")})\")\n",
    "axtwin.set_ylabel(rf\"$V$ ({plotobj.unit_name(\"V\")})\")\n",
    "DataPlot.paint_colors_twin_axes(ax_left=ax, color_left=\"r\", ax_right=axtwin, color_right=\"b\")\n",
    "# line is a list, so use addition to combine all of them\n",
    "ax.legend(handles = line+line2, labels=[i.get_label() for i in line+line2],loc = \"best\", prop=DataPlot.legend_font)\n",
    "ax.title.set_text(r\"\")\n",
    "```"
   ]
  },
  {
   "cell_type": "markdown",
   "metadata": {},
   "source": [
    "### For multiple lines\n",
    "- use addition to add lines to a lst for legend management (`line_lst += ax.plot(...)`)\n",
    "- use `cmap = LinearSegmentedColormap.from_list(...)` to get cmap, and use `cmap(idx)` to get the color\n",
    "- modify the params length in `init_canvas`, and modify parameters for each line in params"
   ]
  },
  {
   "cell_type": "markdown",
   "metadata": {},
   "source": [
    "### Contourf\n",
    "`tricontourf` is for not aligned contour (1-D arrays)\n",
    "`contourf` is for aligned contour (2-D meshes)\n",
    "```python\n",
    "norm = mpl.colors.Normalize(vmin=-2E-8, vmax=2E-8)  # make white to be exactly 0\n",
    "tcf = ax.tricontourf(x_arr, y_arr, z_arr, levels=128, cmap=\"seismic\", norm=norm)\n",
    "cb = fig.colorbar(tcf)\n",
    "cb.set_label(rf\"$I$ (%)\")\n",
    "cb.set_ticks(np.linspace(-0.1,0.1,11))\n",
    "ax.set_xlabel(\"B (T)\")\n",
    "ax.set_ylabel(\"G (V)\")\n",
    "```"
   ]
  }
 ],
 "metadata": {
  "kernelspec": {
   "display_name": "unified",
   "language": "python",
   "name": "python3"
  },
  "language_info": {
   "codemirror_mode": {
    "name": "ipython",
    "version": 3
   },
   "file_extension": ".py",
   "mimetype": "text/x-python",
   "name": "python",
   "nbconvert_exporter": "python",
   "pygments_lexer": "ipython3",
   "version": "3.12.4"
  }
 },
 "nbformat": 4,
 "nbformat_minor": 2
}
