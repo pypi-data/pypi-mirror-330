{
 "cells": [
  {
   "cell_type": "markdown",
   "metadata": {},
   "source": [
    "---\n",
    "# Example #1\n",
    "---\n",
    "### How to use GetModel (and get_model_nidaq) to send a signal using a National Instruments board\n",
    "---"
   ]
  },
  {
   "cell_type": "markdown",
   "metadata": {},
   "source": [
    "### Importing library and defining parameters"
   ]
  },
  {
   "cell_type": "code",
   "execution_count": 23,
   "metadata": {},
   "outputs": [],
   "source": [
    "# Importing PYDAQ\n",
    "from pydaq.get_model import GetModel\n",
    "\n",
    "device_name = \"Dev1\"\n",
    "ao_channel = \"ao0\"\n",
    "ai_channel = \"ai0\"\n",
    "channel = \"ai0\"\n",
    "terminal = \"Diff\"\n",
    "session_duration_in_s = 100\n",
    "ao_min = 0\n",
    "ao_max = 5\n",
    "\n",
    "# system identification parameters\n",
    "degree = 2\n",
    "start_save_time_in_s = 0\n",
    "out_lag = 2\n",
    "inp_lag = 2\n",
    "num_info_val = 6\n",
    "estimator = \"least_squares\"\n",
    "ext_lsq = True\n",
    "perc_value_to_train_the_model = 15\n",
    "\n",
    "# PRBS input parameters\n",
    "prbs_bits = 6\n",
    "prbs_seed = 100\n",
    "var_tb = 1\n"
   ]
  },
  {
   "cell_type": "markdown",
   "metadata": {},
   "source": [
    "### Performing the test"
   ]
  },
  {
   "cell_type": "code",
   "execution_count": 24,
   "metadata": {},
   "outputs": [
    {
     "name": "stdout",
     "output_type": "stream",
     "text": [
      "Iteration: 0 of 20\n",
      "Iteration: 1 of 20\n",
      "Iteration: 2 of 20\n",
      "Iteration: 3 of 20\n",
      "Iteration: 4 of 20\n",
      "Iteration: 5 of 20\n",
      "Iteration: 6 of 20\n",
      "Iteration: 7 of 20\n",
      "Iteration: 8 of 20\n",
      "Iteration: 9 of 20\n",
      "Iteration: 10 of 20\n",
      "Iteration: 11 of 20\n",
      "Iteration: 12 of 20\n",
      "Iteration: 13 of 20\n",
      "Iteration: 14 of 20\n",
      "Iteration: 15 of 20\n",
      "Iteration: 16 of 20\n",
      "Iteration: 17 of 20\n",
      "Iteration: 18 of 20\n",
      "Iteration: 19 of 20\n",
      "Iteration: 20 of 20\n",
      "\n",
      "Saving data ...\n",
      "\n",
      "Data saved ...\n",
      "Root relative squared error: 1.305268214310672\n",
      "      Regressors   Parameters             ERR\n",
      "0         y(k-1)  -1.0087E+00  9.63799627E-01\n",
      "1              1   3.4909E-02  7.88294913E-03\n",
      "2         y(k-2)   1.9426E+00  8.46341690E-03\n",
      "3  x1(k-2)y(k-1)  -1.6406E-02  3.61487508E-03\n",
      "4  x1(k-1)y(k-2)  -3.1762E-01  4.53686753E-03\n",
      "5  x1(k-1)y(k-1)   3.1008E-01  2.43719975E-03\n"
     ]
    },
    {
     "name": "stderr",
     "output_type": "stream",
     "text": [
      "e:\\IC\\pydaq\\.venv\\Lib\\site-packages\\nidaqmx\\task\\_task.py:98: DaqResourceWarning: Task of name \"_unnamedTask<0>\" was not explicitly closed before it was destructed. Resources on the task device may still be reserved.\n",
      "  warnings.warn(\n",
      "e:\\IC\\pydaq\\.venv\\Lib\\site-packages\\nidaqmx\\task\\_task.py:98: DaqResourceWarning: Task of name \"_unnamedTask<1>\" was not explicitly closed before it was destructed. Resources on the task device may still be reserved.\n",
      "  warnings.warn(\n"
     ]
    }
   ],
   "source": [
    "# Class GetModel\n",
    "g = GetModel(\n",
    "    device=device_name,\n",
    "    session_duration=session_duration_in_s,\n",
    "    ai_channel=ai_channel,\n",
    "    ao_channel=ao_channel,\n",
    "    ao_min=ao_min,\n",
    "    ao_max=ao_max,\n",
    "    channel=channel,\n",
    "    degree=degree,\n",
    "    start_save_time=start_save_time_in_s,\n",
    "    out_lag=out_lag,\n",
    "    inp_lag=inp_lag,\n",
    "    num_info_values=num_info_val,\n",
    "    estimator=estimator,\n",
    "    ext_lsq=ext_lsq,\n",
    "    perc_value=perc_value_to_train_the_model,\n",
    "    prbs_bits=prbs_bits,\n",
    "    prbs_seed=prbs_seed,\n",
    "    var_tb=var_tb,\n",
    ")\n",
    "\n",
    "# Method get_model_nidaq\n",
    "g.get_model_nidaq()"
   ]
  }
 ],
 "metadata": {
  "kernelspec": {
   "display_name": ".venv",
   "language": "python",
   "name": "python3"
  },
  "language_info": {
   "codemirror_mode": {
    "name": "ipython",
    "version": 3
   },
   "file_extension": ".py",
   "mimetype": "text/x-python",
   "name": "python",
   "nbconvert_exporter": "python",
   "pygments_lexer": "ipython3",
   "version": "3.11.3"
  }
 },
 "nbformat": 4,
 "nbformat_minor": 2
}
