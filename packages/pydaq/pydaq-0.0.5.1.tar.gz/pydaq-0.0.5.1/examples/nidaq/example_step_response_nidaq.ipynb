{
 "cells": [
  {
   "cell_type": "markdown",
   "metadata": {},
   "source": [
    "---\n",
    "# Example #1\n",
    "---\n",
    "### How to use Step_response (and step_response_nidaq) to perform a step response test  using a National Instruments board\n",
    "---"
   ]
  },
  {
   "cell_type": "markdown",
   "metadata": {},
   "source": [
    "### Importing library and defining parameters"
   ]
  },
  {
   "cell_type": "code",
   "execution_count": 1,
   "metadata": {},
   "outputs": [],
   "source": [
    "# Importing PYDAQ\n",
    "from pydaq.step_response import Step_response\n",
    "\n",
    "# Defining parameters\n",
    "device_name = \"Dev1\"\n",
    "ao_channel_used = \"ao0\"\n",
    "ai_channel_used = \"ai0\"\n",
    "sample_period_in_seconds = 1\n",
    "session_duration_in_seconds = 10.0\n",
    "step_time_in_seconds = 3.0\n",
    "step_min_in_volts = 0\n",
    "step_max_in_volts = 5\n",
    "terminal_configuration = 'Diff'\n",
    "will_plot = True"
   ]
  },
  {
   "cell_type": "markdown",
   "metadata": {},
   "source": [
    "### Performing step response test"
   ]
  },
  {
   "cell_type": "code",
   "execution_count": 2,
   "metadata": {},
   "outputs": [
    {
     "name": "stdout",
     "output_type": "stream",
     "text": [
      "Iteration: 0 of 10\n",
      "Iteration: 1 of 10\n",
      "Iteration: 2 of 10\n",
      "Iteration: 3 of 10\n",
      "Iteration: 4 of 10\n",
      "Iteration: 5 of 10\n",
      "Iteration: 6 of 10\n",
      "Iteration: 7 of 10\n",
      "Iteration: 8 of 10\n",
      "Iteration: 9 of 10\n",
      "Iteration: 10 of 10\n",
      "\n",
      "Saving data ...\n",
      "\n",
      "Data saved ...\n"
     ]
    }
   ],
   "source": [
    "# Class Get_data\n",
    "s = Step_response(device=device_name, ao_channel= ao_channel_used, ai_channel=ai_channel_used, ts=sample_period_in_seconds, session_duration=session_duration_in_seconds, step_time=step_time_in_seconds, step_min=step_min_in_volts, step_max=step_max_in_volts,terminal= terminal_configuration, plot=will_plot)\n",
    "\n",
    "# Method step_response_nidaq\n",
    "s.step_response_nidaq()"
   ]
  }
 ],
 "metadata": {
  "kernelspec": {
   "display_name": "Python 3 (ipykernel)",
   "language": "python",
   "name": "python3"
  },
  "language_info": {
   "codemirror_mode": {
    "name": "ipython",
    "version": 3
   },
   "file_extension": ".py",
   "mimetype": "text/x-python",
   "name": "python",
   "nbconvert_exporter": "python",
   "pygments_lexer": "ipython3",
   "version": "3.9.13"
  }
 },
 "nbformat": 4,
 "nbformat_minor": 1
}
