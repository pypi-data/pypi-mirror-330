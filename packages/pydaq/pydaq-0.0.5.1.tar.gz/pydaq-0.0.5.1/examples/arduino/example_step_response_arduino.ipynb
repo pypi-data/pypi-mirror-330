{
 "cells": [
  {
   "cell_type": "markdown",
   "metadata": {},
   "source": [
    "---\n",
    "# NOTE 1: file [arduino_code.ino](https://github.com/samirmartins/pydaq/blob/359823ffb244d6a3ee8124c57c3c2002281df8d8/pydaq/arduino_code/arduino_code.ino) should be loaded in Arduino before running this example\n",
    "\n",
    "# Note 2: only digital outputs allowed in Arduino\n",
    "---\n",
    "# Example #1\n",
    "---\n",
    "### How to use Step_response (and step_response_arduino) to perform a step response test  using an Arduino board\n",
    "---"
   ]
  },
  {
   "cell_type": "markdown",
   "metadata": {},
   "source": [
    "### Importing library and defining parameters"
   ]
  },
  {
   "cell_type": "code",
   "execution_count": 3,
   "metadata": {},
   "outputs": [],
   "source": [
    "# Importing PYDAQ\n",
    "from pydaq.step_response import Step_response\n",
    "\n",
    "# Defining parameters\n",
    "sample_period_in_seconds = 0.1\n",
    "session_duration_in_seconds = 10.0\n",
    "step_time_in_seconds = 3.0\n",
    "com_port_arduino = 'COM3'\n",
    "will_plot = True"
   ]
  },
  {
   "cell_type": "markdown",
   "metadata": {},
   "source": [
    "### Performing step response test"
   ]
  },
  {
   "cell_type": "code",
   "execution_count": 4,
   "metadata": {},
   "outputs": [
    {
     "name": "stdout",
     "output_type": "stream",
     "text": [
      "Iteration: 0 of 100\n",
      "Iteration: 1 of 100\n",
      "Iteration: 2 of 100\n",
      "Iteration: 3 of 100\n",
      "Iteration: 4 of 100\n",
      "Iteration: 5 of 100\n",
      "Iteration: 6 of 100\n",
      "Iteration: 7 of 100\n",
      "Iteration: 8 of 100\n",
      "Iteration: 9 of 100\n",
      "Iteration: 10 of 100\n",
      "Iteration: 11 of 100\n",
      "Iteration: 12 of 100\n",
      "Iteration: 13 of 100\n",
      "Iteration: 14 of 100\n",
      "Iteration: 15 of 100\n",
      "Iteration: 16 of 100\n",
      "Iteration: 17 of 100\n",
      "Iteration: 18 of 100\n",
      "Iteration: 19 of 100\n",
      "Iteration: 20 of 100\n",
      "Iteration: 21 of 100\n",
      "Iteration: 22 of 100\n",
      "Iteration: 23 of 100\n",
      "Iteration: 24 of 100\n",
      "Iteration: 25 of 100\n",
      "Iteration: 26 of 100\n",
      "Iteration: 27 of 100\n",
      "Iteration: 28 of 100\n",
      "Iteration: 29 of 100\n",
      "Iteration: 30 of 100\n",
      "Iteration: 31 of 100\n",
      "Iteration: 32 of 100\n",
      "Iteration: 33 of 100\n",
      "Iteration: 34 of 100\n",
      "Iteration: 35 of 100\n",
      "Iteration: 36 of 100\n",
      "Iteration: 37 of 100\n",
      "Iteration: 38 of 100\n",
      "Iteration: 39 of 100\n",
      "Iteration: 40 of 100\n",
      "Iteration: 41 of 100\n",
      "Iteration: 42 of 100\n",
      "Iteration: 43 of 100\n",
      "Iteration: 44 of 100\n",
      "Iteration: 45 of 100\n",
      "Iteration: 46 of 100\n",
      "Iteration: 47 of 100\n",
      "Iteration: 48 of 100\n",
      "Iteration: 49 of 100\n",
      "Iteration: 50 of 100\n",
      "Iteration: 51 of 100\n",
      "Iteration: 52 of 100\n",
      "Iteration: 53 of 100\n",
      "Iteration: 54 of 100\n",
      "Iteration: 55 of 100\n",
      "Iteration: 56 of 100\n",
      "Iteration: 57 of 100\n",
      "Iteration: 58 of 100\n",
      "Iteration: 59 of 100\n",
      "Iteration: 60 of 100\n",
      "Iteration: 61 of 100\n",
      "Iteration: 62 of 100\n",
      "Iteration: 63 of 100\n",
      "Iteration: 64 of 100\n",
      "Iteration: 65 of 100\n",
      "Iteration: 66 of 100\n",
      "Iteration: 67 of 100\n",
      "Iteration: 68 of 100\n",
      "Iteration: 69 of 100\n",
      "Iteration: 70 of 100\n",
      "Iteration: 71 of 100\n",
      "Iteration: 72 of 100\n",
      "Iteration: 73 of 100\n",
      "Iteration: 74 of 100\n",
      "Iteration: 75 of 100\n",
      "Iteration: 76 of 100\n",
      "Iteration: 77 of 100\n",
      "Iteration: 78 of 100\n",
      "Iteration: 79 of 100\n",
      "Iteration: 80 of 100\n",
      "Iteration: 81 of 100\n",
      "Iteration: 82 of 100\n",
      "Iteration: 83 of 100\n",
      "Iteration: 84 of 100\n",
      "Iteration: 85 of 100\n",
      "Iteration: 86 of 100\n",
      "Iteration: 87 of 100\n",
      "Iteration: 88 of 100\n",
      "Iteration: 89 of 100\n",
      "Iteration: 90 of 100\n",
      "Iteration: 91 of 100\n",
      "Iteration: 92 of 100\n",
      "Iteration: 93 of 100\n",
      "Iteration: 94 of 100\n",
      "Iteration: 95 of 100\n",
      "Iteration: 96 of 100\n",
      "Iteration: 97 of 100\n",
      "Iteration: 98 of 100\n",
      "Iteration: 99 of 100\n",
      "Iteration: 100 of 100\n",
      "\n",
      "Saving data ...\n",
      "\n",
      "Data saved ...\n"
     ]
    }
   ],
   "source": [
    "# Class Get_data\n",
    "s = Step_response(com = com_port_arduino, ts=sample_period_in_seconds, session_duration=session_duration_in_seconds, step_time=step_time_in_seconds, plot=will_plot)\n",
    "\n",
    "# Method step_response_arduino\n",
    "s.step_response_arduino()"
   ]
  }
 ],
 "metadata": {
  "kernelspec": {
   "display_name": "Python 3 (ipykernel)",
   "language": "python",
   "name": "python3"
  },
  "language_info": {
   "codemirror_mode": {
    "name": "ipython",
    "version": 3
   },
   "file_extension": ".py",
   "mimetype": "text/x-python",
   "name": "python",
   "nbconvert_exporter": "python",
   "pygments_lexer": "ipython3",
   "version": "3.9.13"
  }
 },
 "nbformat": 4,
 "nbformat_minor": 1
}
