{
 "cells": [
  {
   "cell_type": "markdown",
   "metadata": {},
   "source": [
    "---\n",
    "# NOTE: file [arduino_code.ino](https://github.com/samirmartins/pydaq/blob/359823ffb244d6a3ee8124c57c3c2002281df8d8/pydaq/arduino_code/arduino_code.ino) should be loaded in Arduino before running this example\n",
    "---\n",
    "# Example #1\n",
    "---\n",
    "### How to use Get_data (and get_data_arduino) to acquire signal using an Arduino\n",
    "---"
   ]
  },
  {
   "cell_type": "markdown",
   "metadata": {},
   "source": [
    "### Importing library and defining parameters"
   ]
  },
  {
   "cell_type": "code",
   "execution_count": 1,
   "metadata": {},
   "outputs": [],
   "source": [
    "# Importing PYDAQ\n",
    "from pydaq.get_data import Get_data\n",
    "\n",
    "# Defining parameters\n",
    "sample_period_in_seconds = 1\n",
    "session_duration_in_seconds = 10.0\n",
    "com_port_arduino = 'COM3'\n",
    "save_data = True\n",
    "will_plot = True"
   ]
  },
  {
   "cell_type": "markdown",
   "metadata": {},
   "source": [
    "### Getting data from the board - and saving them in Desktop"
   ]
  },
  {
   "cell_type": "code",
   "execution_count": 4,
   "metadata": {},
   "outputs": [
    {
     "name": "stdout",
     "output_type": "stream",
     "text": [
      "Iteration: 0 of 10\n",
      "Iteration: 1 of 10\n",
      "Iteration: 2 of 10\n",
      "Iteration: 3 of 10\n",
      "Iteration: 4 of 10\n",
      "Iteration: 5 of 10\n",
      "Iteration: 6 of 10\n",
      "Iteration: 7 of 10\n",
      "Iteration: 8 of 10\n",
      "Iteration: 9 of 10\n",
      "Iteration: 10 of 10\n",
      "\n",
      "Saving data ...\n",
      "\n",
      "Data saved ...\n"
     ]
    }
   ],
   "source": [
    "# Class Get_data\n",
    "g = Get_data(com=com_port_arduino,ts=sample_period_in_seconds, session_duration=session_duration_in_seconds, save=save_data, plot=will_plot)\n",
    "\n",
    "## NOTE: data will be saved on desktop, by default. To change the path the user can define \"g.path = Desired path\"\n",
    "\n",
    "# Method get_data_arduino\n",
    "g.get_data_arduino()"
   ]
  },
  {
   "cell_type": "markdown",
   "source": [
    "### Showing acquired data"
   ],
   "metadata": {
    "collapsed": false
   }
  },
  {
   "cell_type": "code",
   "execution_count": 5,
   "outputs": [
    {
     "name": "stdout",
     "output_type": "stream",
     "text": [
      "First 10 values of time: \n",
      " [0, 1, 2, 3, 4, 5, 6, 7, 8, 9]\n",
      "\n",
      "First 10 values of data: \n",
      " [1.904296875, 1.552734375, 1.416015625, 1.3525390625, 1.3232421875, 1.298828125, 1.3037109375, 1.2939453125, 1.2890625, 1.2841796875]\n"
     ]
    }
   ],
   "source": [
    "print(f'First 10 values of time: \\n {g.time_var[0:10]}')\n",
    "print(f'\\nFirst 10 values of data: \\n {g.data[0:10]}')"
   ],
   "metadata": {
    "collapsed": false
   }
  }
 ],
 "metadata": {
  "kernelspec": {
   "display_name": "Python 3 (ipykernel)",
   "language": "python",
   "name": "python3"
  },
  "language_info": {
   "codemirror_mode": {
    "name": "ipython",
    "version": 3
   },
   "file_extension": ".py",
   "mimetype": "text/x-python",
   "name": "python",
   "nbconvert_exporter": "python",
   "pygments_lexer": "ipython3",
   "version": "3.9.13"
  }
 },
 "nbformat": 4,
 "nbformat_minor": 1
}
