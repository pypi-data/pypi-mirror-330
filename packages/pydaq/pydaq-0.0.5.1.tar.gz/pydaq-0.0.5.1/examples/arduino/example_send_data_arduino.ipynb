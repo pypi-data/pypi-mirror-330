{
 "cells": [
  {
   "cell_type": "markdown",
   "metadata": {},
   "source": [
    "---\n",
    "# NOTE 1: file [arduino_code.ino](https://github.com/samirmartins/pydaq/blob/359823ffb244d6a3ee8124c57c3c2002281df8d8/pydaq/arduino_code/arduino_code.ino) should be loaded in Arduino before running this example\n",
    "# Note 2: only digital outputs allowed in Arduino\n",
    "---\n",
    "# Example #1\n",
    "---\n",
    "### How to use Send_data (and send_data_arduino) to send a signal using an Arduino board\n",
    "---"
   ]
  },
  {
   "cell_type": "markdown",
   "metadata": {},
   "source": [
    "### Importing library and defining parameters"
   ]
  },
  {
   "cell_type": "code",
   "execution_count": 3,
   "metadata": {},
   "outputs": [],
   "source": [
    "# Importing PYDAQ\n",
    "from pydaq.send_data import Send_data\n",
    "\n",
    "# Defining parameters\n",
    "sample_period_in_seconds = 1\n",
    "data = [0,0,5,5,0,0,5,5,0,0,5,5] # It can be either a list or a numpy array\n",
    "com_port_arduino = 'COM3'\n",
    "will_plot = True"
   ]
  },
  {
   "cell_type": "markdown",
   "metadata": {},
   "source": [
    "### Sending data from np.array to the board"
   ]
  },
  {
   "cell_type": "code",
   "execution_count": 4,
   "metadata": {},
   "outputs": [
    {
     "name": "stdout",
     "output_type": "stream",
     "text": [
      "Iteration: 0 of 11\n",
      "Iteration: 1 of 11\n",
      "Iteration: 2 of 11\n",
      "Iteration: 3 of 11\n",
      "Iteration: 4 of 11\n",
      "Iteration: 5 of 11\n",
      "Iteration: 6 of 11\n",
      "Iteration: 7 of 11\n",
      "Iteration: 8 of 11\n",
      "Iteration: 9 of 11\n",
      "Iteration: 10 of 11\n",
      "Iteration: 11 of 11\n"
     ]
    }
   ],
   "source": [
    "# Class Send_data\n",
    "s = Send_data(data = data, com = com_port_arduino, ts = sample_period_in_seconds)\n",
    "\n",
    "# Method send_data_arduino()\n",
    "s.send_data_arduino()"
   ]
  }
 ],
 "metadata": {
  "kernelspec": {
   "display_name": "Python 3 (ipykernel)",
   "language": "python",
   "name": "python3"
  },
  "language_info": {
   "codemirror_mode": {
    "name": "ipython",
    "version": 3
   },
   "file_extension": ".py",
   "mimetype": "text/x-python",
   "name": "python",
   "nbconvert_exporter": "python",
   "pygments_lexer": "ipython3",
   "version": "3.9.13"
  }
 },
 "nbformat": 4,
 "nbformat_minor": 1
}
