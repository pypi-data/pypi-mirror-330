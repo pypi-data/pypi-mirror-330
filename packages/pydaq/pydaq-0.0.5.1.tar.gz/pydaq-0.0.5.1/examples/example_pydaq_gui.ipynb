{
 "cells": [
  {
   "metadata": {},
   "cell_type": "markdown",
   "source": [
    "---\n",
    "# NOTE: file [arduino_code.ino](https://github.com/samirmartins/pydaq/blob/359823ffb244d6a3ee8124c57c3c2002281df8d8/pydaq/arduino_code/arduino_code.ino) should be loaded in Arduino before running this example\n",
    "---\n",
    "# Example\n",
    "---\n",
    "### How to use the graphical user interface to use all PYDAQ's functionalities\n",
    "---\n",
    "# The instruction for each functionality in the GUI, can be found [here](https://samirmartins.github.io/pydaq/)\n",
    "---"
   ],
   "id": "13064820b2dab12a"
  },
  {
   "metadata": {},
   "cell_type": "markdown",
   "source": "### Importing library and starting up the GUI (Graphical User Interface)",
   "id": "2ba9597f84b0bd9b"
  },
  {
   "cell_type": "code",
   "id": "initial_id",
   "metadata": {
    "collapsed": true
   },
   "source": [
    "from pydaq.pydaq_global import PydaqGui\n",
    "\n",
    "# Launch the interface\n",
    "gui = PydaqGui()  # You can use this object to access the data"
   ],
   "outputs": [],
   "execution_count": null
  },
  {
   "metadata": {},
   "cell_type": "markdown",
   "source": "",
   "id": "c84e1eae17ebb320"
  }
 ],
 "metadata": {
  "kernelspec": {
   "display_name": "Python 3",
   "language": "python",
   "name": "python3"
  },
  "language_info": {
   "codemirror_mode": {
    "name": "ipython",
    "version": 2
   },
   "file_extension": ".py",
   "mimetype": "text/x-python",
   "name": "python",
   "nbconvert_exporter": "python",
   "pygments_lexer": "ipython2",
   "version": "2.7.6"
  }
 },
 "nbformat": 4,
 "nbformat_minor": 5
}
