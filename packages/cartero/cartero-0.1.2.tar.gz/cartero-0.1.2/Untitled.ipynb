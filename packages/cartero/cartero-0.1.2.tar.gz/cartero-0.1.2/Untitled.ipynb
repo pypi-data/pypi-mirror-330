{
 "cells": [
  {
   "cell_type": "code",
   "execution_count": null,
   "id": "ca5cb612-9425-46c1-af61-6f461053ff37",
   "metadata": {},
   "outputs": [],
   "source": []
  }
 ],
 "metadata": {
  "kernelspec": {
   "display_name": "",
   "name": ""
  },
  "language_info": {
   "name": ""
  }
 },
 "nbformat": 4,
 "nbformat_minor": 5
}
