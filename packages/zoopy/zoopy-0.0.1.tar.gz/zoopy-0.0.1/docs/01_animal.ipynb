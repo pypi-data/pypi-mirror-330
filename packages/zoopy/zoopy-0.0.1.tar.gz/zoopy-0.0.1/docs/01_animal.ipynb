{
 "cells": [
  {
   "cell_type": "markdown",
   "metadata": {},
   "source": [
    "![logo](../img/logo.png)\n",
    "\n",
    "# Animal\n",
    "Get to know the library\n",
    "## Introduction"
   ]
  },
  {
   "cell_type": "code",
   "execution_count": 4,
   "metadata": {},
   "outputs": [],
   "source": [
    "from zoopy import animal"
   ]
  },
  {
   "cell_type": "markdown",
   "metadata": {},
   "source": [
    "## Animal class\n",
    "Represents an animal\n",
    "***\n",
    "### Methods\n",
    "```python\n",
    "display()\n",
    "```\n",
    "Displays information about the animal in the Jupyter cell"
   ]
  },
  {
   "cell_type": "code",
   "execution_count": 5,
   "metadata": {},
   "outputs": [
    {
     "data": {
      "text/html": [
       "<!DOCTYPE html>\n",
       "<html lang=\"en\">\n",
       "<head>\n",
       "    <meta charset=\"UTF-8\">\n",
       "    <meta name=\"viewport\" content=\"width=device-width, initial-scale=1.0\">\n",
       "    <title>Animal Information</title>\n",
       "    <style>\n",
       "        .container {\n",
       "            display: flex;\n",
       "            justify-content: space-between;\n",
       "        }\n",
       "        .left, .right {\n",
       "            width: 48%;\n",
       "        }\n",
       "    </style>\n",
       "</head>\n",
       "<body>\n",
       "    <h1>Птицы</h1>\n",
       "    <hr>\n",
       "    <h2>Scientific classification</h2>\n",
       "    <div class=\"container\">\n",
       "        <div class=\"left\">\n",
       "            <b>domain</b>: Эукариоты<br><b>kingdom</b>: Животные<br><b>subkingdom</b>: Эуметазои<br><b>phylum</b>: Хордовые<br><b>subphylum</b>: Позвоночные<br><b>infraphylum</b>: Челюстноротые<br><b>superclass</b>: Четвероногие<br><b>class</b>: Птицы\n",
       "        </div>\n",
       "        <div class=\"right\">\n",
       "            <h2>ID</h2>\n",
       "            <b>ITIS</b>: 174371<br><b>NCBI</b>: 8782<br><b>EOL</b>: 695.0<br><b>FW</b>: 36616\n",
       "        </div>\n",
       "    </div>\n",
       "</body>\n",
       "</html>"
      ],
      "text/plain": [
       "<IPython.core.display.HTML object>"
      ]
     },
     "metadata": {},
     "output_type": "display_data"
    }
   ],
   "source": [
    "bird = animal.Animal('птицы', 'ru')\n",
    "bird.display()"
   ]
  },
  {
   "cell_type": "markdown",
   "metadata": {},
   "source": [
    "***\n",
    "```python\n",
    "to_dict()\n",
    "```\n",
    "Converting features to the dict type"
   ]
  },
  {
   "cell_type": "code",
   "execution_count": 6,
   "metadata": {},
   "outputs": [
    {
     "data": {
      "text/plain": [
       "{'name': 'Птицы',\n",
       " 'domain': 'Эукариоты',\n",
       " 'kingdom': 'Животные',\n",
       " 'subkingdom': 'Эуметазои',\n",
       " 'phylum': 'Хордовые',\n",
       " 'subphylum': 'Позвоночные',\n",
       " 'infraphylum': 'Челюстноротые',\n",
       " 'superclass': 'Четвероногие',\n",
       " 'class': 'Птицы',\n",
       " 'order': nan,\n",
       " 'suborder': nan,\n",
       " 'superfamily': nan,\n",
       " 'family': nan,\n",
       " 'subfamily': nan,\n",
       " 'genus': nan,\n",
       " 'species': nan,\n",
       " 'ITIS': '174371',\n",
       " 'NCBI': '8782',\n",
       " 'EOL': 695.0,\n",
       " 'FW': '36616',\n",
       " 'name_en': 'Bird',\n",
       " 'similarity': 0.8}"
      ]
     },
     "execution_count": 6,
     "metadata": {},
     "output_type": "execute_result"
    }
   ],
   "source": [
    "bird.to_dict()"
   ]
  },
  {
   "cell_type": "markdown",
   "metadata": {},
   "source": [
    "***\n",
    "```python\n",
    "to_series()\n",
    "```\n",
    "Converting features to the pandas.Series type"
   ]
  },
  {
   "cell_type": "code",
   "execution_count": 19,
   "metadata": {},
   "outputs": [
    {
     "data": {
      "text/plain": [
       "language             ru\n",
       "name              Птицы\n",
       "domain        Эукариоты\n",
       "kingdom        Животные\n",
       "subkingdom    Эуметазои\n",
       "Name: 14477, dtype: object"
      ]
     },
     "execution_count": 19,
     "metadata": {},
     "output_type": "execute_result"
    }
   ],
   "source": [
    "bird.to_series().head()"
   ]
  },
  {
   "cell_type": "markdown",
   "metadata": {},
   "source": [
    "---\n",
    "### Attributes\n",
    "#### name (str)\n",
    "Name of the animal"
   ]
  },
  {
   "cell_type": "code",
   "execution_count": 7,
   "metadata": {},
   "outputs": [],
   "source": [
    "tiger = animal.Animal('тигр', 'ru')"
   ]
  },
  {
   "cell_type": "code",
   "execution_count": 8,
   "metadata": {},
   "outputs": [
    {
     "data": {
      "text/plain": [
       "'Тигр'"
      ]
     },
     "execution_count": 8,
     "metadata": {},
     "output_type": "execute_result"
    }
   ],
   "source": [
    "tiger.name"
   ]
  },
  {
   "cell_type": "markdown",
   "metadata": {},
   "source": [
    "---\n",
    "#### classification (dict)\n",
    "Scientific classification of the animal"
   ]
  },
  {
   "cell_type": "code",
   "execution_count": 9,
   "metadata": {},
   "outputs": [
    {
     "data": {
      "text/plain": [
       "{'domain': 'Эукариоты',\n",
       " 'kingdom': 'Животные',\n",
       " 'subkingdom': 'Эуметазои',\n",
       " 'phylum': 'Хордовые',\n",
       " 'subphylum': 'Позвоночные',\n",
       " 'infraphylum': 'Челюстноротые',\n",
       " 'superclass': 'Четвероногие',\n",
       " 'class': 'Млекопитающие',\n",
       " 'order': 'Хищные',\n",
       " 'suborder': 'Кошкообразные',\n",
       " 'superfamily': 'Feloidea',\n",
       " 'family': 'Кошачьи',\n",
       " 'subfamily': 'Большие кошки',\n",
       " 'genus': 'Пантеры',\n",
       " 'species': 'Тигр'}"
      ]
     },
     "execution_count": 9,
     "metadata": {},
     "output_type": "execute_result"
    }
   ],
   "source": [
    "tiger.classification"
   ]
  },
  {
   "cell_type": "markdown",
   "metadata": {},
   "source": [
    "---\n",
    "#### ids (dict)\n",
    "IDs of the animal"
   ]
  },
  {
   "cell_type": "code",
   "execution_count": 10,
   "metadata": {},
   "outputs": [
    {
     "data": {
      "text/plain": [
       "{'ITIS': '183805', 'NCBI': '9694', 'EOL': 328674.0, 'FW': '90651'}"
      ]
     },
     "execution_count": 10,
     "metadata": {},
     "output_type": "execute_result"
    }
   ],
   "source": [
    "tiger.ids"
   ]
  },
  {
   "cell_type": "markdown",
   "metadata": {},
   "source": [
    "## Functions\n",
    "\n",
    "```python\n",
    "def get_all_by(attribute: str,\n",
    "               value: str,\n",
    "               lang: str,\n",
    "               return_dataframe: bool = False) -> list[Animal] | pd.DataFrame:\n",
    "```\n",
    "Returns all animals with same attribute\n",
    "\n",
    "### Parameters\n",
    "```\n",
    "attribute (str): attribute for filter (e.g. \"kingdom\", \"class\", \"order\")\n",
    "value (str): value of attribute\n",
    "lang (str): language of returned data\n",
    "return_dataframe (bool) returns pandas.Dataframe if True else list[Animal]\n",
    "```\n",
    "\n",
    "### Examples"
   ]
  },
  {
   "cell_type": "code",
   "execution_count": 12,
   "metadata": {},
   "outputs": [
    {
     "name": "stderr",
     "output_type": "stream",
     "text": [
      "100%|██████████| 15877/15877 [00:56<00:00, 279.77it/s]\n"
     ]
    }
   ],
   "source": [
    "chordates = animal.get_all_by('phylum', 'Хордовые', 'ru')"
   ]
  },
  {
   "cell_type": "code",
   "execution_count": 13,
   "metadata": {},
   "outputs": [
    {
     "data": {
      "text/html": [
       "<!DOCTYPE html>\n",
       "<html lang=\"en\">\n",
       "<head>\n",
       "    <meta charset=\"UTF-8\">\n",
       "    <meta name=\"viewport\" content=\"width=device-width, initial-scale=1.0\">\n",
       "    <title>Animal Information</title>\n",
       "    <style>\n",
       "        .container {\n",
       "            display: flex;\n",
       "            justify-content: space-between;\n",
       "        }\n",
       "        .left, .right {\n",
       "            width: 48%;\n",
       "        }\n",
       "    </style>\n",
       "</head>\n",
       "<body>\n",
       "    <h1>Аардоникс</h1>\n",
       "    <hr>\n",
       "    <h2>Scientific classification</h2>\n",
       "    <div class=\"container\">\n",
       "        <div class=\"left\">\n",
       "            <b>domain</b>: Эукариоты<br><b>kingdom</b>: Животные<br><b>subkingdom</b>: Эуметазои<br><b>phylum</b>: Хордовые<br><b>subphylum</b>: Позвоночные<br><b>infraphylum</b>: Челюстноротые<br><b>superclass</b>: Четвероногие<br><b>suborder</b>: † Завроподоморфы<br><b>genus</b>: † Аардоникс\n",
       "        </div>\n",
       "        <div class=\"right\">\n",
       "            <h2>ID</h2>\n",
       "            <b>EOL</b>: 47459155.0<br><b>FW</b>: 157362\n",
       "        </div>\n",
       "    </div>\n",
       "</body>\n",
       "</html>"
      ],
      "text/plain": [
       "<IPython.core.display.HTML object>"
      ]
     },
     "metadata": {},
     "output_type": "display_data"
    }
   ],
   "source": [
    "chordates[0].display()"
   ]
  },
  {
   "cell_type": "code",
   "execution_count": 14,
   "metadata": {},
   "outputs": [
    {
     "data": {
      "text/html": [
       "<!DOCTYPE html>\n",
       "<html lang=\"en\">\n",
       "<head>\n",
       "    <meta charset=\"UTF-8\">\n",
       "    <meta name=\"viewport\" content=\"width=device-width, initial-scale=1.0\">\n",
       "    <title>Animal Information</title>\n",
       "    <style>\n",
       "        .container {\n",
       "            display: flex;\n",
       "            justify-content: space-between;\n",
       "        }\n",
       "        .left, .right {\n",
       "            width: 48%;\n",
       "        }\n",
       "    </style>\n",
       "</head>\n",
       "<body>\n",
       "    <h1>Австралийский толстохвостый геккон</h1>\n",
       "    <hr>\n",
       "    <h2>Scientific classification</h2>\n",
       "    <div class=\"container\">\n",
       "        <div class=\"left\">\n",
       "            <b>domain</b>: Эукариоты<br><b>kingdom</b>: Животные<br><b>subkingdom</b>: Эуметазои<br><b>phylum</b>: Хордовые<br><b>subphylum</b>: Позвоночные<br><b>infraphylum</b>: Челюстноротые<br><b>superclass</b>: Четвероногие<br><b>class</b>: Пресмыкающиеся<br><b>order</b>: Чешуйчатые<br><b>suborder</b>: Гекконообразные<br><b>superfamily</b>: Pygopodoidea<br><b>family</b>: Carphodactylidae<br><b>genus</b>: Австралийские толстохвостые гекконы<br><b>species</b>: Австралийский толстохвостый геккон\n",
       "        </div>\n",
       "        <div class=\"right\">\n",
       "            <h2>ID</h2>\n",
       "            <b>ITIS</b>: 819427<br><b>NCBI</b>: 567527<br><b>EOL</b>: 791375.0\n",
       "        </div>\n",
       "    </div>\n",
       "</body>\n",
       "</html>"
      ],
      "text/plain": [
       "<IPython.core.display.HTML object>"
      ]
     },
     "metadata": {},
     "output_type": "display_data"
    }
   ],
   "source": [
    "chordates[100].display()"
   ]
  },
  {
   "cell_type": "code",
   "execution_count": 15,
   "metadata": {},
   "outputs": [],
   "source": [
    "# Return pandas.DataFrame\n",
    "chordates = animal.get_all_by('phylum', 'Хордовые', 'ru', return_dataframe=True)"
   ]
  },
  {
   "cell_type": "code",
   "execution_count": 16,
   "metadata": {},
   "outputs": [
    {
     "data": {
      "text/html": [
       "<div>\n",
       "<style scoped>\n",
       "    .dataframe tbody tr th:only-of-type {\n",
       "        vertical-align: middle;\n",
       "    }\n",
       "\n",
       "    .dataframe tbody tr th {\n",
       "        vertical-align: top;\n",
       "    }\n",
       "\n",
       "    .dataframe thead th {\n",
       "        text-align: right;\n",
       "    }\n",
       "</style>\n",
       "<table border=\"1\" class=\"dataframe\">\n",
       "  <thead>\n",
       "    <tr style=\"text-align: right;\">\n",
       "      <th></th>\n",
       "      <th>name</th>\n",
       "      <th>domain</th>\n",
       "      <th>kingdom</th>\n",
       "      <th>subkingdom</th>\n",
       "      <th>phylum</th>\n",
       "      <th>subphylum</th>\n",
       "      <th>infraphylum</th>\n",
       "      <th>superclass</th>\n",
       "      <th>class</th>\n",
       "      <th>order</th>\n",
       "      <th>...</th>\n",
       "      <th>family</th>\n",
       "      <th>subfamily</th>\n",
       "      <th>genus</th>\n",
       "      <th>species</th>\n",
       "      <th>ITIS</th>\n",
       "      <th>NCBI</th>\n",
       "      <th>EOL</th>\n",
       "      <th>FW</th>\n",
       "      <th>name_en</th>\n",
       "      <th>similarity</th>\n",
       "    </tr>\n",
       "  </thead>\n",
       "  <tbody>\n",
       "    <tr>\n",
       "      <th>0</th>\n",
       "      <td>Аардоникс</td>\n",
       "      <td>Эукариоты</td>\n",
       "      <td>Животные</td>\n",
       "      <td>Эуметазои</td>\n",
       "      <td>Хордовые</td>\n",
       "      <td>Позвоночные</td>\n",
       "      <td>Челюстноротые</td>\n",
       "      <td>Четвероногие</td>\n",
       "      <td>NaN</td>\n",
       "      <td>NaN</td>\n",
       "      <td>...</td>\n",
       "      <td>NaN</td>\n",
       "      <td>NaN</td>\n",
       "      <td>† Аардоникс</td>\n",
       "      <td>NaN</td>\n",
       "      <td>NaN</td>\n",
       "      <td>NaN</td>\n",
       "      <td>47459155.0</td>\n",
       "      <td>157362</td>\n",
       "      <td>Aardonyx</td>\n",
       "      <td>0.153846</td>\n",
       "    </tr>\n",
       "    <tr>\n",
       "      <th>1</th>\n",
       "      <td>Абботины</td>\n",
       "      <td>Эукариоты</td>\n",
       "      <td>Животные</td>\n",
       "      <td>Эуметазои</td>\n",
       "      <td>Хордовые</td>\n",
       "      <td>Позвоночные</td>\n",
       "      <td>Челюстноротые</td>\n",
       "      <td>NaN</td>\n",
       "      <td>Лучепёрые рыбы</td>\n",
       "      <td>Карпообразные</td>\n",
       "      <td>...</td>\n",
       "      <td>Карповые</td>\n",
       "      <td>Пескарёвые</td>\n",
       "      <td>Абботины</td>\n",
       "      <td>NaN</td>\n",
       "      <td>203367</td>\n",
       "      <td>75331</td>\n",
       "      <td>26183.0</td>\n",
       "      <td>NaN</td>\n",
       "      <td>Abbottina</td>\n",
       "      <td>0.333333</td>\n",
       "    </tr>\n",
       "    <tr>\n",
       "      <th>2</th>\n",
       "      <td>Абелизавр</td>\n",
       "      <td>Эукариоты</td>\n",
       "      <td>Животные</td>\n",
       "      <td>Эуметазои</td>\n",
       "      <td>Хордовые</td>\n",
       "      <td>Позвоночные</td>\n",
       "      <td>Челюстноротые</td>\n",
       "      <td>Четвероногие</td>\n",
       "      <td>NaN</td>\n",
       "      <td>NaN</td>\n",
       "      <td>...</td>\n",
       "      <td>† Абелизавриды</td>\n",
       "      <td>NaN</td>\n",
       "      <td>† Абелизавр</td>\n",
       "      <td>NaN</td>\n",
       "      <td>NaN</td>\n",
       "      <td>NaN</td>\n",
       "      <td>4532776.0</td>\n",
       "      <td>53946</td>\n",
       "      <td>Abelisaurus</td>\n",
       "      <td>0.307692</td>\n",
       "    </tr>\n",
       "    <tr>\n",
       "      <th>3</th>\n",
       "      <td>Абелизавриды</td>\n",
       "      <td>Эукариоты</td>\n",
       "      <td>Животные</td>\n",
       "      <td>Эуметазои</td>\n",
       "      <td>Хордовые</td>\n",
       "      <td>Позвоночные</td>\n",
       "      <td>Челюстноротые</td>\n",
       "      <td>Четвероногие</td>\n",
       "      <td>NaN</td>\n",
       "      <td>NaN</td>\n",
       "      <td>...</td>\n",
       "      <td>† Абелизавриды</td>\n",
       "      <td>NaN</td>\n",
       "      <td>NaN</td>\n",
       "      <td>NaN</td>\n",
       "      <td>NaN</td>\n",
       "      <td>NaN</td>\n",
       "      <td>4532774.0</td>\n",
       "      <td>53942</td>\n",
       "      <td>Abelisauridae</td>\n",
       "      <td>0.250000</td>\n",
       "    </tr>\n",
       "    <tr>\n",
       "      <th>4</th>\n",
       "      <td>Абидозавр</td>\n",
       "      <td>Эукариоты</td>\n",
       "      <td>Животные</td>\n",
       "      <td>Эуметазои</td>\n",
       "      <td>Хордовые</td>\n",
       "      <td>Позвоночные</td>\n",
       "      <td>Челюстноротые</td>\n",
       "      <td>Четвероногие</td>\n",
       "      <td>NaN</td>\n",
       "      <td>NaN</td>\n",
       "      <td>...</td>\n",
       "      <td>† Брахиозавриды</td>\n",
       "      <td>NaN</td>\n",
       "      <td>† Абидозавр</td>\n",
       "      <td>NaN</td>\n",
       "      <td>NaN</td>\n",
       "      <td>NaN</td>\n",
       "      <td>13871595.0</td>\n",
       "      <td>163941</td>\n",
       "      <td>Abydosaurus</td>\n",
       "      <td>0.307692</td>\n",
       "    </tr>\n",
       "  </tbody>\n",
       "</table>\n",
       "<p>5 rows × 22 columns</p>\n",
       "</div>"
      ],
      "text/plain": [
       "           name     domain   kingdom subkingdom    phylum    subphylum  \\\n",
       "0     Аардоникс  Эукариоты  Животные  Эуметазои  Хордовые  Позвоночные   \n",
       "1      Абботины  Эукариоты  Животные  Эуметазои  Хордовые  Позвоночные   \n",
       "2     Абелизавр  Эукариоты  Животные  Эуметазои  Хордовые  Позвоночные   \n",
       "3  Абелизавриды  Эукариоты  Животные  Эуметазои  Хордовые  Позвоночные   \n",
       "4     Абидозавр  Эукариоты  Животные  Эуметазои  Хордовые  Позвоночные   \n",
       "\n",
       "     infraphylum    superclass           class          order  ...  \\\n",
       "0  Челюстноротые  Четвероногие             NaN            NaN  ...   \n",
       "1  Челюстноротые           NaN  Лучепёрые рыбы  Карпообразные  ...   \n",
       "2  Челюстноротые  Четвероногие             NaN            NaN  ...   \n",
       "3  Челюстноротые  Четвероногие             NaN            NaN  ...   \n",
       "4  Челюстноротые  Четвероногие             NaN            NaN  ...   \n",
       "\n",
       "            family   subfamily        genus species    ITIS   NCBI  \\\n",
       "0              NaN         NaN  † Аардоникс     NaN     NaN    NaN   \n",
       "1         Карповые  Пескарёвые     Абботины     NaN  203367  75331   \n",
       "2   † Абелизавриды         NaN  † Абелизавр     NaN     NaN    NaN   \n",
       "3   † Абелизавриды         NaN          NaN     NaN     NaN    NaN   \n",
       "4  † Брахиозавриды         NaN  † Абидозавр     NaN     NaN    NaN   \n",
       "\n",
       "          EOL      FW        name_en similarity  \n",
       "0  47459155.0  157362       Aardonyx   0.153846  \n",
       "1     26183.0     NaN      Abbottina   0.333333  \n",
       "2   4532776.0   53946    Abelisaurus   0.307692  \n",
       "3   4532774.0   53942  Abelisauridae   0.250000  \n",
       "4  13871595.0  163941    Abydosaurus   0.307692  \n",
       "\n",
       "[5 rows x 22 columns]"
      ]
     },
     "execution_count": 16,
     "metadata": {},
     "output_type": "execute_result"
    }
   ],
   "source": [
    "chordates.head()"
   ]
  }
 ],
 "metadata": {
  "kernelspec": {
   "display_name": "Python 3",
   "language": "python",
   "name": "python3"
  },
  "language_info": {
   "codemirror_mode": {
    "name": "ipython",
    "version": 3
   },
   "file_extension": ".py",
   "mimetype": "text/x-python",
   "name": "python",
   "nbconvert_exporter": "python",
   "pygments_lexer": "ipython3",
   "version": "3.12.6"
  }
 },
 "nbformat": 4,
 "nbformat_minor": 2
}
