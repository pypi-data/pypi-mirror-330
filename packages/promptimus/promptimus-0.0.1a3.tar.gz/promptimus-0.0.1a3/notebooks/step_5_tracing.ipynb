{
 "cells": [
  {
   "cell_type": "code",
   "execution_count": 1,
   "id": "37a8e010-db27-45d8-a758-272b4c44a56a",
   "metadata": {},
   "outputs": [],
   "source": [
    "%load_ext rich"
   ]
  },
  {
   "cell_type": "code",
   "execution_count": 2,
   "id": "8461c74f-5be6-468b-9e9e-83b2100efb6e",
   "metadata": {},
   "outputs": [],
   "source": [
    "import math\n",
    "\n",
    "import phoenix as px\n",
    "\n",
    "import promptimus as pm"
   ]
  },
  {
   "cell_type": "code",
   "execution_count": 3,
   "id": "c8055d02-f6b9-4078-938d-ec55ade7a665",
   "metadata": {},
   "outputs": [],
   "source": [
    "provider = pm.llms.OllamaProvider(model_name=\"phi4\", base_url=\"http://lilan:11434/v1\")"
   ]
  },
  {
   "cell_type": "code",
   "execution_count": 4,
   "id": "b87e9c6a-7ac1-4839-a1ec-0ebf443d462b",
   "metadata": {},
   "outputs": [],
   "source": [
    "def power(a: float, b: float) -> float:\n",
    "    \"\"\"Calcuates the `a` in the pover of `b`\"\"\"\n",
    "    return a**b\n",
    "\n",
    "\n",
    "def factorial(a: int) -> int:\n",
    "    \"\"\"Calcuates the factorial (!) of `a`\"\"\"\n",
    "    return math.factorial(a)\n",
    "\n",
    "\n",
    "def multiply(a: float, b: float) -> float:\n",
    "    \"\"\"Multiplies `a` and `b`\"\"\"\n",
    "    return a * b"
   ]
  },
  {
   "cell_type": "code",
   "execution_count": null,
   "id": "b406c9b2-e818-4518-a0a5-56f5ab0c78e8",
   "metadata": {},
   "outputs": [],
   "source": [
    "px.launch_app()"
   ]
  },
  {
   "cell_type": "code",
   "execution_count": 6,
   "id": "c3ac7c2c-662a-4b47-b5a2-77e6066949be",
   "metadata": {},
   "outputs": [
    {
     "name": "stderr",
     "output_type": "stream",
     "text": [
      "\u001b[32m2025-02-28 14:30:26.480\u001b[0m | \u001b[34m\u001b[1mDEBUG   \u001b[0m | \u001b[36mpromptimus.tracing.phoenix\u001b[0m:\u001b[36m_trace_module\u001b[0m:\u001b[36m124\u001b[0m - \u001b[34m\u001b[1mWrapping `agent.tools`\u001b[0m\n",
      "\u001b[32m2025-02-28 14:30:26.480\u001b[0m | \u001b[34m\u001b[1mDEBUG   \u001b[0m | \u001b[36mpromptimus.tracing.phoenix\u001b[0m:\u001b[36m_trace_module\u001b[0m:\u001b[36m119\u001b[0m - \u001b[34m\u001b[1mWrapping `agent.tools.power`\u001b[0m\n",
      "\u001b[32m2025-02-28 14:30:26.481\u001b[0m | \u001b[34m\u001b[1mDEBUG   \u001b[0m | \u001b[36mpromptimus.tracing.phoenix\u001b[0m:\u001b[36m_trace_module\u001b[0m:\u001b[36m119\u001b[0m - \u001b[34m\u001b[1mWrapping `agent.tools.multiply`\u001b[0m\n",
      "\u001b[32m2025-02-28 14:30:26.481\u001b[0m | \u001b[34m\u001b[1mDEBUG   \u001b[0m | \u001b[36mpromptimus.tracing.phoenix\u001b[0m:\u001b[36m_trace_module\u001b[0m:\u001b[36m119\u001b[0m - \u001b[34m\u001b[1mWrapping `agent.tools.factorial`\u001b[0m\n",
      "\u001b[32m2025-02-28 14:30:26.481\u001b[0m | \u001b[34m\u001b[1mDEBUG   \u001b[0m | \u001b[36mpromptimus.tracing.phoenix\u001b[0m:\u001b[36m_trace_module\u001b[0m:\u001b[36m124\u001b[0m - \u001b[34m\u001b[1mWrapping `agent.predictor`\u001b[0m\n",
      "\u001b[32m2025-02-28 14:30:26.482\u001b[0m | \u001b[34m\u001b[1mDEBUG   \u001b[0m | \u001b[36mpromptimus.tracing.phoenix\u001b[0m:\u001b[36m_trace_module\u001b[0m:\u001b[36m114\u001b[0m - \u001b[34m\u001b[1mWrapping `agent.predictor.prompt`\u001b[0m\n"
     ]
    },
    {
     "name": "stdout",
     "output_type": "stream",
     "text": [
      "🔭 OpenTelemetry Tracing Details 🔭\n",
      "|  Phoenix Project: tool_calling_test\n",
      "|  Span Processor: SimpleSpanProcessor\n",
      "|  Collector Endpoint: localhost:4317\n",
      "|  Transport: gRPC\n",
      "|  Transport Headers: {'user-agent': '****'}\n",
      "|  \n",
      "|  Using a default SpanProcessor. `add_span_processor` will overwrite this default.\n",
      "\n"
     ]
    }
   ],
   "source": [
    "tool_calling = pm.modules.ToolCallingAgent([power, multiply, factorial]).with_provider(\n",
    "    provider\n",
    ")\n",
    "pm.tracing.trace_phoenix(\n",
    "    tool_calling,\n",
    "    \"agent\",\n",
    "    project_name=\"tool_calling_test\",\n",
    "    endpoint=\"http://localhost:4317\",\n",
    ")"
   ]
  },
  {
   "cell_type": "code",
   "execution_count": 7,
   "id": "ed82fe26-6cc3-440a-aacc-5a5d2382be2b",
   "metadata": {},
   "outputs": [
    {
     "data": {
      "text/html": [
       "<pre style=\"white-space:pre;overflow-x:auto;line-height:normal;font-family:Menlo,'DejaVu Sans Mono',consolas,'Courier New',monospace\"></pre>\n"
      ],
      "text/plain": []
     },
     "metadata": {},
     "output_type": "display_data"
    },
    {
     "data": {
      "text/plain": [
       "\u001b[1;35mMessage\u001b[0m\u001b[1m(\u001b[0m\u001b[33mrole\u001b[0m=\u001b[1m<\u001b[0m\u001b[1;95mMessageRole.ASSISTANT:\u001b[0m\u001b[39m \u001b[0m\u001b[32m'assistant'\u001b[0m\u001b[1m>\u001b[0m, \u001b[33mcontent\u001b[0m=\u001b[32m'Twice the factorial of 3 is 12.'\u001b[0m\u001b[1m)\u001b[0m"
      ]
     },
     "execution_count": 7,
     "metadata": {},
     "output_type": "execute_result"
    }
   ],
   "source": [
    "await tool_calling.forward(\"What is twice the factorial of 3?\")"
   ]
  },
  {
   "cell_type": "code",
   "execution_count": 17,
   "id": "98e7807c-eca0-45cb-8f7c-48fe7bea8956",
   "metadata": {},
   "outputs": [],
   "source": [
    "class CustomRole(pm.Module):\n",
    "    def __init__(self):\n",
    "        super().__init__()\n",
    "        self.prompt = pm.Prompt(\"Respond to user using provided documents\")\n",
    "        self.documents = [\"doc1: About Elephants\", \"doc2: About Pythons\"]\n",
    "    async def forward(self, query: str) -> str:\n",
    "        response = await self.prompt.forward([pm.Message(role=pm.MessageRole.USER, content=query), pm.Message(role=\"Documents\", content=str(self.documents))])\n",
    "        return response.content"
   ]
  },
  {
   "cell_type": "code",
   "execution_count": 18,
   "id": "52650173-68e6-4d4e-9e16-3488647bbd50",
   "metadata": {},
   "outputs": [
    {
     "name": "stderr",
     "output_type": "stream",
     "text": [
      "\u001b[32m2025-02-28 14:34:42.612\u001b[0m | \u001b[34m\u001b[1mDEBUG   \u001b[0m | \u001b[36mpromptimus.tracing.phoenix\u001b[0m:\u001b[36m_trace_module\u001b[0m:\u001b[36m114\u001b[0m - \u001b[34m\u001b[1mWrapping `test_rag.prompt`\u001b[0m\n"
     ]
    },
    {
     "name": "stdout",
     "output_type": "stream",
     "text": [
      "🔭 OpenTelemetry Tracing Details 🔭\n",
      "|  Phoenix Project: custom_role\n",
      "|  Span Processor: SimpleSpanProcessor\n",
      "|  Collector Endpoint: localhost:4317\n",
      "|  Transport: gRPC\n",
      "|  Transport Headers: {'user-agent': '****'}\n",
      "|  \n",
      "|  Using a default SpanProcessor. `add_span_processor` will overwrite this default.\n",
      "\n"
     ]
    }
   ],
   "source": [
    "rag_like = CustomRole().with_provider(\n",
    "    provider\n",
    ")\n",
    "pm.tracing.trace_phoenix(\n",
    "    rag_like,\n",
    "    \"test_rag\",\n",
    "    project_name=\"custom_role\",\n",
    "    endpoint=\"http://localhost:4317\",\n",
    ")"
   ]
  },
  {
   "cell_type": "code",
   "execution_count": 19,
   "id": "752553de-c9cf-4b4a-9edb-f8f6a4d61b56",
   "metadata": {},
   "outputs": [
    {
     "data": {
      "text/html": [
       "<pre style=\"white-space:pre;overflow-x:auto;line-height:normal;font-family:Menlo,'DejaVu Sans Mono',consolas,'Courier New',monospace\"></pre>\n"
      ],
      "text/plain": []
     },
     "metadata": {},
     "output_type": "display_data"
    },
    {
     "data": {
      "text/plain": [
       "\u001b[32m'Based on the documents provided:\\n\\n1. **Document 1** is about elephants. It likely contains information related to their physical characteristics, habitats, behaviors, and conservation status.\\n\\n2. **Document 2** focuses on pythons. This document probably covers details concerning types of pythons, their physiology, natural environments, behaviors, diet, and perhaps issues surrounding conservation or their impact on ecosystems.\\n\\nIf you have any specific questions about elephants or pythons based on these documents, feel free to ask!'\u001b[0m"
      ]
     },
     "execution_count": 19,
     "metadata": {},
     "output_type": "execute_result"
    }
   ],
   "source": [
    "await rag_like.forward(\"Whats's your docs?\")"
   ]
  },
  {
   "cell_type": "code",
   "execution_count": null,
   "id": "f4d01cd9-64b1-43b2-b9ae-b991face73cb",
   "metadata": {},
   "outputs": [],
   "source": []
  }
 ],
 "metadata": {
  "kernelspec": {
   "display_name": "promptimus",
   "language": "python",
   "name": "promptimus"
  },
  "language_info": {
   "codemirror_mode": {
    "name": "ipython",
    "version": 3
   },
   "file_extension": ".py",
   "mimetype": "text/x-python",
   "name": "python",
   "nbconvert_exporter": "python",
   "pygments_lexer": "ipython3",
   "version": "3.12.8"
  }
 },
 "nbformat": 4,
 "nbformat_minor": 5
}
