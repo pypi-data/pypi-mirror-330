{
 "cells": [
  {
   "cell_type": "code",
   "execution_count": 1,
   "metadata": {},
   "outputs": [
    {
     "name": "stdout",
     "output_type": "stream",
     "text": [
      "YES\n"
     ]
    }
   ],
   "source": [
    "import sys\n",
    "import os\n",
    "\n",
    "# Get the absolute path to the parent directory (where bibcleaner is located)\n",
    "sys.path.append(os.path.abspath(os.path.join(os.getcwd(), \"..\")))\n",
    "\n",
    "# Now import BibCleaner\n",
    "from cleanbib import BibCleaner\n"
   ]
  },
  {
   "cell_type": "code",
   "execution_count": 2,
   "metadata": {},
   "outputs": [
    {
     "name": "stderr",
     "output_type": "stream",
     "text": [
      "100%|██████████| 4/4 [00:00<00:00, 3967.18it/s]\n"
     ]
    }
   ],
   "source": [
    "cleaner = BibCleaner(\"sample.bib\")\n",
    "cleaner.process()"
   ]
  },
  {
   "cell_type": "code",
   "execution_count": 3,
   "metadata": {},
   "outputs": [],
   "source": [
    "cleaner.save_as_bib(\"output.bib\")"
   ]
  },
  {
   "cell_type": "code",
   "execution_count": 4,
   "metadata": {},
   "outputs": [
    {
     "data": {
      "text/plain": [
       "{('David', 'Hogan'),\n",
       " ('Ethan', 'Smith'),\n",
       " ('Ethan J.', 'Smith'),\n",
       " ('Josh', 'Zhang'),\n",
       " ('Mattador', 'von de Homan'),\n",
       " ('Timothy', 'Lull')}"
      ]
     },
     "execution_count": 4,
     "metadata": {},
     "output_type": "execute_result"
    }
   ],
   "source": [
    "cleaner.authors"
   ]
  },
  {
   "cell_type": "code",
   "execution_count": 6,
   "metadata": {},
   "outputs": [
    {
     "data": {
      "text/plain": [
       "'123--135'"
      ]
     },
     "execution_count": 6,
     "metadata": {},
     "output_type": "execute_result"
    }
   ],
   "source": [
    "import re\n",
    "re.sub(r\"\\s*[-–—]\\s*\", \"--\", \"123-135\")"
   ]
  },
  {
   "cell_type": "code",
   "execution_count": 7,
   "metadata": {},
   "outputs": [
    {
     "data": {
      "text/plain": [
       "'123-135'"
      ]
     },
     "execution_count": 7,
     "metadata": {},
     "output_type": "execute_result"
    }
   ],
   "source": [
    "cleaner._format_pages(\"123-135\")"
   ]
  },
  {
   "cell_type": "code",
   "execution_count": 4,
   "metadata": {},
   "outputs": [
    {
     "data": {
      "text/plain": [
       "[{'type': 'article',\n",
       "  'citation_key': 'Hogan_study_2020',\n",
       "  'fields': {'author': 'Hogan, David and Smith, Ethan J.',\n",
       "   'title': 'A Study on Scientific Methods',\n",
       "   'journal': 'Journal of Research',\n",
       "   'volume': '15',\n",
       "   'number': '3',\n",
       "   'pages': '123--135',\n",
       "   'year': '2020'}},\n",
       " {'type': 'article',\n",
       "  'citation_key': 'Lull_study_2020',\n",
       "  'fields': {'author': 'Lull, Timothy',\n",
       "   'title': 'A Study on Scientific Methods',\n",
       "   'journal': 'Journal of Research',\n",
       "   'volume': '15',\n",
       "   'number': '3',\n",
       "   'pages': '123--135',\n",
       "   'year': '2020'}},\n",
       " {'type': 'article',\n",
       "  'citation_key': 'Zhang_study_2020',\n",
       "  'fields': {'author': 'Zhang, Josh and von de Homan, Mattador',\n",
       "   'title': 'A Study on Scientific Methods',\n",
       "   'journal': 'Journal of Research',\n",
       "   'volume': '15',\n",
       "   'number': '3',\n",
       "   'pages': '123--135',\n",
       "   'year': '2020',\n",
       "   'abstract': 'I Have a Dream That One Day I Will Do It'}},\n",
       " {'type': 'book',\n",
       "  'citation_key': 'Smith_advanced_2018',\n",
       "  'fields': {'author': 'Smith, Ethan',\n",
       "   'title': 'Advanced Research Techniques',\n",
       "   'publisher': 'Science Press',\n",
       "   'year': '2018',\n",
       "   'isbn': '978-3-16-148410-0'}}]"
      ]
     },
     "execution_count": 4,
     "metadata": {},
     "output_type": "execute_result"
    }
   ],
   "source": [
    "cleaner.entries"
   ]
  },
  {
   "cell_type": "code",
   "execution_count": 7,
   "metadata": {},
   "outputs": [
    {
     "name": "stdout",
     "output_type": "stream",
     "text": [
      "✅ No issues found. Your bibliography is clean!\n"
     ]
    }
   ],
   "source": [
    "print(cleaner.warning_hander.get_warnings_text())"
   ]
  },
  {
   "cell_type": "code",
   "execution_count": null,
   "metadata": {},
   "outputs": [],
   "source": []
  },
  {
   "cell_type": "code",
   "execution_count": null,
   "metadata": {},
   "outputs": [],
   "source": []
  }
 ],
 "metadata": {
  "kernelspec": {
   "display_name": "python312",
   "language": "python",
   "name": "python3"
  },
  "language_info": {
   "codemirror_mode": {
    "name": "ipython",
    "version": 3
   },
   "file_extension": ".py",
   "mimetype": "text/x-python",
   "name": "python",
   "nbconvert_exporter": "python",
   "pygments_lexer": "ipython3",
   "version": "3.12.7"
  }
 },
 "nbformat": 4,
 "nbformat_minor": 2
}
