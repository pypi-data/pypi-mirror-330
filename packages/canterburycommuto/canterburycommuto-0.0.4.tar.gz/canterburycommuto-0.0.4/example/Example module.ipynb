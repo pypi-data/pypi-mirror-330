{
 "cells": [
  {
   "cell_type": "code",
   "execution_count": 27,
   "metadata": {},
   "outputs": [],
   "source": [
    "import sys\n",
    "sys.path.insert(0, \"..\")\n",
    "import canterburycommuto.CanterburyCommuto as cc"
   ]
  },
  {
   "cell_type": "code",
   "execution_count": 28,
   "metadata": {},
   "outputs": [],
   "source": [
    "As = \"5.373588,-3.998759\"\n",
    "Ae = \"5.327810,-4.005012\"\n",
    "Bs = \"5.373588,-3.998759\"\n",
    "Be = \"5.327810,-4.005012\""
   ]
  },
  {
   "cell_type": "markdown",
   "metadata": {},
   "source": [
    "Get the coordinates of route A and B. "
   ]
  },
  {
   "cell_type": "code",
   "execution_count": null,
   "metadata": {},
   "outputs": [],
   "source": [
    "coordinates_a, total_distance_a, total_time_a = cc.get_route_data(As, Ae, \"key\") #Please replace 'key' with your Google API key.\n",
    "coordinates_b, total_distance_b, total_time_b = cc.get_route_data(Bs, Be, \"key\")"
   ]
  },
  {
   "cell_type": "markdown",
   "metadata": {},
   "source": [
    "Find the first and last common node of the two routes. "
   ]
  },
  {
   "cell_type": "code",
   "execution_count": 21,
   "metadata": {},
   "outputs": [],
   "source": [
    "first_common_node, last_common_node = cc.find_common_nodes(\n",
    "            coordinates_a, coordinates_b\n",
    "        )"
   ]
  },
  {
   "cell_type": "markdown",
   "metadata": {},
   "source": [
    "VS Code does not directively display Folium maps when running Python scripts, but Jupyter Notebook does.\n",
    "Folium generates an interactive HTML file, which must be opened manually. The following step plots the two routes with the first and last common node drawn."
   ]
  },
  {
   "cell_type": "code",
   "execution_count": 22,
   "metadata": {},
   "outputs": [
    {
     "name": "stdout",
     "output_type": "stream",
     "text": [
      "Map saved to: c:\\Users\\HUAWEI\\CanterburyCommuto\\example\\results\\routes_map-2025-02-16_22-45-56_67721.html\n"
     ]
    },
    {
     "data": {
      "text/html": [
       "\n",
       "        <iframe\n",
       "            width=\"100%\"\n",
       "            height=\"500px\"\n",
       "            src=\"results\\routes_map-2025-02-16_22-45-56_67721.html\"\n",
       "            frameborder=\"0\"\n",
       "            allowfullscreen\n",
       "            \n",
       "        ></iframe>\n",
       "        "
      ],
      "text/plain": [
       "<IPython.lib.display.IFrame at 0x25d94e5d3a0>"
      ]
     },
     "metadata": {},
     "output_type": "display_data"
    }
   ],
   "source": [
    "try:\n",
    "    map_filename = cc.save_map(cc.plot_routes(coordinates_a, coordinates_b, first_common_node, last_common_node), \"routes_map\")\n",
    "except AttributeError:\n",
    "    map_filename = \"Map saved successfully, ignoring error.\""
   ]
  },
  {
   "cell_type": "markdown",
   "metadata": {},
   "source": [
    "Since the two routes completely overlap, there are no distinct segments before or after the overlap in the implementation of the rectangle approximation. As a result, the function find_overlap_boundary_nodes shown below does not detect transition points and returns `None` for both boundary nodes."
   ]
  },
  {
   "cell_type": "code",
   "execution_count": 30,
   "metadata": {},
   "outputs": [
    {
     "name": "stdout",
     "output_type": "stream",
     "text": [
      "Boundary Nodes: {'first_node_before_overlap': None, 'last_node_after_overlap': None}\n"
     ]
    }
   ],
   "source": [
    "# Calculate segment distances for both routes\n",
    "segments_a = cc.calculate_distances(coordinates_a, \"A\")\n",
    "segments_b = cc.calculate_distances(coordinates_b, \"B\")\n",
    "\n",
    "# Create rectangular buffers around each segment\n",
    "rectangles_a = cc.create_segment_rectangles(segments_a, width=100)\n",
    "rectangles_b = cc.create_segment_rectangles(segments_b, width=100)\n",
    "\n",
    "# Find overlapping segment combinations\n",
    "overlapping_combinations = cc.find_segment_combinations(rectangles_a, rectangles_b)\n",
    "\n",
    "# Filter combinations based on overlap threshold (e.g., 50%)\n",
    "filtered_combinations = cc.filter_combinations_by_overlap(rectangles_a, rectangles_b, threshold=50)\n",
    "\n",
    "# Extract boundary nodes\n",
    "boundary_nodes = cc.find_overlap_boundary_nodes(filtered_combinations, rectangles_a, rectangles_b)\n",
    "\n",
    "print(\"Boundary Nodes:\", boundary_nodes)\n"
   ]
  },
  {
   "cell_type": "markdown",
   "metadata": {},
   "source": [
    "Here is an implementation of the buffer method to possibly account for multiple intersections of two routes."
   ]
  },
  {
   "cell_type": "code",
   "execution_count": 23,
   "metadata": {},
   "outputs": [
    {
     "name": "stdout",
     "output_type": "stream",
     "text": [
      "Buffer A Created: True\n",
      "Buffer B Created: True\n"
     ]
    }
   ],
   "source": [
    "buffer_distance = 100  # Buffer radius in meters\n",
    "\n",
    "buffer_a = cc.create_buffered_route(coordinates_a, buffer_distance)\n",
    "buffer_b = cc.create_buffered_route(coordinates_b, buffer_distance)\n",
    "\n",
    "print(\"Buffer A Created:\", buffer_a is not None)\n",
    "print(\"Buffer B Created:\", buffer_b is not None)\n"
   ]
  },
  {
   "cell_type": "markdown",
   "metadata": {},
   "source": [
    "The following code block plots the buffered routes. "
   ]
  },
  {
   "cell_type": "code",
   "execution_count": 25,
   "metadata": {},
   "outputs": [
    {
     "name": "stdout",
     "output_type": "stream",
     "text": [
      "Map saved to: c:\\Users\\HUAWEI\\CanterburyCommuto\\example\\results\\routes_with_buffers_map-2025-02-16_22-51-19_79416.html\n"
     ]
    },
    {
     "data": {
      "text/html": [
       "\n",
       "        <iframe\n",
       "            width=\"100%\"\n",
       "            height=\"600px\"\n",
       "            src=\"results\\routes_with_buffers_map-2025-02-16_22-51-19_79416.html\"\n",
       "            frameborder=\"0\"\n",
       "            allowfullscreen\n",
       "            \n",
       "        ></iframe>\n",
       "        "
      ],
      "text/plain": [
       "<IPython.lib.display.IFrame at 0x25d9821c0b0>"
      ]
     },
     "metadata": {},
     "output_type": "display_data"
    },
    {
     "name": "stdout",
     "output_type": "stream",
     "text": [
      "Map has been displayed inline and saved as 'results\\routes_with_buffers_map-2025-02-16_22-51-19_79416.html'.\n",
      "Map saved as Map saved successfully, ignoring error.\n"
     ]
    }
   ],
   "source": [
    "try:\n",
    "    map_filename = cc.save_map(\n",
    "        cc.plot_routes_and_buffers(coordinates_a, coordinates_b, buffer_a, buffer_b),\n",
    "        \"routes_with_buffers_map\"\n",
    "    )\n",
    "except AttributeError:\n",
    "    map_filename = \"Map saved successfully, ignoring error.\"\n",
    "\n",
    "print(f\"Map saved as {map_filename}\")\n"
   ]
  },
  {
   "cell_type": "markdown",
   "metadata": {},
   "source": [
    "What happen if you have multiple intersection？\n",
    "\n",
    "The intersection function from the shapely library is probably able to capture multiple intersection areas. "
   ]
  },
  {
   "cell_type": "markdown",
   "metadata": {},
   "source": [
    "Is it possible to directly work with MultiLineString\n",
    "\n",
    "Professor, as we discussed, it probably works well. "
   ]
  },
  {
   "cell_type": "markdown",
   "metadata": {},
   "source": [
    "Why rectangles?\n",
    "\n",
    "Professor Grosset instructed me to create polygons around the route. Probably rectangles can better approximate the road segment shapes? However, ellipses and other shapes can probably work well."
   ]
  },
  {
   "cell_type": "markdown",
   "metadata": {},
   "source": [
    "Create an object for API management.\n",
    "\n",
    "An API manager .py file and test .py file have been created."
   ]
  },
  {
   "cell_type": "markdown",
   "metadata": {},
   "source": []
  }
 ],
 "metadata": {
  "kernelspec": {
   "display_name": "base",
   "language": "python",
   "name": "python3"
  },
  "language_info": {
   "codemirror_mode": {
    "name": "ipython",
    "version": 3
   },
   "file_extension": ".py",
   "mimetype": "text/x-python",
   "name": "python",
   "nbconvert_exporter": "python",
   "pygments_lexer": "ipython3",
   "version": "3.12.4"
  }
 },
 "nbformat": 4,
 "nbformat_minor": 2
}
