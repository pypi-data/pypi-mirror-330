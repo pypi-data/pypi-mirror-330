{
 "cells": [
  {
   "cell_type": "markdown",
   "id": "dc2f5f7e-c94d-468e-9a4d-8f3a4c0126b9",
   "metadata": {},
   "source": [
    "# Test\n",
    "\n",
    "This notebook tests the functions and classes in myimagelib."
   ]
  },
  {
   "cell_type": "code",
   "execution_count": 6,
   "id": "5b560d98-6845-4a52-abef-70b0c41e1a80",
   "metadata": {},
   "outputs": [],
   "source": [
    "import os\n",
    "import sys\n",
    "sys.path.append(os.path.abspath(\"../src\"))"
   ]
  },
  {
   "cell_type": "code",
   "execution_count": 17,
   "id": "a0ff55a0",
   "metadata": {},
   "outputs": [],
   "source": [
    "from myimagelib import readdata, show_progress, to8bit, bestcolor, rawImage"
   ]
  },
  {
   "cell_type": "code",
   "execution_count": 18,
   "id": "cdde8fb0",
   "metadata": {},
   "outputs": [
    {
     "name": "stdout",
     "output_type": "stream",
     "text": [
      "Help on function readdata in module myimagelib.myImageLib:\n",
      "\n",
      "readdata(folder, ext='csv', mode='i')\n",
      "    Wrapper of :py:func:`dirrec`, but easier to use when reading one type of files in a given folder. Instead of returning a list of directories as :py:func:`dirrec` does, :py:func:`readdata` puts the file names and corresponding full directories in a :code:`pandas.DataFrame`. The table will be sorted by the file names (strings), so the order would likely be correct. In the worst case, it is still easier to resort the :code:`pandas.DataFrame`, compared to the list of strings returned by :py:func:`dirrec`.\n",
      "    \n",
      "    :param folder: the folder to read files from\n",
      "    :type folder: str\n",
      "    :param ext: optional param, default to \"csv\", specifies the extension of files to be read\n",
      "    :type ext: str\n",
      "    :param mode: \"i\" for immediate, \"r\" for recursive. Default to \"i\"\n",
      "    :type mode: str\n",
      "    :return: a 2-column table containing file names and the corresponding full directories\n",
      "    :rtype: pandas.DataFrame\n",
      "    \n",
      "    .. rubric:: EDIT\n",
      "    \n",
      "    :11152022: Add mode optional argument, to specify whether to read data only in the immediate folder, or read recursively.\n",
      "\n"
     ]
    }
   ],
   "source": [
    "help(readdata)"
   ]
  },
  {
   "cell_type": "code",
   "execution_count": 20,
   "id": "be2b1f7a",
   "metadata": {},
   "outputs": [
    {
     "data": {
      "text/html": [
       "<div>\n",
       "<style scoped>\n",
       "    .dataframe tbody tr th:only-of-type {\n",
       "        vertical-align: middle;\n",
       "    }\n",
       "\n",
       "    .dataframe tbody tr th {\n",
       "        vertical-align: top;\n",
       "    }\n",
       "\n",
       "    .dataframe thead th {\n",
       "        text-align: right;\n",
       "    }\n",
       "</style>\n",
       "<table border=\"1\" class=\"dataframe\">\n",
       "  <thead>\n",
       "    <tr style=\"text-align: right;\">\n",
       "      <th></th>\n",
       "      <th>Name</th>\n",
       "      <th>Dir</th>\n",
       "    </tr>\n",
       "  </thead>\n",
       "  <tbody>\n",
       "    <tr>\n",
       "      <th>0</th>\n",
       "      <td>compact_PIV</td>\n",
       "      <td>.\\compact_PIV.ipynb</td>\n",
       "    </tr>\n",
       "    <tr>\n",
       "      <th>1</th>\n",
       "      <td>test</td>\n",
       "      <td>.\\test.ipynb</td>\n",
       "    </tr>\n",
       "  </tbody>\n",
       "</table>\n",
       "</div>"
      ],
      "text/plain": [
       "          Name                  Dir\n",
       "0  compact_PIV  .\\compact_PIV.ipynb\n",
       "1         test         .\\test.ipynb"
      ]
     },
     "execution_count": 20,
     "metadata": {},
     "output_type": "execute_result"
    }
   ],
   "source": [
    "l = readdata(\".\", \"ipynb\")\n",
    "l"
   ]
  },
  {
   "cell_type": "code",
   "execution_count": 21,
   "id": "38fac8c1",
   "metadata": {},
   "outputs": [
    {
     "data": {
      "text/plain": [
       "'.\\\\compact_PIV.ipynb'"
      ]
     },
     "execution_count": 21,
     "metadata": {},
     "output_type": "execute_result"
    }
   ],
   "source": [
    "l.loc[0, \"Dir\"]"
   ]
  },
  {
   "cell_type": "code",
   "execution_count": 23,
   "id": "04840d6d",
   "metadata": {},
   "outputs": [
    {
     "name": "stdout",
     "output_type": "stream",
     "text": [
      "Help on function show_progress in module myimagelib.myImageLib:\n",
      "\n",
      "show_progress(progress, label='', bar_length=60)\n",
      "    Display a progress bar in command line environment, which looks like\n",
      "    \n",
      "    .. code-block:: console\n",
      "    \n",
      "      label [##############-----------] 62%\n",
      "    \n",
      "    This is a useful tool for tracking work progress in a batch processing task on a server.\n",
      "    \n",
      "    :param progress: the progress of the work. It is a number between 0 and 1, where 0 is start and 1 is finish\n",
      "    :type progress: float\n",
      "    :param label: a string to put before the progress bar. It can be the name of the work, or the actual number of files that have been processed, and so on. Default to :code:`''`.\n",
      "    :type label: str\n",
      "    :param bar_length: length of the progress bar, in the unit of characters. Default to :code:`60`.\n",
      "    :type bar_length: int\n",
      "    :return: None\n",
      "\n"
     ]
    }
   ],
   "source": [
    "help(show_progress)"
   ]
  },
  {
   "cell_type": "code",
   "execution_count": 25,
   "id": "14d1ab47",
   "metadata": {},
   "outputs": [
    {
     "name": "stdout",
     "output_type": "stream",
     "text": [
      "test [########################################----------------------------------------] 50.0%\r"
     ]
    }
   ],
   "source": [
    "show_progress(0.5, label=\"test\", bar_length=80)"
   ]
  },
  {
   "cell_type": "code",
   "execution_count": 27,
   "id": "37c94e35",
   "metadata": {},
   "outputs": [
    {
     "name": "stdout",
     "output_type": "stream",
     "text": [
      "Help on function to8bit in module myimagelib.myImageLib:\n",
      "\n",
      "to8bit(img)\n",
      "    Enhance contrast and convert to 8-bit. The input image dtype does not have to be 16-bit, but can be float or int of any bit-depth.\n",
      "    \n",
      "    :param img: mono image of any dtype\n",
      "    :type img: 2d array\n",
      "    :return: 8-bit image\n",
      "    :rtype: uint8 2d array\n",
      "    \n",
      "    .. rubric:: Edit\n",
      "    \n",
      "    * Feb 27, 2023 -- change ``img.max()`` to ``np.nanmax(img)`` to handle NaN values. \n",
      "    * Mar 16, 2023 -- use mean and std to infer upper bound. This makes the function more stable to images with spurious pixels with extremely large intensity. \n",
      "    * Mar 17, 2023 -- using upper bound that is smaller than the maximal pixel intensity causes dark \"patches\" in the rescaled images due to the data type change to \"uint8\". The solution is to ``clip`` the images with the determined bounds first, then apply the data type conversion. In this way, the over exposed pixels will just reach the saturation value 255.\n",
      "\n"
     ]
    }
   ],
   "source": [
    "help(to8bit)"
   ]
  },
  {
   "cell_type": "code",
   "execution_count": null,
   "id": "300e3afa",
   "metadata": {},
   "outputs": [],
   "source": [
    "example_image = "
   ]
  }
 ],
 "metadata": {
  "kernelspec": {
   "display_name": "Python 3",
   "language": "python",
   "name": "python3"
  },
  "language_info": {
   "codemirror_mode": {
    "name": "ipython",
    "version": 3
   },
   "file_extension": ".py",
   "mimetype": "text/x-python",
   "name": "python",
   "nbconvert_exporter": "python",
   "pygments_lexer": "ipython3",
   "version": "3.9.21"
  }
 },
 "nbformat": 4,
 "nbformat_minor": 5
}
