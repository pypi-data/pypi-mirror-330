{
 "cells": [
  {
   "cell_type": "code",
   "execution_count": null,
   "id": "initial_id",
   "metadata": {
    "collapsed": true,
    "jupyter": {
     "is_executing": true
    }
   },
   "outputs": [],
   "source": [
    "%pip install autoflow-ai==0.0.1.dev3\n",
    "%pip install dotenv\n",
    "%pip install sqlalchemy"
   ]
  },
  {
   "cell_type": "code",
   "execution_count": 20,
   "id": "b6cdb4d5",
   "metadata": {},
   "outputs": [
    {
     "data": {
      "text/plain": [
       "True"
      ]
     },
     "execution_count": 20,
     "metadata": {},
     "output_type": "execute_result"
    }
   ],
   "source": [
    "import logging\n",
    "import os\n",
    "import dotenv\n",
    "from sqlalchemy import create_engine\n",
    "\n",
    "logger = logging.getLogger(__name__)\n",
    "\n",
    "dotenv.load_dotenv()"
   ]
  },
  {
   "cell_type": "markdown",
   "id": "5afea9b7",
   "metadata": {},
   "source": [
    "#### Create knowledge base"
   ]
  },
  {
   "cell_type": "code",
   "execution_count": 21,
   "id": "9e1ff63c",
   "metadata": {},
   "outputs": [
    {
     "name": "stderr",
     "output_type": "stream",
     "text": [
      "/Library/Frameworks/Python.framework/Versions/3.12/lib/python3.12/site-packages/autoflow/utils/sql_model_metaclass.py:206: SAWarning: This declarative base already contains a class with the same class name and module name as autoflow.models.chunk.Chunk, and will be replaced in the string-lookup table.\n",
      "  DeclarativeMeta.__init__(cls, classname, bases, dict_, **kw)\n",
      "/Library/Frameworks/Python.framework/Versions/3.12/lib/python3.12/site-packages/autoflow/utils/sql_model_metaclass.py:206: SAWarning: This declarative base already contains a class with the same class name and module name as autoflow.models.entity.Entity, and will be replaced in the string-lookup table.\n",
      "  DeclarativeMeta.__init__(cls, classname, bases, dict_, **kw)\n",
      "/Library/Frameworks/Python.framework/Versions/3.12/lib/python3.12/site-packages/autoflow/utils/sql_model_metaclass.py:206: SAWarning: This declarative base already contains a class with the same class name and module name as autoflow.models.relationship.Relationship, and will be replaced in the string-lookup table.\n",
      "  DeclarativeMeta.__init__(cls, classname, bases, dict_, **kw)\n",
      "INFO:autoflow.storage.doc_store.tidb.tidb_doc_store:Document table <documents> is already exists, no action to do.\n",
      "INFO:autoflow.storage.doc_store.tidb.tidb_doc_store:Chunk table <chunks_4258ccab-0ab3-4c63-ae52-783d47790083> has been created successfully.\n",
      "INFO:autoflow.storage.graph_store.tidb.tidb_graph_store:Entities table <entities_4258ccab-0ab3-4c63-ae52-783d47790083> has been created successfully.\n",
      "INFO:autoflow.storage.graph_store.tidb.tidb_graph_store:Relationships table <relationships_4258ccab-0ab3-4c63-ae52-783d47790083> has been created successfully.\n"
     ]
    },
    {
     "data": {
      "text/plain": [
       "KnowledgeBase(id=UUID('4258ccab-0ab3-4c63-ae52-783d47790083'), name='New KB', index_methods=[<IndexMethod.VECTOR_SEARCH: 'VECTOR_SEARCH'>, <IndexMethod.KNOWLEDGE_GRAPH: 'KNOWLEDGE_GRAPH'>], description='This is a knowledge base for testing', chunking_config=GeneralChunkingConfig(mode=<ChunkingMode.GENERAL: 'general'>, chunk_size=1200, chunk_overlap=200, paragraph_separator='\\n\\n\\n'), data_sources=[])"
      ]
     },
     "execution_count": 21,
     "metadata": {},
     "output_type": "execute_result"
    }
   ],
   "source": [
    "from autoflow import Autoflow\n",
    "from autoflow.schema import IndexMethod\n",
    "from autoflow.llms.chat_models import ChatModel\n",
    "from autoflow.llms.embeddings import EmbeddingModel\n",
    "\n",
    "\n",
    "db_engine = create_engine(os.getenv(\"DATABASE_URL\"))\n",
    "af = Autoflow(db_engine=db_engine)\n",
    "\n",
    "chat_model = ChatModel(\"gpt-4o-mini\")\n",
    "embed_model = EmbeddingModel(model_name=\"text-embedding-3-small\", dimensions=1536)\n",
    "\n",
    "# Create Knowledge base\n",
    "kb = af.create_knowledge_base(\n",
    "    name=\"New KB\",\n",
    "    description=\"This is a knowledge base for testing\",\n",
    "    index_methods=[IndexMethod.VECTOR_SEARCH, IndexMethod.KNOWLEDGE_GRAPH],\n",
    "    chat_model=chat_model,\n",
    "    embedding_model=embed_model,\n",
    ")\n",
    "kb"
   ]
  },
  {
   "cell_type": "markdown",
   "id": "4cfc2d80",
   "metadata": {},
   "source": [
    "#### Import documents from files"
   ]
  },
  {
   "cell_type": "code",
   "execution_count": 22,
   "id": "77dbdac1",
   "metadata": {},
   "outputs": [
    {
     "data": {
      "text/plain": [
       "'/Users/liangzhiyuan/Projects/tidb.ai/core/tests'"
      ]
     },
     "execution_count": 22,
     "metadata": {},
     "output_type": "execute_result"
    }
   ],
   "source": [
    "import os\n",
    "current_dir = os.path.dirname(os.path.abspath(\"__file__\"))\n",
    "current_dir"
   ]
  },
  {
   "cell_type": "code",
   "execution_count": 23,
   "id": "f729326f",
   "metadata": {},
   "outputs": [
    {
     "name": "stderr",
     "output_type": "stream",
     "text": [
      "INFO:httpx:HTTP Request: POST https://api.openai.com/v1/embeddings \"HTTP/1.1 200 OK\"\n",
      "\u001b[92m19:00:31 - LiteLLM:INFO\u001b[0m: utils.py:1123 - Wrapper: Completed Call, calling success_handler\n",
      "INFO:LiteLLM:Wrapper: Completed Call, calling success_handler\n",
      "\u001b[92m19:00:31 - LiteLLM:INFO\u001b[0m: utils.py:2954 - \n",
      "LiteLLM completion() model= gpt-4o-mini; provider = openai\n",
      "INFO:LiteLLM:\n",
      "LiteLLM completion() model= gpt-4o-mini; provider = openai\n",
      "INFO:httpx:HTTP Request: POST https://api.openai.com/v1/chat/completions \"HTTP/1.1 200 OK\"\n",
      "\u001b[92m19:00:40 - LiteLLM:INFO\u001b[0m: utils.py:1123 - Wrapper: Completed Call, calling success_handler\n",
      "INFO:LiteLLM:Wrapper: Completed Call, calling success_handler\n",
      "\u001b[92m19:00:40 - LiteLLM:INFO\u001b[0m: utils.py:2954 - \n",
      "LiteLLM completion() model= gpt-4o-mini; provider = openai\n",
      "INFO:LiteLLM:\n",
      "LiteLLM completion() model= gpt-4o-mini; provider = openai\n",
      "INFO:httpx:HTTP Request: POST https://api.openai.com/v1/chat/completions \"HTTP/1.1 200 OK\"\n",
      "\u001b[92m19:00:43 - LiteLLM:INFO\u001b[0m: utils.py:1123 - Wrapper: Completed Call, calling success_handler\n",
      "INFO:LiteLLM:Wrapper: Completed Call, calling success_handler\n",
      "\u001b[92m19:00:43 - LiteLLM:INFO\u001b[0m: utils.py:2954 - \n",
      "LiteLLM completion() model= gpt-4o-mini; provider = openai\n",
      "INFO:LiteLLM:\n",
      "LiteLLM completion() model= gpt-4o-mini; provider = openai\n",
      "INFO:httpx:HTTP Request: POST https://api.openai.com/v1/chat/completions \"HTTP/1.1 200 OK\"\n",
      "\u001b[92m19:00:47 - LiteLLM:INFO\u001b[0m: utils.py:1123 - Wrapper: Completed Call, calling success_handler\n",
      "INFO:LiteLLM:Wrapper: Completed Call, calling success_handler\n",
      "INFO:httpx:HTTP Request: POST https://api.openai.com/v1/embeddings \"HTTP/1.1 200 OK\"\n",
      "\u001b[92m19:00:49 - LiteLLM:INFO\u001b[0m: utils.py:1123 - Wrapper: Completed Call, calling success_handler\n",
      "INFO:LiteLLM:Wrapper: Completed Call, calling success_handler\n",
      "INFO:httpx:HTTP Request: POST https://api.openai.com/v1/embeddings \"HTTP/1.1 200 OK\"\n",
      "\u001b[92m19:00:50 - LiteLLM:INFO\u001b[0m: utils.py:1123 - Wrapper: Completed Call, calling success_handler\n",
      "INFO:LiteLLM:Wrapper: Completed Call, calling success_handler\n",
      "INFO:httpx:HTTP Request: POST https://api.openai.com/v1/embeddings \"HTTP/1.1 200 OK\"\n",
      "\u001b[92m19:00:50 - LiteLLM:INFO\u001b[0m: utils.py:1123 - Wrapper: Completed Call, calling success_handler\n",
      "INFO:LiteLLM:Wrapper: Completed Call, calling success_handler\n",
      "INFO:httpx:HTTP Request: POST https://api.openai.com/v1/embeddings \"HTTP/1.1 200 OK\"\n",
      "\u001b[92m19:00:51 - LiteLLM:INFO\u001b[0m: utils.py:1123 - Wrapper: Completed Call, calling success_handler\n",
      "INFO:LiteLLM:Wrapper: Completed Call, calling success_handler\n",
      "INFO:autoflow.storage.graph_store.tidb.tidb_graph_store:Save entities for relationship: TiDB -> TiDB can be deployed in a Self-Managed model, providing users with control over their database setup. -> Self-Managed\n",
      "INFO:httpx:HTTP Request: POST https://api.openai.com/v1/embeddings \"HTTP/1.1 200 OK\"\n",
      "\u001b[92m19:00:51 - LiteLLM:INFO\u001b[0m: utils.py:1123 - Wrapper: Completed Call, calling success_handler\n",
      "INFO:LiteLLM:Wrapper: Completed Call, calling success_handler\n",
      "INFO:httpx:HTTP Request: POST https://api.openai.com/v1/embeddings \"HTTP/1.1 200 OK\"\n",
      "\u001b[92m19:00:52 - LiteLLM:INFO\u001b[0m: utils.py:1123 - Wrapper: Completed Call, calling success_handler\n",
      "INFO:LiteLLM:Wrapper: Completed Call, calling success_handler\n",
      "\u001b[92m19:00:52 - LiteLLM:INFO\u001b[0m: utils.py:2954 - \n",
      "LiteLLM completion() model= gpt-4o-mini; provider = openai\n",
      "INFO:LiteLLM:\n",
      "LiteLLM completion() model= gpt-4o-mini; provider = openai\n",
      "INFO:httpx:HTTP Request: POST https://api.openai.com/v1/chat/completions \"HTTP/1.1 200 OK\"\n",
      "\u001b[92m19:01:02 - LiteLLM:INFO\u001b[0m: utils.py:1123 - Wrapper: Completed Call, calling success_handler\n",
      "INFO:LiteLLM:Wrapper: Completed Call, calling success_handler\n",
      "\u001b[92m19:01:02 - LiteLLM:INFO\u001b[0m: utils.py:2954 - \n",
      "LiteLLM completion() model= gpt-4o-mini; provider = openai\n",
      "INFO:LiteLLM:\n",
      "LiteLLM completion() model= gpt-4o-mini; provider = openai\n",
      "INFO:httpx:HTTP Request: POST https://api.openai.com/v1/chat/completions \"HTTP/1.1 200 OK\"\n",
      "\u001b[92m19:01:18 - LiteLLM:INFO\u001b[0m: utils.py:1123 - Wrapper: Completed Call, calling success_handler\n",
      "INFO:LiteLLM:Wrapper: Completed Call, calling success_handler\n",
      "INFO:httpx:HTTP Request: POST https://api.openai.com/v1/embeddings \"HTTP/1.1 200 OK\"\n",
      "\u001b[92m19:01:19 - LiteLLM:INFO\u001b[0m: utils.py:1123 - Wrapper: Completed Call, calling success_handler\n",
      "INFO:LiteLLM:Wrapper: Completed Call, calling success_handler\n",
      "INFO:httpx:HTTP Request: POST https://api.openai.com/v1/embeddings \"HTTP/1.1 200 OK\"\n",
      "\u001b[92m19:01:20 - LiteLLM:INFO\u001b[0m: utils.py:1123 - Wrapper: Completed Call, calling success_handler\n",
      "INFO:LiteLLM:Wrapper: Completed Call, calling success_handler\n",
      "INFO:httpx:HTTP Request: POST https://api.openai.com/v1/embeddings \"HTTP/1.1 200 OK\"\n",
      "\u001b[92m19:01:21 - LiteLLM:INFO\u001b[0m: utils.py:1123 - Wrapper: Completed Call, calling success_handler\n",
      "INFO:LiteLLM:Wrapper: Completed Call, calling success_handler\n",
      "INFO:httpx:HTTP Request: POST https://api.openai.com/v1/embeddings \"HTTP/1.1 200 OK\"\n",
      "\u001b[92m19:01:22 - LiteLLM:INFO\u001b[0m: utils.py:1123 - Wrapper: Completed Call, calling success_handler\n",
      "INFO:LiteLLM:Wrapper: Completed Call, calling success_handler\n",
      "INFO:httpx:HTTP Request: POST https://api.openai.com/v1/embeddings \"HTTP/1.1 200 OK\"\n",
      "\u001b[92m19:01:23 - LiteLLM:INFO\u001b[0m: utils.py:1123 - Wrapper: Completed Call, calling success_handler\n",
      "INFO:LiteLLM:Wrapper: Completed Call, calling success_handler\n",
      "INFO:httpx:HTTP Request: POST https://api.openai.com/v1/embeddings \"HTTP/1.1 200 OK\"\n",
      "\u001b[92m19:01:24 - LiteLLM:INFO\u001b[0m: utils.py:1123 - Wrapper: Completed Call, calling success_handler\n",
      "INFO:LiteLLM:Wrapper: Completed Call, calling success_handler\n",
      "INFO:httpx:HTTP Request: POST https://api.openai.com/v1/embeddings \"HTTP/1.1 200 OK\"\n",
      "\u001b[92m19:01:25 - LiteLLM:INFO\u001b[0m: utils.py:1123 - Wrapper: Completed Call, calling success_handler\n",
      "INFO:LiteLLM:Wrapper: Completed Call, calling success_handler\n",
      "INFO:httpx:HTTP Request: POST https://api.openai.com/v1/embeddings \"HTTP/1.1 200 OK\"\n",
      "\u001b[92m19:01:25 - LiteLLM:INFO\u001b[0m: utils.py:1123 - Wrapper: Completed Call, calling success_handler\n",
      "INFO:LiteLLM:Wrapper: Completed Call, calling success_handler\n",
      "INFO:httpx:HTTP Request: POST https://api.openai.com/v1/embeddings \"HTTP/1.1 200 OK\"\n",
      "\u001b[92m19:01:26 - LiteLLM:INFO\u001b[0m: utils.py:1123 - Wrapper: Completed Call, calling success_handler\n",
      "INFO:LiteLLM:Wrapper: Completed Call, calling success_handler\n",
      "INFO:httpx:HTTP Request: POST https://api.openai.com/v1/embeddings \"HTTP/1.1 200 OK\"\n",
      "\u001b[92m19:01:27 - LiteLLM:INFO\u001b[0m: utils.py:1123 - Wrapper: Completed Call, calling success_handler\n",
      "INFO:LiteLLM:Wrapper: Completed Call, calling success_handler\n",
      "INFO:httpx:HTTP Request: POST https://api.openai.com/v1/embeddings \"HTTP/1.1 200 OK\"\n",
      "\u001b[92m19:01:28 - LiteLLM:INFO\u001b[0m: utils.py:1123 - Wrapper: Completed Call, calling success_handler\n",
      "INFO:LiteLLM:Wrapper: Completed Call, calling success_handler\n",
      "INFO:httpx:HTTP Request: POST https://api.openai.com/v1/embeddings \"HTTP/1.1 200 OK\"\n",
      "\u001b[92m19:01:28 - LiteLLM:INFO\u001b[0m: utils.py:1123 - Wrapper: Completed Call, calling success_handler\n",
      "INFO:LiteLLM:Wrapper: Completed Call, calling success_handler\n",
      "INFO:autoflow.storage.graph_store.tidb.tidb_graph_store:Save entities for relationship: TiDB -> TiDB Self-Managed is a deployment option of TiDB that allows users to manage the database on their own infrastructure. -> TiDB Self-Managed\n",
      "INFO:httpx:HTTP Request: POST https://api.openai.com/v1/embeddings \"HTTP/1.1 200 OK\"\n",
      "\u001b[92m19:01:29 - LiteLLM:INFO\u001b[0m: utils.py:1123 - Wrapper: Completed Call, calling success_handler\n",
      "INFO:LiteLLM:Wrapper: Completed Call, calling success_handler\n",
      "INFO:autoflow.storage.graph_store.tidb.tidb_graph_store:Save entities for relationship: TiDB -> TiDB utilizes TiKV as its row-based storage engine to support real-time data replication. -> TiKV\n",
      "INFO:httpx:HTTP Request: POST https://api.openai.com/v1/embeddings \"HTTP/1.1 200 OK\"\n",
      "\u001b[92m19:01:30 - LiteLLM:INFO\u001b[0m: utils.py:1123 - Wrapper: Completed Call, calling success_handler\n",
      "INFO:LiteLLM:Wrapper: Completed Call, calling success_handler\n",
      "INFO:autoflow.storage.graph_store.tidb.tidb_graph_store:Save entities for relationship: TiDB -> TiDB employs TiFlash as its columnar storage engine to ensure consistent data storage and real-time replication from TiKV. -> TiFlash\n",
      "INFO:httpx:HTTP Request: POST https://api.openai.com/v1/embeddings \"HTTP/1.1 200 OK\"\n",
      "\u001b[92m19:01:30 - LiteLLM:INFO\u001b[0m: utils.py:1123 - Wrapper: Completed Call, calling success_handler\n",
      "INFO:LiteLLM:Wrapper: Completed Call, calling success_handler\n",
      "INFO:autoflow.storage.graph_store.tidb.tidb_graph_store:Save entities for relationship: TiDB -> TiDB Operator facilitates the management of TiDB on Kubernetes, automating operational tasks. -> TiDB Operator\n",
      "INFO:httpx:HTTP Request: POST https://api.openai.com/v1/embeddings \"HTTP/1.1 200 OK\"\n",
      "\u001b[92m19:01:31 - LiteLLM:INFO\u001b[0m: utils.py:1123 - Wrapper: Completed Call, calling success_handler\n",
      "INFO:LiteLLM:Wrapper: Completed Call, calling success_handler\n",
      "INFO:autoflow.storage.graph_store.tidb.tidb_graph_store:Save entities for relationship: TiDB -> TiDB Cloud is the fully-managed service that allows users to deploy and run TiDB clusters in the cloud. -> TiDB Cloud\n",
      "INFO:httpx:HTTP Request: POST https://api.openai.com/v1/embeddings \"HTTP/1.1 200 OK\"\n",
      "\u001b[92m19:01:31 - LiteLLM:INFO\u001b[0m: utils.py:1123 - Wrapper: Completed Call, calling success_handler\n",
      "INFO:LiteLLM:Wrapper: Completed Call, calling success_handler\n",
      "INFO:httpx:HTTP Request: POST https://api.openai.com/v1/embeddings \"HTTP/1.1 200 OK\"\n",
      "\u001b[92m19:01:32 - LiteLLM:INFO\u001b[0m: utils.py:1123 - Wrapper: Completed Call, calling success_handler\n",
      "INFO:LiteLLM:Wrapper: Completed Call, calling success_handler\n",
      "\u001b[92m19:01:32 - LiteLLM:INFO\u001b[0m: utils.py:2954 - \n",
      "LiteLLM completion() model= gpt-4o-mini; provider = openai\n",
      "INFO:LiteLLM:\n",
      "LiteLLM completion() model= gpt-4o-mini; provider = openai\n",
      "INFO:httpx:HTTP Request: POST https://api.openai.com/v1/chat/completions \"HTTP/1.1 200 OK\"\n",
      "\u001b[92m19:01:40 - LiteLLM:INFO\u001b[0m: utils.py:1123 - Wrapper: Completed Call, calling success_handler\n",
      "INFO:LiteLLM:Wrapper: Completed Call, calling success_handler\n",
      "\u001b[92m19:01:40 - LiteLLM:INFO\u001b[0m: utils.py:2954 - \n",
      "LiteLLM completion() model= gpt-4o-mini; provider = openai\n",
      "INFO:LiteLLM:\n",
      "LiteLLM completion() model= gpt-4o-mini; provider = openai\n",
      "INFO:httpx:HTTP Request: POST https://api.openai.com/v1/chat/completions \"HTTP/1.1 200 OK\"\n",
      "\u001b[92m19:01:46 - LiteLLM:INFO\u001b[0m: utils.py:1123 - Wrapper: Completed Call, calling success_handler\n",
      "INFO:LiteLLM:Wrapper: Completed Call, calling success_handler\n",
      "INFO:httpx:HTTP Request: POST https://api.openai.com/v1/embeddings \"HTTP/1.1 200 OK\"\n",
      "\u001b[92m19:01:47 - LiteLLM:INFO\u001b[0m: utils.py:1123 - Wrapper: Completed Call, calling success_handler\n",
      "INFO:LiteLLM:Wrapper: Completed Call, calling success_handler\n",
      "INFO:httpx:HTTP Request: POST https://api.openai.com/v1/embeddings \"HTTP/1.1 200 OK\"\n",
      "\u001b[92m19:01:48 - LiteLLM:INFO\u001b[0m: utils.py:1123 - Wrapper: Completed Call, calling success_handler\n",
      "INFO:LiteLLM:Wrapper: Completed Call, calling success_handler\n",
      "INFO:httpx:HTTP Request: POST https://api.openai.com/v1/embeddings \"HTTP/1.1 200 OK\"\n",
      "\u001b[92m19:01:50 - LiteLLM:INFO\u001b[0m: utils.py:1123 - Wrapper: Completed Call, calling success_handler\n",
      "INFO:LiteLLM:Wrapper: Completed Call, calling success_handler\n",
      "INFO:httpx:HTTP Request: POST https://api.openai.com/v1/embeddings \"HTTP/1.1 200 OK\"\n",
      "\u001b[92m19:01:50 - LiteLLM:INFO\u001b[0m: utils.py:1123 - Wrapper: Completed Call, calling success_handler\n",
      "INFO:LiteLLM:Wrapper: Completed Call, calling success_handler\n",
      "INFO:httpx:HTTP Request: POST https://api.openai.com/v1/embeddings \"HTTP/1.1 200 OK\"\n",
      "\u001b[92m19:01:51 - LiteLLM:INFO\u001b[0m: utils.py:1123 - Wrapper: Completed Call, calling success_handler\n",
      "INFO:LiteLLM:Wrapper: Completed Call, calling success_handler\n",
      "INFO:httpx:HTTP Request: POST https://api.openai.com/v1/embeddings \"HTTP/1.1 200 OK\"\n",
      "\u001b[92m19:01:51 - LiteLLM:INFO\u001b[0m: utils.py:1123 - Wrapper: Completed Call, calling success_handler\n",
      "INFO:LiteLLM:Wrapper: Completed Call, calling success_handler\n",
      "INFO:httpx:HTTP Request: POST https://api.openai.com/v1/embeddings \"HTTP/1.1 200 OK\"\n",
      "\u001b[92m19:01:52 - LiteLLM:INFO\u001b[0m: utils.py:1123 - Wrapper: Completed Call, calling success_handler\n",
      "INFO:LiteLLM:Wrapper: Completed Call, calling success_handler\n",
      "INFO:httpx:HTTP Request: POST https://api.openai.com/v1/embeddings \"HTTP/1.1 200 OK\"\n",
      "\u001b[92m19:01:53 - LiteLLM:INFO\u001b[0m: utils.py:1123 - Wrapper: Completed Call, calling success_handler\n",
      "INFO:LiteLLM:Wrapper: Completed Call, calling success_handler\n",
      "INFO:httpx:HTTP Request: POST https://api.openai.com/v1/embeddings \"HTTP/1.1 200 OK\"\n",
      "\u001b[92m19:01:54 - LiteLLM:INFO\u001b[0m: utils.py:1123 - Wrapper: Completed Call, calling success_handler\n",
      "INFO:LiteLLM:Wrapper: Completed Call, calling success_handler\n",
      "INFO:httpx:HTTP Request: POST https://api.openai.com/v1/embeddings \"HTTP/1.1 200 OK\"\n",
      "\u001b[92m19:01:54 - LiteLLM:INFO\u001b[0m: utils.py:1123 - Wrapper: Completed Call, calling success_handler\n",
      "INFO:LiteLLM:Wrapper: Completed Call, calling success_handler\n",
      "INFO:autoflow.storage.graph_store.tidb.tidb_graph_store:Save entities for relationship: TiDB Self-Managed -> TiDB Self-Managed utilizes TiDB Architecture to structure its deployment and operations. -> TiDB Architecture\n",
      "INFO:httpx:HTTP Request: POST https://api.openai.com/v1/embeddings \"HTTP/1.1 200 OK\"\n",
      "\u001b[92m19:01:55 - LiteLLM:INFO\u001b[0m: utils.py:1123 - Wrapper: Completed Call, calling success_handler\n",
      "INFO:LiteLLM:Wrapper: Completed Call, calling success_handler\n",
      "INFO:autoflow.storage.graph_store.tidb.tidb_graph_store:Save entities for relationship: TiDB Self-Managed -> TiDB Self-Managed relies on TiDB Storage for data management and persistence. -> TiDB Storage\n",
      "INFO:httpx:HTTP Request: POST https://api.openai.com/v1/embeddings \"HTTP/1.1 200 OK\"\n",
      "\u001b[92m19:01:55 - LiteLLM:INFO\u001b[0m: utils.py:1123 - Wrapper: Completed Call, calling success_handler\n",
      "INFO:LiteLLM:Wrapper: Completed Call, calling success_handler\n",
      "INFO:autoflow.storage.graph_store.tidb.tidb_graph_store:Save entities for relationship: TiDB Self-Managed -> TiDB Self-Managed employs TiDB Computing to execute queries and process data. -> TiDB Computing\n",
      "INFO:httpx:HTTP Request: POST https://api.openai.com/v1/embeddings \"HTTP/1.1 200 OK\"\n",
      "\u001b[92m19:01:56 - LiteLLM:INFO\u001b[0m: utils.py:1123 - Wrapper: Completed Call, calling success_handler\n",
      "INFO:LiteLLM:Wrapper: Completed Call, calling success_handler\n",
      "INFO:autoflow.storage.graph_store.tidb.tidb_graph_store:Save entities for relationship: TiDB Self-Managed -> TiDB Self-Managed incorporates TiDB Scheduling to manage task execution and resource allocation. -> TiDB Scheduling\n",
      "INFO:httpx:HTTP Request: POST https://api.openai.com/v1/embeddings \"HTTP/1.1 200 OK\"\n",
      "\u001b[92m19:01:56 - LiteLLM:INFO\u001b[0m: utils.py:1123 - Wrapper: Completed Call, calling success_handler\n",
      "INFO:LiteLLM:Wrapper: Completed Call, calling success_handler\n"
     ]
    },
    {
     "data": {
      "text/plain": [
       "[]"
      ]
     },
     "execution_count": 23,
     "metadata": {},
     "output_type": "execute_result"
    }
   ],
   "source": [
    "from pathlib import Path\n",
    "\n",
    "kb.import_documents_from_files(\n",
    "    files=[\n",
    "        Path(current_dir) / \"fixtures\" / \"tidb-overview.md\",\n",
    "    ]\n",
    ")"
   ]
  },
  {
   "cell_type": "code",
   "execution_count": 32,
   "id": "259ad7a9",
   "metadata": {},
   "outputs": [
    {
     "data": {
      "text/plain": [
       "[(0.7382171054172685,\n",
       "  'What is TiDB Self-Managed Key features\\n<!-- Localization note for TiDB:\\n- English: use distributed SQL, and start to emphasize HTAP\\n- Chinese: can keep \"NewSQL\" and emphasize one-stop real-time HTAP (\"一栈式实时 HTAP\")\\n- Japanese: use NewSQL because it is well-recognized\\n-->\\nTiDB (/\\'taɪdiːbi:/, \"Ti\" stands for Titanium) is an open-source distributed SQL database that supports Hybrid Transactional and Analytical Processing (HTAP) workloads. It is MySQL compatible and features horizontal scalability, strong consistency, and high availability. The goal of TiDB is to provide users with a one-stop database solution that covers OLTP (Online Transactional Processing), OLAP (Online Analytical Processing), and HTAP services. TiDB is suitable for various use cases that require high availability and strong consistency with large-scale data.\\nTiDB Self-Managed is a product option of TiDB, where users or organizations can deploy and manage TiDB on their own infrastructure with complete flexibility. With TiDB Self-Managed, you can enjoy the power of open source, distributed SQL while retaining full control over your environment.\\nThe following video introduces key features of TiDB.\\n\\n- **Easy horizontal scaling**\\nThe TiDB architecture design separates computing from storage, letting you scale out or scale in the computing or storage capacity online as needed. The scaling process is transparent to application operations and maintenance staff.\\n- **Financial-grade high availability**\\nData is stored in multiple replicas, and the Multi-Raft protocol is used to obtain the transaction log. A transaction can only be committed when data has been successfully written into the majority of replicas. This guarantees strong consistency and availability when a minority of replicas go down. You can configure the geographic location and number of replicas as needed to meet different disaster tolerance levels.\\n- **Real-time HTAP**\\nTiDB provides two storage engines: TiKV, a row-based storage engine, and TiFlash, a columnar storage engine. TiFlash uses the Multi-Raft Learner protocol to replicate data from TiKV in real time, ensuring consistent data between the TiKV row-based storage engine and the TiFlash columnar storage engine. TiKV and TiFlash can be deployed on different machines as needed to solve the problem of HTAP resource isolation.\\n- **Cloud-native distributed database**\\nTiDB is a distributed database designed for the cloud, providing flexible scalability, reliability, and security on the cloud platform. Users can elastically scale TiDB to meet the requirements of their changing workloads. In TiDB, each piece of data has at least 3 replicas, which can be scheduled in different cloud availability zones to tolerate the outage of a whole data center. TiDB Operator helps manage TiDB on Kubernetes and automates tasks related to operating the TiDB cluster, making TiDB easier to deploy on any cloud that provides managed Kubernetes. TiDB Cloud, the fully-managed TiDB service, is the easiest, most economical, and most resilient way to unlock the full power of TiDB in the cloud, allowing you to deploy and run TiDB clusters with just a few clicks.\\n- **Compatible with the MySQL protocol and MySQL ecosystem**\\nTiDB is compatible with the MySQL protocol, common features of MySQL, and the MySQL ecosystem. To migrate applications to TiDB, you do not need to change a single line of code in many cases, or only need to modify a small amount of code. In addition, TiDB provides a series of data migration tools to help easily migrate application data into TiDB.'),\n",
       " (0.7380258973218252,\n",
       "  'What is TiDB Self-Managed See also\\n- TiDB Architecture\\n- TiDB Storage\\n- TiDB Computing\\n- TiDB Scheduling')]"
      ]
     },
     "execution_count": 32,
     "metadata": {},
     "output_type": "execute_result"
    }
   ],
   "source": [
    "result = kb.search_documents(\n",
    "    query=\"What is TiDB?\",\n",
    "    similarity_top_k=2,\n",
    ")\n",
    "[\n",
    "    (c.score, c.chunk.text)\n",
    "    for c in result.chunks\n",
    "]"
   ]
  },
  {
   "cell_type": "code",
   "execution_count": 38,
   "id": "6fc5bc93",
   "metadata": {},
   "outputs": [
    {
     "name": "stderr",
     "output_type": "stream",
     "text": [
      "INFO:autoflow.storage.graph_store.tidb.tidb_graph_store:Debug - SQL Query: \n",
      "SELECT `relationships_4258ccab-0ab3-4c63-ae52-783d47790083`.id, `relationships_4258ccab-0ab3-4c63-ae52-783d47790083`.description, `relationships_4258ccab-0ab3-4c63-ae52-783d47790083`.description_vec, `relationships_4258ccab-0ab3-4c63-ae52-783d47790083`.source_entity_id, `relationships_4258ccab-0ab3-4c63-ae52-783d47790083`.target_entity_id, `relationships_4258ccab-0ab3-4c63-ae52-783d47790083`.meta, `relationships_4258ccab-0ab3-4c63-ae52-783d47790083`.weight, `relationships_4258ccab-0ab3-4c63-ae52-783d47790083`.chunk_id, `relationships_4258ccab-0ab3-4c63-ae52-783d47790083`.document_id, `relationships_4258ccab-0ab3-4c63-ae52-783d47790083`.created_at, `relationships_4258ccab-0ab3-4c63-ae52-783d47790083`.updated_at, %s - anon_1.embedding_distance AS similarity_score, `entities_4258ccab-0ab3-4c63-ae52-783d47790083_1`.id AS id_1, `entities_4258ccab-0ab3-4c63-ae52-783d47790083_1`.entity_type, `entities_4258ccab-0ab3-4c63-ae52-783d47790083_1`.name, `entities_4258ccab-0ab3-4c63-ae52-783d47790083_1`.description AS description_1, `entities_4258ccab-0ab3-4c63-ae52-783d47790083_1`.description_vec AS description_vec_1, `entities_4258ccab-0ab3-4c63-ae52-783d47790083_1`.meta AS meta_1, `entities_4258ccab-0ab3-4c63-ae52-783d47790083_1`.meta_vec, `entities_4258ccab-0ab3-4c63-ae52-783d47790083_1`.synopsis_info, `entities_4258ccab-0ab3-4c63-ae52-783d47790083_2`.id AS id_2, `entities_4258ccab-0ab3-4c63-ae52-783d47790083_2`.entity_type AS entity_type_1, `entities_4258ccab-0ab3-4c63-ae52-783d47790083_2`.name AS name_1, `entities_4258ccab-0ab3-4c63-ae52-783d47790083_2`.description AS description_2, `entities_4258ccab-0ab3-4c63-ae52-783d47790083_2`.description_vec AS description_vec_2, `entities_4258ccab-0ab3-4c63-ae52-783d47790083_2`.meta AS meta_2, `entities_4258ccab-0ab3-4c63-ae52-783d47790083_2`.meta_vec AS meta_vec_1, `entities_4258ccab-0ab3-4c63-ae52-783d47790083_2`.synopsis_info AS synopsis_info_1 \n",
      "FROM `relationships_4258ccab-0ab3-4c63-ae52-783d47790083` INNER JOIN (SELECT `relationships_4258ccab-0ab3-4c63-ae52-783d47790083`.id AS relationship_id, VEC_COSINE_DISTANCE(`relationships_4258ccab-0ab3-4c63-ae52-783d47790083`.description_vec, %s) AS embedding_distance \n",
      "FROM `relationships_4258ccab-0ab3-4c63-ae52-783d47790083` ORDER BY embedding_distance ASC \n",
      " LIMIT %s) AS anon_1 ON `relationships_4258ccab-0ab3-4c63-ae52-783d47790083`.id = anon_1.relationship_id LEFT OUTER JOIN `entities_4258ccab-0ab3-4c63-ae52-783d47790083` AS `entities_4258ccab-0ab3-4c63-ae52-783d47790083_1` ON `relationships_4258ccab-0ab3-4c63-ae52-783d47790083`.source_entity_id = `entities_4258ccab-0ab3-4c63-ae52-783d47790083_1`.id LEFT OUTER JOIN `entities_4258ccab-0ab3-4c63-ae52-783d47790083` AS `entities_4258ccab-0ab3-4c63-ae52-783d47790083_2` ON `relationships_4258ccab-0ab3-4c63-ae52-783d47790083`.target_entity_id = `entities_4258ccab-0ab3-4c63-ae52-783d47790083_2`.id \n",
      "WHERE embedding_distance >= %s AND embedding_distance <= %s ORDER BY similarity_score DESC \n",
      " LIMIT %s\n",
      "INFO:autoflow.storage.graph_store.tidb.tidb_graph_store:Debug - SQL Query: \n",
      "SELECT `relationships_4258ccab-0ab3-4c63-ae52-783d47790083`.id, `relationships_4258ccab-0ab3-4c63-ae52-783d47790083`.description, `relationships_4258ccab-0ab3-4c63-ae52-783d47790083`.description_vec, `relationships_4258ccab-0ab3-4c63-ae52-783d47790083`.source_entity_id, `relationships_4258ccab-0ab3-4c63-ae52-783d47790083`.target_entity_id, `relationships_4258ccab-0ab3-4c63-ae52-783d47790083`.meta, `relationships_4258ccab-0ab3-4c63-ae52-783d47790083`.weight, `relationships_4258ccab-0ab3-4c63-ae52-783d47790083`.chunk_id, `relationships_4258ccab-0ab3-4c63-ae52-783d47790083`.document_id, `relationships_4258ccab-0ab3-4c63-ae52-783d47790083`.created_at, `relationships_4258ccab-0ab3-4c63-ae52-783d47790083`.updated_at, %s - anon_1.embedding_distance AS similarity_score, `entities_4258ccab-0ab3-4c63-ae52-783d47790083_1`.id AS id_1, `entities_4258ccab-0ab3-4c63-ae52-783d47790083_1`.entity_type, `entities_4258ccab-0ab3-4c63-ae52-783d47790083_1`.name, `entities_4258ccab-0ab3-4c63-ae52-783d47790083_1`.description AS description_1, `entities_4258ccab-0ab3-4c63-ae52-783d47790083_1`.description_vec AS description_vec_1, `entities_4258ccab-0ab3-4c63-ae52-783d47790083_1`.meta AS meta_1, `entities_4258ccab-0ab3-4c63-ae52-783d47790083_1`.meta_vec, `entities_4258ccab-0ab3-4c63-ae52-783d47790083_1`.synopsis_info, `entities_4258ccab-0ab3-4c63-ae52-783d47790083_2`.id AS id_2, `entities_4258ccab-0ab3-4c63-ae52-783d47790083_2`.entity_type AS entity_type_1, `entities_4258ccab-0ab3-4c63-ae52-783d47790083_2`.name AS name_1, `entities_4258ccab-0ab3-4c63-ae52-783d47790083_2`.description AS description_2, `entities_4258ccab-0ab3-4c63-ae52-783d47790083_2`.description_vec AS description_vec_2, `entities_4258ccab-0ab3-4c63-ae52-783d47790083_2`.meta AS meta_2, `entities_4258ccab-0ab3-4c63-ae52-783d47790083_2`.meta_vec AS meta_vec_1, `entities_4258ccab-0ab3-4c63-ae52-783d47790083_2`.synopsis_info AS synopsis_info_1 \n",
      "FROM `relationships_4258ccab-0ab3-4c63-ae52-783d47790083` INNER JOIN (SELECT `relationships_4258ccab-0ab3-4c63-ae52-783d47790083`.id AS relationship_id, VEC_COSINE_DISTANCE(`relationships_4258ccab-0ab3-4c63-ae52-783d47790083`.description_vec, %s) AS embedding_distance \n",
      "FROM `relationships_4258ccab-0ab3-4c63-ae52-783d47790083` ORDER BY embedding_distance ASC \n",
      " LIMIT %s) AS anon_1 ON `relationships_4258ccab-0ab3-4c63-ae52-783d47790083`.id = anon_1.relationship_id LEFT OUTER JOIN `entities_4258ccab-0ab3-4c63-ae52-783d47790083` AS `entities_4258ccab-0ab3-4c63-ae52-783d47790083_1` ON `relationships_4258ccab-0ab3-4c63-ae52-783d47790083`.source_entity_id = `entities_4258ccab-0ab3-4c63-ae52-783d47790083_1`.id LEFT OUTER JOIN `entities_4258ccab-0ab3-4c63-ae52-783d47790083` AS `entities_4258ccab-0ab3-4c63-ae52-783d47790083_2` ON `relationships_4258ccab-0ab3-4c63-ae52-783d47790083`.target_entity_id = `entities_4258ccab-0ab3-4c63-ae52-783d47790083_2`.id \n",
      "WHERE embedding_distance >= %s AND embedding_distance <= %s AND (`relationships_4258ccab-0ab3-4c63-ae52-783d47790083`.id NOT IN (__[POSTCOMPILE_id_3])) AND `relationships_4258ccab-0ab3-4c63-ae52-783d47790083`.source_entity_id IN (__[POSTCOMPILE_source_entity_id_1]) ORDER BY similarity_score DESC \n",
      " LIMIT %s\n",
      "INFO:autoflow.storage.graph_store.tidb.tidb_graph_store:Debug - SQL Query: \n",
      "SELECT `relationships_4258ccab-0ab3-4c63-ae52-783d47790083`.id, `relationships_4258ccab-0ab3-4c63-ae52-783d47790083`.description, `relationships_4258ccab-0ab3-4c63-ae52-783d47790083`.description_vec, `relationships_4258ccab-0ab3-4c63-ae52-783d47790083`.source_entity_id, `relationships_4258ccab-0ab3-4c63-ae52-783d47790083`.target_entity_id, `relationships_4258ccab-0ab3-4c63-ae52-783d47790083`.meta, `relationships_4258ccab-0ab3-4c63-ae52-783d47790083`.weight, `relationships_4258ccab-0ab3-4c63-ae52-783d47790083`.chunk_id, `relationships_4258ccab-0ab3-4c63-ae52-783d47790083`.document_id, `relationships_4258ccab-0ab3-4c63-ae52-783d47790083`.created_at, `relationships_4258ccab-0ab3-4c63-ae52-783d47790083`.updated_at, %s - anon_1.embedding_distance AS similarity_score, `entities_4258ccab-0ab3-4c63-ae52-783d47790083_1`.id AS id_1, `entities_4258ccab-0ab3-4c63-ae52-783d47790083_1`.entity_type, `entities_4258ccab-0ab3-4c63-ae52-783d47790083_1`.name, `entities_4258ccab-0ab3-4c63-ae52-783d47790083_1`.description AS description_1, `entities_4258ccab-0ab3-4c63-ae52-783d47790083_1`.description_vec AS description_vec_1, `entities_4258ccab-0ab3-4c63-ae52-783d47790083_1`.meta AS meta_1, `entities_4258ccab-0ab3-4c63-ae52-783d47790083_1`.meta_vec, `entities_4258ccab-0ab3-4c63-ae52-783d47790083_1`.synopsis_info, `entities_4258ccab-0ab3-4c63-ae52-783d47790083_2`.id AS id_2, `entities_4258ccab-0ab3-4c63-ae52-783d47790083_2`.entity_type AS entity_type_1, `entities_4258ccab-0ab3-4c63-ae52-783d47790083_2`.name AS name_1, `entities_4258ccab-0ab3-4c63-ae52-783d47790083_2`.description AS description_2, `entities_4258ccab-0ab3-4c63-ae52-783d47790083_2`.description_vec AS description_vec_2, `entities_4258ccab-0ab3-4c63-ae52-783d47790083_2`.meta AS meta_2, `entities_4258ccab-0ab3-4c63-ae52-783d47790083_2`.meta_vec AS meta_vec_1, `entities_4258ccab-0ab3-4c63-ae52-783d47790083_2`.synopsis_info AS synopsis_info_1 \n",
      "FROM `relationships_4258ccab-0ab3-4c63-ae52-783d47790083` INNER JOIN (SELECT `relationships_4258ccab-0ab3-4c63-ae52-783d47790083`.id AS relationship_id, VEC_COSINE_DISTANCE(`relationships_4258ccab-0ab3-4c63-ae52-783d47790083`.description_vec, %s) AS embedding_distance \n",
      "FROM `relationships_4258ccab-0ab3-4c63-ae52-783d47790083` ORDER BY embedding_distance ASC \n",
      " LIMIT %s) AS anon_1 ON `relationships_4258ccab-0ab3-4c63-ae52-783d47790083`.id = anon_1.relationship_id LEFT OUTER JOIN `entities_4258ccab-0ab3-4c63-ae52-783d47790083` AS `entities_4258ccab-0ab3-4c63-ae52-783d47790083_1` ON `relationships_4258ccab-0ab3-4c63-ae52-783d47790083`.source_entity_id = `entities_4258ccab-0ab3-4c63-ae52-783d47790083_1`.id LEFT OUTER JOIN `entities_4258ccab-0ab3-4c63-ae52-783d47790083` AS `entities_4258ccab-0ab3-4c63-ae52-783d47790083_2` ON `relationships_4258ccab-0ab3-4c63-ae52-783d47790083`.target_entity_id = `entities_4258ccab-0ab3-4c63-ae52-783d47790083_2`.id \n",
      "WHERE embedding_distance >= %s AND embedding_distance <= %s AND (`relationships_4258ccab-0ab3-4c63-ae52-783d47790083`.id NOT IN (__[POSTCOMPILE_id_3])) AND `relationships_4258ccab-0ab3-4c63-ae52-783d47790083`.source_entity_id IN (__[POSTCOMPILE_source_entity_id_1]) ORDER BY similarity_score DESC \n",
      " LIMIT %s\n",
      "INFO:autoflow.storage.graph_store.tidb.tidb_graph_store:Debug - SQL Query: \n",
      "SELECT `relationships_4258ccab-0ab3-4c63-ae52-783d47790083`.id, `relationships_4258ccab-0ab3-4c63-ae52-783d47790083`.description, `relationships_4258ccab-0ab3-4c63-ae52-783d47790083`.description_vec, `relationships_4258ccab-0ab3-4c63-ae52-783d47790083`.source_entity_id, `relationships_4258ccab-0ab3-4c63-ae52-783d47790083`.target_entity_id, `relationships_4258ccab-0ab3-4c63-ae52-783d47790083`.meta, `relationships_4258ccab-0ab3-4c63-ae52-783d47790083`.weight, `relationships_4258ccab-0ab3-4c63-ae52-783d47790083`.chunk_id, `relationships_4258ccab-0ab3-4c63-ae52-783d47790083`.document_id, `relationships_4258ccab-0ab3-4c63-ae52-783d47790083`.created_at, `relationships_4258ccab-0ab3-4c63-ae52-783d47790083`.updated_at, %s - anon_1.embedding_distance AS similarity_score, `entities_4258ccab-0ab3-4c63-ae52-783d47790083_1`.id AS id_1, `entities_4258ccab-0ab3-4c63-ae52-783d47790083_1`.entity_type, `entities_4258ccab-0ab3-4c63-ae52-783d47790083_1`.name, `entities_4258ccab-0ab3-4c63-ae52-783d47790083_1`.description AS description_1, `entities_4258ccab-0ab3-4c63-ae52-783d47790083_1`.description_vec AS description_vec_1, `entities_4258ccab-0ab3-4c63-ae52-783d47790083_1`.meta AS meta_1, `entities_4258ccab-0ab3-4c63-ae52-783d47790083_1`.meta_vec, `entities_4258ccab-0ab3-4c63-ae52-783d47790083_1`.synopsis_info, `entities_4258ccab-0ab3-4c63-ae52-783d47790083_2`.id AS id_2, `entities_4258ccab-0ab3-4c63-ae52-783d47790083_2`.entity_type AS entity_type_1, `entities_4258ccab-0ab3-4c63-ae52-783d47790083_2`.name AS name_1, `entities_4258ccab-0ab3-4c63-ae52-783d47790083_2`.description AS description_2, `entities_4258ccab-0ab3-4c63-ae52-783d47790083_2`.description_vec AS description_vec_2, `entities_4258ccab-0ab3-4c63-ae52-783d47790083_2`.meta AS meta_2, `entities_4258ccab-0ab3-4c63-ae52-783d47790083_2`.meta_vec AS meta_vec_1, `entities_4258ccab-0ab3-4c63-ae52-783d47790083_2`.synopsis_info AS synopsis_info_1 \n",
      "FROM `relationships_4258ccab-0ab3-4c63-ae52-783d47790083` INNER JOIN (SELECT `relationships_4258ccab-0ab3-4c63-ae52-783d47790083`.id AS relationship_id, VEC_COSINE_DISTANCE(`relationships_4258ccab-0ab3-4c63-ae52-783d47790083`.description_vec, %s) AS embedding_distance \n",
      "FROM `relationships_4258ccab-0ab3-4c63-ae52-783d47790083` ORDER BY embedding_distance ASC \n",
      " LIMIT %s) AS anon_1 ON `relationships_4258ccab-0ab3-4c63-ae52-783d47790083`.id = anon_1.relationship_id LEFT OUTER JOIN `entities_4258ccab-0ab3-4c63-ae52-783d47790083` AS `entities_4258ccab-0ab3-4c63-ae52-783d47790083_1` ON `relationships_4258ccab-0ab3-4c63-ae52-783d47790083`.source_entity_id = `entities_4258ccab-0ab3-4c63-ae52-783d47790083_1`.id LEFT OUTER JOIN `entities_4258ccab-0ab3-4c63-ae52-783d47790083` AS `entities_4258ccab-0ab3-4c63-ae52-783d47790083_2` ON `relationships_4258ccab-0ab3-4c63-ae52-783d47790083`.target_entity_id = `entities_4258ccab-0ab3-4c63-ae52-783d47790083_2`.id \n",
      "WHERE embedding_distance >= %s AND embedding_distance <= %s AND (`relationships_4258ccab-0ab3-4c63-ae52-783d47790083`.id NOT IN (__[POSTCOMPILE_id_3])) AND `relationships_4258ccab-0ab3-4c63-ae52-783d47790083`.source_entity_id IN (__[POSTCOMPILE_source_entity_id_1]) ORDER BY similarity_score DESC \n",
      " LIMIT %s\n",
      "INFO:autoflow.storage.graph_store.tidb.tidb_graph_store:Debug - SQL Query: \n",
      "SELECT `relationships_4258ccab-0ab3-4c63-ae52-783d47790083`.id, `relationships_4258ccab-0ab3-4c63-ae52-783d47790083`.description, `relationships_4258ccab-0ab3-4c63-ae52-783d47790083`.description_vec, `relationships_4258ccab-0ab3-4c63-ae52-783d47790083`.source_entity_id, `relationships_4258ccab-0ab3-4c63-ae52-783d47790083`.target_entity_id, `relationships_4258ccab-0ab3-4c63-ae52-783d47790083`.meta, `relationships_4258ccab-0ab3-4c63-ae52-783d47790083`.weight, `relationships_4258ccab-0ab3-4c63-ae52-783d47790083`.chunk_id, `relationships_4258ccab-0ab3-4c63-ae52-783d47790083`.document_id, `relationships_4258ccab-0ab3-4c63-ae52-783d47790083`.created_at, `relationships_4258ccab-0ab3-4c63-ae52-783d47790083`.updated_at, %s - anon_1.embedding_distance AS similarity_score, `entities_4258ccab-0ab3-4c63-ae52-783d47790083_1`.id AS id_1, `entities_4258ccab-0ab3-4c63-ae52-783d47790083_1`.entity_type, `entities_4258ccab-0ab3-4c63-ae52-783d47790083_1`.name, `entities_4258ccab-0ab3-4c63-ae52-783d47790083_1`.description AS description_1, `entities_4258ccab-0ab3-4c63-ae52-783d47790083_1`.description_vec AS description_vec_1, `entities_4258ccab-0ab3-4c63-ae52-783d47790083_1`.meta AS meta_1, `entities_4258ccab-0ab3-4c63-ae52-783d47790083_1`.meta_vec, `entities_4258ccab-0ab3-4c63-ae52-783d47790083_1`.synopsis_info, `entities_4258ccab-0ab3-4c63-ae52-783d47790083_2`.id AS id_2, `entities_4258ccab-0ab3-4c63-ae52-783d47790083_2`.entity_type AS entity_type_1, `entities_4258ccab-0ab3-4c63-ae52-783d47790083_2`.name AS name_1, `entities_4258ccab-0ab3-4c63-ae52-783d47790083_2`.description AS description_2, `entities_4258ccab-0ab3-4c63-ae52-783d47790083_2`.description_vec AS description_vec_2, `entities_4258ccab-0ab3-4c63-ae52-783d47790083_2`.meta AS meta_2, `entities_4258ccab-0ab3-4c63-ae52-783d47790083_2`.meta_vec AS meta_vec_1, `entities_4258ccab-0ab3-4c63-ae52-783d47790083_2`.synopsis_info AS synopsis_info_1 \n",
      "FROM `relationships_4258ccab-0ab3-4c63-ae52-783d47790083` INNER JOIN (SELECT `relationships_4258ccab-0ab3-4c63-ae52-783d47790083`.id AS relationship_id, VEC_COSINE_DISTANCE(`relationships_4258ccab-0ab3-4c63-ae52-783d47790083`.description_vec, %s) AS embedding_distance \n",
      "FROM `relationships_4258ccab-0ab3-4c63-ae52-783d47790083` ORDER BY embedding_distance ASC \n",
      " LIMIT %s) AS anon_1 ON `relationships_4258ccab-0ab3-4c63-ae52-783d47790083`.id = anon_1.relationship_id LEFT OUTER JOIN `entities_4258ccab-0ab3-4c63-ae52-783d47790083` AS `entities_4258ccab-0ab3-4c63-ae52-783d47790083_1` ON `relationships_4258ccab-0ab3-4c63-ae52-783d47790083`.source_entity_id = `entities_4258ccab-0ab3-4c63-ae52-783d47790083_1`.id LEFT OUTER JOIN `entities_4258ccab-0ab3-4c63-ae52-783d47790083` AS `entities_4258ccab-0ab3-4c63-ae52-783d47790083_2` ON `relationships_4258ccab-0ab3-4c63-ae52-783d47790083`.target_entity_id = `entities_4258ccab-0ab3-4c63-ae52-783d47790083_2`.id \n",
      "WHERE embedding_distance >= %s AND embedding_distance <= %s AND (`relationships_4258ccab-0ab3-4c63-ae52-783d47790083`.id NOT IN (__[POSTCOMPILE_id_3])) AND `relationships_4258ccab-0ab3-4c63-ae52-783d47790083`.source_entity_id IN (__[POSTCOMPILE_source_entity_id_1]) ORDER BY similarity_score DESC \n",
      " LIMIT %s\n"
     ]
    },
    {
     "data": {
      "text/plain": [
       "['TiDB -> TiDB can be deployed in a Self-Managed model, providing users with control over their database setup. -> Self-Managed',\n",
       " 'TiDB -> TiDB Self-Managed is a deployment option of TiDB that allows users to manage the database on their own infrastructure. -> TiDB Self-Managed',\n",
       " 'TiDB -> TiDB utilizes TiKV as its row-based storage engine to support real-time data replication. -> TiKV',\n",
       " 'TiDB -> TiDB employs TiFlash as its columnar storage engine to ensure consistent data storage and real-time replication from TiKV. -> TiFlash',\n",
       " 'TiDB -> TiDB Operator facilitates the management of TiDB on Kubernetes, automating operational tasks. -> TiDB Operator',\n",
       " 'TiDB -> TiDB Cloud is the fully-managed service that allows users to deploy and run TiDB clusters in the cloud. -> TiDB Cloud',\n",
       " 'TiDB Self-Managed -> TiDB Self-Managed utilizes TiDB Architecture to structure its deployment and operations. -> TiDB Architecture',\n",
       " 'TiDB Self-Managed -> TiDB Self-Managed relies on TiDB Storage for data management and persistence. -> TiDB Storage',\n",
       " 'TiDB Self-Managed -> TiDB Self-Managed employs TiDB Computing to execute queries and process data. -> TiDB Computing',\n",
       " 'TiDB Self-Managed -> TiDB Self-Managed incorporates TiDB Scheduling to manage task execution and resource allocation. -> TiDB Scheduling']"
      ]
     },
     "execution_count": 38,
     "metadata": {},
     "output_type": "execute_result"
    }
   ],
   "source": [
    "kg = kb.search_knowledge_graph(\n",
    "    query=\"What is TiDB?\",\n",
    ")\n",
    "[\n",
    "    (r.rag_description)\n",
    "    for r in kg.relationships\n",
    "]"
   ]
  }
 ],
 "metadata": {
  "kernelspec": {
   "display_name": "Python 3",
   "language": "python",
   "name": "python3"
  },
  "language_info": {
   "codemirror_mode": {
    "name": "ipython",
    "version": 3
   },
   "file_extension": ".py",
   "mimetype": "text/x-python",
   "name": "python",
   "nbconvert_exporter": "python",
   "pygments_lexer": "ipython3",
   "version": "3.12.3"
  }
 },
 "nbformat": 4,
 "nbformat_minor": 5
}
